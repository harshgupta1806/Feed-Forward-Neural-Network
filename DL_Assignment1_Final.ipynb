{
  "cells": [
    {
      "cell_type": "code",
      "execution_count": null,
      "metadata": {
        "colab": {
          "base_uri": "https://localhost:8080/"
        },
        "id": "BzuJB1jaX0A7",
        "outputId": "49f8c177-1767-4424-fa78-2542b658441f"
      },
      "outputs": [],
      "source": [
        "pip install wandb"
      ]
    },
    {
      "cell_type": "code",
      "execution_count": 21,
      "metadata": {
        "id": "M8_d0DATWE35"
      },
      "outputs": [],
      "source": [
        "# Importing necessary libraries\n",
        "from keras.datasets import fashion_mnist  # Importing Fashion MNIST dataset from Keras\n",
        "import numpy as np  # Importing NumPy library for numerical operations\n",
        "import matplotlib.pyplot as plt  # Importing Matplotlib library for plotting\n",
        "import wandb\n",
        "from sklearn.model_selection import train_test_split\n",
        "from keras.datasets import mnist\n",
        "import matplotlib\n",
        "import seaborn as sns\n",
        "import pandas"
      ]
    },
    {
      "cell_type": "code",
      "execution_count": 3,
      "metadata": {
        "colab": {
          "base_uri": "https://localhost:8080/"
        },
        "id": "2_os8L3UXsME",
        "outputId": "c793726f-6a21-4fd0-cd1c-3be8df8c056e"
      },
      "outputs": [
        {
          "name": "stderr",
          "output_type": "stream",
          "text": [
            "wandb: Appending key for api.wandb.ai to your netrc file: C:\\Users\\DELL\\.netrc\n"
          ]
        }
      ],
      "source": [
        "!wandb login 57566fbb0e091de2e298a4320d872f9a2b200d12"
      ]
    },
    {
      "cell_type": "code",
      "execution_count": 30,
      "metadata": {
        "id": "YCkK6GbUXsME"
      },
      "outputs": [
        {
          "data": {
            "text/html": [
              "wandb version 0.16.4 is available!  To upgrade, please run:\n",
              " $ pip install wandb --upgrade"
            ],
            "text/plain": [
              "<IPython.core.display.HTML object>"
            ]
          },
          "metadata": {},
          "output_type": "display_data"
        },
        {
          "data": {
            "text/html": [
              "Tracking run with wandb version 0.16.3"
            ],
            "text/plain": [
              "<IPython.core.display.HTML object>"
            ]
          },
          "metadata": {},
          "output_type": "display_data"
        },
        {
          "data": {
            "text/html": [
              "Run data is saved locally in <code>d:\\DeepLearning\\wandb\\run-20240315_170353-1ggqwh7c</code>"
            ],
            "text/plain": [
              "<IPython.core.display.HTML object>"
            ]
          },
          "metadata": {},
          "output_type": "display_data"
        },
        {
          "data": {
            "text/html": [
              "Syncing run <strong><a href='https://wandb.ai/harsh_cs23m026/DL_Assignment1/runs/1ggqwh7c' target=\"_blank\">Question:1</a></strong> to <a href='https://wandb.ai/harsh_cs23m026/DL_Assignment1' target=\"_blank\">Weights & Biases</a> (<a href='https://wandb.me/run' target=\"_blank\">docs</a>)<br/>"
            ],
            "text/plain": [
              "<IPython.core.display.HTML object>"
            ]
          },
          "metadata": {},
          "output_type": "display_data"
        },
        {
          "data": {
            "text/html": [
              " View project at <a href='https://wandb.ai/harsh_cs23m026/DL_Assignment1' target=\"_blank\">https://wandb.ai/harsh_cs23m026/DL_Assignment1</a>"
            ],
            "text/plain": [
              "<IPython.core.display.HTML object>"
            ]
          },
          "metadata": {},
          "output_type": "display_data"
        },
        {
          "data": {
            "text/html": [
              " View run at <a href='https://wandb.ai/harsh_cs23m026/DL_Assignment1/runs/1ggqwh7c' target=\"_blank\">https://wandb.ai/harsh_cs23m026/DL_Assignment1/runs/1ggqwh7c</a>"
            ],
            "text/plain": [
              "<IPython.core.display.HTML object>"
            ]
          },
          "metadata": {},
          "output_type": "display_data"
        },
        {
          "data": {
            "text/plain": [
              "<Artifact source-DL_Assignment1-None>"
            ]
          },
          "execution_count": 30,
          "metadata": {},
          "output_type": "execute_result"
        }
      ],
      "source": [
        "wandb.init(project=\"DL_Assignment1\", name=\"Question:1\")"
      ]
    },
    {
      "cell_type": "markdown",
      "metadata": {
        "id": "qsgn6H8KWE4B"
      },
      "source": [
        "# **Question-1**"
      ]
    },
    {
      "cell_type": "code",
      "execution_count": 22,
      "metadata": {
        "colab": {
          "base_uri": "https://localhost:8080/"
        },
        "id": "sw4DeVb7WE4F",
        "outputId": "35c831e9-e381-441e-ecab-8131772e67ad"
      },
      "outputs": [],
      "source": [
        "#loading data set\n",
        "(fashion_mnist_train, fashion_mnist_train_label), (fashion_mnist_test, fashion_mnist_test_label) = fashion_mnist.load_data()\n",
        "(mnist_train, mnist_train_label), (mnist_test, mnist_test_label) = mnist.load_data()\n"
      ]
    },
    {
      "cell_type": "code",
      "execution_count": 23,
      "metadata": {
        "id": "CXn3fmt8WE4G"
      },
      "outputs": [],
      "source": [
        "# Checking Dataset shape\n",
        "# print(x_train.shape, y_train.shape, x_test.shape, y_test.shape)\n",
        "# type(x_train)\n",
        "# x_train = np.reshape(x_train, (x_train.shape[0], x_train.shape[1] * x_train.shape[1]))\n",
        "# x_train.shape\n",
        "\n",
        "def input_matrix(image):\n",
        "    \"\"\"\n",
        "    Reshape and normalize input images.\n",
        "\n",
        "    Parameters:\n",
        "    - image: Input image\n",
        "\n",
        "    Returns:\n",
        "    - Reshaped and normalized input matrix\n",
        "    \"\"\"\n",
        "    return image.reshape(image.shape[0], -1) / 255.0\n"
      ]
    },
    {
      "cell_type": "code",
      "execution_count": 24,
      "metadata": {
        "id": "8RPjO_d6WE4H"
      },
      "outputs": [],
      "source": [
        "# class labels for fashion mnist dataset\n",
        "label_fahion_mnist = {\n",
        "     0 :  \"T-shirt/top\",\n",
        "     1 :  \"Trouser\",\n",
        "     2 :  \"Pullover\",\n",
        "     3 :  \"Dress\",\n",
        "     4 :  \"Coat\",\n",
        "     5 :  \"Sandal\",\n",
        "     6 :  \"Shirt\",\n",
        "     7 :  \"Sneaker\",\n",
        "     8 :  \"Bag\",\n",
        "     9 :  \"Ankle boot\"\n",
        "}"
      ]
    },
    {
      "cell_type": "code",
      "execution_count": 25,
      "metadata": {
        "colab": {
          "base_uri": "https://localhost:8080/",
          "height": 400
        },
        "id": "w7WgHTlVWE4J",
        "outputId": "6d883d56-6569-484e-8076-8bcaa65fe6d7"
      },
      "outputs": [
        {
          "data": {
            "image/png": "[encoded data removed]",
            "text/plain": [
              "<Figure size 600x600 with 10 Axes>"
            ]
          },
          "metadata": {},
          "output_type": "display_data"
        }
      ],
      "source": [
        "# Creating subplots to display one image of each class\n",
        "fig, axes = plt.subplots(2, 5, figsize=(6, 6))\n",
        "\n",
        "# Iterating through each class\n",
        "for i in range(len(label_fahion_mnist)):\n",
        "    row = i // 5  # Calculating row index for subplot\n",
        "    col = i % 5   # Calculating column index for subplot\n",
        "\n",
        "    # Finding the index of the first image in the training set with label i\n",
        "    idx = np.argmax(fashion_mnist_train_label == i)\n",
        "\n",
        "    # Displaying the image corresponding to the label i\n",
        "    axes[row, col].imshow(fashion_mnist_train[idx], cmap='gray')  # Displaying grayscale image\n",
        "    axes[row, col].set_title(label_fahion_mnist[i])  # Setting title with class label\n",
        "    axes[row, col].axis('off')  # Turning off axis\n",
        "\n",
        "    # wandb.log({\"Question1\": [wandb.Image(fashion_mnist_train[idx], caption= label_fahion_mnist[i])]})\n",
        "\n",
        "# Adjusting the layout to prevent overlapping\n",
        "plt.tight_layout()\n",
        "\n",
        "# Displaying the plot\n",
        "plt.show()"
      ]
    },
    {
      "cell_type": "code",
      "execution_count": null,
      "metadata": {
        "id": "1GHDvxt1XsMG"
      },
      "outputs": [
        {
          "data": {
            "application/vnd.jupyter.widget-view+json": {
              "model_id": "2149ac8d97144bf2bd03b7a61a0a3159",
              "version_major": 2,
              "version_minor": 0
            },
            "text/plain": [
              "VBox(children=(Label(value='0.078 MB of 0.082 MB uploaded (0.070 MB deduped)\\r'), FloatProgress(value=0.946858…"
            ]
          },
          "metadata": {},
          "output_type": "display_data"
        },
        {
          "data": {
            "text/html": [
              "W&B sync reduced upload amount by 85.2%             "
            ],
            "text/plain": [
              "<IPython.core.display.HTML object>"
            ]
          },
          "metadata": {},
          "output_type": "display_data"
        },
        {
          "data": {
            "text/html": [
              " View run <strong style=\"color:#cdcd00\">Question:1</strong> at: <a href='https://wandb.ai/harsh_cs23m026/DL_Assignment1/runs/1ggqwh7c' target=\"_blank\">https://wandb.ai/harsh_cs23m026/DL_Assignment1/runs/1ggqwh7c</a><br/>Synced 4 W&B file(s), 10 media file(s), 3 artifact file(s) and 0 other file(s)"
            ],
            "text/plain": [
              "<IPython.core.display.HTML object>"
            ]
          },
          "metadata": {},
          "output_type": "display_data"
        },
        {
          "data": {
            "text/html": [
              "Find logs at: <code>.\\wandb\\run-20240315_170353-1ggqwh7c\\logs</code>"
            ],
            "text/plain": [
              "<IPython.core.display.HTML object>"
            ]
          },
          "metadata": {},
          "output_type": "display_data"
        }
      ],
      "source": [
        "wandb.finish()"
      ]
    },
    {
      "cell_type": "markdown",
      "metadata": {
        "id": "wAkLUv9AWE4L"
      },
      "source": [
        "# **Activation Functions**"
      ]
    },
    {
      "cell_type": "code",
      "execution_count": 26,
      "metadata": {
        "id": "M2C0q0MdWE4M"
      },
      "outputs": [],
      "source": [
        "\"\"\" Activation Class :- Contains various diffrent activations functions \"\"\"\n",
        "class Activation_Functions:\n",
        "    def __init__(self) -> None:\n",
        "        pass\n",
        "\n",
        "\n",
        "    def sigmoid(self, x):\n",
        "        # Compute sigmoid element-wise for each element of the matrix\n",
        "        sigmoid_x = np.zeros_like(x)  # Initialize output matrix with zeros\n",
        "\n",
        "        # Apply the sigmoid function element-wise\n",
        "        positive_mask = x >= 0\n",
        "        sigmoid_x[positive_mask] = 1.0 / (1.0 + np.exp(-x[positive_mask]))\n",
        "        sigmoid_x[~positive_mask] = np.exp(x[~positive_mask]) / (1.0 + np.exp(x[~positive_mask]))\n",
        "\n",
        "        return sigmoid_x\n",
        "\n",
        "\n",
        "    def ReLU(self, x):\n",
        "        return np.maximum(0, x)\n",
        "\n",
        "    def tanh(self, x):\n",
        "        return np.tanh(x)\n",
        "\n",
        "\n",
        "\n",
        "    def softmax(self, x):\n",
        "        # Subtract the maximum value along the axis to prevent overflow\n",
        "        max_x = np.max(x, axis=1, keepdims=True)\n",
        "        exp_x = np.exp(x - max_x)\n",
        "\n",
        "        # Compute softmax probabilities\n",
        "        softmax_x = exp_x / np.sum(exp_x, axis=1, keepdims=True)\n",
        "\n",
        "        return softmax_x\n",
        "\n",
        "    def identity(self, x):\n",
        "        return x\n",
        "\n",
        "\n",
        "\n",
        "    def activation(self, x, fun):\n",
        "        if fun == \"tanh\":\n",
        "            return self.tanh(x)\n",
        "        elif fun == \"sigmoid\":\n",
        "            return self.sigmoid(x)\n",
        "        elif fun == \"ReLU\":\n",
        "            return self.ReLU(x)\n",
        "        elif fun == \"softmax\":\n",
        "            return self.softmax(x)\n",
        "        elif fun == \"identity\":\n",
        "            return self.identity(x)"
      ]
    },
    {
      "cell_type": "markdown",
      "metadata": {
        "id": "ccqRvv_VXsMG"
      },
      "source": [
        "# **Derivatives**"
      ]
    },
    {
      "cell_type": "code",
      "execution_count": 27,
      "metadata": {
        "id": "156_-ifDWE4O"
      },
      "outputs": [],
      "source": [
        "class Derivatives:\n",
        "    def __init__(self) -> None:\n",
        "        \"\"\"\n",
        "            Constructor method for Derivatives class.\n",
        "            Initialization of object of Activation_Functions class\n",
        "        \"\"\"\n",
        "        self.fun = Activation_Functions()  # Creating an instance of Activation_Functions class\n",
        "\n",
        "\n",
        "    def sigmoid_derivative(self, x):\n",
        "        \"\"\"\n",
        "        Computes the derivative of the sigmoid activation function.\n",
        "\n",
        "        Parameters:\n",
        "        - x: Input value\n",
        "\n",
        "        Returns:\n",
        "        - Derivative of the sigmoid activation function\n",
        "        \"\"\"\n",
        "        g = self.fun.sigmoid(x)  # Computing sigmoid activation\n",
        "        return g * (1 - g)  # Computing and returning derivative\n",
        "\n",
        "    def softmax_derivative(self, x):\n",
        "        \"\"\"\n",
        "        Computes the derivative of the sigmoid activation function.\n",
        "\n",
        "        Parameters:\n",
        "        - x: Input value\n",
        "\n",
        "        Returns:\n",
        "        - Derivative of the sigmoid activation function\n",
        "        \"\"\"\n",
        "        g = self.fun.softmax(x)  # Computing sigmoid activation\n",
        "        return g * (1 - g)  # Computing and returning derivative\n",
        "\n",
        "\n",
        "    def tanh_derivative(self, x):\n",
        "        \"\"\"\n",
        "        Computes the derivative of the hyperbolic tangent (tanh) activation function.\n",
        "\n",
        "        Parameters:\n",
        "        - x: Input value\n",
        "\n",
        "        Returns:\n",
        "        - Derivative of the tanh activation function\n",
        "        \"\"\"\n",
        "        g = self.fun.tanh(x)  # Computing tanh activation\n",
        "        return 1 - g * g  # Computing and returning derivative\n",
        "\n",
        "\n",
        "    def ReLU_derivative(self, x):\n",
        "        \"\"\"\n",
        "        Computes the derivative of the Rectified Linear Unit (ReLU) activation function.\n",
        "\n",
        "        Parameters:\n",
        "        - x: Input value\n",
        "\n",
        "        Returns:\n",
        "        - Derivative of the ReLU activation function\n",
        "        \"\"\"\n",
        "        # g = self.fun.ReLU(x)  # Computing ReLU activation\n",
        "        # return np.where(g > 0, 1, 0)  # Computing and returning derivative\n",
        "\n",
        "        x[x>0]=1\n",
        "        x[x<=0]=0\n",
        "        return x\n",
        "\n",
        "    def identity_derivative(self, x):\n",
        "        x = 1\n",
        "        return x\n",
        "\n",
        "\n",
        "    def derivatives(self, x, activation_function):\n",
        "        \"\"\"\n",
        "        Computes the derivative of a specified activation function.\n",
        "\n",
        "        Parameters:\n",
        "        - x: Input value\n",
        "        - activation_function: Name of the activation function\n",
        "\n",
        "        Returns:\n",
        "        - Derivative of the specified activation function\n",
        "        \"\"\"\n",
        "        if activation_function == \"sigmoid\":\n",
        "            return self.sigmoid_derivative(x)  # Computing derivative for sigmoid activation\n",
        "        elif activation_function == \"tanh\":\n",
        "            return self.tanh_derivative(x)  # Computing derivative for tanh activation\n",
        "        elif activation_function == \"ReLU\":\n",
        "            return self.ReLU_derivative(x)  # Computing derivative for ReLU activation\n",
        "        elif activation_function == \"softmax\":\n",
        "            return self.softmax_derivative(x)\n",
        "        elif activation_function == \"identity\":\n",
        "            return self.identity_derivative(x)\n"
      ]
    },
    {
      "cell_type": "markdown",
      "metadata": {
        "id": "bCUbrxdHXsMH"
      },
      "source": [
        "# **Loss Functions**"
      ]
    },
    {
      "cell_type": "code",
      "execution_count": 28,
      "metadata": {
        "id": "v6eUMIdbWE4P"
      },
      "outputs": [],
      "source": [
        "class Loss_Function:\n",
        "    def __init__(self) -> None:\n",
        "        \"\"\"\n",
        "        Constructor method for Loss_Function class.\n",
        "        Initializes the default loss function to cross-entropy.\n",
        "        \"\"\"\n",
        "        self.default_loss_function = \"cross_entropy\"\n",
        "\n",
        "\n",
        "    def compute_loss(self, y_true, y_hat, loss_function):\n",
        "        \"\"\"\n",
        "        Computes the loss based on the given true labels and predicted probabilities.\n",
        "\n",
        "        Parameters:\n",
        "        - y_true: True labels (one-hot encoded)\n",
        "        - y_hat: Predicted probabilities\n",
        "        - loss_function: Name of the loss function to be used\n",
        "\n",
        "        Returns:\n",
        "        - Loss value\n",
        "        \"\"\"\n",
        "\n",
        "\n",
        "        if loss_function == None:\n",
        "            # If no loss function is specified, use the default loss function\n",
        "            loss_function = self.default_loss_function\n",
        "\n",
        "        if loss_function == \"cross_entropy\":\n",
        "            # Set a small value epsilon to avoid numerical instability\n",
        "            epsilon = 1e-15\n",
        "            # Clip the predicted values to avoid log(0) and log(1) scenarios\n",
        "            y_hat = np.clip(y_hat, epsilon, 1. - epsilon)\n",
        "            # Compute the cross-entropy loss for each sample\n",
        "            loss = -np.sum(y_true * np.log(y_hat), axis=1)\n",
        "            # Compute the mean loss across all samples\n",
        "            loss = np.mean(loss)\n",
        "            # Return the computed loss\n",
        "            return loss\n",
        "\n",
        "        if loss_function == \"mean_squared_error\":\n",
        "            loss = (1/2) * np.sum((y_true-y_hat)**2) / (y_hat.shape[0])\n",
        "            return loss\n",
        "\n",
        "\n",
        "    def last_output_derivative(self, y_hat,y_true, activation_derivative, loss_function):\n",
        "\n",
        "        # epsilon = 1e-15\n",
        "        #     # Clip the predicted values to avoid log(0) and log(1) scenarios\n",
        "        # y_hat = np.clip(y_hat, epsilon, 1. - epsilon)\n",
        "\n",
        "        if(loss_function == \"mean_squared_error\"):\n",
        "            # print(y_hat.shape, y_true.shape)\n",
        "            return (y_hat - y_true)* activation_derivative/ len(y_true)\n",
        "\n",
        "        if(loss_function == \"cross_entropy\"):\n",
        "            return -(y_true - y_hat)\n",
        "\n"
      ]
    },
    {
      "cell_type": "markdown",
      "metadata": {
        "id": "_YDGZVKgXsMH"
      },
      "source": [
        "# **Question - 2**"
      ]
    },
    {
      "cell_type": "code",
      "execution_count": 29,
      "metadata": {
        "id": "65CnAaCRWE4Q"
      },
      "outputs": [],
      "source": [
        "class Network:\n",
        "    def __init__(self, PARAM):\n",
        "        \"\"\"\n",
        "        Constructor method for Network class.\n",
        "\n",
        "        Parameters:\n",
        "        - PARAM: Dictionary containing network parameters (input size, hidden layers, output size)\n",
        "        \"\"\"\n",
        "        self.weight = {}  # Dictionary to store weights of each layer\n",
        "        self.bias = {}    # Dictionary to store biases of each layer\n",
        "        self.a = {}       # Dictionary to store activations of each layer\n",
        "        self.h = {}       # Dictionary to store outputs of each layer\n",
        "        self.fun = Activation_Functions()  # Instance of Activation_Functions class\n",
        "        self.size_list = [PARAM[\"input_size\"]] + PARAM[\"hidden_layers\"] + [PARAM[\"output_size\"]]  # List containing sizes of all layers\n",
        "        self.y_predictions = []  # List to store predicted probabilities for each input sample\n",
        "\n",
        "\n",
        "    def initialize_parameters(self, initialization):\n",
        "        \"\"\"\n",
        "        Method to initialize weights and biases of the network.\n",
        "        \"\"\"\n",
        "        for layer in range(1, len(self.size_list)):\n",
        "            if initialization == \"random\":\n",
        "                self.weight[layer] = np.random.randn(self.size_list[layer-1], self.size_list[layer])  # Initializing weights with random values\n",
        "                self.bias[layer] = np.random.randn(1, self.size_list[layer])  # Initializing biases with random values\n",
        "            elif initialization == \"Xavier\":\n",
        "                inpt_w = self.size_list[layer-1]\n",
        "                opt_w = self.size_list[layer]\n",
        "                inpt_b = 1\n",
        "                opt_b = self.size_list[layer]\n",
        "\n",
        "                variance_w = 2.0/(inpt_w + opt_w)\n",
        "                variance_b = 2.0/(inpt_b + opt_b)\n",
        "\n",
        "                self.weight[layer] = np.random.randn(inpt_w, opt_w) * np.sqrt(variance_w) # Initializing weights with random values\n",
        "                self.bias[layer] = np.random.randn(inpt_b, opt_b) *np.sqrt(variance_b)  # Initializing biases with random values\n",
        "\n",
        "\n",
        "\n",
        "\n",
        "\n",
        "    def forward_pass(self, x, activation_function):\n",
        "        \"\"\"\n",
        "        Method to perform forward pass through the network.\n",
        "\n",
        "        Parameters:\n",
        "        - x: Input data\n",
        "        - activation_function: Name of the activation function to be used\n",
        "\n",
        "        Returns:\n",
        "        - Output of the final layer (after applying softmax activation)\n",
        "        \"\"\"\n",
        "        total_layer = len(self.size_list)\n",
        "        self.h[0] = x  # Input layer\n",
        "\n",
        "        for layer in range(1, total_layer-1):\n",
        "            self.a[layer] = np.dot(self.h[layer-1], self.weight[layer]) + self.bias[layer]  # Computing preactivation\n",
        "            self.h[layer] = self.fun.activation(self.a[layer], fun=activation_function)  # Applying activation function\n",
        "\n",
        "        self.a[total_layer-1] = np.dot(self.h[layer], self.weight[total_layer-1]) + self.bias[total_layer-1]  # Computing weighted sum for final layer\n",
        "        self.h[total_layer-1] = self.fun.activation(self.a[total_layer-1], fun=\"softmax\")  # Applying softmax activation\n",
        "\n",
        "        return self.h[total_layer-1]  # Returning output of final layer\n",
        "\n",
        "\n",
        "    def predict_probability(self, dataset, activation, init):\n",
        "        \"\"\"\n",
        "        Method to predict probabilities for each input sample in the dataset.\n",
        "\n",
        "        Parameters:\n",
        "        - dataset: Input dataset\n",
        "        - activation: Name of the activation function to be used\n",
        "\n",
        "        Returns:\n",
        "        - List containing predicted probabilities for each input sample\n",
        "        \"\"\"\n",
        "        self.initialize_parameters(init)  # Initializing network parameters\n",
        "\n",
        "        for image in dataset:\n",
        "            x = image.reshape(1, -1) / 255.0  # Reshaping and normalizing input data\n",
        "            y_hat = self.forward_pass(x, activation)  # Performing forward pass\n",
        "            self.y_predictions.append(y_hat)  # Storing predicted probabilities\n",
        "\n",
        "        return self.y_predictions  # Returning list of predicted probabilities\n",
        "\n"
      ]
    },
    {
      "cell_type": "code",
      "execution_count": 30,
      "metadata": {
        "id": "U7RFdFL0WE4R"
      },
      "outputs": [],
      "source": [
        "PARAM = {\n",
        "    \"input_size\" : 784,            # Size of the input layer (number of input features)\n",
        "    \"hidden_layers\" : [5, 6, 7],   # Sizes of hidden layers in the neural network\n",
        "    \"output_size\" : 10             # Size of the output layer (number of classes)\n",
        "}\n",
        "\n",
        "n1 = Network(PARAM)  # Creating an instance of the Network class with the given parameters\n",
        "y_pred = n1.predict_probability(fashion_mnist_train, \"identity\", \"Xavier\")  # Predicting probabilities for each sample in the training dataset using sigmoid activation function\n",
        "\n"
      ]
    },
    {
      "cell_type": "code",
      "execution_count": 31,
      "metadata": {
        "colab": {
          "base_uri": "https://localhost:8080/"
        },
        "id": "49bpLEBNWE4S",
        "outputId": "e8956365-c7f4-4a30-e4c2-7295ed6d4c97"
      },
      "outputs": [
        {
          "name": "stdout",
          "output_type": "stream",
          "text": [
            "[[0.01683554 0.02133968 0.10342524 0.02196297 0.00586741 0.62099497\n",
            "  0.00481974 0.04859029 0.13855858 0.01760557]]\n"
          ]
        }
      ],
      "source": [
        "np.set_printoptions(suppress=True)  # Suppressing scientific notation in printed arrays\n",
        "print(y_pred[0])  # Printing the predicted probabilities for the first sample"
      ]
    },
    {
      "cell_type": "markdown",
      "metadata": {
        "id": "7-G2mrfwXsMI"
      },
      "source": [
        "# **Question - 3**"
      ]
    },
    {
      "cell_type": "markdown",
      "metadata": {
        "id": "r2q1H-gPWE4S"
      },
      "source": [
        "# **Optimizers**"
      ]
    },
    {
      "cell_type": "code",
      "execution_count": 32,
      "metadata": {
        "id": "n0YOLT1KXsMI"
      },
      "outputs": [],
      "source": [
        "class Optimizer:\n",
        "    def __init__(self, neural_network, PARAM) -> None:\n",
        "        \"\"\"\n",
        "        Constructor method for Optimizer class.\n",
        "\n",
        "        Parameters:\n",
        "        - neural_network: Instance of the neural network class\n",
        "        - PARAM: Dictionary containing optimization parameters (eta, weight_decay, optimizer, beta)\n",
        "        \"\"\"\n",
        "        self.neural_network = neural_network  # Neural network object\n",
        "        self.eta = PARAM[\"eta\"]  # Learning rate\n",
        "        self.weight_decay = PARAM[\"weight_decay\"]  # Weight decay factor\n",
        "        self.optimizer = PARAM[\"optimizer\"]  # Optimization algorithm (sgd, momentum, nag, adam, nadam, rmsprop)\n",
        "        self.beta = PARAM[\"beta\"]  \n",
        "        self.epsilon = PARAM[\"epsilon\"] \n",
        "        self.beta2 = PARAM[\"beta2\"] \n",
        "        self.beta1 = PARAM[\"beta1\"]\n",
        "        self.momentum = PARAM[\"momentum\"] # Momentum factor for momentum-based optimization\n",
        "\n",
        "    def stochastic_gradient_decent(self):\n",
        "        \"\"\"\n",
        "        Method to perform stochastic gradient descent optimization.\n",
        "        \"\"\"\n",
        "        weight_decay = self.weight_decay\n",
        "        eta = self.eta\n",
        "\n",
        "        for layer in range(len(self.neural_network.size_list)-1, 0, -1):\n",
        "            decay_wt = weight_decay * self.neural_network.weight[layer]  # Applying weight decay\n",
        "            self.neural_network.grad_w[layer] = self.neural_network.grad_w[layer] + decay_wt  # Adding weight decay to gradients\n",
        "            self.neural_network.weight[layer] = self.neural_network.weight[layer] - eta * self.neural_network.grad_w[layer]  # Updating weights\n",
        "            self.neural_network.bias[layer] = self.neural_network.bias[layer] - eta * self.neural_network.grad_b[layer]  # Updating biases\n",
        "\n",
        "    def update(self, t):\n",
        "        \"\"\"\n",
        "        Method to update network parameters based on the selected optimization algorithm.\n",
        "        \"\"\"\n",
        "        if self.optimizer == \"sgd\":\n",
        "            self.stochastic_gradient_decent()\n",
        "        elif self.optimizer == \"momentum\":\n",
        "            self.momentum_based_gradient_decent()\n",
        "        elif self.optimizer == \"nag\":\n",
        "            self.nesterov_accelerated_gradient_decent()\n",
        "        elif self.optimizer == \"rmsprop\":\n",
        "            self.rmsprop()\n",
        "        elif self.optimizer == \"adam\":\n",
        "            self.adam(t)\n",
        "        elif self.optimizer == \"nadam\":\n",
        "            self.nadam(t)\n",
        "\n",
        "\n",
        "    def momentum_based_gradient_decent(self):\n",
        "        \"\"\"\n",
        "        Method to perform momentum-based gradient descent optimization.\n",
        "        \"\"\"\n",
        "        weight_decay = self.weight_decay\n",
        "\n",
        "        for layer in range(len(self.neural_network.size_list)-1, 0, -1):\n",
        "                decay_wt = weight_decay * self.neural_network.weight[layer]  # Applying weight decay\n",
        "                self.neural_network.grad_w[layer] = self.neural_network.grad_w[layer] + decay_wt  # Adding weight decay to gradients\n",
        "\n",
        "                uw = self.momentum * self.neural_network.prv_w[layer] + self.eta * self.neural_network.grad_w[layer]  # Computing update for weights\n",
        "                ub = self.momentum * self.neural_network.prv_b[layer] + self.eta * self.neural_network.grad_b[layer]  # Computing update for biases\n",
        "\n",
        "                self.neural_network.weight[layer] -= uw  # Updating weights\n",
        "                self.neural_network.bias[layer] -= ub  # Updating biases\n",
        "\n",
        "                self.neural_network.prv_w[layer] = uw  # Storing previous weight update\n",
        "                self.neural_network.prv_b[layer] = ub  # Storing previous bias update\n",
        "\n",
        "\n",
        "    def nesterov_accelerated_gradient_decent(self):\n",
        "        \"\"\"\n",
        "        Method to perform Nesterov Accelerated Gradient Descent optimization.\n",
        "        \"\"\"\n",
        "        for layer in range(len(self.neural_network.size_list)-1, 0, -1):\n",
        "            decay_wt = self.weight_decay * self.neural_network.weight[layer]  # Applying weight decay\n",
        "            self.neural_network.grad_w[layer] = self.neural_network.grad_w[layer] + decay_wt  # Adding weight decay to gradients\n",
        "            self.neural_network.prv_w[layer] = self.momentum * self.neural_network.prv_w[layer] + self.neural_network.grad_w[layer]\n",
        "            self.neural_network.prv_b[layer] = self.momentum * self.neural_network.prv_b[layer] + self.neural_network.grad_b[layer]\n",
        "\n",
        "            self.neural_network.weight[layer] -= ((self.eta) * (self.momentum * self.neural_network.prv_w[layer] + self.neural_network.grad_w[layer]))\n",
        "            self.neural_network.bias[layer] -= ((self.eta) * (self.momentum * self.neural_network.prv_b[layer] + self.neural_network.grad_b[layer]))\n",
        "\n",
        "    def rmsprop(self):\n",
        "        \"\"\"\n",
        "        Method to perform Root Mean Square Propogation optimization.\n",
        "        \"\"\"\n",
        "        for layer in range(len(self.neural_network.size_list) - 1, 0, -1):\n",
        "            decay_wt = self.weight_decay * self.neural_network.weight[layer]  # Applying weight decay\n",
        "            self.neural_network.grad_w[layer] = self.neural_network.grad_w[layer] + decay_wt  # Adding weight decay to gradients\n",
        "\n",
        "            self.neural_network.prv_w[layer] = self.beta * self.neural_network.prv_w[layer] + (1 - self.beta) * (self.neural_network.grad_w[layer] ** 2)\n",
        "            self.neural_network.prv_b[layer] = self.beta * self.neural_network.prv_b[layer] + (1 - self.beta) * (self.neural_network.grad_b[layer] ** 2)\n",
        "\n",
        "            self.neural_network.weight[layer] -= (self.eta / (np.sqrt(self.neural_network.prv_w[layer] + self.epsilon))) * self.neural_network.grad_w[layer]\n",
        "            self.neural_network.bias[layer] -= (self.eta / (np.sqrt(self.neural_network.prv_b[layer] + self.epsilon))) * self.neural_network.grad_b[layer]\n",
        "\n",
        "\n",
        "    def adam(self, t):\n",
        "        \"\"\"\n",
        "        Method to perform adam optimizer.\n",
        "\n",
        "        Parameter : t (denotes the time stamp in network)\n",
        "        \"\"\"\n",
        "        for layer in range(len(self.neural_network.size_list)-1, 0, -1):\n",
        "            decay_wt = self.weight_decay * self.neural_network.weight[layer]  # Applying weight decay\n",
        "            self.neural_network.grad_w[layer] = self.neural_network.grad_w[layer] + decay_wt  # Adding weight decay to gradients\n",
        "\n",
        "            self.neural_network.prv_w[layer] = self.beta1 * self.neural_network.prv_w[layer] + (1 - self.beta1) * self.neural_network.grad_w[layer]\n",
        "            self.neural_network.prv_b[layer] = self.beta1 * self.neural_network.prv_b[layer] + (1 - self.beta1) * self.neural_network.grad_b[layer]\n",
        "\n",
        "\n",
        "            self.neural_network.prv2_w[layer] = self.beta2 * self.neural_network.prv2_w[layer] + (1 - self.beta2) * (self.neural_network.grad_w[layer] ** 2)\n",
        "            self.neural_network.prv2_b[layer] = self.beta2 * self.neural_network.prv2_b[layer] + (1 - self.beta2) * (self.neural_network.grad_b[layer] ** 2)\n",
        "\n",
        "            m_w_hat = self.neural_network.prv_w[layer]/(1 - self.beta1**t)\n",
        "            m_b_hat = self.neural_network.prv_b[layer]/(1 - self.beta1**t)\n",
        "\n",
        "            v_w_hat = self.neural_network.prv2_w[layer]/(1 - self.beta2 ** t)\n",
        "            v_b_hat = self.neural_network.prv2_b[layer]/(1 - self.beta2 ** t)\n",
        "\n",
        "            self.neural_network.weight[layer] -= (self.eta/(np.sqrt(v_w_hat) + self.epsilon)) * m_w_hat\n",
        "            self.neural_network.bias[layer] -= (self.eta/(np.sqrt(v_b_hat) + self.epsilon)) * m_b_hat\n",
        "\n",
        "\n",
        "    def nadam(self, t):\n",
        "        \"\"\"\n",
        "        Method to perform nadam optimizer.\n",
        "\n",
        "        Parameter : t (denotes the time stamp in network)\n",
        "        \"\"\"\n",
        "        for layer in range(len(self.neural_network.size_list)-1, 0, -1):\n",
        "            decay_wt = self.weight_decay * self.neural_network.weight[layer]  # Applying weight decay\n",
        "            self.neural_network.grad_w[layer] = self.neural_network.grad_w[layer] + decay_wt  # Adding weight decay to gradients\n",
        "\n",
        "            self.neural_network.prv_w[layer] = self.beta1 * self.neural_network.prv_w[layer] + (1 - self.beta1) * self.neural_network.grad_w[layer]\n",
        "            self.neural_network.prv_b[layer] = self.beta1 * self.neural_network.prv_b[layer] + (1 - self.beta1) * self.neural_network.grad_b[layer]\n",
        "\n",
        "            self.neural_network.prv2_w[layer] = self.beta2 * self.neural_network.prv2_w[layer] + (1 - self.beta2) * (self.neural_network.grad_w[layer] ** 2)\n",
        "            self.neural_network.prv2_b[layer] = self.beta2 * self.neural_network.prv2_b[layer] + (1 - self.beta2) * (self.neural_network.grad_b[layer] ** 2)\n",
        "\n",
        "            m_w_hat = self.neural_network.prv_w[layer]/(1 - self.beta1**t)\n",
        "            m_b_hat = self.neural_network.prv_b[layer]/(1 - self.beta1**t)\n",
        "\n",
        "            v_w_hat = self.neural_network.prv2_w[layer]/(1 - self.beta2 ** t)\n",
        "            v_b_hat = self.neural_network.prv2_b[layer]/(1 - self.beta2 ** t)\n",
        "\n",
        "            self.neural_network.weight[layer] -= (self.eta/(np.sqrt(v_w_hat) + self.epsilon)) * (self.beta * m_w_hat + ((1 - self.beta1) * self.neural_network.grad_w[layer])/(1 - self.beta1 ** t))\n",
        "            self.neural_network.bias[layer] -= (self.eta/(np.sqrt(v_b_hat) + self.epsilon)) * (self.beta * m_b_hat + ((1 - self.beta1) * self.neural_network.grad_b[layer])/(1 - self.beta1 ** t))\n",
        "\n",
        "\n",
        "\n",
        "\n",
        "\n",
        "\n",
        "\n",
        "\n"
      ]
    },
    {
      "cell_type": "markdown",
      "metadata": {
        "id": "vrL3qD2SXsMJ"
      },
      "source": [
        "# **Neural Network**"
      ]
    },
    {
      "cell_type": "code",
      "execution_count": 34,
      "metadata": {
        "id": "psiySPMQWE4T"
      },
      "outputs": [],
      "source": [
        "class Neural_Network:\n",
        "    def __init__(self, PARAM) -> None:\n",
        "        \"\"\"\n",
        "        Constructor method for Neural_Network class.\n",
        "\n",
        "        Parameters:\n",
        "        - PARAM: Dictionary containing network parameters (input size, hidden layer sizes, output size,\n",
        "                 activation function, training input, training output)\n",
        "        \"\"\"\n",
        "        self.weight = {}  # Dictionary to store weights of each layer\n",
        "        self.bias = {}    # Dictionary to store biases of each layer\n",
        "        self.a = {}       # Dictionary to store preactivation of each layer\n",
        "        self.h = {}       # Dictionary to store activations of each layer\n",
        "        self.grad_w = {}  # Dictionary to store gradients of weights for each layer\n",
        "        self.grad_b = {}  # Dictionary to store gradients of biases for each layer\n",
        "        self.prv_w = {}   # Dictionary to store previous weights for momentum-based optimization\n",
        "        self.prv_b = {}   # Dictionary to store previous biases for momentum-based optimization\n",
        "        self.prv2_w = {}\n",
        "        self.prv2_b = {}\n",
        "\n",
        "        self.activation_function = PARAM[\"activation_function\"]  # Activation function for hidden layers\n",
        "        self.loss_function = PARAM[\"loss_function\"]  # Activation function for hidden layers\n",
        "        self.initialization = PARAM[\"init\"] # initialization type\n",
        "        self.hidden_layers = PARAM[\"hidden_layers\"]\n",
        "        self.hidden_layer_sizes = PARAM[\"hidden_layer_sizes\"]\n",
        "        self.dataset = PARAM[\"dataset\"]\n",
        "        \n",
        "        self.act = Activation_Functions()  # Instance of Activation_Functions class\n",
        "        self.derivative = Derivatives()     # Instance of Derivatives class\n",
        "        self.loss = Loss_Function()         # instance of Loss_Function class\n",
        "\n",
        "        \n",
        "\n",
        "        if self.dataset == 'fashion_mnist':\n",
        "            (train_img, train_lbl), (test_img, test_lbl) = (fashion_mnist_train, fashion_mnist_train_label), (fashion_mnist_test, fashion_mnist_test_label)\n",
        "        if self.dataset == 'mnist':\n",
        "            (train_img, train_lbl), (test_img, test_lbl) = (mnist_train, mnist_train_label), (mnist_test, mnist_test_label)\n",
        "        \n",
        "        #train - test split \n",
        "        train_image, validation_image, train_label, validation_label = train_test_split(train_img, train_lbl, test_size= 0.1, random_state=41)\n",
        "        \n",
        "        # training data\n",
        "        self.input = input_matrix(train_image)\n",
        "        self.y_true = train_label\n",
        "\n",
        "        # validation data\n",
        "        self.val_img = input_matrix(validation_image)\n",
        "        self.val_true = validation_label\n",
        "\n",
        "        #testing data\n",
        "        self.test_img = input_matrix(test_img)\n",
        "        self.test_true = test_lbl\n",
        "\n",
        "        self.size_list = [self.input.shape[1]] + [self.hidden_layer_sizes for _ in range(self.hidden_layers)] + [10]  # Sizes of all layers\n",
        "\n",
        "\n",
        "    def initialize_parameters(self):\n",
        "        \"\"\"\n",
        "        Method to initialize weights and biases of the network.\n",
        "        \"\"\"\n",
        "        for layer in range(1, len(self.size_list)):\n",
        "\n",
        "            self.prv_w[layer] = np.zeros((self.size_list[layer-1], self.size_list[layer]))  # Initializing previous weights for momentum-based optimization with zero\n",
        "            self.prv_b[layer] = np.zeros((1, self.size_list[layer]))  # Initializing previous biases for momentum-based optimization with zero\n",
        "            self.prv2_w[layer] = np.zeros((self.size_list[layer-1], self.size_list[layer]))  # Initializing previous weights for momentum-based optimization with zero\n",
        "            self.prv2_b[layer] = np.zeros((1, self.size_list[layer]))  # Initializing previous biases for momentum-based optimization with zero\n",
        "\n",
        "            for layer in range(1, len(self.size_list)):\n",
        "                if self.initialization == \"random\":\n",
        "                    self.weight[layer] = np.random.randn(self.size_list[layer-1], self.size_list[layer])  # Initializing weights with random values\n",
        "                    self.bias[layer] = np.random.randn(1, self.size_list[layer])  # Initializing biases with random values\n",
        "                    # print(\"Initialize with random\")\n",
        "                elif self.initialization == \"Xavier\":\n",
        "                    inpt_w = self.size_list[layer-1]\n",
        "                    opt_w = self.size_list[layer]\n",
        "                    inpt_b = 1\n",
        "                    opt_b = self.size_list[layer]\n",
        "\n",
        "                    variance_w = 6.0/(inpt_w + opt_w)\n",
        "                    variance_b = 6.0/(inpt_b + opt_b)\n",
        "\n",
        "                    self.weight[layer] = np.random.randn(inpt_w, opt_w) * np.sqrt(variance_w) # Initializing weights with random values\n",
        "                    self.bias[layer] = np.random.randn(inpt_b, opt_b) *np.sqrt(variance_b)\n",
        "\n",
        "                    # print(\"Initialize with xavier\")\n",
        "\n",
        "\n",
        "    def forward_propagation(self, x):\n",
        "        \"\"\"\n",
        "        Method to perform forward propagation through the network.\n",
        "\n",
        "        Parameters:\n",
        "        - x: Input data\n",
        "\n",
        "        Returns:\n",
        "        - Output of the final layer (after applying softmax activation)\n",
        "        \"\"\"\n",
        "        self.h[0] = x  # Input layer\n",
        "        for layer in range(1, len(self.size_list)-1):\n",
        "            self.a[layer] = np.dot(self.h[layer-1], self.weight[layer]) + self.bias[layer]  # Computing weighted sum of inputs\n",
        "            self.h[layer] = self.act.activation(self.a[layer], self.activation_function)  # Applying activation function\n",
        "        self.a[layer+1] = np.dot(self.h[layer], self.weight[layer+1]) + self.bias[layer+1]  # Computing weighted sum for final layer\n",
        "        self.h[layer+1] = self.act.activation(self.a[layer+1], \"softmax\")  # Applying softmax activation\n",
        "        return self.h[layer+1]  # Returning output of final layer\n",
        "\n",
        "\n",
        "    def backward_propagation(self, input, y_true, y_hat):\n",
        "        \"\"\"\n",
        "        Method to perform backward propagation through the network.\n",
        "\n",
        "        Parameters:\n",
        "        - input: Input data\n",
        "        - y_true: True labels\n",
        "        - y_hat: Predicted probabilities\n",
        "\n",
        "        Returns:\n",
        "        - Gradients of weights and biases\n",
        "        \"\"\"\n",
        "\n",
        "        activation_derivative = self.derivative.derivatives(self.a[len(self.size_list) - 1], \"softmax\")\n",
        "        error_wrt_output = self.loss.last_output_derivative(y_hat, y_true, activation_derivative, self.loss_function)\n",
        "\n",
        "        for layer in range(len(self.size_list)-1, 1, -1):\n",
        "            self.grad_w[layer] = np.dot(self.h[layer-1].T, error_wrt_output)  # Computing gradients of weights\n",
        "            self.grad_b[layer] = np.sum(error_wrt_output, axis=0, keepdims=True)  # Computing gradients of biases\n",
        "\n",
        "            error_wrt_hidden = np.dot(error_wrt_output, self.weight[layer].T)  # Computing error with respect to hidden layer\n",
        "            error_wrt_output = error_wrt_hidden * self.derivative.derivatives(self.a[layer-1], self.activation_function)  # Computing error with respect to output of hidden layer\n",
        "\n",
        "        self.grad_w[1] = np.dot(input.T, error_wrt_output)  # Computing gradients of weights for input layer\n",
        "        self.grad_b[1] = np.sum(error_wrt_output, axis=0, keepdims=True)  # Computing gradients of biases for input layer\n",
        "\n",
        "        return self.grad_w, self.grad_b  # Returning gradients of weights and biases\n",
        "\n",
        "\n",
        "    def one_hot_vector(self, y_true):\n",
        "        \"\"\"\n",
        "        Method to convert true labels into one-hot vectors.\n",
        "\n",
        "        Parameters:\n",
        "        - y_true: True labels\n",
        "\n",
        "        Returns:\n",
        "        - One-hot vector representation of true labels\n",
        "        \"\"\"\n",
        "        vec = np.zeros(10)  # Initializing one-hot vector\n",
        "        vec[y_true] = 1  # Setting the corresponding index to 1\n",
        "        return vec\n",
        "\n",
        "\n",
        "    def one_hot_matrix(self, y_true):\n",
        "        \"\"\"\n",
        "        Method to convert true labels into one-hot matrices.\n",
        "\n",
        "        Parameters:\n",
        "        - y_true: True labels\n",
        "\n",
        "        Returns:\n",
        "        - One-hot matrix representation of true labels\n",
        "        \"\"\"\n",
        "        row = y_true.shape[0]  # Number of samples\n",
        "        col = 10  # Number of classes\n",
        "        mat = np.zeros((row, col))  # Initializing one-hot matrix\n",
        "        for i in range(row):\n",
        "            mat[i][y_true[i]] = 1  # Setting the corresponding index to 1\n",
        "        return mat\n"
      ]
    },
    {
      "cell_type": "code",
      "execution_count": null,
      "metadata": {
        "id": "EbeyzLxcXsMJ"
      },
      "outputs": [],
      "source": []
    },
    {
      "cell_type": "markdown",
      "metadata": {
        "id": "CthGEWeSXsMJ"
      },
      "source": [
        "# Train Model"
      ]
    },
    {
      "cell_type": "code",
      "execution_count": 35,
      "metadata": {
        "id": "WCaSkMRfXsMJ"
      },
      "outputs": [],
      "source": [
        "class Train_Model:\n",
        "    def __init__(self, neural_network, optimizer, log, console = 1) -> None:\n",
        "        \"\"\"\n",
        "        Constructor method for Train_Model class.\n",
        "\n",
        "        Parameters:\n",
        "        - PARAM_NEURAL_NETWORK: Dictionary containing parameters for the neural network\n",
        "        - PARAM_OPTIMIZER: Dictionary containing parameters for the optimizer\n",
        "        \"\"\"\n",
        "        self.neural_network =neural_network  # Neural network instance\n",
        "        self.optimizer = optimizer  # Optimizer instance\n",
        "        self.loss = Loss_Function()  # Loss function instance\n",
        "        self.wan_log = log          \n",
        "        self.console_log = console\n",
        "\n",
        "    def compute_performance(self, data, label):\n",
        "        \"\"\"\n",
        "            Method to compute loss and accuracy\n",
        "            Parameters :\n",
        "                data : predicted class\n",
        "                label : true class\n",
        "            Returns:\n",
        "                loss, accuracy (in %)\n",
        "        \"\"\"\n",
        "        y_predictions = self.neural_network.forward_propagation(data)\n",
        "        #creating one hot matrix true data\n",
        "        labels = self.neural_network.one_hot_matrix(label)\n",
        "        # accuracy calculation\n",
        "        accuracy = np.sum(np.argmax(y_predictions, axis=1) == np.argmax(labels, axis = 1))\n",
        "        #loss calculation\n",
        "        loss = self.loss.compute_loss(labels, y_predictions, self.neural_network.loss_function)\n",
        "        return loss, (accuracy/len(data)) * 100\n",
        "\n",
        "    def predict_prob(self, data):\n",
        "        \"\"\"\n",
        "            Method to compute loss and accuracy\n",
        "            Parameters :\n",
        "                data : image\n",
        "            Returns:\n",
        "                predicted probabilities assigned to each class\n",
        "        \"\"\"\n",
        "        y_predictions = self.neural_network.forward_propagation(data)\n",
        "        return y_predictions\n",
        "\n",
        "    def fit_data(self, batch_size, epochs):\n",
        "        \"\"\"\n",
        "        Method to train the model on the given dataset.\n",
        "\n",
        "        Parameters:\n",
        "        - batch_size: Size of each batch\n",
        "        - epochs: Number of epochs for training\n",
        "        \"\"\"\n",
        "        self.neural_network.initialize_parameters()  # Initializing parameters of the neural network\n",
        "        total_batches = int(np.ceil(self.neural_network.input.shape[0] / batch_size))  # Total number of batches\n",
        "        for i in range(epochs):\n",
        "            t = 1\n",
        "            for batch in range(total_batches):\n",
        "                batch_start = batch * batch_size  # Starting index of the batch\n",
        "                batch_end = batch_start + batch_size  # Ending index of the batch\n",
        "                image_set = self.neural_network.input[batch_start : batch_end]  # Extracting batch of input images\n",
        "                res_set = self.neural_network.y_true[batch_start : batch_end]  # Extracting batch of true labels\n",
        "\n",
        "\n",
        "                y_hat = self.neural_network.forward_propagation(image_set)  # Forward propagation\n",
        "                res = self.neural_network.one_hot_matrix(res_set)  # Converting true labels into one-hot matrices\n",
        "                grad_w , grad_b = self.neural_network.backward_propagation(image_set, res, y_hat)  # Backward propagation\n",
        "\n",
        "                for layer in range(1, len(self.neural_network.size_list)):\n",
        "                    self.neural_network.grad_w[layer] = grad_w[layer]/batch_size  # Normalizing gradients of weights\n",
        "                    self.neural_network.grad_b[layer] = grad_b[layer]/batch_size  # Normalizing gradients of biases\n",
        "\n",
        "                self.optimizer.update(t)  # Updating weights and biases using optimizer\n",
        "                t += 1\n",
        "\n",
        "            t_loss, t_acc = self.compute_performance(self.neural_network.input, self.neural_network.y_true)\n",
        "            v_loss, v_acc = self.compute_performance(self.neural_network.val_img, self.neural_network.val_true)\n",
        "\n",
        "            if self.wan_log == 1:\n",
        "                wandb.log({\n",
        "                    'epoch' : i+1,\n",
        "                    'training-loss' : t_loss,\n",
        "                    'training-accuracy' : t_acc,\n",
        "                    'validation-loss' : v_loss,\n",
        "                    'validation-accuracy' : v_acc,\n",
        "\n",
        "                })\n",
        "\n",
        "            if self.console_log == 1:\n",
        "                print(f\"epoch:{i+1} :: \\n Training-loss : {t_loss}, Training-accuracy:{t_acc}%\")    # Printing loss and accuracy for each epoch\n",
        "                print(f\"Validation-loss : {v_loss}, Validation-accuracy:{v_acc}%\\n\\n\")    # Printing loss and accuracy for each epoch\n",
        "\n",
        "\n",
        "        return t_loss, t_acc, v_loss, v_acc\n",
        "\n",
        "\n"
      ]
    },
    {
      "cell_type": "markdown",
      "metadata": {
        "id": "1UVXOhMCXsMJ"
      },
      "source": [
        "# **Training & Testing**"
      ]
    },
    {
      "cell_type": "code",
      "execution_count": 36,
      "metadata": {
        "colab": {
          "base_uri": "https://localhost:8080/"
        },
        "id": "vP1vqvWmWE4U",
        "outputId": "c234eb85-5d77-4373-ec64-f3e749b3b4cb"
      },
      "outputs": [
        {
          "name": "stdout",
          "output_type": "stream",
          "text": [
            "epoch:1 :: \n",
            " Training-loss : 0.3281222061817706, Training-accuracy:60.09074074074074%\n",
            "Validation-loss : 0.32996820522877063, Validation-accuracy:59.3%\n",
            "\n",
            "\n"
          ]
        },
        {
          "data": {
            "text/plain": [
              "(0.3281222061817706, 60.09074074074074, 0.32996820522877063, 59.3)"
            ]
          },
          "execution_count": 36,
          "metadata": {},
          "output_type": "execute_result"
        }
      ],
      "source": [
        "\n",
        "PARAM_NEURAL_NETWORK = {\n",
        "    \"hidden_layers\": 5,\n",
        "    \"hidden_layer_sizes\" : 128,\n",
        "    \"activation_function\": \"tanh\", # sigmoid, tanh, ReLU\n",
        "    \"dataset\" : \"fashion_mnist\",\n",
        "    \"loss_function\" : \"mean_squared_error\", # mean_squared_error, cross_entropy\n",
        "    \"init\" : \"Xavier\" #random, Xavier\n",
        "}\n",
        "\n",
        "PARAM_OPTIMIZER = {\n",
        "    \"eta\": 0.0005,\n",
        "    \"optimizer\": \"nadam\", #sgd, momentum, adam, nadam, rmsprop, nag\n",
        "    \"beta\": 0.5,\n",
        "    \"weight_decay\": 0.0005,\n",
        "    \"epsilon\": 1e-6,\n",
        "    \"beta2\" : 0.999,\n",
        "    \"beta1\" : 0.999,\n",
        "    \"momentum\" : 0.9\n",
        "}\n",
        "\n",
        "neural_network = Neural_Network(PARAM_NEURAL_NETWORK)\n",
        "optimizer = Optimizer(neural_network, PARAM_OPTIMIZER)\n",
        "\n",
        "my_model = Train_Model(neural_network, optimizer, log = 0)\n",
        "my_model.fit_data(batch_size=64, epochs=1)\n"
      ]
    },
    {
      "cell_type": "code",
      "execution_count": null,
      "metadata": {
        "colab": {
          "base_uri": "https://localhost:8080/"
        },
        "id": "t6cLnVpbWE4U",
        "outputId": "898fe333-9740-43b9-b477-9b122d316dbe"
      },
      "outputs": [],
      "source": [
        "# testing \n",
        "\n",
        "test_data = input_matrix(fashion_mnist_test)\n",
        "y_pred1 = my_model.neural_network.forward_propagation(test_data)\n",
        "# y_pred2 = n2.forward_propogation(test_data, \"tanh\")\n",
        "accuracy1 = np.mean(np.argmax(y_pred1, axis = 1) == fashion_mnist_test_label)\n",
        "# accuracy2 = np.mean(np.argmax(y_pred2, axis = 1) == y_train)\n",
        "\n",
        "print(accuracy1)\n",
        "print(np.unique(np.argmax(y_pred1, axis = 1)))"
      ]
    },
    {
      "cell_type": "markdown",
      "metadata": {
        "id": "GfUmT6BbXsMK"
      },
      "source": [
        "# **Question 4**"
      ]
    },
    {
      "cell_type": "code",
      "execution_count": 37,
      "metadata": {
        "id": "LatDibPVXsMK"
      },
      "outputs": [],
      "source": [
        "sweep_config = {\n",
        "    'method' : 'random',\n",
        "    'metric' : { 'goal' : 'maximize', 'name' : 'Accuracy'},\n",
        "    'name' : 'sweep1_random_final',\n",
        "\n",
        "    'parameters' : {\n",
        "        'epochs' : {'values' : [5, 10]},\n",
        "        'activation' : {'values' : ['identity', 'tanh', 'sigmoid', 'ReLU']},\n",
        "        'batch_size' : {'values' : [32, 64, 128]},\n",
        "        'optimizer' : {'values' : ['momentum','sgd', 'nag', 'nadam', 'adam', 'rmsprop']},\n",
        "        'weight_decay': {'values': [0, 0.0005]},\n",
        "        'hidden_layer_sizes' : {'values' : [32, 64, 128]},\n",
        "        'beta': {'values': [0.5, 0.9]}, #rmsprop\n",
        "        'beta1' : {'values' : [0.9, 0.999]},\n",
        "        'beta2': {'values': [0.999]},\n",
        "        'learning_rate': {'values': [0.0005]},\n",
        "        'initialization':{'values': ['Xavier', 'random']},\n",
        "        'hidden_layers': {'values': [3, 4, 5]},\n",
        "        'loss_function' : {'values' : ['cross_entropy', 'mean_squared_error']},\n",
        "        'epsilon' : {'values' : [1e-6, 1e-8]},\n",
        "        'momentum' : {'values' : [0.5, 0.9]},\n",
        "        'dataset' : {'values' : ['fashion_mnist']}\n",
        "    }\n",
        "}"
      ]
    },
    {
      "cell_type": "code",
      "execution_count": 38,
      "metadata": {
        "id": "2u2MP9xuXsMK"
      },
      "outputs": [],
      "source": [
        "def train():\n",
        "    var1 = wandb.init(project=\"DL_Assignment1\")\n",
        "    var2 = var1.config\n",
        "\n",
        "    # wandb.run.name = 'Optimizer:- ' + var2.optimizer + ' Epoch:- ' + str(var2.epochs) + \" Avtivation_Function :- \" + var2.activation + \" Batch_Size :- \" + str(var2.batch_size) + \" Initialization :- \" + var2.initialization + \\\n",
        "    #                 ' layers:-' + str(len(var2.hidden_layers)) +' decay:-' + str(var2.weight_decay) + ' beta:-' + str(var2.beta) + ' learning_rate:-' + str(var2.learning_rate) + \\\n",
        "    #                 ' beta2 :- ' + str(var2.beta)\n",
        "\n",
        "    wandb.run.name = f\"hl_{var2.hidden_layers}_bs_{var2.batch_size}_e_{var2.epochs}_act_{var2.activation}_eta_{var2.learning_rate}_err_{var2.loss_function}_init_{var2.initialization}_hls_{var2.hidden_layer_sizes}_dataset_{var2.dataset}\"\n",
        "\n",
        "    PARAM_NEURAL_NETWORK = {\n",
        "        \"hidden_layers\": var2.hidden_layers,\n",
        "        \"hidden_layer_sizes\" : var2.hidden_layer_sizes,\n",
        "        \"activation_function\": var2.activation, # sigmoid, tanh, ReLU\n",
        "        \"loss_function\" : var2.loss_function, # mean_squared_error, cross_entropy\n",
        "        \"init\" : var2.initialization, #random, xavier\n",
        "        \"dataset\" : var2.dataset\n",
        "    }\n",
        "\n",
        "    PARAM_OPTIMIZER = {\n",
        "        \"eta\": var2.learning_rate,\n",
        "        \"optimizer\": var2.optimizer, #sgd, momentum, adam, nadam, rmsprop, nag\n",
        "        \"beta\": var2.beta,\n",
        "        \"weight_decay\": var2.weight_decay,\n",
        "        \"epsilon\": var2.epsilon,\n",
        "        \"beta2\" : var2.beta2,\n",
        "        \"beta1\" : var2.beta1,\n",
        "        \"momentum\" : var2.momentum\n",
        "    }\n",
        "\n",
        "    neural_network1 = Neural_Network(PARAM_NEURAL_NETWORK)\n",
        "    optimizer1 = Optimizer(neural_network1, PARAM_OPTIMIZER)\n",
        "\n",
        "    my_model1 = Train_Model(neural_network1, optimizer1, log = 1)\n",
        "    t_loss, t_acc, v_loss, v_acc = my_model1.fit_data(batch_size=var2.batch_size, epochs=var2.epochs)\n",
        "\n",
        "    print(f\"Training-loss : {t_loss}, Training-accuracy:{t_acc}%, Validation-loss : {v_loss}, Validation-accuracy:{v_acc}%\")    # Printing loss and accuracy for each epoch\n",
        "    loss, accuracy = my_model1.compute_performance(neural_network1.val_img, neural_network1.val_true)\n",
        "    print(loss, accuracy)\n",
        "    wandb.log({\"Accuracy\" : accuracy})\n"
      ]
    },
    {
      "cell_type": "code",
      "execution_count": 39,
      "metadata": {
        "id": "JCdTdjDBXsMK",
        "outputId": "8d1b9544-189b-48ea-a79f-e6a8a6f95e88"
      },
      "outputs": [
        {
          "name": "stdout",
          "output_type": "stream",
          "text": [
            "Create sweep with ID: y61i31f9\n",
            "Sweep URL: https://wandb.ai/harsh_cs23m026/DL_Assignment1/sweeps/y61i31f9\n"
          ]
        }
      ],
      "source": [
        "sweep_id = wandb.sweep(sweep_config, project=\"DL_Assignment1\")"
      ]
    },
    {
      "cell_type": "code",
      "execution_count": 40,
      "metadata": {
        "colab": {
          "referenced_widgets": [
            "536de42e732b44ffabcac644fd65989e",
            "08a463ae264d429fbc76a2ea23249e10",
            "ae386004c85446be80a10162abbb15ad",
            "ff9c6bd6cce846cbaa286ce920cdcb11",
            "cf51a93f9f4f421da8396fcf43d826d5",
            "c60f53ce782a4adba92790d8b0145358",
            "8a97111047894976b39cdfc5499dfa37",
            "e645d381ede745dd8420c7ffe556d32c",
            "cbd7cf8afa724624827e49b366a6b5e9",
            "c0ff5901b41c411db8189b9b54854f42",
            "c73cd045c1524557b2376a767478ce79",
            "53b7373ff19e494c8fc15d3852ccff94",
            "7024864769334d659ca41a4d3ffd0902",
            "5dd6190266f6431ca1fd9c237931151f",
            "f2922240ab9240f7913a2e0682f7d569",
            "688195f0236d4322bcd89cb0cecb8570",
            "a227accb6bf043d2a294c7df85ce8c66",
            "2248a4725f8c46c5887c0455ee20295b",
            "96318651fe2f40f0914a0cbbca5c8d62",
            "d9b46a075c9041dc8b10df84b772834f",
            "3a279dbb75a64aeca63a2b578329d02e",
            "839758e489a842dd858cabd299831c40",
            "180cc17e97a44a13a344d661a299a2db",
            "13c767ebdc174501a1296769d1811f65",
            "a5dda545a80442e4b496ff88a1340eee",
            "6dbf23c98ad04d778dbccebc1d72c44d",
            "274cf4e46e354587ad60025f4ee653cb",
            "8ee902f3069743e4a243175e67005653",
            "d1338a6663c14a819115aeea44b0380c",
            "3cec3b902ea641ed8d6473020dce17bf",
            "9d2c69f0fb9746b8a6897879f94432c1",
            "e655e9389858462ab05f5eac0ddf8307",
            "2ad076212aff413b80142720b374f139",
            "ab7fc7ae626c4278a951ff258a6f4db3",
            "eec71235fd884013a703c07c730f9a56",
            "8c2cf77067d549808132f59d3ac6baaf",
            "5c338794c1b64fc189ea1d158f0bd0fa",
            "92cd7e7fd6264db091dd2dc53f46b136",
            "a68a790329fe45c8a00f2dd3f8d30314",
            "645d96353d43472cbfad000939d52905",
            "9c7c3c4742cd423ca6e0d6f0e124844f",
            "4d65e8cd05a844f39114ae7bc6cb2199",
            "717cfdf73e694ab9b6023c23486690d6",
            "bf65f1b3c7784b248d2a97d540459cca",
            "b5b9b4f74aac4628b0d524140b116f56",
            "2a7c288064294ad197e90fe912ed4957",
            "81ca2711dcc84886b6cc67687a0adc89",
            "80454953034a46d29bea3b9fa5443674",
            "a6c440ff3c8343dbb53f26c61e28539a",
            "c6e5611ffad142a99558d55891733c34",
            "2ccb7e7175244632b295de9ba5f907ce",
            "5c54166fe8e64c8db0404a1a0fca2065",
            "e339cac51e5e4d36a272c86923e56035",
            "8866dad536924c5dbaac83666ede84d6",
            "8fb19d7baabd4b0392d6dc201b5ee7b5",
            "8a9b7deae44d45dcae6799f20e8f29c3",
            "45d904993cea4c25a80f6d0f5828168c",
            "c6ef0577f93e46f6a67489ee2c4375fe",
            "19d5823a8bd24aa9a8e6bc85118ad96c",
            "ee62b37bd92f42bd96eaf83ee9ef8d4b",
            "91d719a1900d4d8796eeeb02c98784df",
            "171f283277f6407193b2fbd4305a46af",
            "187bdc8c72c5435485d7aa78290a2585",
            "b6c4c874c8ce4baca7a89f7256619639",
            "fa525da0bbd746c68ffe6395bd19e0ad",
            "8c0160d6d743416784bc4bc8537d2880",
            "7efaa2162f654d4abea8c61b0cb00de1",
            "fd0bae129691444c9ce3c4aed36ca0e6",
            "4c5737f4b2f74dd6acf698d1f1cd4952",
            "441b26760a14415cabc605118cbf2020",
            "c99a2c0b7a8f4e2aab95bd1cb41a4af0",
            "7996b2dbecff44dd945dacb718ad66f8",
            "c4c81325fbf24b65b27a2e69b1c0c03c",
            "41dc3ba1387b49b0b9c260bbb07ee2be",
            "a92afb3a811c4b73a6e118e78df6f0e5",
            "8524dc24ae5f4872814207bd2f8962c8",
            "c54617c2b1ea4ec4b39c0b9ec1e8cbf5",
            "969f8753947c4c7692f9f9dbf578db34",
            "4cd1a0e4f01a4321bd83cf822642d4a4"
          ]
        },
        "id": "QL8UsN6WXsML",
        "outputId": "0b8a5ab8-b980-4dd3-d0fe-0783dd05ba67"
      },
      "outputs": [
        {
          "name": "stderr",
          "output_type": "stream",
          "text": [
            "\u001b[34m\u001b[1mwandb\u001b[0m: Agent Starting Run: oes5jtnc with config:\n",
            "\u001b[34m\u001b[1mwandb\u001b[0m: \tactivation: ReLU\n",
            "\u001b[34m\u001b[1mwandb\u001b[0m: \tbatch_size: 64\n",
            "\u001b[34m\u001b[1mwandb\u001b[0m: \tbeta: 0.5\n",
            "\u001b[34m\u001b[1mwandb\u001b[0m: \tbeta1: 0.9\n",
            "\u001b[34m\u001b[1mwandb\u001b[0m: \tbeta2: 0.999\n",
            "\u001b[34m\u001b[1mwandb\u001b[0m: \tdataset: fashion_mnist\n",
            "\u001b[34m\u001b[1mwandb\u001b[0m: \tepochs: 10\n",
            "\u001b[34m\u001b[1mwandb\u001b[0m: \tepsilon: 1e-08\n",
            "\u001b[34m\u001b[1mwandb\u001b[0m: \thidden_layer_sizes: 32\n",
            "\u001b[34m\u001b[1mwandb\u001b[0m: \thidden_layers: 5\n",
            "\u001b[34m\u001b[1mwandb\u001b[0m: \tinitialization: Xavier\n",
            "\u001b[34m\u001b[1mwandb\u001b[0m: \tlearning_rate: 0.0005\n",
            "\u001b[34m\u001b[1mwandb\u001b[0m: \tloss_function: cross_entropy\n",
            "\u001b[34m\u001b[1mwandb\u001b[0m: \tmomentum: 0.5\n",
            "\u001b[34m\u001b[1mwandb\u001b[0m: \toptimizer: momentum\n",
            "\u001b[34m\u001b[1mwandb\u001b[0m: \tweight_decay: 0\n",
            "Failed to detect the name of this notebook, you can set it manually with the WANDB_NOTEBOOK_NAME environment variable to enable code saving.\n",
            "\u001b[34m\u001b[1mwandb\u001b[0m: \u001b[33mWARNING\u001b[0m Ignored wandb.init() arg project when running a sweep.\n"
          ]
        },
        {
          "data": {
            "text/html": [
              "wandb version 0.16.4 is available!  To upgrade, please run:\n",
              " $ pip install wandb --upgrade"
            ],
            "text/plain": [
              "<IPython.core.display.HTML object>"
            ]
          },
          "metadata": {},
          "output_type": "display_data"
        },
        {
          "data": {
            "text/html": [
              "Tracking run with wandb version 0.16.3"
            ],
            "text/plain": [
              "<IPython.core.display.HTML object>"
            ]
          },
          "metadata": {},
          "output_type": "display_data"
        },
        {
          "data": {
            "text/html": [
              "Run data is saved locally in <code>d:\\DeepLearning\\wandb\\run-20240316_005020-oes5jtnc</code>"
            ],
            "text/plain": [
              "<IPython.core.display.HTML object>"
            ]
          },
          "metadata": {},
          "output_type": "display_data"
        },
        {
          "data": {
            "text/html": [
              "Syncing run <strong><a href='https://wandb.ai/harsh_cs23m026/DL_Assignment1/runs/oes5jtnc' target=\"_blank\">hearty-sweep-1</a></strong> to <a href='https://wandb.ai/harsh_cs23m026/DL_Assignment1' target=\"_blank\">Weights & Biases</a> (<a href='https://wandb.me/run' target=\"_blank\">docs</a>)<br/>Sweep page: <a href='https://wandb.ai/harsh_cs23m026/DL_Assignment1/sweeps/y61i31f9' target=\"_blank\">https://wandb.ai/harsh_cs23m026/DL_Assignment1/sweeps/y61i31f9</a>"
            ],
            "text/plain": [
              "<IPython.core.display.HTML object>"
            ]
          },
          "metadata": {},
          "output_type": "display_data"
        },
        {
          "data": {
            "text/html": [
              " View project at <a href='https://wandb.ai/harsh_cs23m026/DL_Assignment1' target=\"_blank\">https://wandb.ai/harsh_cs23m026/DL_Assignment1</a>"
            ],
            "text/plain": [
              "<IPython.core.display.HTML object>"
            ]
          },
          "metadata": {},
          "output_type": "display_data"
        },
        {
          "data": {
            "text/html": [
              " View sweep at <a href='https://wandb.ai/harsh_cs23m026/DL_Assignment1/sweeps/y61i31f9' target=\"_blank\">https://wandb.ai/harsh_cs23m026/DL_Assignment1/sweeps/y61i31f9</a>"
            ],
            "text/plain": [
              "<IPython.core.display.HTML object>"
            ]
          },
          "metadata": {},
          "output_type": "display_data"
        },
        {
          "data": {
            "text/html": [
              " View run at <a href='https://wandb.ai/harsh_cs23m026/DL_Assignment1/runs/oes5jtnc' target=\"_blank\">https://wandb.ai/harsh_cs23m026/DL_Assignment1/runs/oes5jtnc</a>"
            ],
            "text/plain": [
              "<IPython.core.display.HTML object>"
            ]
          },
          "metadata": {},
          "output_type": "display_data"
        },
        {
          "name": "stdout",
          "output_type": "stream",
          "text": [
            "epoch:1 :: \n",
            " Training-loss : 1.49935257100207, Training-accuracy:52.727777777777774%\n",
            "Validation-loss : 1.509162224950178, Validation-accuracy:52.800000000000004%\n",
            "\n",
            "\n",
            "epoch:2 :: \n",
            " Training-loss : 1.016534303650929, Training-accuracy:67.00555555555555%\n",
            "Validation-loss : 1.0361600475374566, Validation-accuracy:65.53333333333333%\n",
            "\n",
            "\n",
            "epoch:3 :: \n",
            " Training-loss : 0.8241755358241873, Training-accuracy:71.61666666666666%\n",
            "Validation-loss : 0.8421186260054352, Validation-accuracy:70.13333333333334%\n",
            "\n",
            "\n",
            "epoch:4 :: \n",
            " Training-loss : 0.7358020112451136, Training-accuracy:74.09074074074074%\n",
            "Validation-loss : 0.7500978727802758, Validation-accuracy:73.36666666666667%\n",
            "\n",
            "\n",
            "epoch:5 :: \n",
            " Training-loss : 0.6832031564505382, Training-accuracy:75.88333333333334%\n",
            "Validation-loss : 0.6940642212785103, Validation-accuracy:75.13333333333333%\n",
            "\n",
            "\n",
            "epoch:6 :: \n",
            " Training-loss : 0.6468064411924235, Training-accuracy:77.21296296296296%\n",
            "Validation-loss : 0.6545967841555321, Validation-accuracy:76.95%\n",
            "\n",
            "\n",
            "epoch:7 :: \n",
            " Training-loss : 0.6183041161886138, Training-accuracy:78.15185185185184%\n",
            "Validation-loss : 0.6246171543635985, Validation-accuracy:78.26666666666667%\n",
            "\n",
            "\n",
            "epoch:8 :: \n",
            " Training-loss : 0.5947677862495824, Training-accuracy:78.97407407407407%\n",
            "Validation-loss : 0.6010317070311264, Validation-accuracy:79.23333333333333%\n",
            "\n",
            "\n",
            "epoch:9 :: \n",
            " Training-loss : 0.5752667861236881, Training-accuracy:79.65%\n",
            "Validation-loss : 0.5822616863821105, Validation-accuracy:79.98333333333333%\n",
            "\n",
            "\n",
            "epoch:10 :: \n",
            " Training-loss : 0.558885326826261, Training-accuracy:80.1537037037037%\n",
            "Validation-loss : 0.5663325078969941, Validation-accuracy:80.43333333333334%\n",
            "\n",
            "\n",
            "Training-loss : 0.558885326826261, Training-accuracy:80.1537037037037%, Validation-loss : 0.5663325078969941, Validation-accuracy:80.43333333333334%\n",
            "0.5663325078969941 80.43333333333334\n"
          ]
        },
        {
          "data": {
            "application/vnd.jupyter.widget-view+json": {
              "model_id": "4a4ddb381e0b4c1bb05418c053d26e6f",
              "version_major": 2,
              "version_minor": 0
            },
            "text/plain": [
              "VBox(children=(Label(value='0.001 MB of 0.007 MB uploaded\\r'), FloatProgress(value=0.1291275167785235, max=1.0…"
            ]
          },
          "metadata": {},
          "output_type": "display_data"
        },
        {
          "data": {
            "text/html": [
              "<style>\n",
              "    table.wandb td:nth-child(1) { padding: 0 10px; text-align: left ; width: auto;} td:nth-child(2) {text-align: left ; width: 100%}\n",
              "    .wandb-row { display: flex; flex-direction: row; flex-wrap: wrap; justify-content: flex-start; width: 100% }\n",
              "    .wandb-col { display: flex; flex-direction: column; flex-basis: 100%; flex: 1; padding: 10px; }\n",
              "    </style>\n",
              "<div class=\"wandb-row\"><div class=\"wandb-col\"><h3>Run history:</h3><br/><table class=\"wandb\"><tr><td>Accuracy</td><td>▁</td></tr><tr><td>epoch</td><td>▁▂▃▃▄▅▆▆▇█</td></tr><tr><td>training-accuracy</td><td>▁▅▆▆▇▇▇███</td></tr><tr><td>training-loss</td><td>█▄▃▂▂▂▁▁▁▁</td></tr><tr><td>validation-accuracy</td><td>▁▄▅▆▇▇▇███</td></tr><tr><td>validation-loss</td><td>█▄▃▂▂▂▁▁▁▁</td></tr></table><br/></div><div class=\"wandb-col\"><h3>Run summary:</h3><br/><table class=\"wandb\"><tr><td>Accuracy</td><td>80.43333</td></tr><tr><td>epoch</td><td>10</td></tr><tr><td>training-accuracy</td><td>80.1537</td></tr><tr><td>training-loss</td><td>0.55889</td></tr><tr><td>validation-accuracy</td><td>80.43333</td></tr><tr><td>validation-loss</td><td>0.56633</td></tr></table><br/></div></div>"
            ],
            "text/plain": [
              "<IPython.core.display.HTML object>"
            ]
          },
          "metadata": {},
          "output_type": "display_data"
        },
        {
          "data": {
            "text/html": [
              " View run <strong style=\"color:#cdcd00\">hearty-sweep-1</strong> at: <a href='https://wandb.ai/harsh_cs23m026/DL_Assignment1/runs/oes5jtnc' target=\"_blank\">https://wandb.ai/harsh_cs23m026/DL_Assignment1/runs/oes5jtnc</a><br/>Synced 5 W&B file(s), 0 media file(s), 0 artifact file(s) and 0 other file(s)"
            ],
            "text/plain": [
              "<IPython.core.display.HTML object>"
            ]
          },
          "metadata": {},
          "output_type": "display_data"
        },
        {
          "data": {
            "text/html": [
              "Find logs at: <code>.\\wandb\\run-20240316_005020-oes5jtnc\\logs</code>"
            ],
            "text/plain": [
              "<IPython.core.display.HTML object>"
            ]
          },
          "metadata": {},
          "output_type": "display_data"
        },
        {
          "name": "stderr",
          "output_type": "stream",
          "text": [
            "\u001b[34m\u001b[1mwandb\u001b[0m: Sweep Agent: Waiting for job.\n",
            "\u001b[34m\u001b[1mwandb\u001b[0m: Job received.\n",
            "\u001b[34m\u001b[1mwandb\u001b[0m: Agent Starting Run: l3rx1l5q with config:\n",
            "\u001b[34m\u001b[1mwandb\u001b[0m: \tactivation: tanh\n",
            "\u001b[34m\u001b[1mwandb\u001b[0m: \tbatch_size: 64\n",
            "\u001b[34m\u001b[1mwandb\u001b[0m: \tbeta: 0.9\n",
            "\u001b[34m\u001b[1mwandb\u001b[0m: \tbeta1: 0.9\n",
            "\u001b[34m\u001b[1mwandb\u001b[0m: \tbeta2: 0.999\n",
            "\u001b[34m\u001b[1mwandb\u001b[0m: \tdataset: fashion_mnist\n",
            "\u001b[34m\u001b[1mwandb\u001b[0m: \tepochs: 5\n",
            "\u001b[34m\u001b[1mwandb\u001b[0m: \tepsilon: 1e-08\n",
            "\u001b[34m\u001b[1mwandb\u001b[0m: \thidden_layer_sizes: 32\n",
            "\u001b[34m\u001b[1mwandb\u001b[0m: \thidden_layers: 5\n",
            "\u001b[34m\u001b[1mwandb\u001b[0m: \tinitialization: Xavier\n",
            "\u001b[34m\u001b[1mwandb\u001b[0m: \tlearning_rate: 0.0005\n",
            "\u001b[34m\u001b[1mwandb\u001b[0m: \tloss_function: cross_entropy\n",
            "\u001b[34m\u001b[1mwandb\u001b[0m: \tmomentum: 0.5\n",
            "\u001b[34m\u001b[1mwandb\u001b[0m: \toptimizer: nag\n",
            "\u001b[34m\u001b[1mwandb\u001b[0m: \tweight_decay: 0.0005\n",
            "Failed to detect the name of this notebook, you can set it manually with the WANDB_NOTEBOOK_NAME environment variable to enable code saving.\n",
            "\u001b[34m\u001b[1mwandb\u001b[0m: \u001b[33mWARNING\u001b[0m Ignored wandb.init() arg project when running a sweep.\n"
          ]
        },
        {
          "data": {
            "text/html": [
              "wandb version 0.16.4 is available!  To upgrade, please run:\n",
              " $ pip install wandb --upgrade"
            ],
            "text/plain": [
              "<IPython.core.display.HTML object>"
            ]
          },
          "metadata": {},
          "output_type": "display_data"
        },
        {
          "data": {
            "text/html": [
              "Tracking run with wandb version 0.16.3"
            ],
            "text/plain": [
              "<IPython.core.display.HTML object>"
            ]
          },
          "metadata": {},
          "output_type": "display_data"
        },
        {
          "data": {
            "text/html": [
              "Run data is saved locally in <code>d:\\DeepLearning\\wandb\\run-20240316_005102-l3rx1l5q</code>"
            ],
            "text/plain": [
              "<IPython.core.display.HTML object>"
            ]
          },
          "metadata": {},
          "output_type": "display_data"
        },
        {
          "data": {
            "text/html": [
              "Syncing run <strong><a href='https://wandb.ai/harsh_cs23m026/DL_Assignment1/runs/l3rx1l5q' target=\"_blank\">celestial-sweep-2</a></strong> to <a href='https://wandb.ai/harsh_cs23m026/DL_Assignment1' target=\"_blank\">Weights & Biases</a> (<a href='https://wandb.me/run' target=\"_blank\">docs</a>)<br/>Sweep page: <a href='https://wandb.ai/harsh_cs23m026/DL_Assignment1/sweeps/y61i31f9' target=\"_blank\">https://wandb.ai/harsh_cs23m026/DL_Assignment1/sweeps/y61i31f9</a>"
            ],
            "text/plain": [
              "<IPython.core.display.HTML object>"
            ]
          },
          "metadata": {},
          "output_type": "display_data"
        },
        {
          "data": {
            "text/html": [
              " View project at <a href='https://wandb.ai/harsh_cs23m026/DL_Assignment1' target=\"_blank\">https://wandb.ai/harsh_cs23m026/DL_Assignment1</a>"
            ],
            "text/plain": [
              "<IPython.core.display.HTML object>"
            ]
          },
          "metadata": {},
          "output_type": "display_data"
        },
        {
          "data": {
            "text/html": [
              " View sweep at <a href='https://wandb.ai/harsh_cs23m026/DL_Assignment1/sweeps/y61i31f9' target=\"_blank\">https://wandb.ai/harsh_cs23m026/DL_Assignment1/sweeps/y61i31f9</a>"
            ],
            "text/plain": [
              "<IPython.core.display.HTML object>"
            ]
          },
          "metadata": {},
          "output_type": "display_data"
        },
        {
          "data": {
            "text/html": [
              " View run at <a href='https://wandb.ai/harsh_cs23m026/DL_Assignment1/runs/l3rx1l5q' target=\"_blank\">https://wandb.ai/harsh_cs23m026/DL_Assignment1/runs/l3rx1l5q</a>"
            ],
            "text/plain": [
              "<IPython.core.display.HTML object>"
            ]
          },
          "metadata": {},
          "output_type": "display_data"
        },
        {
          "name": "stdout",
          "output_type": "stream",
          "text": [
            "epoch:1 :: \n",
            " Training-loss : 1.1820398254862976, Training-accuracy:63.18333333333334%\n",
            "Validation-loss : 1.1855815392545554, Validation-accuracy:62.483333333333334%\n",
            "\n",
            "\n",
            "epoch:2 :: \n",
            " Training-loss : 0.9521057428970979, Training-accuracy:69.8648148148148%\n",
            "Validation-loss : 0.9565577238545757, Validation-accuracy:69.15%\n",
            "\n",
            "\n",
            "epoch:3 :: \n",
            " Training-loss : 0.8419051413179636, Training-accuracy:72.86851851851853%\n",
            "Validation-loss : 0.8458594157520902, Validation-accuracy:72.21666666666667%\n",
            "\n",
            "\n",
            "epoch:4 :: \n",
            " Training-loss : 0.7733644737854667, Training-accuracy:74.69259259259259%\n",
            "Validation-loss : 0.777302070931738, Validation-accuracy:73.81666666666666%\n",
            "\n",
            "\n",
            "epoch:5 :: \n",
            " Training-loss : 0.7254427395709153, Training-accuracy:76.12222222222222%\n",
            "Validation-loss : 0.7295845837108633, Validation-accuracy:75.26666666666667%\n",
            "\n",
            "\n",
            "Training-loss : 0.7254427395709153, Training-accuracy:76.12222222222222%, Validation-loss : 0.7295845837108633, Validation-accuracy:75.26666666666667%\n",
            "0.7295845837108633 75.26666666666667\n"
          ]
        },
        {
          "data": {
            "application/vnd.jupyter.widget-view+json": {
              "model_id": "9efcda5f1db24dc8894001bfc705e7be",
              "version_major": 2,
              "version_minor": 0
            },
            "text/plain": [
              "VBox(children=(Label(value='0.001 MB of 0.001 MB uploaded\\r'), FloatProgress(value=1.0, max=1.0)))"
            ]
          },
          "metadata": {},
          "output_type": "display_data"
        },
        {
          "data": {
            "text/html": [
              "<style>\n",
              "    table.wandb td:nth-child(1) { padding: 0 10px; text-align: left ; width: auto;} td:nth-child(2) {text-align: left ; width: 100%}\n",
              "    .wandb-row { display: flex; flex-direction: row; flex-wrap: wrap; justify-content: flex-start; width: 100% }\n",
              "    .wandb-col { display: flex; flex-direction: column; flex-basis: 100%; flex: 1; padding: 10px; }\n",
              "    </style>\n",
              "<div class=\"wandb-row\"><div class=\"wandb-col\"><h3>Run history:</h3><br/><table class=\"wandb\"><tr><td>Accuracy</td><td>▁</td></tr><tr><td>epoch</td><td>▁▃▅▆█</td></tr><tr><td>training-accuracy</td><td>▁▅▆▇█</td></tr><tr><td>training-loss</td><td>█▄▃▂▁</td></tr><tr><td>validation-accuracy</td><td>▁▅▆▇█</td></tr><tr><td>validation-loss</td><td>█▄▃▂▁</td></tr></table><br/></div><div class=\"wandb-col\"><h3>Run summary:</h3><br/><table class=\"wandb\"><tr><td>Accuracy</td><td>75.26667</td></tr><tr><td>epoch</td><td>5</td></tr><tr><td>training-accuracy</td><td>76.12222</td></tr><tr><td>training-loss</td><td>0.72544</td></tr><tr><td>validation-accuracy</td><td>75.26667</td></tr><tr><td>validation-loss</td><td>0.72958</td></tr></table><br/></div></div>"
            ],
            "text/plain": [
              "<IPython.core.display.HTML object>"
            ]
          },
          "metadata": {},
          "output_type": "display_data"
        },
        {
          "data": {
            "text/html": [
              " View run <strong style=\"color:#cdcd00\">celestial-sweep-2</strong> at: <a href='https://wandb.ai/harsh_cs23m026/DL_Assignment1/runs/l3rx1l5q' target=\"_blank\">https://wandb.ai/harsh_cs23m026/DL_Assignment1/runs/l3rx1l5q</a><br/>Synced 5 W&B file(s), 0 media file(s), 0 artifact file(s) and 0 other file(s)"
            ],
            "text/plain": [
              "<IPython.core.display.HTML object>"
            ]
          },
          "metadata": {},
          "output_type": "display_data"
        },
        {
          "data": {
            "text/html": [
              "Find logs at: <code>.\\wandb\\run-20240316_005102-l3rx1l5q\\logs</code>"
            ],
            "text/plain": [
              "<IPython.core.display.HTML object>"
            ]
          },
          "metadata": {},
          "output_type": "display_data"
        },
        {
          "name": "stderr",
          "output_type": "stream",
          "text": [
            "\u001b[34m\u001b[1mwandb\u001b[0m: Sweep Agent: Waiting for job.\n",
            "\u001b[34m\u001b[1mwandb\u001b[0m: Job received.\n",
            "\u001b[34m\u001b[1mwandb\u001b[0m: Agent Starting Run: ey60tfgx with config:\n",
            "\u001b[34m\u001b[1mwandb\u001b[0m: \tactivation: identity\n",
            "\u001b[34m\u001b[1mwandb\u001b[0m: \tbatch_size: 64\n",
            "\u001b[34m\u001b[1mwandb\u001b[0m: \tbeta: 0.5\n",
            "\u001b[34m\u001b[1mwandb\u001b[0m: \tbeta1: 0.999\n",
            "\u001b[34m\u001b[1mwandb\u001b[0m: \tbeta2: 0.999\n",
            "\u001b[34m\u001b[1mwandb\u001b[0m: \tdataset: fashion_mnist\n",
            "\u001b[34m\u001b[1mwandb\u001b[0m: \tepochs: 5\n",
            "\u001b[34m\u001b[1mwandb\u001b[0m: \tepsilon: 1e-08\n",
            "\u001b[34m\u001b[1mwandb\u001b[0m: \thidden_layer_sizes: 128\n",
            "\u001b[34m\u001b[1mwandb\u001b[0m: \thidden_layers: 3\n",
            "\u001b[34m\u001b[1mwandb\u001b[0m: \tinitialization: Xavier\n",
            "\u001b[34m\u001b[1mwandb\u001b[0m: \tlearning_rate: 0.0005\n",
            "\u001b[34m\u001b[1mwandb\u001b[0m: \tloss_function: mean_squared_error\n",
            "\u001b[34m\u001b[1mwandb\u001b[0m: \tmomentum: 0.5\n",
            "\u001b[34m\u001b[1mwandb\u001b[0m: \toptimizer: rmsprop\n",
            "\u001b[34m\u001b[1mwandb\u001b[0m: \tweight_decay: 0\n",
            "Failed to detect the name of this notebook, you can set it manually with the WANDB_NOTEBOOK_NAME environment variable to enable code saving.\n",
            "\u001b[34m\u001b[1mwandb\u001b[0m: \u001b[33mWARNING\u001b[0m Ignored wandb.init() arg project when running a sweep.\n"
          ]
        },
        {
          "data": {
            "application/vnd.jupyter.widget-view+json": {
              "model_id": "cf11f3d94f1f434e97bae311bbfe74f8",
              "version_major": 2,
              "version_minor": 0
            },
            "text/plain": [
              "VBox(children=(Label(value='Waiting for wandb.init()...\\r'), FloatProgress(value=0.011455555555746995, max=1.0…"
            ]
          },
          "metadata": {},
          "output_type": "display_data"
        },
        {
          "data": {
            "text/html": [
              "wandb version 0.16.4 is available!  To upgrade, please run:\n",
              " $ pip install wandb --upgrade"
            ],
            "text/plain": [
              "<IPython.core.display.HTML object>"
            ]
          },
          "metadata": {},
          "output_type": "display_data"
        },
        {
          "data": {
            "text/html": [
              "Tracking run with wandb version 0.16.3"
            ],
            "text/plain": [
              "<IPython.core.display.HTML object>"
            ]
          },
          "metadata": {},
          "output_type": "display_data"
        },
        {
          "data": {
            "text/html": [
              "Run data is saved locally in <code>d:\\DeepLearning\\wandb\\run-20240316_005133-ey60tfgx</code>"
            ],
            "text/plain": [
              "<IPython.core.display.HTML object>"
            ]
          },
          "metadata": {},
          "output_type": "display_data"
        },
        {
          "data": {
            "text/html": [
              "Syncing run <strong><a href='https://wandb.ai/harsh_cs23m026/DL_Assignment1/runs/ey60tfgx' target=\"_blank\">clean-sweep-3</a></strong> to <a href='https://wandb.ai/harsh_cs23m026/DL_Assignment1' target=\"_blank\">Weights & Biases</a> (<a href='https://wandb.me/run' target=\"_blank\">docs</a>)<br/>Sweep page: <a href='https://wandb.ai/harsh_cs23m026/DL_Assignment1/sweeps/y61i31f9' target=\"_blank\">https://wandb.ai/harsh_cs23m026/DL_Assignment1/sweeps/y61i31f9</a>"
            ],
            "text/plain": [
              "<IPython.core.display.HTML object>"
            ]
          },
          "metadata": {},
          "output_type": "display_data"
        },
        {
          "data": {
            "text/html": [
              " View project at <a href='https://wandb.ai/harsh_cs23m026/DL_Assignment1' target=\"_blank\">https://wandb.ai/harsh_cs23m026/DL_Assignment1</a>"
            ],
            "text/plain": [
              "<IPython.core.display.HTML object>"
            ]
          },
          "metadata": {},
          "output_type": "display_data"
        },
        {
          "data": {
            "text/html": [
              " View sweep at <a href='https://wandb.ai/harsh_cs23m026/DL_Assignment1/sweeps/y61i31f9' target=\"_blank\">https://wandb.ai/harsh_cs23m026/DL_Assignment1/sweeps/y61i31f9</a>"
            ],
            "text/plain": [
              "<IPython.core.display.HTML object>"
            ]
          },
          "metadata": {},
          "output_type": "display_data"
        },
        {
          "data": {
            "text/html": [
              " View run at <a href='https://wandb.ai/harsh_cs23m026/DL_Assignment1/runs/ey60tfgx' target=\"_blank\">https://wandb.ai/harsh_cs23m026/DL_Assignment1/runs/ey60tfgx</a>"
            ],
            "text/plain": [
              "<IPython.core.display.HTML object>"
            ]
          },
          "metadata": {},
          "output_type": "display_data"
        },
        {
          "name": "stdout",
          "output_type": "stream",
          "text": [
            "epoch:1 :: \n",
            " Training-loss : 0.9003327008464841, Training-accuracy:9.966666666666667%\n",
            "Validation-loss : 0.8969960174584668, Validation-accuracy:10.299999999999999%\n",
            "\n",
            "\n",
            "epoch:2 :: \n",
            " Training-loss : 0.8998148147844232, Training-accuracy:10.018518518518519%\n",
            "Validation-loss : 0.901666666661707, Validation-accuracy:9.833333333333332%\n",
            "\n",
            "\n",
            "epoch:3 :: \n",
            " Training-loss : 0.8998148147844099, Training-accuracy:10.018518518518519%\n",
            "Validation-loss : 0.9016666666617041, Validation-accuracy:9.833333333333332%\n",
            "\n",
            "\n",
            "epoch:4 :: \n",
            " Training-loss : 0.8998148147843967, Training-accuracy:10.018518518518519%\n",
            "Validation-loss : 0.9016666666617013, Validation-accuracy:9.833333333333332%\n",
            "\n",
            "\n",
            "epoch:5 :: \n",
            " Training-loss : 0.8998148147843834, Training-accuracy:10.018518518518519%\n",
            "Validation-loss : 0.9016666666616986, Validation-accuracy:9.833333333333332%\n",
            "\n",
            "\n",
            "Training-loss : 0.8998148147843834, Training-accuracy:10.018518518518519%, Validation-loss : 0.9016666666616986, Validation-accuracy:9.833333333333332%\n",
            "0.9016666666616986 9.833333333333332\n"
          ]
        },
        {
          "data": {
            "application/vnd.jupyter.widget-view+json": {
              "model_id": "5439a5f664864ddfba7cd89b4ebaf649",
              "version_major": 2,
              "version_minor": 0
            },
            "text/plain": [
              "VBox(children=(Label(value='0.001 MB of 0.001 MB uploaded\\r'), FloatProgress(value=1.0, max=1.0)))"
            ]
          },
          "metadata": {},
          "output_type": "display_data"
        },
        {
          "data": {
            "text/html": [
              "<style>\n",
              "    table.wandb td:nth-child(1) { padding: 0 10px; text-align: left ; width: auto;} td:nth-child(2) {text-align: left ; width: 100%}\n",
              "    .wandb-row { display: flex; flex-direction: row; flex-wrap: wrap; justify-content: flex-start; width: 100% }\n",
              "    .wandb-col { display: flex; flex-direction: column; flex-basis: 100%; flex: 1; padding: 10px; }\n",
              "    </style>\n",
              "<div class=\"wandb-row\"><div class=\"wandb-col\"><h3>Run history:</h3><br/><table class=\"wandb\"><tr><td>Accuracy</td><td>▁</td></tr><tr><td>epoch</td><td>▁▃▅▆█</td></tr><tr><td>training-accuracy</td><td>▁████</td></tr><tr><td>training-loss</td><td>█▁▁▁▁</td></tr><tr><td>validation-accuracy</td><td>█▁▁▁▁</td></tr><tr><td>validation-loss</td><td>▁████</td></tr></table><br/></div><div class=\"wandb-col\"><h3>Run summary:</h3><br/><table class=\"wandb\"><tr><td>Accuracy</td><td>9.83333</td></tr><tr><td>epoch</td><td>5</td></tr><tr><td>training-accuracy</td><td>10.01852</td></tr><tr><td>training-loss</td><td>0.89981</td></tr><tr><td>validation-accuracy</td><td>9.83333</td></tr><tr><td>validation-loss</td><td>0.90167</td></tr></table><br/></div></div>"
            ],
            "text/plain": [
              "<IPython.core.display.HTML object>"
            ]
          },
          "metadata": {},
          "output_type": "display_data"
        },
        {
          "data": {
            "text/html": [
              " View run <strong style=\"color:#cdcd00\">clean-sweep-3</strong> at: <a href='https://wandb.ai/harsh_cs23m026/DL_Assignment1/runs/ey60tfgx' target=\"_blank\">https://wandb.ai/harsh_cs23m026/DL_Assignment1/runs/ey60tfgx</a><br/>Synced 5 W&B file(s), 0 media file(s), 0 artifact file(s) and 0 other file(s)"
            ],
            "text/plain": [
              "<IPython.core.display.HTML object>"
            ]
          },
          "metadata": {},
          "output_type": "display_data"
        },
        {
          "data": {
            "text/html": [
              "Find logs at: <code>.\\wandb\\run-20240316_005133-ey60tfgx\\logs</code>"
            ],
            "text/plain": [
              "<IPython.core.display.HTML object>"
            ]
          },
          "metadata": {},
          "output_type": "display_data"
        },
        {
          "name": "stderr",
          "output_type": "stream",
          "text": [
            "\u001b[34m\u001b[1mwandb\u001b[0m: Sweep Agent: Waiting for job.\n",
            "\u001b[34m\u001b[1mwandb\u001b[0m: Job received.\n",
            "\u001b[34m\u001b[1mwandb\u001b[0m: Agent Starting Run: pfk0lzrb with config:\n",
            "\u001b[34m\u001b[1mwandb\u001b[0m: \tactivation: sigmoid\n",
            "\u001b[34m\u001b[1mwandb\u001b[0m: \tbatch_size: 64\n",
            "\u001b[34m\u001b[1mwandb\u001b[0m: \tbeta: 0.9\n",
            "\u001b[34m\u001b[1mwandb\u001b[0m: \tbeta1: 0.9\n",
            "\u001b[34m\u001b[1mwandb\u001b[0m: \tbeta2: 0.999\n",
            "\u001b[34m\u001b[1mwandb\u001b[0m: \tdataset: fashion_mnist\n",
            "\u001b[34m\u001b[1mwandb\u001b[0m: \tepochs: 5\n",
            "\u001b[34m\u001b[1mwandb\u001b[0m: \tepsilon: 1e-06\n",
            "\u001b[34m\u001b[1mwandb\u001b[0m: \thidden_layer_sizes: 32\n",
            "\u001b[34m\u001b[1mwandb\u001b[0m: \thidden_layers: 5\n",
            "\u001b[34m\u001b[1mwandb\u001b[0m: \tinitialization: Xavier\n",
            "\u001b[34m\u001b[1mwandb\u001b[0m: \tlearning_rate: 0.0005\n",
            "\u001b[34m\u001b[1mwandb\u001b[0m: \tloss_function: mean_squared_error\n",
            "\u001b[34m\u001b[1mwandb\u001b[0m: \tmomentum: 0.9\n",
            "\u001b[34m\u001b[1mwandb\u001b[0m: \toptimizer: nag\n",
            "\u001b[34m\u001b[1mwandb\u001b[0m: \tweight_decay: 0\n",
            "Failed to detect the name of this notebook, you can set it manually with the WANDB_NOTEBOOK_NAME environment variable to enable code saving.\n",
            "\u001b[34m\u001b[1mwandb\u001b[0m: \u001b[33mWARNING\u001b[0m Ignored wandb.init() arg project when running a sweep.\n"
          ]
        },
        {
          "data": {
            "text/html": [
              "wandb version 0.16.4 is available!  To upgrade, please run:\n",
              " $ pip install wandb --upgrade"
            ],
            "text/plain": [
              "<IPython.core.display.HTML object>"
            ]
          },
          "metadata": {},
          "output_type": "display_data"
        },
        {
          "data": {
            "text/html": [
              "Tracking run with wandb version 0.16.3"
            ],
            "text/plain": [
              "<IPython.core.display.HTML object>"
            ]
          },
          "metadata": {},
          "output_type": "display_data"
        },
        {
          "data": {
            "text/html": [
              "Run data is saved locally in <code>d:\\DeepLearning\\wandb\\run-20240316_005245-pfk0lzrb</code>"
            ],
            "text/plain": [
              "<IPython.core.display.HTML object>"
            ]
          },
          "metadata": {},
          "output_type": "display_data"
        },
        {
          "data": {
            "text/html": [
              "Syncing run <strong><a href='https://wandb.ai/harsh_cs23m026/DL_Assignment1/runs/pfk0lzrb' target=\"_blank\">super-sweep-4</a></strong> to <a href='https://wandb.ai/harsh_cs23m026/DL_Assignment1' target=\"_blank\">Weights & Biases</a> (<a href='https://wandb.me/run' target=\"_blank\">docs</a>)<br/>Sweep page: <a href='https://wandb.ai/harsh_cs23m026/DL_Assignment1/sweeps/y61i31f9' target=\"_blank\">https://wandb.ai/harsh_cs23m026/DL_Assignment1/sweeps/y61i31f9</a>"
            ],
            "text/plain": [
              "<IPython.core.display.HTML object>"
            ]
          },
          "metadata": {},
          "output_type": "display_data"
        },
        {
          "data": {
            "text/html": [
              " View project at <a href='https://wandb.ai/harsh_cs23m026/DL_Assignment1' target=\"_blank\">https://wandb.ai/harsh_cs23m026/DL_Assignment1</a>"
            ],
            "text/plain": [
              "<IPython.core.display.HTML object>"
            ]
          },
          "metadata": {},
          "output_type": "display_data"
        },
        {
          "data": {
            "text/html": [
              " View sweep at <a href='https://wandb.ai/harsh_cs23m026/DL_Assignment1/sweeps/y61i31f9' target=\"_blank\">https://wandb.ai/harsh_cs23m026/DL_Assignment1/sweeps/y61i31f9</a>"
            ],
            "text/plain": [
              "<IPython.core.display.HTML object>"
            ]
          },
          "metadata": {},
          "output_type": "display_data"
        },
        {
          "data": {
            "text/html": [
              " View run at <a href='https://wandb.ai/harsh_cs23m026/DL_Assignment1/runs/pfk0lzrb' target=\"_blank\">https://wandb.ai/harsh_cs23m026/DL_Assignment1/runs/pfk0lzrb</a>"
            ],
            "text/plain": [
              "<IPython.core.display.HTML object>"
            ]
          },
          "metadata": {},
          "output_type": "display_data"
        },
        {
          "name": "stdout",
          "output_type": "stream",
          "text": [
            "epoch:1 :: \n",
            " Training-loss : 0.5051126672454703, Training-accuracy:9.983333333333333%\n",
            "Validation-loss : 0.5041019887851523, Validation-accuracy:10.15%\n",
            "\n",
            "\n",
            "epoch:2 :: \n",
            " Training-loss : 0.5012116656803507, Training-accuracy:9.983333333333333%\n",
            "Validation-loss : 0.500221202494603, Validation-accuracy:10.15%\n",
            "\n",
            "\n",
            "epoch:3 :: \n",
            " Training-loss : 0.4977654928580159, Training-accuracy:9.983333333333333%\n",
            "Validation-loss : 0.49679448734536724, Validation-accuracy:10.15%\n",
            "\n",
            "\n",
            "epoch:4 :: \n",
            " Training-loss : 0.49471124843407754, Training-accuracy:9.983333333333333%\n",
            "Validation-loss : 0.4937589900662806, Validation-accuracy:10.15%\n",
            "\n",
            "\n",
            "epoch:5 :: \n",
            " Training-loss : 0.4919947625661064, Training-accuracy:9.983333333333333%\n",
            "Validation-loss : 0.4910605855415228, Validation-accuracy:10.15%\n",
            "\n",
            "\n",
            "Training-loss : 0.4919947625661064, Training-accuracy:9.983333333333333%, Validation-loss : 0.4910605855415228, Validation-accuracy:10.15%\n",
            "0.4910605855415228 10.15\n"
          ]
        },
        {
          "data": {
            "application/vnd.jupyter.widget-view+json": {
              "model_id": "4d1fed178d1f49358ee0668c686d9749",
              "version_major": 2,
              "version_minor": 0
            },
            "text/plain": [
              "VBox(children=(Label(value='0.001 MB of 0.006 MB uploaded\\r'), FloatProgress(value=0.14657930824318147, max=1.…"
            ]
          },
          "metadata": {},
          "output_type": "display_data"
        },
        {
          "data": {
            "text/html": [
              "<style>\n",
              "    table.wandb td:nth-child(1) { padding: 0 10px; text-align: left ; width: auto;} td:nth-child(2) {text-align: left ; width: 100%}\n",
              "    .wandb-row { display: flex; flex-direction: row; flex-wrap: wrap; justify-content: flex-start; width: 100% }\n",
              "    .wandb-col { display: flex; flex-direction: column; flex-basis: 100%; flex: 1; padding: 10px; }\n",
              "    </style>\n",
              "<div class=\"wandb-row\"><div class=\"wandb-col\"><h3>Run history:</h3><br/><table class=\"wandb\"><tr><td>Accuracy</td><td>▁</td></tr><tr><td>epoch</td><td>▁▃▅▆█</td></tr><tr><td>training-accuracy</td><td>▁▁▁▁▁</td></tr><tr><td>training-loss</td><td>█▆▄▂▁</td></tr><tr><td>validation-accuracy</td><td>▁▁▁▁▁</td></tr><tr><td>validation-loss</td><td>█▆▄▂▁</td></tr></table><br/></div><div class=\"wandb-col\"><h3>Run summary:</h3><br/><table class=\"wandb\"><tr><td>Accuracy</td><td>10.15</td></tr><tr><td>epoch</td><td>5</td></tr><tr><td>training-accuracy</td><td>9.98333</td></tr><tr><td>training-loss</td><td>0.49199</td></tr><tr><td>validation-accuracy</td><td>10.15</td></tr><tr><td>validation-loss</td><td>0.49106</td></tr></table><br/></div></div>"
            ],
            "text/plain": [
              "<IPython.core.display.HTML object>"
            ]
          },
          "metadata": {},
          "output_type": "display_data"
        },
        {
          "data": {
            "text/html": [
              " View run <strong style=\"color:#cdcd00\">super-sweep-4</strong> at: <a href='https://wandb.ai/harsh_cs23m026/DL_Assignment1/runs/pfk0lzrb' target=\"_blank\">https://wandb.ai/harsh_cs23m026/DL_Assignment1/runs/pfk0lzrb</a><br/>Synced 5 W&B file(s), 0 media file(s), 0 artifact file(s) and 0 other file(s)"
            ],
            "text/plain": [
              "<IPython.core.display.HTML object>"
            ]
          },
          "metadata": {},
          "output_type": "display_data"
        },
        {
          "data": {
            "text/html": [
              "Find logs at: <code>.\\wandb\\run-20240316_005245-pfk0lzrb\\logs</code>"
            ],
            "text/plain": [
              "<IPython.core.display.HTML object>"
            ]
          },
          "metadata": {},
          "output_type": "display_data"
        },
        {
          "name": "stderr",
          "output_type": "stream",
          "text": [
            "\u001b[34m\u001b[1mwandb\u001b[0m: Agent Starting Run: q9wlkkxq with config:\n",
            "\u001b[34m\u001b[1mwandb\u001b[0m: \tactivation: sigmoid\n",
            "\u001b[34m\u001b[1mwandb\u001b[0m: \tbatch_size: 64\n",
            "\u001b[34m\u001b[1mwandb\u001b[0m: \tbeta: 0.5\n",
            "\u001b[34m\u001b[1mwandb\u001b[0m: \tbeta1: 0.9\n",
            "\u001b[34m\u001b[1mwandb\u001b[0m: \tbeta2: 0.999\n",
            "\u001b[34m\u001b[1mwandb\u001b[0m: \tdataset: fashion_mnist\n",
            "\u001b[34m\u001b[1mwandb\u001b[0m: \tepochs: 5\n",
            "\u001b[34m\u001b[1mwandb\u001b[0m: \tepsilon: 1e-08\n",
            "\u001b[34m\u001b[1mwandb\u001b[0m: \thidden_layer_sizes: 64\n",
            "\u001b[34m\u001b[1mwandb\u001b[0m: \thidden_layers: 4\n",
            "\u001b[34m\u001b[1mwandb\u001b[0m: \tinitialization: Xavier\n",
            "\u001b[34m\u001b[1mwandb\u001b[0m: \tlearning_rate: 0.0005\n",
            "\u001b[34m\u001b[1mwandb\u001b[0m: \tloss_function: mean_squared_error\n",
            "\u001b[34m\u001b[1mwandb\u001b[0m: \tmomentum: 0.9\n",
            "\u001b[34m\u001b[1mwandb\u001b[0m: \toptimizer: sgd\n",
            "\u001b[34m\u001b[1mwandb\u001b[0m: \tweight_decay: 0.0005\n",
            "Failed to detect the name of this notebook, you can set it manually with the WANDB_NOTEBOOK_NAME environment variable to enable code saving.\n",
            "\u001b[34m\u001b[1mwandb\u001b[0m: \u001b[33mWARNING\u001b[0m Ignored wandb.init() arg project when running a sweep.\n"
          ]
        },
        {
          "data": {
            "text/html": [
              "wandb version 0.16.4 is available!  To upgrade, please run:\n",
              " $ pip install wandb --upgrade"
            ],
            "text/plain": [
              "<IPython.core.display.HTML object>"
            ]
          },
          "metadata": {},
          "output_type": "display_data"
        },
        {
          "data": {
            "text/html": [
              "Tracking run with wandb version 0.16.3"
            ],
            "text/plain": [
              "<IPython.core.display.HTML object>"
            ]
          },
          "metadata": {},
          "output_type": "display_data"
        },
        {
          "data": {
            "text/html": [
              "Run data is saved locally in <code>d:\\DeepLearning\\wandb\\run-20240316_005323-q9wlkkxq</code>"
            ],
            "text/plain": [
              "<IPython.core.display.HTML object>"
            ]
          },
          "metadata": {},
          "output_type": "display_data"
        },
        {
          "data": {
            "text/html": [
              "Syncing run <strong><a href='https://wandb.ai/harsh_cs23m026/DL_Assignment1/runs/q9wlkkxq' target=\"_blank\">dark-sweep-5</a></strong> to <a href='https://wandb.ai/harsh_cs23m026/DL_Assignment1' target=\"_blank\">Weights & Biases</a> (<a href='https://wandb.me/run' target=\"_blank\">docs</a>)<br/>Sweep page: <a href='https://wandb.ai/harsh_cs23m026/DL_Assignment1/sweeps/y61i31f9' target=\"_blank\">https://wandb.ai/harsh_cs23m026/DL_Assignment1/sweeps/y61i31f9</a>"
            ],
            "text/plain": [
              "<IPython.core.display.HTML object>"
            ]
          },
          "metadata": {},
          "output_type": "display_data"
        },
        {
          "data": {
            "text/html": [
              " View project at <a href='https://wandb.ai/harsh_cs23m026/DL_Assignment1' target=\"_blank\">https://wandb.ai/harsh_cs23m026/DL_Assignment1</a>"
            ],
            "text/plain": [
              "<IPython.core.display.HTML object>"
            ]
          },
          "metadata": {},
          "output_type": "display_data"
        },
        {
          "data": {
            "text/html": [
              " View sweep at <a href='https://wandb.ai/harsh_cs23m026/DL_Assignment1/sweeps/y61i31f9' target=\"_blank\">https://wandb.ai/harsh_cs23m026/DL_Assignment1/sweeps/y61i31f9</a>"
            ],
            "text/plain": [
              "<IPython.core.display.HTML object>"
            ]
          },
          "metadata": {},
          "output_type": "display_data"
        },
        {
          "data": {
            "text/html": [
              " View run at <a href='https://wandb.ai/harsh_cs23m026/DL_Assignment1/runs/q9wlkkxq' target=\"_blank\">https://wandb.ai/harsh_cs23m026/DL_Assignment1/runs/q9wlkkxq</a>"
            ],
            "text/plain": [
              "<IPython.core.display.HTML object>"
            ]
          },
          "metadata": {},
          "output_type": "display_data"
        },
        {
          "name": "stdout",
          "output_type": "stream",
          "text": [
            "epoch:1 :: \n",
            " Training-loss : 0.5254535578897785, Training-accuracy:9.966666666666667%\n",
            "Validation-loss : 0.5245962304658615, Validation-accuracy:10.299999999999999%\n",
            "\n",
            "\n",
            "epoch:2 :: \n",
            " Training-loss : 0.5251167163092091, Training-accuracy:9.966666666666667%\n",
            "Validation-loss : 0.5242652340274389, Validation-accuracy:10.299999999999999%\n",
            "\n",
            "\n",
            "epoch:3 :: \n",
            " Training-loss : 0.5247840937794711, Training-accuracy:9.966666666666667%\n",
            "Validation-loss : 0.5239383911061436, Validation-accuracy:10.299999999999999%\n",
            "\n",
            "\n",
            "epoch:4 :: \n",
            " Training-loss : 0.5244555715923203, Training-accuracy:9.966666666666667%\n",
            "Validation-loss : 0.5236155841639673, Validation-accuracy:10.299999999999999%\n",
            "\n",
            "\n",
            "epoch:5 :: \n",
            " Training-loss : 0.5241310355445069, Training-accuracy:9.966666666666667%\n",
            "Validation-loss : 0.5232967001438633, Validation-accuracy:10.299999999999999%\n",
            "\n",
            "\n",
            "Training-loss : 0.5241310355445069, Training-accuracy:9.966666666666667%, Validation-loss : 0.5232967001438633, Validation-accuracy:10.299999999999999%\n",
            "0.5232967001438633 10.299999999999999\n"
          ]
        },
        {
          "data": {
            "application/vnd.jupyter.widget-view+json": {
              "model_id": "d8a977f6adba4dbaa8640758983e17f9",
              "version_major": 2,
              "version_minor": 0
            },
            "text/plain": [
              "VBox(children=(Label(value='0.001 MB of 0.001 MB uploaded\\r'), FloatProgress(value=1.0, max=1.0)))"
            ]
          },
          "metadata": {},
          "output_type": "display_data"
        },
        {
          "data": {
            "text/html": [
              "<style>\n",
              "    table.wandb td:nth-child(1) { padding: 0 10px; text-align: left ; width: auto;} td:nth-child(2) {text-align: left ; width: 100%}\n",
              "    .wandb-row { display: flex; flex-direction: row; flex-wrap: wrap; justify-content: flex-start; width: 100% }\n",
              "    .wandb-col { display: flex; flex-direction: column; flex-basis: 100%; flex: 1; padding: 10px; }\n",
              "    </style>\n",
              "<div class=\"wandb-row\"><div class=\"wandb-col\"><h3>Run history:</h3><br/><table class=\"wandb\"><tr><td>Accuracy</td><td>▁</td></tr><tr><td>epoch</td><td>▁▃▅▆█</td></tr><tr><td>training-accuracy</td><td>▁▁▁▁▁</td></tr><tr><td>training-loss</td><td>█▆▄▃▁</td></tr><tr><td>validation-accuracy</td><td>▁▁▁▁▁</td></tr><tr><td>validation-loss</td><td>█▆▄▃▁</td></tr></table><br/></div><div class=\"wandb-col\"><h3>Run summary:</h3><br/><table class=\"wandb\"><tr><td>Accuracy</td><td>10.3</td></tr><tr><td>epoch</td><td>5</td></tr><tr><td>training-accuracy</td><td>9.96667</td></tr><tr><td>training-loss</td><td>0.52413</td></tr><tr><td>validation-accuracy</td><td>10.3</td></tr><tr><td>validation-loss</td><td>0.5233</td></tr></table><br/></div></div>"
            ],
            "text/plain": [
              "<IPython.core.display.HTML object>"
            ]
          },
          "metadata": {},
          "output_type": "display_data"
        },
        {
          "data": {
            "text/html": [
              " View run <strong style=\"color:#cdcd00\">dark-sweep-5</strong> at: <a href='https://wandb.ai/harsh_cs23m026/DL_Assignment1/runs/q9wlkkxq' target=\"_blank\">https://wandb.ai/harsh_cs23m026/DL_Assignment1/runs/q9wlkkxq</a><br/>Synced 5 W&B file(s), 0 media file(s), 0 artifact file(s) and 0 other file(s)"
            ],
            "text/plain": [
              "<IPython.core.display.HTML object>"
            ]
          },
          "metadata": {},
          "output_type": "display_data"
        },
        {
          "data": {
            "text/html": [
              "Find logs at: <code>.\\wandb\\run-20240316_005323-q9wlkkxq\\logs</code>"
            ],
            "text/plain": [
              "<IPython.core.display.HTML object>"
            ]
          },
          "metadata": {},
          "output_type": "display_data"
        }
      ],
      "source": [
        "wandb.agent(sweep_id, train, count = 5)\n",
        "wandb.finish()"
      ]
    },
    {
      "cell_type": "markdown",
      "metadata": {
        "id": "u-36K9k5XsML"
      },
      "source": [
        "# **Question - 7**"
      ]
    },
    {
      "cell_type": "code",
      "execution_count": 42,
      "metadata": {
        "id": "XfcXRoWJXsML",
        "outputId": "e331529e-d813-4e22-e279-2b677286c8a8"
      },
      "outputs": [
        {
          "name": "stdout",
          "output_type": "stream",
          "text": [
            "epoch:1 :: \n",
            " Training-loss : 0.564950192644765, Training-accuracy:79.87407407407407%\n",
            "Validation-loss : 0.5760708371736699, Validation-accuracy:79.38333333333333%\n",
            "\n",
            "\n",
            "epoch:2 :: \n",
            " Training-loss : 0.4590873064587748, Training-accuracy:83.62037037037037%\n",
            "Validation-loss : 0.4722155986454591, Validation-accuracy:82.93333333333334%\n",
            "\n",
            "\n",
            "epoch:3 :: \n",
            " Training-loss : 0.41162413509200957, Training-accuracy:85.35185185185186%\n",
            "Validation-loss : 0.4233419149781611, Validation-accuracy:84.98333333333333%\n",
            "\n",
            "\n",
            "epoch:4 :: \n",
            " Training-loss : 0.3877503142317187, Training-accuracy:86.10185185185185%\n",
            "Validation-loss : 0.40829022407751675, Validation-accuracy:85.3%\n",
            "\n",
            "\n",
            "epoch:5 :: \n",
            " Training-loss : 0.3624822182938119, Training-accuracy:86.93703703703703%\n",
            "Validation-loss : 0.38400694848834405, Validation-accuracy:86.11666666666666%\n",
            "\n",
            "\n"
          ]
        }
      ],
      "source": [
        "PARAM_NEURAL_NETWORK = {\n",
        "    \"hidden_layers\": 5,\n",
        "    \"hidden_layer_sizes\" : 32,\n",
        "    \"activation_function\": \"ReLU\", # sigmoid, tanh, ReLU\n",
        "    \"loss_function\" : \"cross_entropy\", # mean_squared_error, cross_entropy\n",
        "    \"init\" : \"Xavier\", #random, Xavier\n",
        "    \"dataset\" : \"fashion_mnist\"\n",
        "}\n",
        "\n",
        "PARAM_OPTIMIZER = {\n",
        "    \"eta\": 0.001, #0.0006\n",
        "    \"optimizer\": \"nadam\", #sgd, momentum, adam, nadam, rmsprop, nag\n",
        "    \"beta\": 0.5,\n",
        "    \"weight_decay\": 0,\n",
        "    \"epsilon\": 1e-6, #1e-8\n",
        "    \"beta2\" : 0.999,  # 0.9\n",
        "    \"beta1\" : 0.999,\n",
        "    \"momentum\" : 0.9 #0.5\n",
        "}\n",
        "\n",
        "\n",
        "nn = Neural_Network(PARAM_NEURAL_NETWORK)\n",
        "opt = Optimizer(nn, PARAM_OPTIMIZER)\n",
        "\n",
        "model = Train_Model(nn, opt, log = 0)\n",
        "training_loss, training_acc, validation_loss, validation_acc = model.fit_data(batch_size=64, epochs=5)"
      ]
    },
    {
      "cell_type": "code",
      "execution_count": 43,
      "metadata": {
        "id": "EJNW-PsIXsML",
        "outputId": "17226365-3c2d-4f95-bd94-0ef7a39f4499"
      },
      "outputs": [
        {
          "name": "stdout",
          "output_type": "stream",
          "text": [
            "(0.4152868256382829, 85.27)\n"
          ]
        }
      ],
      "source": [
        "y_pred = model.predict_prob(model.neural_network.test_img)\n",
        "print(model.compute_performance(model.neural_network.test_img, model.neural_network.test_true))\n",
        "# print(y_pred.shape)\n",
        "# print(y_pred[0])"
      ]
    },
    {
      "cell_type": "code",
      "execution_count": 44,
      "metadata": {
        "id": "CZq7jTcLXsMM"
      },
      "outputs": [],
      "source": [
        "def create_confusion_matrix(y_pred, y_true):\n",
        "    mat = np.zeros((y_pred.shape[1], y_pred.shape[1]))\n",
        "    class_pred = np.argmax(y_pred, axis = 1)\n",
        "    print(class_pred)\n",
        "    for i in range(y_true.shape[0]):\n",
        "        mat[y_true[i]][class_pred[i]] += 1\n",
        "    mat = mat.astype(int)\n",
        "    print(type(mat))\n",
        "    return mat"
      ]
    },
    {
      "cell_type": "code",
      "execution_count": 46,
      "metadata": {
        "id": "CnWJIoF2XsMM"
      },
      "outputs": [],
      "source": [
        "def plot_confusion_matrix(dataset):\n",
        "    wandb.init(project=\"DL_Assignment1\", name=\"Question:7\")\n",
        "    class_label = [\"T-shirt/top\", \"Trouser\", \"Pullover\", \"Dress\", \"Coat\", \"Sandal\", \"Shirt\", \"Sneaker\", \"Bag\", \"Ankle boot\"]\n",
        "    if dataset == 'mnist':\n",
        "        class_label = [\"0\", \"1\", \"2\", \"3\", \"4\", \"5\", \"6\", \"7\", \"8\", \"9\"]\n",
        "    mat = create_confusion_matrix(y_pred, model.neural_network.test_true)\n",
        "    df_confusion = pandas.DataFrame(mat, index=class_label, columns=class_label)\n",
        "    plt.figure(figsize=(10, 10))\n",
        "    # my_cmap = matplotlib.colors.LinearSegmentedColormap.from_list(\"\", [\"red\",\"yellow\"])\n",
        "    ax = sns.heatmap(df_confusion, annot=True, fmt='g',linewidths=4, linecolor='white')\n",
        "    ax.set_xticklabels(class_label,rotation=90)\n",
        "    ax.set_yticklabels(class_label,rotation=0)\n",
        "    plt.title('Confusion Matrix', fontsize=8)\n",
        "    plt.ylabel(\"Predicted Class\")\n",
        "    plt.xlabel(\"True Class\")\n",
        "    wandb.log({\"Confusion_Matrix\": wandb.Image(plt)})\n",
        "    wandb.finish()"
      ]
    },
    {
      "cell_type": "code",
      "execution_count": null,
      "metadata": {
        "id": "nEWTQ5BhXsMM"
      },
      "outputs": [],
      "source": []
    },
    {
      "cell_type": "code",
      "execution_count": 47,
      "metadata": {
        "id": "ekmPsX79XsMM",
        "outputId": "8b1083e3-3adc-4409-ecd8-653358286edd"
      },
      "outputs": [
        {
          "data": {
            "text/html": [
              "Changes to your `wandb` environment variables will be ignored because your `wandb` session has already started. For more information on how to modify your settings with `wandb.init()` arguments, please refer to <a href='https://wandb.me/wandb-init' target=\"_blank\">the W&B docs</a>."
            ],
            "text/plain": [
              "<IPython.core.display.HTML object>"
            ]
          },
          "metadata": {},
          "output_type": "display_data"
        },
        {
          "name": "stderr",
          "output_type": "stream",
          "text": [
            "\u001b[34m\u001b[1mwandb\u001b[0m: \u001b[33mWARNING\u001b[0m Ignored wandb.init() arg project when running a sweep.\n"
          ]
        },
        {
          "data": {
            "text/html": [
              "Finishing last run (ID:q9wlkkxq) before initializing another..."
            ],
            "text/plain": [
              "<IPython.core.display.HTML object>"
            ]
          },
          "metadata": {},
          "output_type": "display_data"
        },
        {
          "data": {
            "application/vnd.jupyter.widget-view+json": {
              "model_id": "566ce9313bc9429bae4ef494dfd13da9",
              "version_major": 2,
              "version_minor": 0
            },
            "text/plain": [
              "VBox(children=(Label(value='0.001 MB of 0.001 MB uploaded\\r'), FloatProgress(value=1.0, max=1.0)))"
            ]
          },
          "metadata": {},
          "output_type": "display_data"
        },
        {
          "data": {
            "text/html": [
              " View run <strong style=\"color:#cdcd00\">Question:7</strong> at: <a href='https://wandb.ai/harsh_cs23m026/DL_Assignment1/runs/q9wlkkxq' target=\"_blank\">https://wandb.ai/harsh_cs23m026/DL_Assignment1/runs/q9wlkkxq</a><br/>Synced 5 W&B file(s), 0 media file(s), 0 artifact file(s) and 0 other file(s)"
            ],
            "text/plain": [
              "<IPython.core.display.HTML object>"
            ]
          },
          "metadata": {},
          "output_type": "display_data"
        },
        {
          "data": {
            "text/html": [
              "Find logs at: <code>.\\wandb\\run-20240316_005531-q9wlkkxq\\logs</code>"
            ],
            "text/plain": [
              "<IPython.core.display.HTML object>"
            ]
          },
          "metadata": {},
          "output_type": "display_data"
        },
        {
          "data": {
            "text/html": [
              "Successfully finished last run (ID:q9wlkkxq). Initializing new run:<br/>"
            ],
            "text/plain": [
              "<IPython.core.display.HTML object>"
            ]
          },
          "metadata": {},
          "output_type": "display_data"
        },
        {
          "data": {
            "application/vnd.jupyter.widget-view+json": {
              "model_id": "e242ccb6fd8d4e198053e4ee3b2dbdf6",
              "version_major": 2,
              "version_minor": 0
            },
            "text/plain": [
              "VBox(children=(Label(value='Waiting for wandb.init()...\\r'), FloatProgress(value=0.011111111111111112, max=1.0…"
            ]
          },
          "metadata": {},
          "output_type": "display_data"
        },
        {
          "data": {
            "text/html": [
              "wandb version 0.16.4 is available!  To upgrade, please run:\n",
              " $ pip install wandb --upgrade"
            ],
            "text/plain": [
              "<IPython.core.display.HTML object>"
            ]
          },
          "metadata": {},
          "output_type": "display_data"
        },
        {
          "data": {
            "text/html": [
              "Tracking run with wandb version 0.16.3"
            ],
            "text/plain": [
              "<IPython.core.display.HTML object>"
            ]
          },
          "metadata": {},
          "output_type": "display_data"
        },
        {
          "data": {
            "text/html": [
              "Run data is saved locally in <code>d:\\DeepLearning\\wandb\\run-20240316_005626-q9wlkkxq</code>"
            ],
            "text/plain": [
              "<IPython.core.display.HTML object>"
            ]
          },
          "metadata": {},
          "output_type": "display_data"
        },
        {
          "data": {
            "text/html": [
              "Syncing run <strong><a href='https://wandb.ai/harsh_cs23m026/DL_Assignment1/runs/q9wlkkxq' target=\"_blank\">Question:7</a></strong> to <a href='https://wandb.ai/harsh_cs23m026/DL_Assignment1' target=\"_blank\">Weights & Biases</a> (<a href='https://wandb.me/run' target=\"_blank\">docs</a>)<br/>Sweep page: <a href='https://wandb.ai/harsh_cs23m026/DL_Assignment1/sweeps/y61i31f9' target=\"_blank\">https://wandb.ai/harsh_cs23m026/DL_Assignment1/sweeps/y61i31f9</a>"
            ],
            "text/plain": [
              "<IPython.core.display.HTML object>"
            ]
          },
          "metadata": {},
          "output_type": "display_data"
        },
        {
          "data": {
            "text/html": [
              " View project at <a href='https://wandb.ai/harsh_cs23m026/DL_Assignment1' target=\"_blank\">https://wandb.ai/harsh_cs23m026/DL_Assignment1</a>"
            ],
            "text/plain": [
              "<IPython.core.display.HTML object>"
            ]
          },
          "metadata": {},
          "output_type": "display_data"
        },
        {
          "data": {
            "text/html": [
              " View sweep at <a href='https://wandb.ai/harsh_cs23m026/DL_Assignment1/sweeps/y61i31f9' target=\"_blank\">https://wandb.ai/harsh_cs23m026/DL_Assignment1/sweeps/y61i31f9</a>"
            ],
            "text/plain": [
              "<IPython.core.display.HTML object>"
            ]
          },
          "metadata": {},
          "output_type": "display_data"
        },
        {
          "data": {
            "text/html": [
              " View run at <a href='https://wandb.ai/harsh_cs23m026/DL_Assignment1/runs/q9wlkkxq' target=\"_blank\">https://wandb.ai/harsh_cs23m026/DL_Assignment1/runs/q9wlkkxq</a>"
            ],
            "text/plain": [
              "<IPython.core.display.HTML object>"
            ]
          },
          "metadata": {},
          "output_type": "display_data"
        },
        {
          "name": "stdout",
          "output_type": "stream",
          "text": [
            "[9 2 1 ... 8 1 5]\n",
            "<class 'numpy.ndarray'>\n"
          ]
        },
        {
          "data": {
            "application/vnd.jupyter.widget-view+json": {
              "model_id": "35ab051302f546e5b9dc744afc19c6d4",
              "version_major": 2,
              "version_minor": 0
            },
            "text/plain": [
              "VBox(children=(Label(value='0.064 MB of 0.064 MB uploaded\\r'), FloatProgress(value=1.0, max=1.0)))"
            ]
          },
          "metadata": {},
          "output_type": "display_data"
        },
        {
          "data": {
            "text/html": [
              " View run <strong style=\"color:#cdcd00\">Question:7</strong> at: <a href='https://wandb.ai/harsh_cs23m026/DL_Assignment1/runs/q9wlkkxq' target=\"_blank\">https://wandb.ai/harsh_cs23m026/DL_Assignment1/runs/q9wlkkxq</a><br/>Synced 5 W&B file(s), 1 media file(s), 0 artifact file(s) and 0 other file(s)"
            ],
            "text/plain": [
              "<IPython.core.display.HTML object>"
            ]
          },
          "metadata": {},
          "output_type": "display_data"
        },
        {
          "data": {
            "text/html": [
              "Find logs at: <code>.\\wandb\\run-20240316_005626-q9wlkkxq\\logs</code>"
            ],
            "text/plain": [
              "<IPython.core.display.HTML object>"
            ]
          },
          "metadata": {},
          "output_type": "display_data"
        },
        {
          "data": {
            "image/png": "[encoded data removed]",
            "text/plain": [
              "<Figure size 1000x1000 with 2 Axes>"
            ]
          },
          "metadata": {},
          "output_type": "display_data"
        }
      ],
      "source": [
        "plot_confusion_matrix(model.neural_network.dataset)\n"
      ]
    },
    {
      "cell_type": "markdown",
      "metadata": {
        "id": "Zj1sRLGPXsMM"
      },
      "source": [
        "# **Question - 8**"
      ]
    },
    {
      "cell_type": "code",
      "execution_count": null,
      "metadata": {
        "id": "oyBYdTwlXsMM"
      },
      "outputs": [],
      "source": [
        "sweep_config_que8 = {\n",
        "    'method' : 'grid',\n",
        "    'metric' : { 'goal' : 'maximize', 'name' : 'Accuracy'},\n",
        "    'name' : 'sweep1_crossEntropy_vs_mse_final',\n",
        "\n",
        "    'parameters' : {\n",
        "        'epochs' : {'values' : [10]},\n",
        "        'activation' : {'values' : ['tanh', 'ReLU']},\n",
        "        'batch_size' : {'values' : [64]},\n",
        "        'optimizer' : {'values' : ['momentum', 'nag', 'nadam', 'adam', 'rmsprop', 'sgd']},\n",
        "        'weight_decay': {'values': [0]},\n",
        "        'hidden_layer_sizes' : {'values' : [32, 64]},\n",
        "        'beta': {'values': [0.9]}, #rmsprop\n",
        "        'beta1' : {'values' : [0.999]},\n",
        "        'beta2': {'values': [0.999]},\n",
        "        'learning_rate': {'values': [1e-3, 1e-4]},\n",
        "        'initialization':{'values': ['Xavier']},\n",
        "        'hidden_layers': {'values': [4, 5]},\n",
        "        'loss_function' : {'values' : ['cross_entropy', 'mean_squared_error']},\n",
        "        'epsilon' : {'values' : [1e-6]},\n",
        "        'momentum' : {'values' : [0.9]},\n",
        "        'dataset' : {'values' : ['fashion_mnist']}\n",
        "    }\n",
        "}"
      ]
    },
    {
      "cell_type": "code",
      "execution_count": null,
      "metadata": {
        "colab": {
          "base_uri": "https://localhost:8080/",
          "height": 1000,
          "referenced_widgets": [
            "90f763aebd484ef39f2b272ba8cfe2b5",
            "4a3e9818eff34e799b51e2c2d04dac0c",
            "e3d1bd19bb334e649941438055106841",
            "37fc17ff41e4425da93de187ab6ba3b0",
            "997dabeefbc0486591c48679c1f66b63",
            "84a0153248de4cca9782389c7a0b01b1",
            "925637c4150e4fbea7f1d9fa5c3dd29d",
            "6811b7b5f0a6447f8bd52d36a0549a41",
            "06dc920bc8e944eb8d19b1d571afa82d",
            "a5b1ba879ac34d26960b08bd631ce154",
            "9981be95dfd948c08d86d27c07498bb9",
            "9c30f1b6dbc74c3599eb16d3f4708eee",
            "3d698ddc8e4c482699a368870b26d40e",
            "ae1e0bb47d714f1b94804297b9da2c30",
            "c2f01d98d52c49da9932ccd69fbe0a94",
            "3ab3c370ee0745dfb9d79ad969cce503",
            "a280f9ceaf324a52ae7fb816aed09c41",
            "769cb2c339764ec0a49b8aaaacb8c81f",
            "b8362221c43f42d3a06f1d330f3b3e8a",
            "141fd9a8d7344d2da257ece42a435d49",
            "7d7c33d411284291979594f35eeaf429",
            "bad5af27fc3044ae857465def708187e",
            "5ede75e50b344464b5fb672356053108",
            "12f0324e8ded4a1f92c59a95f0592810",
            "32909804a3a84464b18f9e530de0a565",
            "50a8481379594abc9cc305dd049dca10",
            "539639025efd4b6099e9d6b4ba057663",
            "00135e99787a4991bc199301a7709a09",
            "6b4cbf02b1654dbe99c3acee0ccf90cb",
            "073fed0022f64abaa58aee75dbc03459",
            "08dd44fc9ad34561819a76c7c0791b25",
            "243dca27172840acabf4dbda75251f77",
            "53bc40bd06da40f6a6b3e1406b83e6c7",
            "03bf57c15cfb483b8bf638081654d722",
            "3bcde9c0f82d45749d05f6ac3faca71b",
            "ca1d80733f27440e87e3d8227c7f4b33",
            "a23a487d6daa43e38e1aa136cd46d8ef",
            "fae6392f70ed401a8c5a3b444417320b",
            "37efa9aa58a044bfbcb63b7165c248ff",
            "8fd5287e47e6499ab212deb4fc9ade6d",
            "5e7e321b3b49453f96f492c31288d013",
            "0103972d97494398bd8f58c3db3905b6",
            "7c148c99740a4f96b2583f04abf2ecc4",
            "785ef56eda024faf8a5df548e3126953",
            "fb420ffbe747437aaab1fd289db6044a",
            "a02af15d865e412cbe58b267071cc9d7",
            "2c371e94a178422ea57c67c570a4f598",
            "fc72cccca7944006b9f60a40fefaf43b",
            "16f1efe7498a47c2a8cbc52508af84f2",
            "babe2f3bf21f45658755ccff41d15ff0",
            "b0745496d77c48eabef0c570482c3cd6",
            "d05830a9267b40f8a05b3d9cc0d6347d",
            "8318e6597566476dbcdbe892012b9e2f",
            "c34b7305a852401d80ddae217020031e",
            "659a8fec9b62409ca1a20935e784e44e",
            "9d7738c4336a45ef99feafa60625c6f7",
            "3745f9af8b7a414cb9f9932013e78820",
            "424968cf7c5d4df7bb9bec93e2096250",
            "71f65deb9aca469aafb5f163466cc458",
            "edbdcea427c34beb9d6f05eb14035585",
            "fa4c2ed721f347019b73d0bf06fedd77",
            "841c6cbef0f1458eac95e445f602c983",
            "63084c027c684aab8a29ca54d5d0151c",
            "0f8787ab483a4e419be0fd8e0a8a31b7",
            "f6d3a0ff575a492db26a7cbd0a2270b9",
            "7a23122c49eb4e04ba054abadde63830",
            "98a4fcaee0ff4c2984606521f233ca8a",
            "e177a0a6287045818aadd94055eb2989",
            "3592ea2b80e0434bb4b6dba532f14140",
            "f698ae1e78b14176a4a554a1d90ec0c7",
            "b165fb2fbf9a4a47b06a0cc0acc8fea8",
            "56587ab8c36b477789a27e0e0730df26",
            "1faa5cc75c834f1c9e83f4cbab742818",
            "f5c00e77e3444e3a92547f21f488e2fb",
            "0935923a249a45279a4a74a39da207a6",
            "45cfb26505764e30bdda3f1d052a54b8",
            "74b2dce81fcd4eb9b0193338916dd27d",
            "f0b05edc6ecb499a906dfdeb489247a5",
            "5bcf0defc52640e39bf5e28e3c9e0db9",
            "2ae6044fc2cd431fb15b058f181f1326",
            "a8a8b5561e3545fcae6575ac15eff5dd",
            "e400083db709439eb6fdde140a35e941",
            "4c276da13e3b4ab88656a6747947e338",
            "13cd5739f4c1484bb216b52b9ffd1c91",
            "ed0da65fc64d480587385bf711fce7e0",
            "27b035a730f1492db0f727b648bc7c79",
            "d9115013d9a4408385e21a4f31feb3f3",
            "408633691be34d228e88cbaf5ea46fe6",
            "09dc07a6a7b849549b5d2d69659be456",
            "53125d1f72674176a79b08ffe3f321ee",
            "875d81656f5b46968a8b32aafd124404",
            "9d1fab944fa44bd6a012fdae10213b8b",
            "3576f75594bf429db0cfa85e7385738f",
            "9a368513b4a2424da5671b995a3e81bd",
            "d2bd62c982d2476aac299be5196adf69",
            "897910cbe5f44becb3abfa581e19e240",
            "519598f8e41247ad81833747b30f22cc",
            "5651a876af4d47659ea0a0b781dbdf2e",
            "1a6ae6effda54c2b87449681ed8deb5d",
            "552d6ff441b647fcbc1a7ec305fe5e05",
            "8b39cbf2d67c4cee9f664b51ca6ce9b9",
            "2499ba3f4b0e44978ede3dc2ca9e6af2",
            "97f6ef0da40944e4b47980ac21982b0b",
            "2bad56ffb3df4c84bd5ef279799c7b72",
            "fbc5c94a5f394d6ca2f32e4c7583cbb8",
            "dcbcfd088f744156b7815e573e591755",
            "682014beaa074fe48208331a8f38725f",
            "896e6a9dc2ba46e78e6ec0859c755d40",
            "b047e36e6e994a838f513f399e4cce62",
            "16f8c9df0d86424999b40107e7ede44c",
            "e2d4910f15b24899aa481f2180ddf2d5",
            "b4a23a7d22e04f09a4fc99e81e350507",
            "3e5f2a8c1a2a4937ade7477325db7215",
            "8d1659e06176497ca63f5294e78967d5",
            "93a2512522cb4fa3a73c4e595fbf032f",
            "7b06741fd9bc405f87ee2f38919f4e8b",
            "a28125bd0d954c128b3ae889a9d066f2",
            "7afaef39a77f40ae9a5fcda6e006b4de",
            "ba2ac9396be84dcf80683367665f3c84",
            "ff937eab01fc4f5e840a1e59700a6b4a",
            "ab89cf5b7ce54e9195107a7315fbbbb3",
            "d586b7a2ca0b4fcc8943012a1b308640",
            "6464a1645b9e4c22861343a4dc24e3e7",
            "134bd0694be5424c8f6c285c58401631",
            "5f94c29c90be4ed9afe029919af8de3e",
            "8803b84b9696452eafa69517875fe810",
            "a79adb6658404cadbf44bf220c493952",
            "d4bbd417516d4b459026651624aa2b08",
            "52f4c90f5e4d42a9908e5cc2cb471da7",
            "b11b32edfefe4ff0a27a70cf55c38bdc",
            "825fde5245184df9b08bc8f9c3abf171",
            "f31051cd949f4ad0a435292098a7f939",
            "47586a4cc8a84322a87b97948fe926c1",
            "0c4a779609b44d8985722b2dbc0219ca",
            "d1ec88c5425c4b029807a808e39bbdb7",
            "4b6be28b48f244f98903e209ad0a8baf",
            "d5a6846472604d3189738d955abe5a69",
            "9ea2337652a6416dbeb9e8aee1955375",
            "d10674a97ee347a79ff9f92ddc01756e",
            "d0356334e3f7415a85908e4c7d408b76",
            "1ad20b9c9dac4346869af40bdf6cd3fb",
            "06be2eb3071345a8aec824a89af11a7c",
            "1b57d64befbc4e31b8f4a2b9ab4c8c1b",
            "5ab73533e0f04a9c9c7667b9be3c57b7",
            "6fffd92748724bbca82099ecb9ee1b61",
            "97d6752828fd43cf9c114cbb28d46e2d",
            "2c4e8a3597924b82a06fe871ebecfd66",
            "de1e7e0f79824dcbbcd680501610985b",
            "0f6ac37177054097ae3a53c98c67d1e0",
            "03d9ece92c34499f82633f7be9815223",
            "2fcd28ee2d674e63b3d0f2149388706c",
            "fa4916a2ed714743aa7c3a974eca2e76",
            "8dd0d26f8229448481d37dee14aab191",
            "f0914e8cee0b4a4a8cd93c8700fac731",
            "aa40de3cd5814c378bc30d1ca83d6c3c",
            "b245e3f1033642c48837d7e9b671dadc",
            "5a163e031ac84fbd8f6736cec531cf2a",
            "d0d578620a054cc7a8a5c326ef3052cd",
            "97230c0b42ef457098589907c2885d35",
            "537549377ce84044b0c16762aa706e14",
            "947cd14b69584ff188e3d8fd0c533ed9",
            "0d22c3f132f14c4f87808998cbfc44be",
            "00d4538dfb2a49f0889a3e2162c6ff33",
            "558cd58957ca48a5b88daa3f0613e18a",
            "6ede138ce4554ec89380827f59517cab",
            "5b7bc3ae9f4944628f8ea06c132f7ac0",
            "1183ae52e1d9446d858e2c6917178a38",
            "f2f60c00906647b4b2b01984712c207f",
            "af52b5b65dde46b79923af8eba373e28",
            "c6f09f97e6714ee8bac79eff5655d61c",
            "c297dd86e8b84bea8dcd84172360736d",
            "f98fcc1e690c414c96e8bfc7c6de82ef",
            "4ed6b0ccc5db4116bf7872cc7808d55b",
            "dd5b590da0c14a59912092a73e5b5d60",
            "4bb9dbaaf8ef4569979cdfd5c7e70812",
            "c167e0e64ac447c6aa9be01d2b1f1859",
            "9c325f36690f40b494469140a2a5d7bb",
            "884a6569a4e04d44b9d7857602593842",
            "164501a6d37d4f98817be5407764af02",
            "047b1dd04e624514b4add58f807919e6",
            "706b9da5102c4cc7ba691c5528c55b05",
            "ecb9c711b1354b3ca6cefbda6792767e",
            "966dec170d5e4f3c884d0f0d04680fc6",
            "d27fd0d512da4cce858e951e64399bc8",
            "d39a5bf9709b4c25a3c91fa1a0cad67d",
            "b5db3533239649b191ae849f2062d335",
            "f432059e170b4eab85a525ee38be5a2c",
            "154ccb2b572643f3b82596420ce2f2a3",
            "87c7c4207e004d5a96740618663d5120",
            "0a078d61e3ba4b6cb55ccccee3926aa3",
            "81d80cdaa83c4ce78e896c05fcd56ef1",
            "54fb347406a54b8eb47dee6a5135d126",
            "f7c856f598384d7ca9f9bbb6a0af5979",
            "64a9acd16f0b4e62bc3a10a600b34003",
            "302370a98ab54436974ad7ad9cd52774",
            "2f76916c02764f34afa0de0053ce5a01",
            "a9e27d32794149019eaae3a6302f8ce4",
            "23b329d0f39445d5ac4bc11c117e74a7",
            "de17d861f45c4478a33abdd13199e0dc",
            "91a260c6cb804bf191247fd5a39a7c09"
          ]
        },
        "id": "ad9cUf-Da8GR",
        "outputId": "56ba69ed-d47a-4b68-cb68-404942692cb8"
      },
      "outputs": [],
      "source": [
        "sweep_id_que8 = wandb.sweep(sweep_config_que8, project=\"DL_Assignment1\")\n",
        "wandb.agent(sweep_id_que8, train)\n",
        "wandb.finish()"
      ]
    },
    {
      "cell_type": "markdown",
      "metadata": {
        "id": "wXAI165uXsMM"
      },
      "source": [
        "# **Question 10**"
      ]
    },
    {
      "cell_type": "code",
      "execution_count": 52,
      "metadata": {
        "id": "JJ673aKUXsMN"
      },
      "outputs": [],
      "source": [
        "# Helper Function\n",
        "def train_model_on_mnist(PARAM_NEURAL_NETWORK, PARAM_OPTIMIZER, batch_size, epochs):\n",
        "    neural_network_mnist = Neural_Network(PARAM_NEURAL_NETWORK)\n",
        "    optimizer_mnist = Optimizer(neural_network_mnist, PARAM_OPTIMIZER)\n",
        "\n",
        "    my_model_mnist = Train_Model(neural_network_mnist, optimizer_mnist, log = 0, console = 0)\n",
        "    my_model_mnist.fit_data(batch_size, epochs)\n",
        "    loss, accuracy = my_model_mnist.compute_performance(my_model_mnist.neural_network.test_img, my_model_mnist.neural_network.test_true)\n",
        "    print(f\"Test Data Loss : {loss}, Test Data Accuracy : {accuracy}\")"
      ]
    },
    {
      "cell_type": "markdown",
      "metadata": {
        "id": "VOThnxgDkTPB"
      },
      "source": [
        "# Model-1"
      ]
    },
    {
      "cell_type": "code",
      "execution_count": 48,
      "metadata": {
        "id": "qis6rWJefVMf"
      },
      "outputs": [],
      "source": [
        "MODEL1_PARAM_NEURAL_NETWORK = {\n",
        "    \"hidden_layers\": 3,\n",
        "    \"hidden_layer_sizes\" : 32,\n",
        "    \"activation_function\": \"ReLU\", # sigmoid, tanh, ReLU\n",
        "    \"dataset\" : \"mnist\",\n",
        "    \"loss_function\" : \"cross_entropy\", # mean_squared_error, cross_entropy\n",
        "    \"init\" : \"Xavier\" #random, Xavier\n",
        "}\n",
        "\n",
        "MODEL1_PARAM_OPTIMIZER = {\n",
        "    \"eta\": 0.005,\n",
        "    \"optimizer\": \"sgd\", #sgd, momentum, adam, nadam, rmsprop, nag\n",
        "    \"beta\": 0.9,\n",
        "    \"weight_decay\": 1e-8,\n",
        "    \"epsilon\": 1e-6,\n",
        "    \"beta2\" : 0.999,\n",
        "    \"beta1\" : 0.999,\n",
        "    \"momentum\" : 0.9\n",
        "}\n"
      ]
    },
    {
      "cell_type": "markdown",
      "metadata": {
        "id": "2MRiAbaNkX_a"
      },
      "source": [
        "# Model - 2"
      ]
    },
    {
      "cell_type": "code",
      "execution_count": 49,
      "metadata": {
        "id": "pchtA7bkkbrZ"
      },
      "outputs": [],
      "source": [
        "MODEL2_PARAM_NEURAL_NETWORK = {\n",
        "    \"hidden_layers\": 3,\n",
        "    \"hidden_layer_sizes\" : 32,\n",
        "    \"activation_function\": \"ReLU\", # sigmoid, tanh, ReLU\n",
        "    \"dataset\" : \"mnist\",\n",
        "    \"loss_function\" : \"cross_entropy\", # mean_squared_error, cross_entropy\n",
        "    \"init\" : \"Xavier\" #random, Xavier\n",
        "}\n",
        "\n",
        "MODEL2_PARAM_OPTIMIZER = {\n",
        "    \"eta\": 0.001,\n",
        "    \"optimizer\": \"momentum\", #sgd, momentum, adam, nadam, rmsprop, nag\n",
        "    \"beta\": 0.9,\n",
        "    \"weight_decay\": 0,\n",
        "    \"epsilon\": 1e-8,\n",
        "    \"beta2\" : 0.999,\n",
        "    \"beta1\" : 0.999,\n",
        "    \"momentum\" : 0.9\n",
        "}\n"
      ]
    },
    {
      "cell_type": "markdown",
      "metadata": {
        "id": "tI_l-Z_Jki4B"
      },
      "source": [
        "# Model - 3"
      ]
    },
    {
      "cell_type": "code",
      "execution_count": 50,
      "metadata": {
        "id": "YnOn1-e2km7G"
      },
      "outputs": [],
      "source": [
        "MODEL3_PARAM_NEURAL_NETWORK = {\n",
        "    \"hidden_layers\": 4,\n",
        "    \"hidden_layer_sizes\" : 64,\n",
        "    \"activation_function\": \"ReLU\", # sigmoid, tanh, ReLU\n",
        "    \"dataset\" : \"mnist\",\n",
        "    \"loss_function\" : \"cross_entropy\", # mean_squared_error, cross_entropy\n",
        "    \"init\" : \"Xavier\" #random, Xavier\n",
        "}\n",
        "\n",
        "MODEL3_PARAM_OPTIMIZER = {\n",
        "    \"eta\": 0.001,\n",
        "    \"optimizer\": \"rmsprop\", #sgd, momentum, adam, nadam, rmsprop, nag\n",
        "    \"beta\": 0.9,\n",
        "    \"weight_decay\": 0,\n",
        "    \"epsilon\": 1e-8,\n",
        "    \"beta2\" : 0.999,\n",
        "    \"beta1\" : 0.999,\n",
        "    \"momentum\" : 0.9\n",
        "}"
      ]
    },
    {
      "cell_type": "markdown",
      "metadata": {
        "id": "TCTIXA8wkwF6"
      },
      "source": [
        "# Test Loss & Test Accuracy on MNIST_DATASET"
      ]
    },
    {
      "cell_type": "code",
      "execution_count": 53,
      "metadata": {
        "colab": {
          "base_uri": "https://localhost:8080/"
        },
        "id": "wghmaJLxj-hQ",
        "outputId": "62cb8e03-ff80-424e-fe9b-7f48a74ce8ab"
      },
      "outputs": [
        {
          "name": "stdout",
          "output_type": "stream",
          "text": [
            "Test Data Loss : 0.1838192928817245, Test Data Accuracy : 94.08999999999999\n"
          ]
        }
      ],
      "source": [
        "# Training different Models\n",
        "train_model_on_mnist(MODEL1_PARAM_NEURAL_NETWORK, MODEL1_PARAM_OPTIMIZER, 32, 10)\n",
        "train_model_on_mnist(MODEL2_PARAM_NEURAL_NETWORK, MODEL2_PARAM_OPTIMIZER, 32, 10)\n",
        "train_model_on_mnist(MODEL3_PARAM_NEURAL_NETWORK, MODEL3_PARAM_OPTIMIZER, 32, 10)\n"
      ]
    },
    {
      "cell_type": "code",
      "execution_count": null,
      "metadata": {
        "id": "wKQ4Ze_-jUH-"
      },
      "outputs": [],
      "source": []
    }
  ],
  "metadata": {
    "colab": {
      "provenance": []
    },
    "kernelspec": {
      "display_name": "Python 3",
      "language": "python",
      "name": "python3"
    },
    "language_info": {
      "codemirror_mode": {
        "name": "ipython",
        "version": 3
      },
      "file_extension": ".py",
      "mimetype": "text/x-python",
      "name": "python",
      "nbconvert_exporter": "python",
      "pygments_lexer": "ipython3",
      "version": "3.10.8"
    },
    "widgets": {
      "application/vnd.jupyter.widget-state+json": {
        "00135e99787a4991bc199301a7709a09": {
          "model_module": "@jupyter-widgets/base",
          "model_module_version": "1.2.0",
          "model_name": "LayoutModel",
          "state": {
            "_model_module": "@jupyter-widgets/base",
            "_model_module_version": "1.2.0",
            "_model_name": "LayoutModel",
            "_view_count": null,
            "_view_module": "@jupyter-widgets/base",
            "_view_module_version": "1.2.0",
            "_view_name": "LayoutView",
            "align_content": null,
            "align_items": null,
            "align_self": null,
            "border": null,
            "bottom": null,
            "display": null,
            "flex": null,
            "flex_flow": null,
            "grid_area": null,
            "grid_auto_columns": null,
            "grid_auto_flow": null,
            "grid_auto_rows": null,
            "grid_column": null,
            "grid_gap": null,
            "grid_row": null,
            "grid_template_areas": null,
            "grid_template_columns": null,
            "grid_template_rows": null,
            "height": null,
            "justify_content": null,
            "justify_items": null,
            "left": null,
            "margin": null,
            "max_height": null,
            "max_width": null,
            "min_height": null,
            "min_width": null,
            "object_fit": null,
            "object_position": null,
            "order": null,
            "overflow": null,
            "overflow_x": null,
            "overflow_y": null,
            "padding": null,
            "right": null,
            "top": null,
            "visibility": null,
            "width": null
          }
        },
        "00d4538dfb2a49f0889a3e2162c6ff33": {
          "model_module": "@jupyter-widgets/controls",
          "model_module_version": "1.5.0",
          "model_name": "FloatProgressModel",
          "state": {
            "_dom_classes": [],
            "_model_module": "@jupyter-widgets/controls",
            "_model_module_version": "1.5.0",
            "_model_name": "FloatProgressModel",
            "_view_count": null,
            "_view_module": "@jupyter-widgets/controls",
            "_view_module_version": "1.5.0",
            "_view_name": "ProgressView",
            "bar_style": "",
            "description": "",
            "description_tooltip": null,
            "layout": "IPY_MODEL_1183ae52e1d9446d858e2c6917178a38",
            "max": 1,
            "min": 0,
            "orientation": "horizontal",
            "style": "IPY_MODEL_f2f60c00906647b4b2b01984712c207f",
            "value": 1
          }
        },
        "0103972d97494398bd8f58c3db3905b6": {
          "model_module": "@jupyter-widgets/controls",
          "model_module_version": "1.5.0",
          "model_name": "LabelModel",
          "state": {
            "_dom_classes": [],
            "_model_module": "@jupyter-widgets/controls",
            "_model_module_version": "1.5.0",
            "_model_name": "LabelModel",
            "_view_count": null,
            "_view_module": "@jupyter-widgets/controls",
            "_view_module_version": "1.5.0",
            "_view_name": "LabelView",
            "description": "",
            "description_tooltip": null,
            "layout": "IPY_MODEL_fb420ffbe747437aaab1fd289db6044a",
            "placeholder": "​",
            "style": "IPY_MODEL_a02af15d865e412cbe58b267071cc9d7",
            "value": "Waiting for wandb.init()...\r"
          }
        },
        "03bf57c15cfb483b8bf638081654d722": {
          "model_module": "@jupyter-widgets/controls",
          "model_module_version": "1.5.0",
          "model_name": "LabelModel",
          "state": {
            "_dom_classes": [],
            "_model_module": "@jupyter-widgets/controls",
            "_model_module_version": "1.5.0",
            "_model_name": "LabelModel",
            "_view_count": null,
            "_view_module": "@jupyter-widgets/controls",
            "_view_module_version": "1.5.0",
            "_view_name": "LabelView",
            "description": "",
            "description_tooltip": null,
            "layout": "IPY_MODEL_a23a487d6daa43e38e1aa136cd46d8ef",
            "placeholder": "​",
            "style": "IPY_MODEL_fae6392f70ed401a8c5a3b444417320b",
            "value": "0.011 MB of 0.011 MB uploaded\r"
          }
        },
        "03d9ece92c34499f82633f7be9815223": {
          "model_module": "@jupyter-widgets/controls",
          "model_module_version": "1.5.0",
          "model_name": "DescriptionStyleModel",
          "state": {
            "_model_module": "@jupyter-widgets/controls",
            "_model_module_version": "1.5.0",
            "_model_name": "DescriptionStyleModel",
            "_view_count": null,
            "_view_module": "@jupyter-widgets/base",
            "_view_module_version": "1.2.0",
            "_view_name": "StyleView",
            "description_width": ""
          }
        },
        "047b1dd04e624514b4add58f807919e6": {
          "model_module": "@jupyter-widgets/base",
          "model_module_version": "1.2.0",
          "model_name": "LayoutModel",
          "state": {
            "_model_module": "@jupyter-widgets/base",
            "_model_module_version": "1.2.0",
            "_model_name": "LayoutModel",
            "_view_count": null,
            "_view_module": "@jupyter-widgets/base",
            "_view_module_version": "1.2.0",
            "_view_name": "LayoutView",
            "align_content": null,
            "align_items": null,
            "align_self": null,
            "border": null,
            "bottom": null,
            "display": null,
            "flex": null,
            "flex_flow": null,
            "grid_area": null,
            "grid_auto_columns": null,
            "grid_auto_flow": null,
            "grid_auto_rows": null,
            "grid_column": null,
            "grid_gap": null,
            "grid_row": null,
            "grid_template_areas": null,
            "grid_template_columns": null,
            "grid_template_rows": null,
            "height": null,
            "justify_content": null,
            "justify_items": null,
            "left": null,
            "margin": null,
            "max_height": null,
            "max_width": null,
            "min_height": null,
            "min_width": null,
            "object_fit": null,
            "object_position": null,
            "order": null,
            "overflow": null,
            "overflow_x": null,
            "overflow_y": null,
            "padding": null,
            "right": null,
            "top": null,
            "visibility": null,
            "width": null
          }
        },
        "06be2eb3071345a8aec824a89af11a7c": {
          "model_module": "@jupyter-widgets/controls",
          "model_module_version": "1.5.0",
          "model_name": "DescriptionStyleModel",
          "state": {
            "_model_module": "@jupyter-widgets/controls",
            "_model_module_version": "1.5.0",
            "_model_name": "DescriptionStyleModel",
            "_view_count": null,
            "_view_module": "@jupyter-widgets/base",
            "_view_module_version": "1.2.0",
            "_view_name": "StyleView",
            "description_width": ""
          }
        },
        "06dc920bc8e944eb8d19b1d571afa82d": {
          "model_module": "@jupyter-widgets/controls",
          "model_module_version": "1.5.0",
          "model_name": "VBoxModel",
          "state": {
            "_dom_classes": [],
            "_model_module": "@jupyter-widgets/controls",
            "_model_module_version": "1.5.0",
            "_model_name": "VBoxModel",
            "_view_count": null,
            "_view_module": "@jupyter-widgets/controls",
            "_view_module_version": "1.5.0",
            "_view_name": "VBoxView",
            "box_style": "",
            "children": [
              "IPY_MODEL_a5b1ba879ac34d26960b08bd631ce154",
              "IPY_MODEL_9981be95dfd948c08d86d27c07498bb9"
            ],
            "layout": "IPY_MODEL_9c30f1b6dbc74c3599eb16d3f4708eee"
          }
        },
        "073fed0022f64abaa58aee75dbc03459": {
          "model_module": "@jupyter-widgets/controls",
          "model_module_version": "1.5.0",
          "model_name": "DescriptionStyleModel",
          "state": {
            "_model_module": "@jupyter-widgets/controls",
            "_model_module_version": "1.5.0",
            "_model_name": "DescriptionStyleModel",
            "_view_count": null,
            "_view_module": "@jupyter-widgets/base",
            "_view_module_version": "1.2.0",
            "_view_name": "StyleView",
            "description_width": ""
          }
        },
        "08dd44fc9ad34561819a76c7c0791b25": {
          "model_module": "@jupyter-widgets/base",
          "model_module_version": "1.2.0",
          "model_name": "LayoutModel",
          "state": {
            "_model_module": "@jupyter-widgets/base",
            "_model_module_version": "1.2.0",
            "_model_name": "LayoutModel",
            "_view_count": null,
            "_view_module": "@jupyter-widgets/base",
            "_view_module_version": "1.2.0",
            "_view_name": "LayoutView",
            "align_content": null,
            "align_items": null,
            "align_self": null,
            "border": null,
            "bottom": null,
            "display": null,
            "flex": null,
            "flex_flow": null,
            "grid_area": null,
            "grid_auto_columns": null,
            "grid_auto_flow": null,
            "grid_auto_rows": null,
            "grid_column": null,
            "grid_gap": null,
            "grid_row": null,
            "grid_template_areas": null,
            "grid_template_columns": null,
            "grid_template_rows": null,
            "height": null,
            "justify_content": null,
            "justify_items": null,
            "left": null,
            "margin": null,
            "max_height": null,
            "max_width": null,
            "min_height": null,
            "min_width": null,
            "object_fit": null,
            "object_position": null,
            "order": null,
            "overflow": null,
            "overflow_x": null,
            "overflow_y": null,
            "padding": null,
            "right": null,
            "top": null,
            "visibility": null,
            "width": null
          }
        },
        "0935923a249a45279a4a74a39da207a6": {
          "model_module": "@jupyter-widgets/controls",
          "model_module_version": "1.5.0",
          "model_name": "FloatProgressModel",
          "state": {
            "_dom_classes": [],
            "_model_module": "@jupyter-widgets/controls",
            "_model_module_version": "1.5.0",
            "_model_name": "FloatProgressModel",
            "_view_count": null,
            "_view_module": "@jupyter-widgets/controls",
            "_view_module_version": "1.5.0",
            "_view_name": "ProgressView",
            "bar_style": "",
            "description": "",
            "description_tooltip": null,
            "layout": "IPY_MODEL_5bcf0defc52640e39bf5e28e3c9e0db9",
            "max": 1,
            "min": 0,
            "orientation": "horizontal",
            "style": "IPY_MODEL_2ae6044fc2cd431fb15b058f181f1326",
            "value": 1
          }
        },
        "09dc07a6a7b849549b5d2d69659be456": {
          "model_module": "@jupyter-widgets/controls",
          "model_module_version": "1.5.0",
          "model_name": "VBoxModel",
          "state": {
            "_dom_classes": [],
            "_model_module": "@jupyter-widgets/controls",
            "_model_module_version": "1.5.0",
            "_model_name": "VBoxModel",
            "_view_count": null,
            "_view_module": "@jupyter-widgets/controls",
            "_view_module_version": "1.5.0",
            "_view_name": "VBoxView",
            "box_style": "",
            "children": [
              "IPY_MODEL_53125d1f72674176a79b08ffe3f321ee",
              "IPY_MODEL_875d81656f5b46968a8b32aafd124404"
            ],
            "layout": "IPY_MODEL_9d1fab944fa44bd6a012fdae10213b8b"
          }
        },
        "0a078d61e3ba4b6cb55ccccee3926aa3": {
          "model_module": "@jupyter-widgets/controls",
          "model_module_version": "1.5.0",
          "model_name": "DescriptionStyleModel",
          "state": {
            "_model_module": "@jupyter-widgets/controls",
            "_model_module_version": "1.5.0",
            "_model_name": "DescriptionStyleModel",
            "_view_count": null,
            "_view_module": "@jupyter-widgets/base",
            "_view_module_version": "1.2.0",
            "_view_name": "StyleView",
            "description_width": ""
          }
        },
        "0c4a779609b44d8985722b2dbc0219ca": {
          "model_module": "@jupyter-widgets/controls",
          "model_module_version": "1.5.0",
          "model_name": "DescriptionStyleModel",
          "state": {
            "_model_module": "@jupyter-widgets/controls",
            "_model_module_version": "1.5.0",
            "_model_name": "DescriptionStyleModel",
            "_view_count": null,
            "_view_module": "@jupyter-widgets/base",
            "_view_module_version": "1.2.0",
            "_view_name": "StyleView",
            "description_width": ""
          }
        },
        "0d22c3f132f14c4f87808998cbfc44be": {
          "model_module": "@jupyter-widgets/controls",
          "model_module_version": "1.5.0",
          "model_name": "LabelModel",
          "state": {
            "_dom_classes": [],
            "_model_module": "@jupyter-widgets/controls",
            "_model_module_version": "1.5.0",
            "_model_name": "LabelModel",
            "_view_count": null,
            "_view_module": "@jupyter-widgets/controls",
            "_view_module_version": "1.5.0",
            "_view_name": "LabelView",
            "description": "",
            "description_tooltip": null,
            "layout": "IPY_MODEL_6ede138ce4554ec89380827f59517cab",
            "placeholder": "​",
            "style": "IPY_MODEL_5b7bc3ae9f4944628f8ea06c132f7ac0",
            "value": "0.011 MB of 0.011 MB uploaded\r"
          }
        },
        "0f6ac37177054097ae3a53c98c67d1e0": {
          "model_module": "@jupyter-widgets/base",
          "model_module_version": "1.2.0",
          "model_name": "LayoutModel",
          "state": {
            "_model_module": "@jupyter-widgets/base",
            "_model_module_version": "1.2.0",
            "_model_name": "LayoutModel",
            "_view_count": null,
            "_view_module": "@jupyter-widgets/base",
            "_view_module_version": "1.2.0",
            "_view_name": "LayoutView",
            "align_content": null,
            "align_items": null,
            "align_self": null,
            "border": null,
            "bottom": null,
            "display": null,
            "flex": null,
            "flex_flow": null,
            "grid_area": null,
            "grid_auto_columns": null,
            "grid_auto_flow": null,
            "grid_auto_rows": null,
            "grid_column": null,
            "grid_gap": null,
            "grid_row": null,
            "grid_template_areas": null,
            "grid_template_columns": null,
            "grid_template_rows": null,
            "height": null,
            "justify_content": null,
            "justify_items": null,
            "left": null,
            "margin": null,
            "max_height": null,
            "max_width": null,
            "min_height": null,
            "min_width": null,
            "object_fit": null,
            "object_position": null,
            "order": null,
            "overflow": null,
            "overflow_x": null,
            "overflow_y": null,
            "padding": null,
            "right": null,
            "top": null,
            "visibility": null,
            "width": null
          }
        },
        "0f8787ab483a4e419be0fd8e0a8a31b7": {
          "model_module": "@jupyter-widgets/controls",
          "model_module_version": "1.5.0",
          "model_name": "ProgressStyleModel",
          "state": {
            "_model_module": "@jupyter-widgets/controls",
            "_model_module_version": "1.5.0",
            "_model_name": "ProgressStyleModel",
            "_view_count": null,
            "_view_module": "@jupyter-widgets/base",
            "_view_module_version": "1.2.0",
            "_view_name": "StyleView",
            "bar_color": null,
            "description_width": ""
          }
        },
        "1183ae52e1d9446d858e2c6917178a38": {
          "model_module": "@jupyter-widgets/base",
          "model_module_version": "1.2.0",
          "model_name": "LayoutModel",
          "state": {
            "_model_module": "@jupyter-widgets/base",
            "_model_module_version": "1.2.0",
            "_model_name": "LayoutModel",
            "_view_count": null,
            "_view_module": "@jupyter-widgets/base",
            "_view_module_version": "1.2.0",
            "_view_name": "LayoutView",
            "align_content": null,
            "align_items": null,
            "align_self": null,
            "border": null,
            "bottom": null,
            "display": null,
            "flex": null,
            "flex_flow": null,
            "grid_area": null,
            "grid_auto_columns": null,
            "grid_auto_flow": null,
            "grid_auto_rows": null,
            "grid_column": null,
            "grid_gap": null,
            "grid_row": null,
            "grid_template_areas": null,
            "grid_template_columns": null,
            "grid_template_rows": null,
            "height": null,
            "justify_content": null,
            "justify_items": null,
            "left": null,
            "margin": null,
            "max_height": null,
            "max_width": null,
            "min_height": null,
            "min_width": null,
            "object_fit": null,
            "object_position": null,
            "order": null,
            "overflow": null,
            "overflow_x": null,
            "overflow_y": null,
            "padding": null,
            "right": null,
            "top": null,
            "visibility": null,
            "width": null
          }
        },
        "12f0324e8ded4a1f92c59a95f0592810": {
          "model_module": "@jupyter-widgets/controls",
          "model_module_version": "1.5.0",
          "model_name": "ProgressStyleModel",
          "state": {
            "_model_module": "@jupyter-widgets/controls",
            "_model_module_version": "1.5.0",
            "_model_name": "ProgressStyleModel",
            "_view_count": null,
            "_view_module": "@jupyter-widgets/base",
            "_view_module_version": "1.2.0",
            "_view_name": "StyleView",
            "bar_color": null,
            "description_width": ""
          }
        },
        "134bd0694be5424c8f6c285c58401631": {
          "model_module": "@jupyter-widgets/base",
          "model_module_version": "1.2.0",
          "model_name": "LayoutModel",
          "state": {
            "_model_module": "@jupyter-widgets/base",
            "_model_module_version": "1.2.0",
            "_model_name": "LayoutModel",
            "_view_count": null,
            "_view_module": "@jupyter-widgets/base",
            "_view_module_version": "1.2.0",
            "_view_name": "LayoutView",
            "align_content": null,
            "align_items": null,
            "align_self": null,
            "border": null,
            "bottom": null,
            "display": null,
            "flex": null,
            "flex_flow": null,
            "grid_area": null,
            "grid_auto_columns": null,
            "grid_auto_flow": null,
            "grid_auto_rows": null,
            "grid_column": null,
            "grid_gap": null,
            "grid_row": null,
            "grid_template_areas": null,
            "grid_template_columns": null,
            "grid_template_rows": null,
            "height": null,
            "justify_content": null,
            "justify_items": null,
            "left": null,
            "margin": null,
            "max_height": null,
            "max_width": null,
            "min_height": null,
            "min_width": null,
            "object_fit": null,
            "object_position": null,
            "order": null,
            "overflow": null,
            "overflow_x": null,
            "overflow_y": null,
            "padding": null,
            "right": null,
            "top": null,
            "visibility": null,
            "width": null
          }
        },
        "13cd5739f4c1484bb216b52b9ffd1c91": {
          "model_module": "@jupyter-widgets/base",
          "model_module_version": "1.2.0",
          "model_name": "LayoutModel",
          "state": {
            "_model_module": "@jupyter-widgets/base",
            "_model_module_version": "1.2.0",
            "_model_name": "LayoutModel",
            "_view_count": null,
            "_view_module": "@jupyter-widgets/base",
            "_view_module_version": "1.2.0",
            "_view_name": "LayoutView",
            "align_content": null,
            "align_items": null,
            "align_self": null,
            "border": null,
            "bottom": null,
            "display": null,
            "flex": null,
            "flex_flow": null,
            "grid_area": null,
            "grid_auto_columns": null,
            "grid_auto_flow": null,
            "grid_auto_rows": null,
            "grid_column": null,
            "grid_gap": null,
            "grid_row": null,
            "grid_template_areas": null,
            "grid_template_columns": null,
            "grid_template_rows": null,
            "height": null,
            "justify_content": null,
            "justify_items": null,
            "left": null,
            "margin": null,
            "max_height": null,
            "max_width": null,
            "min_height": null,
            "min_width": null,
            "object_fit": null,
            "object_position": null,
            "order": null,
            "overflow": null,
            "overflow_x": null,
            "overflow_y": null,
            "padding": null,
            "right": null,
            "top": null,
            "visibility": null,
            "width": null
          }
        },
        "141fd9a8d7344d2da257ece42a435d49": {
          "model_module": "@jupyter-widgets/base",
          "model_module_version": "1.2.0",
          "model_name": "LayoutModel",
          "state": {
            "_model_module": "@jupyter-widgets/base",
            "_model_module_version": "1.2.0",
            "_model_name": "LayoutModel",
            "_view_count": null,
            "_view_module": "@jupyter-widgets/base",
            "_view_module_version": "1.2.0",
            "_view_name": "LayoutView",
            "align_content": null,
            "align_items": null,
            "align_self": null,
            "border": null,
            "bottom": null,
            "display": null,
            "flex": null,
            "flex_flow": null,
            "grid_area": null,
            "grid_auto_columns": null,
            "grid_auto_flow": null,
            "grid_auto_rows": null,
            "grid_column": null,
            "grid_gap": null,
            "grid_row": null,
            "grid_template_areas": null,
            "grid_template_columns": null,
            "grid_template_rows": null,
            "height": null,
            "justify_content": null,
            "justify_items": null,
            "left": null,
            "margin": null,
            "max_height": null,
            "max_width": null,
            "min_height": null,
            "min_width": null,
            "object_fit": null,
            "object_position": null,
            "order": null,
            "overflow": null,
            "overflow_x": null,
            "overflow_y": null,
            "padding": null,
            "right": null,
            "top": null,
            "visibility": null,
            "width": null
          }
        },
        "154ccb2b572643f3b82596420ce2f2a3": {
          "model_module": "@jupyter-widgets/base",
          "model_module_version": "1.2.0",
          "model_name": "LayoutModel",
          "state": {
            "_model_module": "@jupyter-widgets/base",
            "_model_module_version": "1.2.0",
            "_model_name": "LayoutModel",
            "_view_count": null,
            "_view_module": "@jupyter-widgets/base",
            "_view_module_version": "1.2.0",
            "_view_name": "LayoutView",
            "align_content": null,
            "align_items": null,
            "align_self": null,
            "border": null,
            "bottom": null,
            "display": null,
            "flex": null,
            "flex_flow": null,
            "grid_area": null,
            "grid_auto_columns": null,
            "grid_auto_flow": null,
            "grid_auto_rows": null,
            "grid_column": null,
            "grid_gap": null,
            "grid_row": null,
            "grid_template_areas": null,
            "grid_template_columns": null,
            "grid_template_rows": null,
            "height": null,
            "justify_content": null,
            "justify_items": null,
            "left": null,
            "margin": null,
            "max_height": null,
            "max_width": null,
            "min_height": null,
            "min_width": null,
            "object_fit": null,
            "object_position": null,
            "order": null,
            "overflow": null,
            "overflow_x": null,
            "overflow_y": null,
            "padding": null,
            "right": null,
            "top": null,
            "visibility": null,
            "width": null
          }
        },
        "164501a6d37d4f98817be5407764af02": {
          "model_module": "@jupyter-widgets/controls",
          "model_module_version": "1.5.0",
          "model_name": "FloatProgressModel",
          "state": {
            "_dom_classes": [],
            "_model_module": "@jupyter-widgets/controls",
            "_model_module_version": "1.5.0",
            "_model_name": "FloatProgressModel",
            "_view_count": null,
            "_view_module": "@jupyter-widgets/controls",
            "_view_module_version": "1.5.0",
            "_view_name": "ProgressView",
            "bar_style": "",
            "description": "",
            "description_tooltip": null,
            "layout": "IPY_MODEL_966dec170d5e4f3c884d0f0d04680fc6",
            "max": 1,
            "min": 0,
            "orientation": "horizontal",
            "style": "IPY_MODEL_d27fd0d512da4cce858e951e64399bc8",
            "value": 1
          }
        },
        "16f1efe7498a47c2a8cbc52508af84f2": {
          "model_module": "@jupyter-widgets/controls",
          "model_module_version": "1.5.0",
          "model_name": "VBoxModel",
          "state": {
            "_dom_classes": [],
            "_model_module": "@jupyter-widgets/controls",
            "_model_module_version": "1.5.0",
            "_model_name": "VBoxModel",
            "_view_count": null,
            "_view_module": "@jupyter-widgets/controls",
            "_view_module_version": "1.5.0",
            "_view_name": "VBoxView",
            "box_style": "",
            "children": [
              "IPY_MODEL_babe2f3bf21f45658755ccff41d15ff0",
              "IPY_MODEL_b0745496d77c48eabef0c570482c3cd6"
            ],
            "layout": "IPY_MODEL_d05830a9267b40f8a05b3d9cc0d6347d"
          }
        },
        "16f8c9df0d86424999b40107e7ede44c": {
          "model_module": "@jupyter-widgets/controls",
          "model_module_version": "1.5.0",
          "model_name": "DescriptionStyleModel",
          "state": {
            "_model_module": "@jupyter-widgets/controls",
            "_model_module_version": "1.5.0",
            "_model_name": "DescriptionStyleModel",
            "_view_count": null,
            "_view_module": "@jupyter-widgets/base",
            "_view_module_version": "1.2.0",
            "_view_name": "StyleView",
            "description_width": ""
          }
        },
        "1a6ae6effda54c2b87449681ed8deb5d": {
          "model_module": "@jupyter-widgets/controls",
          "model_module_version": "1.5.0",
          "model_name": "FloatProgressModel",
          "state": {
            "_dom_classes": [],
            "_model_module": "@jupyter-widgets/controls",
            "_model_module_version": "1.5.0",
            "_model_name": "FloatProgressModel",
            "_view_count": null,
            "_view_module": "@jupyter-widgets/controls",
            "_view_module_version": "1.5.0",
            "_view_name": "ProgressView",
            "bar_style": "",
            "description": "",
            "description_tooltip": null,
            "layout": "IPY_MODEL_97f6ef0da40944e4b47980ac21982b0b",
            "max": 1,
            "min": 0,
            "orientation": "horizontal",
            "style": "IPY_MODEL_2bad56ffb3df4c84bd5ef279799c7b72",
            "value": 1
          }
        },
        "1ad20b9c9dac4346869af40bdf6cd3fb": {
          "model_module": "@jupyter-widgets/base",
          "model_module_version": "1.2.0",
          "model_name": "LayoutModel",
          "state": {
            "_model_module": "@jupyter-widgets/base",
            "_model_module_version": "1.2.0",
            "_model_name": "LayoutModel",
            "_view_count": null,
            "_view_module": "@jupyter-widgets/base",
            "_view_module_version": "1.2.0",
            "_view_name": "LayoutView",
            "align_content": null,
            "align_items": null,
            "align_self": null,
            "border": null,
            "bottom": null,
            "display": null,
            "flex": null,
            "flex_flow": null,
            "grid_area": null,
            "grid_auto_columns": null,
            "grid_auto_flow": null,
            "grid_auto_rows": null,
            "grid_column": null,
            "grid_gap": null,
            "grid_row": null,
            "grid_template_areas": null,
            "grid_template_columns": null,
            "grid_template_rows": null,
            "height": null,
            "justify_content": null,
            "justify_items": null,
            "left": null,
            "margin": null,
            "max_height": null,
            "max_width": null,
            "min_height": null,
            "min_width": null,
            "object_fit": null,
            "object_position": null,
            "order": null,
            "overflow": null,
            "overflow_x": null,
            "overflow_y": null,
            "padding": null,
            "right": null,
            "top": null,
            "visibility": null,
            "width": null
          }
        },
        "1b57d64befbc4e31b8f4a2b9ab4c8c1b": {
          "model_module": "@jupyter-widgets/base",
          "model_module_version": "1.2.0",
          "model_name": "LayoutModel",
          "state": {
            "_model_module": "@jupyter-widgets/base",
            "_model_module_version": "1.2.0",
            "_model_name": "LayoutModel",
            "_view_count": null,
            "_view_module": "@jupyter-widgets/base",
            "_view_module_version": "1.2.0",
            "_view_name": "LayoutView",
            "align_content": null,
            "align_items": null,
            "align_self": null,
            "border": null,
            "bottom": null,
            "display": null,
            "flex": null,
            "flex_flow": null,
            "grid_area": null,
            "grid_auto_columns": null,
            "grid_auto_flow": null,
            "grid_auto_rows": null,
            "grid_column": null,
            "grid_gap": null,
            "grid_row": null,
            "grid_template_areas": null,
            "grid_template_columns": null,
            "grid_template_rows": null,
            "height": null,
            "justify_content": null,
            "justify_items": null,
            "left": null,
            "margin": null,
            "max_height": null,
            "max_width": null,
            "min_height": null,
            "min_width": null,
            "object_fit": null,
            "object_position": null,
            "order": null,
            "overflow": null,
            "overflow_x": null,
            "overflow_y": null,
            "padding": null,
            "right": null,
            "top": null,
            "visibility": null,
            "width": null
          }
        },
        "1faa5cc75c834f1c9e83f4cbab742818": {
          "model_module": "@jupyter-widgets/controls",
          "model_module_version": "1.5.0",
          "model_name": "VBoxModel",
          "state": {
            "_dom_classes": [],
            "_model_module": "@jupyter-widgets/controls",
            "_model_module_version": "1.5.0",
            "_model_name": "VBoxModel",
            "_view_count": null,
            "_view_module": "@jupyter-widgets/controls",
            "_view_module_version": "1.5.0",
            "_view_name": "VBoxView",
            "box_style": "",
            "children": [
              "IPY_MODEL_f5c00e77e3444e3a92547f21f488e2fb",
              "IPY_MODEL_0935923a249a45279a4a74a39da207a6"
            ],
            "layout": "IPY_MODEL_45cfb26505764e30bdda3f1d052a54b8"
          }
        },
        "23b329d0f39445d5ac4bc11c117e74a7": {
          "model_module": "@jupyter-widgets/controls",
          "model_module_version": "1.5.0",
          "model_name": "DescriptionStyleModel",
          "state": {
            "_model_module": "@jupyter-widgets/controls",
            "_model_module_version": "1.5.0",
            "_model_name": "DescriptionStyleModel",
            "_view_count": null,
            "_view_module": "@jupyter-widgets/base",
            "_view_module_version": "1.2.0",
            "_view_name": "StyleView",
            "description_width": ""
          }
        },
        "243dca27172840acabf4dbda75251f77": {
          "model_module": "@jupyter-widgets/controls",
          "model_module_version": "1.5.0",
          "model_name": "ProgressStyleModel",
          "state": {
            "_model_module": "@jupyter-widgets/controls",
            "_model_module_version": "1.5.0",
            "_model_name": "ProgressStyleModel",
            "_view_count": null,
            "_view_module": "@jupyter-widgets/base",
            "_view_module_version": "1.2.0",
            "_view_name": "StyleView",
            "bar_color": null,
            "description_width": ""
          }
        },
        "2499ba3f4b0e44978ede3dc2ca9e6af2": {
          "model_module": "@jupyter-widgets/controls",
          "model_module_version": "1.5.0",
          "model_name": "DescriptionStyleModel",
          "state": {
            "_model_module": "@jupyter-widgets/controls",
            "_model_module_version": "1.5.0",
            "_model_name": "DescriptionStyleModel",
            "_view_count": null,
            "_view_module": "@jupyter-widgets/base",
            "_view_module_version": "1.2.0",
            "_view_name": "StyleView",
            "description_width": ""
          }
        },
        "27b035a730f1492db0f727b648bc7c79": {
          "model_module": "@jupyter-widgets/controls",
          "model_module_version": "1.5.0",
          "model_name": "DescriptionStyleModel",
          "state": {
            "_model_module": "@jupyter-widgets/controls",
            "_model_module_version": "1.5.0",
            "_model_name": "DescriptionStyleModel",
            "_view_count": null,
            "_view_module": "@jupyter-widgets/base",
            "_view_module_version": "1.2.0",
            "_view_name": "StyleView",
            "description_width": ""
          }
        },
        "2ae6044fc2cd431fb15b058f181f1326": {
          "model_module": "@jupyter-widgets/controls",
          "model_module_version": "1.5.0",
          "model_name": "ProgressStyleModel",
          "state": {
            "_model_module": "@jupyter-widgets/controls",
            "_model_module_version": "1.5.0",
            "_model_name": "ProgressStyleModel",
            "_view_count": null,
            "_view_module": "@jupyter-widgets/base",
            "_view_module_version": "1.2.0",
            "_view_name": "StyleView",
            "bar_color": null,
            "description_width": ""
          }
        },
        "2bad56ffb3df4c84bd5ef279799c7b72": {
          "model_module": "@jupyter-widgets/controls",
          "model_module_version": "1.5.0",
          "model_name": "ProgressStyleModel",
          "state": {
            "_model_module": "@jupyter-widgets/controls",
            "_model_module_version": "1.5.0",
            "_model_name": "ProgressStyleModel",
            "_view_count": null,
            "_view_module": "@jupyter-widgets/base",
            "_view_module_version": "1.2.0",
            "_view_name": "StyleView",
            "bar_color": null,
            "description_width": ""
          }
        },
        "2c371e94a178422ea57c67c570a4f598": {
          "model_module": "@jupyter-widgets/base",
          "model_module_version": "1.2.0",
          "model_name": "LayoutModel",
          "state": {
            "_model_module": "@jupyter-widgets/base",
            "_model_module_version": "1.2.0",
            "_model_name": "LayoutModel",
            "_view_count": null,
            "_view_module": "@jupyter-widgets/base",
            "_view_module_version": "1.2.0",
            "_view_name": "LayoutView",
            "align_content": null,
            "align_items": null,
            "align_self": null,
            "border": null,
            "bottom": null,
            "display": null,
            "flex": null,
            "flex_flow": null,
            "grid_area": null,
            "grid_auto_columns": null,
            "grid_auto_flow": null,
            "grid_auto_rows": null,
            "grid_column": null,
            "grid_gap": null,
            "grid_row": null,
            "grid_template_areas": null,
            "grid_template_columns": null,
            "grid_template_rows": null,
            "height": null,
            "justify_content": null,
            "justify_items": null,
            "left": null,
            "margin": null,
            "max_height": null,
            "max_width": null,
            "min_height": null,
            "min_width": null,
            "object_fit": null,
            "object_position": null,
            "order": null,
            "overflow": null,
            "overflow_x": null,
            "overflow_y": null,
            "padding": null,
            "right": null,
            "top": null,
            "visibility": null,
            "width": null
          }
        },
        "2c4e8a3597924b82a06fe871ebecfd66": {
          "model_module": "@jupyter-widgets/controls",
          "model_module_version": "1.5.0",
          "model_name": "FloatProgressModel",
          "state": {
            "_dom_classes": [],
            "_model_module": "@jupyter-widgets/controls",
            "_model_module_version": "1.5.0",
            "_model_name": "FloatProgressModel",
            "_view_count": null,
            "_view_module": "@jupyter-widgets/controls",
            "_view_module_version": "1.5.0",
            "_view_name": "ProgressView",
            "bar_style": "",
            "description": "",
            "description_tooltip": null,
            "layout": "IPY_MODEL_2fcd28ee2d674e63b3d0f2149388706c",
            "max": 1,
            "min": 0,
            "orientation": "horizontal",
            "style": "IPY_MODEL_fa4916a2ed714743aa7c3a974eca2e76",
            "value": 1
          }
        },
        "2f76916c02764f34afa0de0053ce5a01": {
          "model_module": "@jupyter-widgets/base",
          "model_module_version": "1.2.0",
          "model_name": "LayoutModel",
          "state": {
            "_model_module": "@jupyter-widgets/base",
            "_model_module_version": "1.2.0",
            "_model_name": "LayoutModel",
            "_view_count": null,
            "_view_module": "@jupyter-widgets/base",
            "_view_module_version": "1.2.0",
            "_view_name": "LayoutView",
            "align_content": null,
            "align_items": null,
            "align_self": null,
            "border": null,
            "bottom": null,
            "display": null,
            "flex": null,
            "flex_flow": null,
            "grid_area": null,
            "grid_auto_columns": null,
            "grid_auto_flow": null,
            "grid_auto_rows": null,
            "grid_column": null,
            "grid_gap": null,
            "grid_row": null,
            "grid_template_areas": null,
            "grid_template_columns": null,
            "grid_template_rows": null,
            "height": null,
            "justify_content": null,
            "justify_items": null,
            "left": null,
            "margin": null,
            "max_height": null,
            "max_width": null,
            "min_height": null,
            "min_width": null,
            "object_fit": null,
            "object_position": null,
            "order": null,
            "overflow": null,
            "overflow_x": null,
            "overflow_y": null,
            "padding": null,
            "right": null,
            "top": null,
            "visibility": null,
            "width": null
          }
        },
        "2fcd28ee2d674e63b3d0f2149388706c": {
          "model_module": "@jupyter-widgets/base",
          "model_module_version": "1.2.0",
          "model_name": "LayoutModel",
          "state": {
            "_model_module": "@jupyter-widgets/base",
            "_model_module_version": "1.2.0",
            "_model_name": "LayoutModel",
            "_view_count": null,
            "_view_module": "@jupyter-widgets/base",
            "_view_module_version": "1.2.0",
            "_view_name": "LayoutView",
            "align_content": null,
            "align_items": null,
            "align_self": null,
            "border": null,
            "bottom": null,
            "display": null,
            "flex": null,
            "flex_flow": null,
            "grid_area": null,
            "grid_auto_columns": null,
            "grid_auto_flow": null,
            "grid_auto_rows": null,
            "grid_column": null,
            "grid_gap": null,
            "grid_row": null,
            "grid_template_areas": null,
            "grid_template_columns": null,
            "grid_template_rows": null,
            "height": null,
            "justify_content": null,
            "justify_items": null,
            "left": null,
            "margin": null,
            "max_height": null,
            "max_width": null,
            "min_height": null,
            "min_width": null,
            "object_fit": null,
            "object_position": null,
            "order": null,
            "overflow": null,
            "overflow_x": null,
            "overflow_y": null,
            "padding": null,
            "right": null,
            "top": null,
            "visibility": null,
            "width": null
          }
        },
        "302370a98ab54436974ad7ad9cd52774": {
          "model_module": "@jupyter-widgets/controls",
          "model_module_version": "1.5.0",
          "model_name": "FloatProgressModel",
          "state": {
            "_dom_classes": [],
            "_model_module": "@jupyter-widgets/controls",
            "_model_module_version": "1.5.0",
            "_model_name": "FloatProgressModel",
            "_view_count": null,
            "_view_module": "@jupyter-widgets/controls",
            "_view_module_version": "1.5.0",
            "_view_name": "ProgressView",
            "bar_style": "",
            "description": "",
            "description_tooltip": null,
            "layout": "IPY_MODEL_de17d861f45c4478a33abdd13199e0dc",
            "max": 1,
            "min": 0,
            "orientation": "horizontal",
            "style": "IPY_MODEL_91a260c6cb804bf191247fd5a39a7c09",
            "value": 1
          }
        },
        "32909804a3a84464b18f9e530de0a565": {
          "model_module": "@jupyter-widgets/controls",
          "model_module_version": "1.5.0",
          "model_name": "VBoxModel",
          "state": {
            "_dom_classes": [],
            "_model_module": "@jupyter-widgets/controls",
            "_model_module_version": "1.5.0",
            "_model_name": "VBoxModel",
            "_view_count": null,
            "_view_module": "@jupyter-widgets/controls",
            "_view_module_version": "1.5.0",
            "_view_name": "VBoxView",
            "box_style": "",
            "children": [
              "IPY_MODEL_50a8481379594abc9cc305dd049dca10",
              "IPY_MODEL_539639025efd4b6099e9d6b4ba057663"
            ],
            "layout": "IPY_MODEL_00135e99787a4991bc199301a7709a09"
          }
        },
        "3576f75594bf429db0cfa85e7385738f": {
          "model_module": "@jupyter-widgets/base",
          "model_module_version": "1.2.0",
          "model_name": "LayoutModel",
          "state": {
            "_model_module": "@jupyter-widgets/base",
            "_model_module_version": "1.2.0",
            "_model_name": "LayoutModel",
            "_view_count": null,
            "_view_module": "@jupyter-widgets/base",
            "_view_module_version": "1.2.0",
            "_view_name": "LayoutView",
            "align_content": null,
            "align_items": null,
            "align_self": null,
            "border": null,
            "bottom": null,
            "display": null,
            "flex": null,
            "flex_flow": null,
            "grid_area": null,
            "grid_auto_columns": null,
            "grid_auto_flow": null,
            "grid_auto_rows": null,
            "grid_column": null,
            "grid_gap": null,
            "grid_row": null,
            "grid_template_areas": null,
            "grid_template_columns": null,
            "grid_template_rows": null,
            "height": null,
            "justify_content": null,
            "justify_items": null,
            "left": null,
            "margin": null,
            "max_height": null,
            "max_width": null,
            "min_height": null,
            "min_width": null,
            "object_fit": null,
            "object_position": null,
            "order": null,
            "overflow": null,
            "overflow_x": null,
            "overflow_y": null,
            "padding": null,
            "right": null,
            "top": null,
            "visibility": null,
            "width": null
          }
        },
        "3592ea2b80e0434bb4b6dba532f14140": {
          "model_module": "@jupyter-widgets/base",
          "model_module_version": "1.2.0",
          "model_name": "LayoutModel",
          "state": {
            "_model_module": "@jupyter-widgets/base",
            "_model_module_version": "1.2.0",
            "_model_name": "LayoutModel",
            "_view_count": null,
            "_view_module": "@jupyter-widgets/base",
            "_view_module_version": "1.2.0",
            "_view_name": "LayoutView",
            "align_content": null,
            "align_items": null,
            "align_self": null,
            "border": null,
            "bottom": null,
            "display": null,
            "flex": null,
            "flex_flow": null,
            "grid_area": null,
            "grid_auto_columns": null,
            "grid_auto_flow": null,
            "grid_auto_rows": null,
            "grid_column": null,
            "grid_gap": null,
            "grid_row": null,
            "grid_template_areas": null,
            "grid_template_columns": null,
            "grid_template_rows": null,
            "height": null,
            "justify_content": null,
            "justify_items": null,
            "left": null,
            "margin": null,
            "max_height": null,
            "max_width": null,
            "min_height": null,
            "min_width": null,
            "object_fit": null,
            "object_position": null,
            "order": null,
            "overflow": null,
            "overflow_x": null,
            "overflow_y": null,
            "padding": null,
            "right": null,
            "top": null,
            "visibility": null,
            "width": null
          }
        },
        "3745f9af8b7a414cb9f9932013e78820": {
          "model_module": "@jupyter-widgets/controls",
          "model_module_version": "1.5.0",
          "model_name": "VBoxModel",
          "state": {
            "_dom_classes": [],
            "_model_module": "@jupyter-widgets/controls",
            "_model_module_version": "1.5.0",
            "_model_name": "VBoxModel",
            "_view_count": null,
            "_view_module": "@jupyter-widgets/controls",
            "_view_module_version": "1.5.0",
            "_view_name": "VBoxView",
            "box_style": "",
            "children": [
              "IPY_MODEL_424968cf7c5d4df7bb9bec93e2096250",
              "IPY_MODEL_71f65deb9aca469aafb5f163466cc458"
            ],
            "layout": "IPY_MODEL_edbdcea427c34beb9d6f05eb14035585"
          }
        },
        "37efa9aa58a044bfbcb63b7165c248ff": {
          "model_module": "@jupyter-widgets/base",
          "model_module_version": "1.2.0",
          "model_name": "LayoutModel",
          "state": {
            "_model_module": "@jupyter-widgets/base",
            "_model_module_version": "1.2.0",
            "_model_name": "LayoutModel",
            "_view_count": null,
            "_view_module": "@jupyter-widgets/base",
            "_view_module_version": "1.2.0",
            "_view_name": "LayoutView",
            "align_content": null,
            "align_items": null,
            "align_self": null,
            "border": null,
            "bottom": null,
            "display": null,
            "flex": null,
            "flex_flow": null,
            "grid_area": null,
            "grid_auto_columns": null,
            "grid_auto_flow": null,
            "grid_auto_rows": null,
            "grid_column": null,
            "grid_gap": null,
            "grid_row": null,
            "grid_template_areas": null,
            "grid_template_columns": null,
            "grid_template_rows": null,
            "height": null,
            "justify_content": null,
            "justify_items": null,
            "left": null,
            "margin": null,
            "max_height": null,
            "max_width": null,
            "min_height": null,
            "min_width": null,
            "object_fit": null,
            "object_position": null,
            "order": null,
            "overflow": null,
            "overflow_x": null,
            "overflow_y": null,
            "padding": null,
            "right": null,
            "top": null,
            "visibility": null,
            "width": null
          }
        },
        "37fc17ff41e4425da93de187ab6ba3b0": {
          "model_module": "@jupyter-widgets/base",
          "model_module_version": "1.2.0",
          "model_name": "LayoutModel",
          "state": {
            "_model_module": "@jupyter-widgets/base",
            "_model_module_version": "1.2.0",
            "_model_name": "LayoutModel",
            "_view_count": null,
            "_view_module": "@jupyter-widgets/base",
            "_view_module_version": "1.2.0",
            "_view_name": "LayoutView",
            "align_content": null,
            "align_items": null,
            "align_self": null,
            "border": null,
            "bottom": null,
            "display": null,
            "flex": null,
            "flex_flow": null,
            "grid_area": null,
            "grid_auto_columns": null,
            "grid_auto_flow": null,
            "grid_auto_rows": null,
            "grid_column": null,
            "grid_gap": null,
            "grid_row": null,
            "grid_template_areas": null,
            "grid_template_columns": null,
            "grid_template_rows": null,
            "height": null,
            "justify_content": null,
            "justify_items": null,
            "left": null,
            "margin": null,
            "max_height": null,
            "max_width": null,
            "min_height": null,
            "min_width": null,
            "object_fit": null,
            "object_position": null,
            "order": null,
            "overflow": null,
            "overflow_x": null,
            "overflow_y": null,
            "padding": null,
            "right": null,
            "top": null,
            "visibility": null,
            "width": null
          }
        },
        "3ab3c370ee0745dfb9d79ad969cce503": {
          "model_module": "@jupyter-widgets/controls",
          "model_module_version": "1.5.0",
          "model_name": "ProgressStyleModel",
          "state": {
            "_model_module": "@jupyter-widgets/controls",
            "_model_module_version": "1.5.0",
            "_model_name": "ProgressStyleModel",
            "_view_count": null,
            "_view_module": "@jupyter-widgets/base",
            "_view_module_version": "1.2.0",
            "_view_name": "StyleView",
            "bar_color": null,
            "description_width": ""
          }
        },
        "3bcde9c0f82d45749d05f6ac3faca71b": {
          "model_module": "@jupyter-widgets/controls",
          "model_module_version": "1.5.0",
          "model_name": "FloatProgressModel",
          "state": {
            "_dom_classes": [],
            "_model_module": "@jupyter-widgets/controls",
            "_model_module_version": "1.5.0",
            "_model_name": "FloatProgressModel",
            "_view_count": null,
            "_view_module": "@jupyter-widgets/controls",
            "_view_module_version": "1.5.0",
            "_view_name": "ProgressView",
            "bar_style": "",
            "description": "",
            "description_tooltip": null,
            "layout": "IPY_MODEL_37efa9aa58a044bfbcb63b7165c248ff",
            "max": 1,
            "min": 0,
            "orientation": "horizontal",
            "style": "IPY_MODEL_8fd5287e47e6499ab212deb4fc9ade6d",
            "value": 1
          }
        },
        "3d698ddc8e4c482699a368870b26d40e": {
          "model_module": "@jupyter-widgets/base",
          "model_module_version": "1.2.0",
          "model_name": "LayoutModel",
          "state": {
            "_model_module": "@jupyter-widgets/base",
            "_model_module_version": "1.2.0",
            "_model_name": "LayoutModel",
            "_view_count": null,
            "_view_module": "@jupyter-widgets/base",
            "_view_module_version": "1.2.0",
            "_view_name": "LayoutView",
            "align_content": null,
            "align_items": null,
            "align_self": null,
            "border": null,
            "bottom": null,
            "display": null,
            "flex": null,
            "flex_flow": null,
            "grid_area": null,
            "grid_auto_columns": null,
            "grid_auto_flow": null,
            "grid_auto_rows": null,
            "grid_column": null,
            "grid_gap": null,
            "grid_row": null,
            "grid_template_areas": null,
            "grid_template_columns": null,
            "grid_template_rows": null,
            "height": null,
            "justify_content": null,
            "justify_items": null,
            "left": null,
            "margin": null,
            "max_height": null,
            "max_width": null,
            "min_height": null,
            "min_width": null,
            "object_fit": null,
            "object_position": null,
            "order": null,
            "overflow": null,
            "overflow_x": null,
            "overflow_y": null,
            "padding": null,
            "right": null,
            "top": null,
            "visibility": null,
            "width": null
          }
        },
        "3e5f2a8c1a2a4937ade7477325db7215": {
          "model_module": "@jupyter-widgets/controls",
          "model_module_version": "1.5.0",
          "model_name": "VBoxModel",
          "state": {
            "_dom_classes": [],
            "_model_module": "@jupyter-widgets/controls",
            "_model_module_version": "1.5.0",
            "_model_name": "VBoxModel",
            "_view_count": null,
            "_view_module": "@jupyter-widgets/controls",
            "_view_module_version": "1.5.0",
            "_view_name": "VBoxView",
            "box_style": "",
            "children": [
              "IPY_MODEL_8d1659e06176497ca63f5294e78967d5",
              "IPY_MODEL_93a2512522cb4fa3a73c4e595fbf032f"
            ],
            "layout": "IPY_MODEL_7b06741fd9bc405f87ee2f38919f4e8b"
          }
        },
        "408633691be34d228e88cbaf5ea46fe6": {
          "model_module": "@jupyter-widgets/controls",
          "model_module_version": "1.5.0",
          "model_name": "ProgressStyleModel",
          "state": {
            "_model_module": "@jupyter-widgets/controls",
            "_model_module_version": "1.5.0",
            "_model_name": "ProgressStyleModel",
            "_view_count": null,
            "_view_module": "@jupyter-widgets/base",
            "_view_module_version": "1.2.0",
            "_view_name": "StyleView",
            "bar_color": null,
            "description_width": ""
          }
        },
        "424968cf7c5d4df7bb9bec93e2096250": {
          "model_module": "@jupyter-widgets/controls",
          "model_module_version": "1.5.0",
          "model_name": "LabelModel",
          "state": {
            "_dom_classes": [],
            "_model_module": "@jupyter-widgets/controls",
            "_model_module_version": "1.5.0",
            "_model_name": "LabelModel",
            "_view_count": null,
            "_view_module": "@jupyter-widgets/controls",
            "_view_module_version": "1.5.0",
            "_view_name": "LabelView",
            "description": "",
            "description_tooltip": null,
            "layout": "IPY_MODEL_fa4c2ed721f347019b73d0bf06fedd77",
            "placeholder": "​",
            "style": "IPY_MODEL_841c6cbef0f1458eac95e445f602c983",
            "value": "0.011 MB of 0.011 MB uploaded\r"
          }
        },
        "45cfb26505764e30bdda3f1d052a54b8": {
          "model_module": "@jupyter-widgets/base",
          "model_module_version": "1.2.0",
          "model_name": "LayoutModel",
          "state": {
            "_model_module": "@jupyter-widgets/base",
            "_model_module_version": "1.2.0",
            "_model_name": "LayoutModel",
            "_view_count": null,
            "_view_module": "@jupyter-widgets/base",
            "_view_module_version": "1.2.0",
            "_view_name": "LayoutView",
            "align_content": null,
            "align_items": null,
            "align_self": null,
            "border": null,
            "bottom": null,
            "display": null,
            "flex": null,
            "flex_flow": null,
            "grid_area": null,
            "grid_auto_columns": null,
            "grid_auto_flow": null,
            "grid_auto_rows": null,
            "grid_column": null,
            "grid_gap": null,
            "grid_row": null,
            "grid_template_areas": null,
            "grid_template_columns": null,
            "grid_template_rows": null,
            "height": null,
            "justify_content": null,
            "justify_items": null,
            "left": null,
            "margin": null,
            "max_height": null,
            "max_width": null,
            "min_height": null,
            "min_width": null,
            "object_fit": null,
            "object_position": null,
            "order": null,
            "overflow": null,
            "overflow_x": null,
            "overflow_y": null,
            "padding": null,
            "right": null,
            "top": null,
            "visibility": null,
            "width": null
          }
        },
        "47586a4cc8a84322a87b97948fe926c1": {
          "model_module": "@jupyter-widgets/base",
          "model_module_version": "1.2.0",
          "model_name": "LayoutModel",
          "state": {
            "_model_module": "@jupyter-widgets/base",
            "_model_module_version": "1.2.0",
            "_model_name": "LayoutModel",
            "_view_count": null,
            "_view_module": "@jupyter-widgets/base",
            "_view_module_version": "1.2.0",
            "_view_name": "LayoutView",
            "align_content": null,
            "align_items": null,
            "align_self": null,
            "border": null,
            "bottom": null,
            "display": null,
            "flex": null,
            "flex_flow": null,
            "grid_area": null,
            "grid_auto_columns": null,
            "grid_auto_flow": null,
            "grid_auto_rows": null,
            "grid_column": null,
            "grid_gap": null,
            "grid_row": null,
            "grid_template_areas": null,
            "grid_template_columns": null,
            "grid_template_rows": null,
            "height": null,
            "justify_content": null,
            "justify_items": null,
            "left": null,
            "margin": null,
            "max_height": null,
            "max_width": null,
            "min_height": null,
            "min_width": null,
            "object_fit": null,
            "object_position": null,
            "order": null,
            "overflow": null,
            "overflow_x": null,
            "overflow_y": null,
            "padding": null,
            "right": null,
            "top": null,
            "visibility": null,
            "width": null
          }
        },
        "4a3e9818eff34e799b51e2c2d04dac0c": {
          "model_module": "@jupyter-widgets/controls",
          "model_module_version": "1.5.0",
          "model_name": "LabelModel",
          "state": {
            "_dom_classes": [],
            "_model_module": "@jupyter-widgets/controls",
            "_model_module_version": "1.5.0",
            "_model_name": "LabelModel",
            "_view_count": null,
            "_view_module": "@jupyter-widgets/controls",
            "_view_module_version": "1.5.0",
            "_view_name": "LabelView",
            "description": "",
            "description_tooltip": null,
            "layout": "IPY_MODEL_997dabeefbc0486591c48679c1f66b63",
            "placeholder": "​",
            "style": "IPY_MODEL_84a0153248de4cca9782389c7a0b01b1",
            "value": "0.011 MB of 0.011 MB uploaded\r"
          }
        },
        "4b6be28b48f244f98903e209ad0a8baf": {
          "model_module": "@jupyter-widgets/controls",
          "model_module_version": "1.5.0",
          "model_name": "ProgressStyleModel",
          "state": {
            "_model_module": "@jupyter-widgets/controls",
            "_model_module_version": "1.5.0",
            "_model_name": "ProgressStyleModel",
            "_view_count": null,
            "_view_module": "@jupyter-widgets/base",
            "_view_module_version": "1.2.0",
            "_view_name": "StyleView",
            "bar_color": null,
            "description_width": ""
          }
        },
        "4bb9dbaaf8ef4569979cdfd5c7e70812": {
          "model_module": "@jupyter-widgets/base",
          "model_module_version": "1.2.0",
          "model_name": "LayoutModel",
          "state": {
            "_model_module": "@jupyter-widgets/base",
            "_model_module_version": "1.2.0",
            "_model_name": "LayoutModel",
            "_view_count": null,
            "_view_module": "@jupyter-widgets/base",
            "_view_module_version": "1.2.0",
            "_view_name": "LayoutView",
            "align_content": null,
            "align_items": null,
            "align_self": null,
            "border": null,
            "bottom": null,
            "display": null,
            "flex": null,
            "flex_flow": null,
            "grid_area": null,
            "grid_auto_columns": null,
            "grid_auto_flow": null,
            "grid_auto_rows": null,
            "grid_column": null,
            "grid_gap": null,
            "grid_row": null,
            "grid_template_areas": null,
            "grid_template_columns": null,
            "grid_template_rows": null,
            "height": null,
            "justify_content": null,
            "justify_items": null,
            "left": null,
            "margin": null,
            "max_height": null,
            "max_width": null,
            "min_height": null,
            "min_width": null,
            "object_fit": null,
            "object_position": null,
            "order": null,
            "overflow": null,
            "overflow_x": null,
            "overflow_y": null,
            "padding": null,
            "right": null,
            "top": null,
            "visibility": null,
            "width": null
          }
        },
        "4c276da13e3b4ab88656a6747947e338": {
          "model_module": "@jupyter-widgets/controls",
          "model_module_version": "1.5.0",
          "model_name": "FloatProgressModel",
          "state": {
            "_dom_classes": [],
            "_model_module": "@jupyter-widgets/controls",
            "_model_module_version": "1.5.0",
            "_model_name": "FloatProgressModel",
            "_view_count": null,
            "_view_module": "@jupyter-widgets/controls",
            "_view_module_version": "1.5.0",
            "_view_name": "ProgressView",
            "bar_style": "",
            "description": "",
            "description_tooltip": null,
            "layout": "IPY_MODEL_d9115013d9a4408385e21a4f31feb3f3",
            "max": 1,
            "min": 0,
            "orientation": "horizontal",
            "style": "IPY_MODEL_408633691be34d228e88cbaf5ea46fe6",
            "value": 1
          }
        },
        "4ed6b0ccc5db4116bf7872cc7808d55b": {
          "model_module": "@jupyter-widgets/base",
          "model_module_version": "1.2.0",
          "model_name": "LayoutModel",
          "state": {
            "_model_module": "@jupyter-widgets/base",
            "_model_module_version": "1.2.0",
            "_model_name": "LayoutModel",
            "_view_count": null,
            "_view_module": "@jupyter-widgets/base",
            "_view_module_version": "1.2.0",
            "_view_name": "LayoutView",
            "align_content": null,
            "align_items": null,
            "align_self": null,
            "border": null,
            "bottom": null,
            "display": null,
            "flex": null,
            "flex_flow": null,
            "grid_area": null,
            "grid_auto_columns": null,
            "grid_auto_flow": null,
            "grid_auto_rows": null,
            "grid_column": null,
            "grid_gap": null,
            "grid_row": null,
            "grid_template_areas": null,
            "grid_template_columns": null,
            "grid_template_rows": null,
            "height": null,
            "justify_content": null,
            "justify_items": null,
            "left": null,
            "margin": null,
            "max_height": null,
            "max_width": null,
            "min_height": null,
            "min_width": null,
            "object_fit": null,
            "object_position": null,
            "order": null,
            "overflow": null,
            "overflow_x": null,
            "overflow_y": null,
            "padding": null,
            "right": null,
            "top": null,
            "visibility": null,
            "width": null
          }
        },
        "50a8481379594abc9cc305dd049dca10": {
          "model_module": "@jupyter-widgets/controls",
          "model_module_version": "1.5.0",
          "model_name": "LabelModel",
          "state": {
            "_dom_classes": [],
            "_model_module": "@jupyter-widgets/controls",
            "_model_module_version": "1.5.0",
            "_model_name": "LabelModel",
            "_view_count": null,
            "_view_module": "@jupyter-widgets/controls",
            "_view_module_version": "1.5.0",
            "_view_name": "LabelView",
            "description": "",
            "description_tooltip": null,
            "layout": "IPY_MODEL_6b4cbf02b1654dbe99c3acee0ccf90cb",
            "placeholder": "​",
            "style": "IPY_MODEL_073fed0022f64abaa58aee75dbc03459",
            "value": "0.011 MB of 0.011 MB uploaded\r"
          }
        },
        "519598f8e41247ad81833747b30f22cc": {
          "model_module": "@jupyter-widgets/controls",
          "model_module_version": "1.5.0",
          "model_name": "VBoxModel",
          "state": {
            "_dom_classes": [],
            "_model_module": "@jupyter-widgets/controls",
            "_model_module_version": "1.5.0",
            "_model_name": "VBoxModel",
            "_view_count": null,
            "_view_module": "@jupyter-widgets/controls",
            "_view_module_version": "1.5.0",
            "_view_name": "VBoxView",
            "box_style": "",
            "children": [
              "IPY_MODEL_5651a876af4d47659ea0a0b781dbdf2e",
              "IPY_MODEL_1a6ae6effda54c2b87449681ed8deb5d"
            ],
            "layout": "IPY_MODEL_552d6ff441b647fcbc1a7ec305fe5e05"
          }
        },
        "52f4c90f5e4d42a9908e5cc2cb471da7": {
          "model_module": "@jupyter-widgets/controls",
          "model_module_version": "1.5.0",
          "model_name": "VBoxModel",
          "state": {
            "_dom_classes": [],
            "_model_module": "@jupyter-widgets/controls",
            "_model_module_version": "1.5.0",
            "_model_name": "VBoxModel",
            "_view_count": null,
            "_view_module": "@jupyter-widgets/controls",
            "_view_module_version": "1.5.0",
            "_view_name": "VBoxView",
            "box_style": "",
            "children": [
              "IPY_MODEL_b11b32edfefe4ff0a27a70cf55c38bdc",
              "IPY_MODEL_825fde5245184df9b08bc8f9c3abf171"
            ],
            "layout": "IPY_MODEL_f31051cd949f4ad0a435292098a7f939"
          }
        },
        "53125d1f72674176a79b08ffe3f321ee": {
          "model_module": "@jupyter-widgets/controls",
          "model_module_version": "1.5.0",
          "model_name": "LabelModel",
          "state": {
            "_dom_classes": [],
            "_model_module": "@jupyter-widgets/controls",
            "_model_module_version": "1.5.0",
            "_model_name": "LabelModel",
            "_view_count": null,
            "_view_module": "@jupyter-widgets/controls",
            "_view_module_version": "1.5.0",
            "_view_name": "LabelView",
            "description": "",
            "description_tooltip": null,
            "layout": "IPY_MODEL_3576f75594bf429db0cfa85e7385738f",
            "placeholder": "​",
            "style": "IPY_MODEL_9a368513b4a2424da5671b995a3e81bd",
            "value": "0.011 MB of 0.011 MB uploaded\r"
          }
        },
        "537549377ce84044b0c16762aa706e14": {
          "model_module": "@jupyter-widgets/controls",
          "model_module_version": "1.5.0",
          "model_name": "ProgressStyleModel",
          "state": {
            "_model_module": "@jupyter-widgets/controls",
            "_model_module_version": "1.5.0",
            "_model_name": "ProgressStyleModel",
            "_view_count": null,
            "_view_module": "@jupyter-widgets/base",
            "_view_module_version": "1.2.0",
            "_view_name": "StyleView",
            "bar_color": null,
            "description_width": ""
          }
        },
        "539639025efd4b6099e9d6b4ba057663": {
          "model_module": "@jupyter-widgets/controls",
          "model_module_version": "1.5.0",
          "model_name": "FloatProgressModel",
          "state": {
            "_dom_classes": [],
            "_model_module": "@jupyter-widgets/controls",
            "_model_module_version": "1.5.0",
            "_model_name": "FloatProgressModel",
            "_view_count": null,
            "_view_module": "@jupyter-widgets/controls",
            "_view_module_version": "1.5.0",
            "_view_name": "ProgressView",
            "bar_style": "",
            "description": "",
            "description_tooltip": null,
            "layout": "IPY_MODEL_08dd44fc9ad34561819a76c7c0791b25",
            "max": 1,
            "min": 0,
            "orientation": "horizontal",
            "style": "IPY_MODEL_243dca27172840acabf4dbda75251f77",
            "value": 1
          }
        },
        "53bc40bd06da40f6a6b3e1406b83e6c7": {
          "model_module": "@jupyter-widgets/controls",
          "model_module_version": "1.5.0",
          "model_name": "VBoxModel",
          "state": {
            "_dom_classes": [],
            "_model_module": "@jupyter-widgets/controls",
            "_model_module_version": "1.5.0",
            "_model_name": "VBoxModel",
            "_view_count": null,
            "_view_module": "@jupyter-widgets/controls",
            "_view_module_version": "1.5.0",
            "_view_name": "VBoxView",
            "box_style": "",
            "children": [
              "IPY_MODEL_03bf57c15cfb483b8bf638081654d722",
              "IPY_MODEL_3bcde9c0f82d45749d05f6ac3faca71b"
            ],
            "layout": "IPY_MODEL_ca1d80733f27440e87e3d8227c7f4b33"
          }
        },
        "54fb347406a54b8eb47dee6a5135d126": {
          "model_module": "@jupyter-widgets/controls",
          "model_module_version": "1.5.0",
          "model_name": "ProgressStyleModel",
          "state": {
            "_model_module": "@jupyter-widgets/controls",
            "_model_module_version": "1.5.0",
            "_model_name": "ProgressStyleModel",
            "_view_count": null,
            "_view_module": "@jupyter-widgets/base",
            "_view_module_version": "1.2.0",
            "_view_name": "StyleView",
            "bar_color": null,
            "description_width": ""
          }
        },
        "552d6ff441b647fcbc1a7ec305fe5e05": {
          "model_module": "@jupyter-widgets/base",
          "model_module_version": "1.2.0",
          "model_name": "LayoutModel",
          "state": {
            "_model_module": "@jupyter-widgets/base",
            "_model_module_version": "1.2.0",
            "_model_name": "LayoutModel",
            "_view_count": null,
            "_view_module": "@jupyter-widgets/base",
            "_view_module_version": "1.2.0",
            "_view_name": "LayoutView",
            "align_content": null,
            "align_items": null,
            "align_self": null,
            "border": null,
            "bottom": null,
            "display": null,
            "flex": null,
            "flex_flow": null,
            "grid_area": null,
            "grid_auto_columns": null,
            "grid_auto_flow": null,
            "grid_auto_rows": null,
            "grid_column": null,
            "grid_gap": null,
            "grid_row": null,
            "grid_template_areas": null,
            "grid_template_columns": null,
            "grid_template_rows": null,
            "height": null,
            "justify_content": null,
            "justify_items": null,
            "left": null,
            "margin": null,
            "max_height": null,
            "max_width": null,
            "min_height": null,
            "min_width": null,
            "object_fit": null,
            "object_position": null,
            "order": null,
            "overflow": null,
            "overflow_x": null,
            "overflow_y": null,
            "padding": null,
            "right": null,
            "top": null,
            "visibility": null,
            "width": null
          }
        },
        "558cd58957ca48a5b88daa3f0613e18a": {
          "model_module": "@jupyter-widgets/base",
          "model_module_version": "1.2.0",
          "model_name": "LayoutModel",
          "state": {
            "_model_module": "@jupyter-widgets/base",
            "_model_module_version": "1.2.0",
            "_model_name": "LayoutModel",
            "_view_count": null,
            "_view_module": "@jupyter-widgets/base",
            "_view_module_version": "1.2.0",
            "_view_name": "LayoutView",
            "align_content": null,
            "align_items": null,
            "align_self": null,
            "border": null,
            "bottom": null,
            "display": null,
            "flex": null,
            "flex_flow": null,
            "grid_area": null,
            "grid_auto_columns": null,
            "grid_auto_flow": null,
            "grid_auto_rows": null,
            "grid_column": null,
            "grid_gap": null,
            "grid_row": null,
            "grid_template_areas": null,
            "grid_template_columns": null,
            "grid_template_rows": null,
            "height": null,
            "justify_content": null,
            "justify_items": null,
            "left": null,
            "margin": null,
            "max_height": null,
            "max_width": null,
            "min_height": null,
            "min_width": null,
            "object_fit": null,
            "object_position": null,
            "order": null,
            "overflow": null,
            "overflow_x": null,
            "overflow_y": null,
            "padding": null,
            "right": null,
            "top": null,
            "visibility": null,
            "width": null
          }
        },
        "5651a876af4d47659ea0a0b781dbdf2e": {
          "model_module": "@jupyter-widgets/controls",
          "model_module_version": "1.5.0",
          "model_name": "LabelModel",
          "state": {
            "_dom_classes": [],
            "_model_module": "@jupyter-widgets/controls",
            "_model_module_version": "1.5.0",
            "_model_name": "LabelModel",
            "_view_count": null,
            "_view_module": "@jupyter-widgets/controls",
            "_view_module_version": "1.5.0",
            "_view_name": "LabelView",
            "description": "",
            "description_tooltip": null,
            "layout": "IPY_MODEL_8b39cbf2d67c4cee9f664b51ca6ce9b9",
            "placeholder": "​",
            "style": "IPY_MODEL_2499ba3f4b0e44978ede3dc2ca9e6af2",
            "value": "0.011 MB of 0.011 MB uploaded\r"
          }
        },
        "56587ab8c36b477789a27e0e0730df26": {
          "model_module": "@jupyter-widgets/controls",
          "model_module_version": "1.5.0",
          "model_name": "ProgressStyleModel",
          "state": {
            "_model_module": "@jupyter-widgets/controls",
            "_model_module_version": "1.5.0",
            "_model_name": "ProgressStyleModel",
            "_view_count": null,
            "_view_module": "@jupyter-widgets/base",
            "_view_module_version": "1.2.0",
            "_view_name": "StyleView",
            "bar_color": null,
            "description_width": ""
          }
        },
        "5a163e031ac84fbd8f6736cec531cf2a": {
          "model_module": "@jupyter-widgets/base",
          "model_module_version": "1.2.0",
          "model_name": "LayoutModel",
          "state": {
            "_model_module": "@jupyter-widgets/base",
            "_model_module_version": "1.2.0",
            "_model_name": "LayoutModel",
            "_view_count": null,
            "_view_module": "@jupyter-widgets/base",
            "_view_module_version": "1.2.0",
            "_view_name": "LayoutView",
            "align_content": null,
            "align_items": null,
            "align_self": null,
            "border": null,
            "bottom": null,
            "display": null,
            "flex": null,
            "flex_flow": null,
            "grid_area": null,
            "grid_auto_columns": null,
            "grid_auto_flow": null,
            "grid_auto_rows": null,
            "grid_column": null,
            "grid_gap": null,
            "grid_row": null,
            "grid_template_areas": null,
            "grid_template_columns": null,
            "grid_template_rows": null,
            "height": null,
            "justify_content": null,
            "justify_items": null,
            "left": null,
            "margin": null,
            "max_height": null,
            "max_width": null,
            "min_height": null,
            "min_width": null,
            "object_fit": null,
            "object_position": null,
            "order": null,
            "overflow": null,
            "overflow_x": null,
            "overflow_y": null,
            "padding": null,
            "right": null,
            "top": null,
            "visibility": null,
            "width": null
          }
        },
        "5ab73533e0f04a9c9c7667b9be3c57b7": {
          "model_module": "@jupyter-widgets/controls",
          "model_module_version": "1.5.0",
          "model_name": "ProgressStyleModel",
          "state": {
            "_model_module": "@jupyter-widgets/controls",
            "_model_module_version": "1.5.0",
            "_model_name": "ProgressStyleModel",
            "_view_count": null,
            "_view_module": "@jupyter-widgets/base",
            "_view_module_version": "1.2.0",
            "_view_name": "StyleView",
            "bar_color": null,
            "description_width": ""
          }
        },
        "5b7bc3ae9f4944628f8ea06c132f7ac0": {
          "model_module": "@jupyter-widgets/controls",
          "model_module_version": "1.5.0",
          "model_name": "DescriptionStyleModel",
          "state": {
            "_model_module": "@jupyter-widgets/controls",
            "_model_module_version": "1.5.0",
            "_model_name": "DescriptionStyleModel",
            "_view_count": null,
            "_view_module": "@jupyter-widgets/base",
            "_view_module_version": "1.2.0",
            "_view_name": "StyleView",
            "description_width": ""
          }
        },
        "5bcf0defc52640e39bf5e28e3c9e0db9": {
          "model_module": "@jupyter-widgets/base",
          "model_module_version": "1.2.0",
          "model_name": "LayoutModel",
          "state": {
            "_model_module": "@jupyter-widgets/base",
            "_model_module_version": "1.2.0",
            "_model_name": "LayoutModel",
            "_view_count": null,
            "_view_module": "@jupyter-widgets/base",
            "_view_module_version": "1.2.0",
            "_view_name": "LayoutView",
            "align_content": null,
            "align_items": null,
            "align_self": null,
            "border": null,
            "bottom": null,
            "display": null,
            "flex": null,
            "flex_flow": null,
            "grid_area": null,
            "grid_auto_columns": null,
            "grid_auto_flow": null,
            "grid_auto_rows": null,
            "grid_column": null,
            "grid_gap": null,
            "grid_row": null,
            "grid_template_areas": null,
            "grid_template_columns": null,
            "grid_template_rows": null,
            "height": null,
            "justify_content": null,
            "justify_items": null,
            "left": null,
            "margin": null,
            "max_height": null,
            "max_width": null,
            "min_height": null,
            "min_width": null,
            "object_fit": null,
            "object_position": null,
            "order": null,
            "overflow": null,
            "overflow_x": null,
            "overflow_y": null,
            "padding": null,
            "right": null,
            "top": null,
            "visibility": null,
            "width": null
          }
        },
        "5e7e321b3b49453f96f492c31288d013": {
          "model_module": "@jupyter-widgets/controls",
          "model_module_version": "1.5.0",
          "model_name": "VBoxModel",
          "state": {
            "_dom_classes": [],
            "_model_module": "@jupyter-widgets/controls",
            "_model_module_version": "1.5.0",
            "_model_name": "VBoxModel",
            "_view_count": null,
            "_view_module": "@jupyter-widgets/controls",
            "_view_module_version": "1.5.0",
            "_view_name": "VBoxView",
            "box_style": "",
            "children": [
              "IPY_MODEL_0103972d97494398bd8f58c3db3905b6",
              "IPY_MODEL_7c148c99740a4f96b2583f04abf2ecc4"
            ],
            "layout": "IPY_MODEL_785ef56eda024faf8a5df548e3126953"
          }
        },
        "5ede75e50b344464b5fb672356053108": {
          "model_module": "@jupyter-widgets/base",
          "model_module_version": "1.2.0",
          "model_name": "LayoutModel",
          "state": {
            "_model_module": "@jupyter-widgets/base",
            "_model_module_version": "1.2.0",
            "_model_name": "LayoutModel",
            "_view_count": null,
            "_view_module": "@jupyter-widgets/base",
            "_view_module_version": "1.2.0",
            "_view_name": "LayoutView",
            "align_content": null,
            "align_items": null,
            "align_self": null,
            "border": null,
            "bottom": null,
            "display": null,
            "flex": null,
            "flex_flow": null,
            "grid_area": null,
            "grid_auto_columns": null,
            "grid_auto_flow": null,
            "grid_auto_rows": null,
            "grid_column": null,
            "grid_gap": null,
            "grid_row": null,
            "grid_template_areas": null,
            "grid_template_columns": null,
            "grid_template_rows": null,
            "height": null,
            "justify_content": null,
            "justify_items": null,
            "left": null,
            "margin": null,
            "max_height": null,
            "max_width": null,
            "min_height": null,
            "min_width": null,
            "object_fit": null,
            "object_position": null,
            "order": null,
            "overflow": null,
            "overflow_x": null,
            "overflow_y": null,
            "padding": null,
            "right": null,
            "top": null,
            "visibility": null,
            "width": null
          }
        },
        "5f94c29c90be4ed9afe029919af8de3e": {
          "model_module": "@jupyter-widgets/base",
          "model_module_version": "1.2.0",
          "model_name": "LayoutModel",
          "state": {
            "_model_module": "@jupyter-widgets/base",
            "_model_module_version": "1.2.0",
            "_model_name": "LayoutModel",
            "_view_count": null,
            "_view_module": "@jupyter-widgets/base",
            "_view_module_version": "1.2.0",
            "_view_name": "LayoutView",
            "align_content": null,
            "align_items": null,
            "align_self": null,
            "border": null,
            "bottom": null,
            "display": null,
            "flex": null,
            "flex_flow": null,
            "grid_area": null,
            "grid_auto_columns": null,
            "grid_auto_flow": null,
            "grid_auto_rows": null,
            "grid_column": null,
            "grid_gap": null,
            "grid_row": null,
            "grid_template_areas": null,
            "grid_template_columns": null,
            "grid_template_rows": null,
            "height": null,
            "justify_content": null,
            "justify_items": null,
            "left": null,
            "margin": null,
            "max_height": null,
            "max_width": null,
            "min_height": null,
            "min_width": null,
            "object_fit": null,
            "object_position": null,
            "order": null,
            "overflow": null,
            "overflow_x": null,
            "overflow_y": null,
            "padding": null,
            "right": null,
            "top": null,
            "visibility": null,
            "width": null
          }
        },
        "63084c027c684aab8a29ca54d5d0151c": {
          "model_module": "@jupyter-widgets/base",
          "model_module_version": "1.2.0",
          "model_name": "LayoutModel",
          "state": {
            "_model_module": "@jupyter-widgets/base",
            "_model_module_version": "1.2.0",
            "_model_name": "LayoutModel",
            "_view_count": null,
            "_view_module": "@jupyter-widgets/base",
            "_view_module_version": "1.2.0",
            "_view_name": "LayoutView",
            "align_content": null,
            "align_items": null,
            "align_self": null,
            "border": null,
            "bottom": null,
            "display": null,
            "flex": null,
            "flex_flow": null,
            "grid_area": null,
            "grid_auto_columns": null,
            "grid_auto_flow": null,
            "grid_auto_rows": null,
            "grid_column": null,
            "grid_gap": null,
            "grid_row": null,
            "grid_template_areas": null,
            "grid_template_columns": null,
            "grid_template_rows": null,
            "height": null,
            "justify_content": null,
            "justify_items": null,
            "left": null,
            "margin": null,
            "max_height": null,
            "max_width": null,
            "min_height": null,
            "min_width": null,
            "object_fit": null,
            "object_position": null,
            "order": null,
            "overflow": null,
            "overflow_x": null,
            "overflow_y": null,
            "padding": null,
            "right": null,
            "top": null,
            "visibility": null,
            "width": null
          }
        },
        "6464a1645b9e4c22861343a4dc24e3e7": {
          "model_module": "@jupyter-widgets/controls",
          "model_module_version": "1.5.0",
          "model_name": "FloatProgressModel",
          "state": {
            "_dom_classes": [],
            "_model_module": "@jupyter-widgets/controls",
            "_model_module_version": "1.5.0",
            "_model_name": "FloatProgressModel",
            "_view_count": null,
            "_view_module": "@jupyter-widgets/controls",
            "_view_module_version": "1.5.0",
            "_view_name": "ProgressView",
            "bar_style": "",
            "description": "",
            "description_tooltip": null,
            "layout": "IPY_MODEL_a79adb6658404cadbf44bf220c493952",
            "max": 1,
            "min": 0,
            "orientation": "horizontal",
            "style": "IPY_MODEL_d4bbd417516d4b459026651624aa2b08",
            "value": 1
          }
        },
        "64a9acd16f0b4e62bc3a10a600b34003": {
          "model_module": "@jupyter-widgets/controls",
          "model_module_version": "1.5.0",
          "model_name": "LabelModel",
          "state": {
            "_dom_classes": [],
            "_model_module": "@jupyter-widgets/controls",
            "_model_module_version": "1.5.0",
            "_model_name": "LabelModel",
            "_view_count": null,
            "_view_module": "@jupyter-widgets/controls",
            "_view_module_version": "1.5.0",
            "_view_name": "LabelView",
            "description": "",
            "description_tooltip": null,
            "layout": "IPY_MODEL_a9e27d32794149019eaae3a6302f8ce4",
            "placeholder": "​",
            "style": "IPY_MODEL_23b329d0f39445d5ac4bc11c117e74a7",
            "value": "0.011 MB of 0.011 MB uploaded\r"
          }
        },
        "659a8fec9b62409ca1a20935e784e44e": {
          "model_module": "@jupyter-widgets/base",
          "model_module_version": "1.2.0",
          "model_name": "LayoutModel",
          "state": {
            "_model_module": "@jupyter-widgets/base",
            "_model_module_version": "1.2.0",
            "_model_name": "LayoutModel",
            "_view_count": null,
            "_view_module": "@jupyter-widgets/base",
            "_view_module_version": "1.2.0",
            "_view_name": "LayoutView",
            "align_content": null,
            "align_items": null,
            "align_self": null,
            "border": null,
            "bottom": null,
            "display": null,
            "flex": null,
            "flex_flow": null,
            "grid_area": null,
            "grid_auto_columns": null,
            "grid_auto_flow": null,
            "grid_auto_rows": null,
            "grid_column": null,
            "grid_gap": null,
            "grid_row": null,
            "grid_template_areas": null,
            "grid_template_columns": null,
            "grid_template_rows": null,
            "height": null,
            "justify_content": null,
            "justify_items": null,
            "left": null,
            "margin": null,
            "max_height": null,
            "max_width": null,
            "min_height": null,
            "min_width": null,
            "object_fit": null,
            "object_position": null,
            "order": null,
            "overflow": null,
            "overflow_x": null,
            "overflow_y": null,
            "padding": null,
            "right": null,
            "top": null,
            "visibility": null,
            "width": null
          }
        },
        "6811b7b5f0a6447f8bd52d36a0549a41": {
          "model_module": "@jupyter-widgets/controls",
          "model_module_version": "1.5.0",
          "model_name": "ProgressStyleModel",
          "state": {
            "_model_module": "@jupyter-widgets/controls",
            "_model_module_version": "1.5.0",
            "_model_name": "ProgressStyleModel",
            "_view_count": null,
            "_view_module": "@jupyter-widgets/base",
            "_view_module_version": "1.2.0",
            "_view_name": "StyleView",
            "bar_color": null,
            "description_width": ""
          }
        },
        "682014beaa074fe48208331a8f38725f": {
          "model_module": "@jupyter-widgets/controls",
          "model_module_version": "1.5.0",
          "model_name": "FloatProgressModel",
          "state": {
            "_dom_classes": [],
            "_model_module": "@jupyter-widgets/controls",
            "_model_module_version": "1.5.0",
            "_model_name": "FloatProgressModel",
            "_view_count": null,
            "_view_module": "@jupyter-widgets/controls",
            "_view_module_version": "1.5.0",
            "_view_name": "ProgressView",
            "bar_style": "",
            "description": "",
            "description_tooltip": null,
            "layout": "IPY_MODEL_e2d4910f15b24899aa481f2180ddf2d5",
            "max": 1,
            "min": 0,
            "orientation": "horizontal",
            "style": "IPY_MODEL_b4a23a7d22e04f09a4fc99e81e350507",
            "value": 1
          }
        },
        "6b4cbf02b1654dbe99c3acee0ccf90cb": {
          "model_module": "@jupyter-widgets/base",
          "model_module_version": "1.2.0",
          "model_name": "LayoutModel",
          "state": {
            "_model_module": "@jupyter-widgets/base",
            "_model_module_version": "1.2.0",
            "_model_name": "LayoutModel",
            "_view_count": null,
            "_view_module": "@jupyter-widgets/base",
            "_view_module_version": "1.2.0",
            "_view_name": "LayoutView",
            "align_content": null,
            "align_items": null,
            "align_self": null,
            "border": null,
            "bottom": null,
            "display": null,
            "flex": null,
            "flex_flow": null,
            "grid_area": null,
            "grid_auto_columns": null,
            "grid_auto_flow": null,
            "grid_auto_rows": null,
            "grid_column": null,
            "grid_gap": null,
            "grid_row": null,
            "grid_template_areas": null,
            "grid_template_columns": null,
            "grid_template_rows": null,
            "height": null,
            "justify_content": null,
            "justify_items": null,
            "left": null,
            "margin": null,
            "max_height": null,
            "max_width": null,
            "min_height": null,
            "min_width": null,
            "object_fit": null,
            "object_position": null,
            "order": null,
            "overflow": null,
            "overflow_x": null,
            "overflow_y": null,
            "padding": null,
            "right": null,
            "top": null,
            "visibility": null,
            "width": null
          }
        },
        "6ede138ce4554ec89380827f59517cab": {
          "model_module": "@jupyter-widgets/base",
          "model_module_version": "1.2.0",
          "model_name": "LayoutModel",
          "state": {
            "_model_module": "@jupyter-widgets/base",
            "_model_module_version": "1.2.0",
            "_model_name": "LayoutModel",
            "_view_count": null,
            "_view_module": "@jupyter-widgets/base",
            "_view_module_version": "1.2.0",
            "_view_name": "LayoutView",
            "align_content": null,
            "align_items": null,
            "align_self": null,
            "border": null,
            "bottom": null,
            "display": null,
            "flex": null,
            "flex_flow": null,
            "grid_area": null,
            "grid_auto_columns": null,
            "grid_auto_flow": null,
            "grid_auto_rows": null,
            "grid_column": null,
            "grid_gap": null,
            "grid_row": null,
            "grid_template_areas": null,
            "grid_template_columns": null,
            "grid_template_rows": null,
            "height": null,
            "justify_content": null,
            "justify_items": null,
            "left": null,
            "margin": null,
            "max_height": null,
            "max_width": null,
            "min_height": null,
            "min_width": null,
            "object_fit": null,
            "object_position": null,
            "order": null,
            "overflow": null,
            "overflow_x": null,
            "overflow_y": null,
            "padding": null,
            "right": null,
            "top": null,
            "visibility": null,
            "width": null
          }
        },
        "6fffd92748724bbca82099ecb9ee1b61": {
          "model_module": "@jupyter-widgets/controls",
          "model_module_version": "1.5.0",
          "model_name": "VBoxModel",
          "state": {
            "_dom_classes": [],
            "_model_module": "@jupyter-widgets/controls",
            "_model_module_version": "1.5.0",
            "_model_name": "VBoxModel",
            "_view_count": null,
            "_view_module": "@jupyter-widgets/controls",
            "_view_module_version": "1.5.0",
            "_view_name": "VBoxView",
            "box_style": "",
            "children": [
              "IPY_MODEL_97d6752828fd43cf9c114cbb28d46e2d",
              "IPY_MODEL_2c4e8a3597924b82a06fe871ebecfd66"
            ],
            "layout": "IPY_MODEL_de1e7e0f79824dcbbcd680501610985b"
          }
        },
        "706b9da5102c4cc7ba691c5528c55b05": {
          "model_module": "@jupyter-widgets/base",
          "model_module_version": "1.2.0",
          "model_name": "LayoutModel",
          "state": {
            "_model_module": "@jupyter-widgets/base",
            "_model_module_version": "1.2.0",
            "_model_name": "LayoutModel",
            "_view_count": null,
            "_view_module": "@jupyter-widgets/base",
            "_view_module_version": "1.2.0",
            "_view_name": "LayoutView",
            "align_content": null,
            "align_items": null,
            "align_self": null,
            "border": null,
            "bottom": null,
            "display": null,
            "flex": null,
            "flex_flow": null,
            "grid_area": null,
            "grid_auto_columns": null,
            "grid_auto_flow": null,
            "grid_auto_rows": null,
            "grid_column": null,
            "grid_gap": null,
            "grid_row": null,
            "grid_template_areas": null,
            "grid_template_columns": null,
            "grid_template_rows": null,
            "height": null,
            "justify_content": null,
            "justify_items": null,
            "left": null,
            "margin": null,
            "max_height": null,
            "max_width": null,
            "min_height": null,
            "min_width": null,
            "object_fit": null,
            "object_position": null,
            "order": null,
            "overflow": null,
            "overflow_x": null,
            "overflow_y": null,
            "padding": null,
            "right": null,
            "top": null,
            "visibility": null,
            "width": null
          }
        },
        "71f65deb9aca469aafb5f163466cc458": {
          "model_module": "@jupyter-widgets/controls",
          "model_module_version": "1.5.0",
          "model_name": "FloatProgressModel",
          "state": {
            "_dom_classes": [],
            "_model_module": "@jupyter-widgets/controls",
            "_model_module_version": "1.5.0",
            "_model_name": "FloatProgressModel",
            "_view_count": null,
            "_view_module": "@jupyter-widgets/controls",
            "_view_module_version": "1.5.0",
            "_view_name": "ProgressView",
            "bar_style": "",
            "description": "",
            "description_tooltip": null,
            "layout": "IPY_MODEL_63084c027c684aab8a29ca54d5d0151c",
            "max": 1,
            "min": 0,
            "orientation": "horizontal",
            "style": "IPY_MODEL_0f8787ab483a4e419be0fd8e0a8a31b7",
            "value": 1
          }
        },
        "74b2dce81fcd4eb9b0193338916dd27d": {
          "model_module": "@jupyter-widgets/base",
          "model_module_version": "1.2.0",
          "model_name": "LayoutModel",
          "state": {
            "_model_module": "@jupyter-widgets/base",
            "_model_module_version": "1.2.0",
            "_model_name": "LayoutModel",
            "_view_count": null,
            "_view_module": "@jupyter-widgets/base",
            "_view_module_version": "1.2.0",
            "_view_name": "LayoutView",
            "align_content": null,
            "align_items": null,
            "align_self": null,
            "border": null,
            "bottom": null,
            "display": null,
            "flex": null,
            "flex_flow": null,
            "grid_area": null,
            "grid_auto_columns": null,
            "grid_auto_flow": null,
            "grid_auto_rows": null,
            "grid_column": null,
            "grid_gap": null,
            "grid_row": null,
            "grid_template_areas": null,
            "grid_template_columns": null,
            "grid_template_rows": null,
            "height": null,
            "justify_content": null,
            "justify_items": null,
            "left": null,
            "margin": null,
            "max_height": null,
            "max_width": null,
            "min_height": null,
            "min_width": null,
            "object_fit": null,
            "object_position": null,
            "order": null,
            "overflow": null,
            "overflow_x": null,
            "overflow_y": null,
            "padding": null,
            "right": null,
            "top": null,
            "visibility": null,
            "width": null
          }
        },
        "769cb2c339764ec0a49b8aaaacb8c81f": {
          "model_module": "@jupyter-widgets/controls",
          "model_module_version": "1.5.0",
          "model_name": "LabelModel",
          "state": {
            "_dom_classes": [],
            "_model_module": "@jupyter-widgets/controls",
            "_model_module_version": "1.5.0",
            "_model_name": "LabelModel",
            "_view_count": null,
            "_view_module": "@jupyter-widgets/controls",
            "_view_module_version": "1.5.0",
            "_view_name": "LabelView",
            "description": "",
            "description_tooltip": null,
            "layout": "IPY_MODEL_7d7c33d411284291979594f35eeaf429",
            "placeholder": "​",
            "style": "IPY_MODEL_bad5af27fc3044ae857465def708187e",
            "value": "Waiting for wandb.init()...\r"
          }
        },
        "785ef56eda024faf8a5df548e3126953": {
          "model_module": "@jupyter-widgets/base",
          "model_module_version": "1.2.0",
          "model_name": "LayoutModel",
          "state": {
            "_model_module": "@jupyter-widgets/base",
            "_model_module_version": "1.2.0",
            "_model_name": "LayoutModel",
            "_view_count": null,
            "_view_module": "@jupyter-widgets/base",
            "_view_module_version": "1.2.0",
            "_view_name": "LayoutView",
            "align_content": null,
            "align_items": null,
            "align_self": null,
            "border": null,
            "bottom": null,
            "display": null,
            "flex": null,
            "flex_flow": null,
            "grid_area": null,
            "grid_auto_columns": null,
            "grid_auto_flow": null,
            "grid_auto_rows": null,
            "grid_column": null,
            "grid_gap": null,
            "grid_row": null,
            "grid_template_areas": null,
            "grid_template_columns": null,
            "grid_template_rows": null,
            "height": null,
            "justify_content": null,
            "justify_items": null,
            "left": null,
            "margin": null,
            "max_height": null,
            "max_width": null,
            "min_height": null,
            "min_width": null,
            "object_fit": null,
            "object_position": null,
            "order": null,
            "overflow": null,
            "overflow_x": null,
            "overflow_y": null,
            "padding": null,
            "right": null,
            "top": null,
            "visibility": null,
            "width": null
          }
        },
        "7a23122c49eb4e04ba054abadde63830": {
          "model_module": "@jupyter-widgets/controls",
          "model_module_version": "1.5.0",
          "model_name": "LabelModel",
          "state": {
            "_dom_classes": [],
            "_model_module": "@jupyter-widgets/controls",
            "_model_module_version": "1.5.0",
            "_model_name": "LabelModel",
            "_view_count": null,
            "_view_module": "@jupyter-widgets/controls",
            "_view_module_version": "1.5.0",
            "_view_name": "LabelView",
            "description": "",
            "description_tooltip": null,
            "layout": "IPY_MODEL_3592ea2b80e0434bb4b6dba532f14140",
            "placeholder": "​",
            "style": "IPY_MODEL_f698ae1e78b14176a4a554a1d90ec0c7",
            "value": "0.011 MB of 0.011 MB uploaded\r"
          }
        },
        "7afaef39a77f40ae9a5fcda6e006b4de": {
          "model_module": "@jupyter-widgets/controls",
          "model_module_version": "1.5.0",
          "model_name": "DescriptionStyleModel",
          "state": {
            "_model_module": "@jupyter-widgets/controls",
            "_model_module_version": "1.5.0",
            "_model_name": "DescriptionStyleModel",
            "_view_count": null,
            "_view_module": "@jupyter-widgets/base",
            "_view_module_version": "1.2.0",
            "_view_name": "StyleView",
            "description_width": ""
          }
        },
        "7b06741fd9bc405f87ee2f38919f4e8b": {
          "model_module": "@jupyter-widgets/base",
          "model_module_version": "1.2.0",
          "model_name": "LayoutModel",
          "state": {
            "_model_module": "@jupyter-widgets/base",
            "_model_module_version": "1.2.0",
            "_model_name": "LayoutModel",
            "_view_count": null,
            "_view_module": "@jupyter-widgets/base",
            "_view_module_version": "1.2.0",
            "_view_name": "LayoutView",
            "align_content": null,
            "align_items": null,
            "align_self": null,
            "border": null,
            "bottom": null,
            "display": null,
            "flex": null,
            "flex_flow": null,
            "grid_area": null,
            "grid_auto_columns": null,
            "grid_auto_flow": null,
            "grid_auto_rows": null,
            "grid_column": null,
            "grid_gap": null,
            "grid_row": null,
            "grid_template_areas": null,
            "grid_template_columns": null,
            "grid_template_rows": null,
            "height": null,
            "justify_content": null,
            "justify_items": null,
            "left": null,
            "margin": null,
            "max_height": null,
            "max_width": null,
            "min_height": null,
            "min_width": null,
            "object_fit": null,
            "object_position": null,
            "order": null,
            "overflow": null,
            "overflow_x": null,
            "overflow_y": null,
            "padding": null,
            "right": null,
            "top": null,
            "visibility": null,
            "width": null
          }
        },
        "7c148c99740a4f96b2583f04abf2ecc4": {
          "model_module": "@jupyter-widgets/controls",
          "model_module_version": "1.5.0",
          "model_name": "FloatProgressModel",
          "state": {
            "_dom_classes": [],
            "_model_module": "@jupyter-widgets/controls",
            "_model_module_version": "1.5.0",
            "_model_name": "FloatProgressModel",
            "_view_count": null,
            "_view_module": "@jupyter-widgets/controls",
            "_view_module_version": "1.5.0",
            "_view_name": "ProgressView",
            "bar_style": "",
            "description": "",
            "description_tooltip": null,
            "layout": "IPY_MODEL_2c371e94a178422ea57c67c570a4f598",
            "max": 1,
            "min": 0,
            "orientation": "horizontal",
            "style": "IPY_MODEL_fc72cccca7944006b9f60a40fefaf43b",
            "value": 1
          }
        },
        "7d7c33d411284291979594f35eeaf429": {
          "model_module": "@jupyter-widgets/base",
          "model_module_version": "1.2.0",
          "model_name": "LayoutModel",
          "state": {
            "_model_module": "@jupyter-widgets/base",
            "_model_module_version": "1.2.0",
            "_model_name": "LayoutModel",
            "_view_count": null,
            "_view_module": "@jupyter-widgets/base",
            "_view_module_version": "1.2.0",
            "_view_name": "LayoutView",
            "align_content": null,
            "align_items": null,
            "align_self": null,
            "border": null,
            "bottom": null,
            "display": null,
            "flex": null,
            "flex_flow": null,
            "grid_area": null,
            "grid_auto_columns": null,
            "grid_auto_flow": null,
            "grid_auto_rows": null,
            "grid_column": null,
            "grid_gap": null,
            "grid_row": null,
            "grid_template_areas": null,
            "grid_template_columns": null,
            "grid_template_rows": null,
            "height": null,
            "justify_content": null,
            "justify_items": null,
            "left": null,
            "margin": null,
            "max_height": null,
            "max_width": null,
            "min_height": null,
            "min_width": null,
            "object_fit": null,
            "object_position": null,
            "order": null,
            "overflow": null,
            "overflow_x": null,
            "overflow_y": null,
            "padding": null,
            "right": null,
            "top": null,
            "visibility": null,
            "width": null
          }
        },
        "81d80cdaa83c4ce78e896c05fcd56ef1": {
          "model_module": "@jupyter-widgets/base",
          "model_module_version": "1.2.0",
          "model_name": "LayoutModel",
          "state": {
            "_model_module": "@jupyter-widgets/base",
            "_model_module_version": "1.2.0",
            "_model_name": "LayoutModel",
            "_view_count": null,
            "_view_module": "@jupyter-widgets/base",
            "_view_module_version": "1.2.0",
            "_view_name": "LayoutView",
            "align_content": null,
            "align_items": null,
            "align_self": null,
            "border": null,
            "bottom": null,
            "display": null,
            "flex": null,
            "flex_flow": null,
            "grid_area": null,
            "grid_auto_columns": null,
            "grid_auto_flow": null,
            "grid_auto_rows": null,
            "grid_column": null,
            "grid_gap": null,
            "grid_row": null,
            "grid_template_areas": null,
            "grid_template_columns": null,
            "grid_template_rows": null,
            "height": null,
            "justify_content": null,
            "justify_items": null,
            "left": null,
            "margin": null,
            "max_height": null,
            "max_width": null,
            "min_height": null,
            "min_width": null,
            "object_fit": null,
            "object_position": null,
            "order": null,
            "overflow": null,
            "overflow_x": null,
            "overflow_y": null,
            "padding": null,
            "right": null,
            "top": null,
            "visibility": null,
            "width": null
          }
        },
        "825fde5245184df9b08bc8f9c3abf171": {
          "model_module": "@jupyter-widgets/controls",
          "model_module_version": "1.5.0",
          "model_name": "FloatProgressModel",
          "state": {
            "_dom_classes": [],
            "_model_module": "@jupyter-widgets/controls",
            "_model_module_version": "1.5.0",
            "_model_name": "FloatProgressModel",
            "_view_count": null,
            "_view_module": "@jupyter-widgets/controls",
            "_view_module_version": "1.5.0",
            "_view_name": "ProgressView",
            "bar_style": "",
            "description": "",
            "description_tooltip": null,
            "layout": "IPY_MODEL_d1ec88c5425c4b029807a808e39bbdb7",
            "max": 1,
            "min": 0,
            "orientation": "horizontal",
            "style": "IPY_MODEL_4b6be28b48f244f98903e209ad0a8baf",
            "value": 1
          }
        },
        "8318e6597566476dbcdbe892012b9e2f": {
          "model_module": "@jupyter-widgets/base",
          "model_module_version": "1.2.0",
          "model_name": "LayoutModel",
          "state": {
            "_model_module": "@jupyter-widgets/base",
            "_model_module_version": "1.2.0",
            "_model_name": "LayoutModel",
            "_view_count": null,
            "_view_module": "@jupyter-widgets/base",
            "_view_module_version": "1.2.0",
            "_view_name": "LayoutView",
            "align_content": null,
            "align_items": null,
            "align_self": null,
            "border": null,
            "bottom": null,
            "display": null,
            "flex": null,
            "flex_flow": null,
            "grid_area": null,
            "grid_auto_columns": null,
            "grid_auto_flow": null,
            "grid_auto_rows": null,
            "grid_column": null,
            "grid_gap": null,
            "grid_row": null,
            "grid_template_areas": null,
            "grid_template_columns": null,
            "grid_template_rows": null,
            "height": null,
            "justify_content": null,
            "justify_items": null,
            "left": null,
            "margin": null,
            "max_height": null,
            "max_width": null,
            "min_height": null,
            "min_width": null,
            "object_fit": null,
            "object_position": null,
            "order": null,
            "overflow": null,
            "overflow_x": null,
            "overflow_y": null,
            "padding": null,
            "right": null,
            "top": null,
            "visibility": null,
            "width": null
          }
        },
        "841c6cbef0f1458eac95e445f602c983": {
          "model_module": "@jupyter-widgets/controls",
          "model_module_version": "1.5.0",
          "model_name": "DescriptionStyleModel",
          "state": {
            "_model_module": "@jupyter-widgets/controls",
            "_model_module_version": "1.5.0",
            "_model_name": "DescriptionStyleModel",
            "_view_count": null,
            "_view_module": "@jupyter-widgets/base",
            "_view_module_version": "1.2.0",
            "_view_name": "StyleView",
            "description_width": ""
          }
        },
        "84a0153248de4cca9782389c7a0b01b1": {
          "model_module": "@jupyter-widgets/controls",
          "model_module_version": "1.5.0",
          "model_name": "DescriptionStyleModel",
          "state": {
            "_model_module": "@jupyter-widgets/controls",
            "_model_module_version": "1.5.0",
            "_model_name": "DescriptionStyleModel",
            "_view_count": null,
            "_view_module": "@jupyter-widgets/base",
            "_view_module_version": "1.2.0",
            "_view_name": "StyleView",
            "description_width": ""
          }
        },
        "875d81656f5b46968a8b32aafd124404": {
          "model_module": "@jupyter-widgets/controls",
          "model_module_version": "1.5.0",
          "model_name": "FloatProgressModel",
          "state": {
            "_dom_classes": [],
            "_model_module": "@jupyter-widgets/controls",
            "_model_module_version": "1.5.0",
            "_model_name": "FloatProgressModel",
            "_view_count": null,
            "_view_module": "@jupyter-widgets/controls",
            "_view_module_version": "1.5.0",
            "_view_name": "ProgressView",
            "bar_style": "",
            "description": "",
            "description_tooltip": null,
            "layout": "IPY_MODEL_d2bd62c982d2476aac299be5196adf69",
            "max": 1,
            "min": 0,
            "orientation": "horizontal",
            "style": "IPY_MODEL_897910cbe5f44becb3abfa581e19e240",
            "value": 1
          }
        },
        "87c7c4207e004d5a96740618663d5120": {
          "model_module": "@jupyter-widgets/base",
          "model_module_version": "1.2.0",
          "model_name": "LayoutModel",
          "state": {
            "_model_module": "@jupyter-widgets/base",
            "_model_module_version": "1.2.0",
            "_model_name": "LayoutModel",
            "_view_count": null,
            "_view_module": "@jupyter-widgets/base",
            "_view_module_version": "1.2.0",
            "_view_name": "LayoutView",
            "align_content": null,
            "align_items": null,
            "align_self": null,
            "border": null,
            "bottom": null,
            "display": null,
            "flex": null,
            "flex_flow": null,
            "grid_area": null,
            "grid_auto_columns": null,
            "grid_auto_flow": null,
            "grid_auto_rows": null,
            "grid_column": null,
            "grid_gap": null,
            "grid_row": null,
            "grid_template_areas": null,
            "grid_template_columns": null,
            "grid_template_rows": null,
            "height": null,
            "justify_content": null,
            "justify_items": null,
            "left": null,
            "margin": null,
            "max_height": null,
            "max_width": null,
            "min_height": null,
            "min_width": null,
            "object_fit": null,
            "object_position": null,
            "order": null,
            "overflow": null,
            "overflow_x": null,
            "overflow_y": null,
            "padding": null,
            "right": null,
            "top": null,
            "visibility": null,
            "width": null
          }
        },
        "8803b84b9696452eafa69517875fe810": {
          "model_module": "@jupyter-widgets/controls",
          "model_module_version": "1.5.0",
          "model_name": "DescriptionStyleModel",
          "state": {
            "_model_module": "@jupyter-widgets/controls",
            "_model_module_version": "1.5.0",
            "_model_name": "DescriptionStyleModel",
            "_view_count": null,
            "_view_module": "@jupyter-widgets/base",
            "_view_module_version": "1.2.0",
            "_view_name": "StyleView",
            "description_width": ""
          }
        },
        "884a6569a4e04d44b9d7857602593842": {
          "model_module": "@jupyter-widgets/controls",
          "model_module_version": "1.5.0",
          "model_name": "LabelModel",
          "state": {
            "_dom_classes": [],
            "_model_module": "@jupyter-widgets/controls",
            "_model_module_version": "1.5.0",
            "_model_name": "LabelModel",
            "_view_count": null,
            "_view_module": "@jupyter-widgets/controls",
            "_view_module_version": "1.5.0",
            "_view_name": "LabelView",
            "description": "",
            "description_tooltip": null,
            "layout": "IPY_MODEL_706b9da5102c4cc7ba691c5528c55b05",
            "placeholder": "​",
            "style": "IPY_MODEL_ecb9c711b1354b3ca6cefbda6792767e",
            "value": "0.011 MB of 0.011 MB uploaded\r"
          }
        },
        "896e6a9dc2ba46e78e6ec0859c755d40": {
          "model_module": "@jupyter-widgets/base",
          "model_module_version": "1.2.0",
          "model_name": "LayoutModel",
          "state": {
            "_model_module": "@jupyter-widgets/base",
            "_model_module_version": "1.2.0",
            "_model_name": "LayoutModel",
            "_view_count": null,
            "_view_module": "@jupyter-widgets/base",
            "_view_module_version": "1.2.0",
            "_view_name": "LayoutView",
            "align_content": null,
            "align_items": null,
            "align_self": null,
            "border": null,
            "bottom": null,
            "display": null,
            "flex": null,
            "flex_flow": null,
            "grid_area": null,
            "grid_auto_columns": null,
            "grid_auto_flow": null,
            "grid_auto_rows": null,
            "grid_column": null,
            "grid_gap": null,
            "grid_row": null,
            "grid_template_areas": null,
            "grid_template_columns": null,
            "grid_template_rows": null,
            "height": null,
            "justify_content": null,
            "justify_items": null,
            "left": null,
            "margin": null,
            "max_height": null,
            "max_width": null,
            "min_height": null,
            "min_width": null,
            "object_fit": null,
            "object_position": null,
            "order": null,
            "overflow": null,
            "overflow_x": null,
            "overflow_y": null,
            "padding": null,
            "right": null,
            "top": null,
            "visibility": null,
            "width": null
          }
        },
        "897910cbe5f44becb3abfa581e19e240": {
          "model_module": "@jupyter-widgets/controls",
          "model_module_version": "1.5.0",
          "model_name": "ProgressStyleModel",
          "state": {
            "_model_module": "@jupyter-widgets/controls",
            "_model_module_version": "1.5.0",
            "_model_name": "ProgressStyleModel",
            "_view_count": null,
            "_view_module": "@jupyter-widgets/base",
            "_view_module_version": "1.2.0",
            "_view_name": "StyleView",
            "bar_color": null,
            "description_width": ""
          }
        },
        "8b39cbf2d67c4cee9f664b51ca6ce9b9": {
          "model_module": "@jupyter-widgets/base",
          "model_module_version": "1.2.0",
          "model_name": "LayoutModel",
          "state": {
            "_model_module": "@jupyter-widgets/base",
            "_model_module_version": "1.2.0",
            "_model_name": "LayoutModel",
            "_view_count": null,
            "_view_module": "@jupyter-widgets/base",
            "_view_module_version": "1.2.0",
            "_view_name": "LayoutView",
            "align_content": null,
            "align_items": null,
            "align_self": null,
            "border": null,
            "bottom": null,
            "display": null,
            "flex": null,
            "flex_flow": null,
            "grid_area": null,
            "grid_auto_columns": null,
            "grid_auto_flow": null,
            "grid_auto_rows": null,
            "grid_column": null,
            "grid_gap": null,
            "grid_row": null,
            "grid_template_areas": null,
            "grid_template_columns": null,
            "grid_template_rows": null,
            "height": null,
            "justify_content": null,
            "justify_items": null,
            "left": null,
            "margin": null,
            "max_height": null,
            "max_width": null,
            "min_height": null,
            "min_width": null,
            "object_fit": null,
            "object_position": null,
            "order": null,
            "overflow": null,
            "overflow_x": null,
            "overflow_y": null,
            "padding": null,
            "right": null,
            "top": null,
            "visibility": null,
            "width": null
          }
        },
        "8d1659e06176497ca63f5294e78967d5": {
          "model_module": "@jupyter-widgets/controls",
          "model_module_version": "1.5.0",
          "model_name": "LabelModel",
          "state": {
            "_dom_classes": [],
            "_model_module": "@jupyter-widgets/controls",
            "_model_module_version": "1.5.0",
            "_model_name": "LabelModel",
            "_view_count": null,
            "_view_module": "@jupyter-widgets/controls",
            "_view_module_version": "1.5.0",
            "_view_name": "LabelView",
            "description": "",
            "description_tooltip": null,
            "layout": "IPY_MODEL_a28125bd0d954c128b3ae889a9d066f2",
            "placeholder": "​",
            "style": "IPY_MODEL_7afaef39a77f40ae9a5fcda6e006b4de",
            "value": "Waiting for wandb.init()...\r"
          }
        },
        "8dd0d26f8229448481d37dee14aab191": {
          "model_module": "@jupyter-widgets/controls",
          "model_module_version": "1.5.0",
          "model_name": "VBoxModel",
          "state": {
            "_dom_classes": [],
            "_model_module": "@jupyter-widgets/controls",
            "_model_module_version": "1.5.0",
            "_model_name": "VBoxModel",
            "_view_count": null,
            "_view_module": "@jupyter-widgets/controls",
            "_view_module_version": "1.5.0",
            "_view_name": "VBoxView",
            "box_style": "",
            "children": [
              "IPY_MODEL_f0914e8cee0b4a4a8cd93c8700fac731",
              "IPY_MODEL_aa40de3cd5814c378bc30d1ca83d6c3c"
            ],
            "layout": "IPY_MODEL_b245e3f1033642c48837d7e9b671dadc"
          }
        },
        "8fd5287e47e6499ab212deb4fc9ade6d": {
          "model_module": "@jupyter-widgets/controls",
          "model_module_version": "1.5.0",
          "model_name": "ProgressStyleModel",
          "state": {
            "_model_module": "@jupyter-widgets/controls",
            "_model_module_version": "1.5.0",
            "_model_name": "ProgressStyleModel",
            "_view_count": null,
            "_view_module": "@jupyter-widgets/base",
            "_view_module_version": "1.2.0",
            "_view_name": "StyleView",
            "bar_color": null,
            "description_width": ""
          }
        },
        "90f763aebd484ef39f2b272ba8cfe2b5": {
          "model_module": "@jupyter-widgets/controls",
          "model_module_version": "1.5.0",
          "model_name": "VBoxModel",
          "state": {
            "_dom_classes": [],
            "_model_module": "@jupyter-widgets/controls",
            "_model_module_version": "1.5.0",
            "_model_name": "VBoxModel",
            "_view_count": null,
            "_view_module": "@jupyter-widgets/controls",
            "_view_module_version": "1.5.0",
            "_view_name": "VBoxView",
            "box_style": "",
            "children": [
              "IPY_MODEL_4a3e9818eff34e799b51e2c2d04dac0c",
              "IPY_MODEL_e3d1bd19bb334e649941438055106841"
            ],
            "layout": "IPY_MODEL_37fc17ff41e4425da93de187ab6ba3b0"
          }
        },
        "91a260c6cb804bf191247fd5a39a7c09": {
          "model_module": "@jupyter-widgets/controls",
          "model_module_version": "1.5.0",
          "model_name": "ProgressStyleModel",
          "state": {
            "_model_module": "@jupyter-widgets/controls",
            "_model_module_version": "1.5.0",
            "_model_name": "ProgressStyleModel",
            "_view_count": null,
            "_view_module": "@jupyter-widgets/base",
            "_view_module_version": "1.2.0",
            "_view_name": "StyleView",
            "bar_color": null,
            "description_width": ""
          }
        },
        "925637c4150e4fbea7f1d9fa5c3dd29d": {
          "model_module": "@jupyter-widgets/base",
          "model_module_version": "1.2.0",
          "model_name": "LayoutModel",
          "state": {
            "_model_module": "@jupyter-widgets/base",
            "_model_module_version": "1.2.0",
            "_model_name": "LayoutModel",
            "_view_count": null,
            "_view_module": "@jupyter-widgets/base",
            "_view_module_version": "1.2.0",
            "_view_name": "LayoutView",
            "align_content": null,
            "align_items": null,
            "align_self": null,
            "border": null,
            "bottom": null,
            "display": null,
            "flex": null,
            "flex_flow": null,
            "grid_area": null,
            "grid_auto_columns": null,
            "grid_auto_flow": null,
            "grid_auto_rows": null,
            "grid_column": null,
            "grid_gap": null,
            "grid_row": null,
            "grid_template_areas": null,
            "grid_template_columns": null,
            "grid_template_rows": null,
            "height": null,
            "justify_content": null,
            "justify_items": null,
            "left": null,
            "margin": null,
            "max_height": null,
            "max_width": null,
            "min_height": null,
            "min_width": null,
            "object_fit": null,
            "object_position": null,
            "order": null,
            "overflow": null,
            "overflow_x": null,
            "overflow_y": null,
            "padding": null,
            "right": null,
            "top": null,
            "visibility": null,
            "width": null
          }
        },
        "93a2512522cb4fa3a73c4e595fbf032f": {
          "model_module": "@jupyter-widgets/controls",
          "model_module_version": "1.5.0",
          "model_name": "FloatProgressModel",
          "state": {
            "_dom_classes": [],
            "_model_module": "@jupyter-widgets/controls",
            "_model_module_version": "1.5.0",
            "_model_name": "FloatProgressModel",
            "_view_count": null,
            "_view_module": "@jupyter-widgets/controls",
            "_view_module_version": "1.5.0",
            "_view_name": "ProgressView",
            "bar_style": "",
            "description": "",
            "description_tooltip": null,
            "layout": "IPY_MODEL_ba2ac9396be84dcf80683367665f3c84",
            "max": 1,
            "min": 0,
            "orientation": "horizontal",
            "style": "IPY_MODEL_ff937eab01fc4f5e840a1e59700a6b4a",
            "value": 1
          }
        },
        "947cd14b69584ff188e3d8fd0c533ed9": {
          "model_module": "@jupyter-widgets/controls",
          "model_module_version": "1.5.0",
          "model_name": "VBoxModel",
          "state": {
            "_dom_classes": [],
            "_model_module": "@jupyter-widgets/controls",
            "_model_module_version": "1.5.0",
            "_model_name": "VBoxModel",
            "_view_count": null,
            "_view_module": "@jupyter-widgets/controls",
            "_view_module_version": "1.5.0",
            "_view_name": "VBoxView",
            "box_style": "",
            "children": [
              "IPY_MODEL_0d22c3f132f14c4f87808998cbfc44be",
              "IPY_MODEL_00d4538dfb2a49f0889a3e2162c6ff33"
            ],
            "layout": "IPY_MODEL_558cd58957ca48a5b88daa3f0613e18a"
          }
        },
        "966dec170d5e4f3c884d0f0d04680fc6": {
          "model_module": "@jupyter-widgets/base",
          "model_module_version": "1.2.0",
          "model_name": "LayoutModel",
          "state": {
            "_model_module": "@jupyter-widgets/base",
            "_model_module_version": "1.2.0",
            "_model_name": "LayoutModel",
            "_view_count": null,
            "_view_module": "@jupyter-widgets/base",
            "_view_module_version": "1.2.0",
            "_view_name": "LayoutView",
            "align_content": null,
            "align_items": null,
            "align_self": null,
            "border": null,
            "bottom": null,
            "display": null,
            "flex": null,
            "flex_flow": null,
            "grid_area": null,
            "grid_auto_columns": null,
            "grid_auto_flow": null,
            "grid_auto_rows": null,
            "grid_column": null,
            "grid_gap": null,
            "grid_row": null,
            "grid_template_areas": null,
            "grid_template_columns": null,
            "grid_template_rows": null,
            "height": null,
            "justify_content": null,
            "justify_items": null,
            "left": null,
            "margin": null,
            "max_height": null,
            "max_width": null,
            "min_height": null,
            "min_width": null,
            "object_fit": null,
            "object_position": null,
            "order": null,
            "overflow": null,
            "overflow_x": null,
            "overflow_y": null,
            "padding": null,
            "right": null,
            "top": null,
            "visibility": null,
            "width": null
          }
        },
        "97230c0b42ef457098589907c2885d35": {
          "model_module": "@jupyter-widgets/base",
          "model_module_version": "1.2.0",
          "model_name": "LayoutModel",
          "state": {
            "_model_module": "@jupyter-widgets/base",
            "_model_module_version": "1.2.0",
            "_model_name": "LayoutModel",
            "_view_count": null,
            "_view_module": "@jupyter-widgets/base",
            "_view_module_version": "1.2.0",
            "_view_name": "LayoutView",
            "align_content": null,
            "align_items": null,
            "align_self": null,
            "border": null,
            "bottom": null,
            "display": null,
            "flex": null,
            "flex_flow": null,
            "grid_area": null,
            "grid_auto_columns": null,
            "grid_auto_flow": null,
            "grid_auto_rows": null,
            "grid_column": null,
            "grid_gap": null,
            "grid_row": null,
            "grid_template_areas": null,
            "grid_template_columns": null,
            "grid_template_rows": null,
            "height": null,
            "justify_content": null,
            "justify_items": null,
            "left": null,
            "margin": null,
            "max_height": null,
            "max_width": null,
            "min_height": null,
            "min_width": null,
            "object_fit": null,
            "object_position": null,
            "order": null,
            "overflow": null,
            "overflow_x": null,
            "overflow_y": null,
            "padding": null,
            "right": null,
            "top": null,
            "visibility": null,
            "width": null
          }
        },
        "97d6752828fd43cf9c114cbb28d46e2d": {
          "model_module": "@jupyter-widgets/controls",
          "model_module_version": "1.5.0",
          "model_name": "LabelModel",
          "state": {
            "_dom_classes": [],
            "_model_module": "@jupyter-widgets/controls",
            "_model_module_version": "1.5.0",
            "_model_name": "LabelModel",
            "_view_count": null,
            "_view_module": "@jupyter-widgets/controls",
            "_view_module_version": "1.5.0",
            "_view_name": "LabelView",
            "description": "",
            "description_tooltip": null,
            "layout": "IPY_MODEL_0f6ac37177054097ae3a53c98c67d1e0",
            "placeholder": "​",
            "style": "IPY_MODEL_03d9ece92c34499f82633f7be9815223",
            "value": "0.011 MB of 0.011 MB uploaded\r"
          }
        },
        "97f6ef0da40944e4b47980ac21982b0b": {
          "model_module": "@jupyter-widgets/base",
          "model_module_version": "1.2.0",
          "model_name": "LayoutModel",
          "state": {
            "_model_module": "@jupyter-widgets/base",
            "_model_module_version": "1.2.0",
            "_model_name": "LayoutModel",
            "_view_count": null,
            "_view_module": "@jupyter-widgets/base",
            "_view_module_version": "1.2.0",
            "_view_name": "LayoutView",
            "align_content": null,
            "align_items": null,
            "align_self": null,
            "border": null,
            "bottom": null,
            "display": null,
            "flex": null,
            "flex_flow": null,
            "grid_area": null,
            "grid_auto_columns": null,
            "grid_auto_flow": null,
            "grid_auto_rows": null,
            "grid_column": null,
            "grid_gap": null,
            "grid_row": null,
            "grid_template_areas": null,
            "grid_template_columns": null,
            "grid_template_rows": null,
            "height": null,
            "justify_content": null,
            "justify_items": null,
            "left": null,
            "margin": null,
            "max_height": null,
            "max_width": null,
            "min_height": null,
            "min_width": null,
            "object_fit": null,
            "object_position": null,
            "order": null,
            "overflow": null,
            "overflow_x": null,
            "overflow_y": null,
            "padding": null,
            "right": null,
            "top": null,
            "visibility": null,
            "width": null
          }
        },
        "98a4fcaee0ff4c2984606521f233ca8a": {
          "model_module": "@jupyter-widgets/controls",
          "model_module_version": "1.5.0",
          "model_name": "FloatProgressModel",
          "state": {
            "_dom_classes": [],
            "_model_module": "@jupyter-widgets/controls",
            "_model_module_version": "1.5.0",
            "_model_name": "FloatProgressModel",
            "_view_count": null,
            "_view_module": "@jupyter-widgets/controls",
            "_view_module_version": "1.5.0",
            "_view_name": "ProgressView",
            "bar_style": "",
            "description": "",
            "description_tooltip": null,
            "layout": "IPY_MODEL_b165fb2fbf9a4a47b06a0cc0acc8fea8",
            "max": 1,
            "min": 0,
            "orientation": "horizontal",
            "style": "IPY_MODEL_56587ab8c36b477789a27e0e0730df26",
            "value": 1
          }
        },
        "997dabeefbc0486591c48679c1f66b63": {
          "model_module": "@jupyter-widgets/base",
          "model_module_version": "1.2.0",
          "model_name": "LayoutModel",
          "state": {
            "_model_module": "@jupyter-widgets/base",
            "_model_module_version": "1.2.0",
            "_model_name": "LayoutModel",
            "_view_count": null,
            "_view_module": "@jupyter-widgets/base",
            "_view_module_version": "1.2.0",
            "_view_name": "LayoutView",
            "align_content": null,
            "align_items": null,
            "align_self": null,
            "border": null,
            "bottom": null,
            "display": null,
            "flex": null,
            "flex_flow": null,
            "grid_area": null,
            "grid_auto_columns": null,
            "grid_auto_flow": null,
            "grid_auto_rows": null,
            "grid_column": null,
            "grid_gap": null,
            "grid_row": null,
            "grid_template_areas": null,
            "grid_template_columns": null,
            "grid_template_rows": null,
            "height": null,
            "justify_content": null,
            "justify_items": null,
            "left": null,
            "margin": null,
            "max_height": null,
            "max_width": null,
            "min_height": null,
            "min_width": null,
            "object_fit": null,
            "object_position": null,
            "order": null,
            "overflow": null,
            "overflow_x": null,
            "overflow_y": null,
            "padding": null,
            "right": null,
            "top": null,
            "visibility": null,
            "width": null
          }
        },
        "9981be95dfd948c08d86d27c07498bb9": {
          "model_module": "@jupyter-widgets/controls",
          "model_module_version": "1.5.0",
          "model_name": "FloatProgressModel",
          "state": {
            "_dom_classes": [],
            "_model_module": "@jupyter-widgets/controls",
            "_model_module_version": "1.5.0",
            "_model_name": "FloatProgressModel",
            "_view_count": null,
            "_view_module": "@jupyter-widgets/controls",
            "_view_module_version": "1.5.0",
            "_view_name": "ProgressView",
            "bar_style": "",
            "description": "",
            "description_tooltip": null,
            "layout": "IPY_MODEL_c2f01d98d52c49da9932ccd69fbe0a94",
            "max": 1,
            "min": 0,
            "orientation": "horizontal",
            "style": "IPY_MODEL_3ab3c370ee0745dfb9d79ad969cce503",
            "value": 1
          }
        },
        "9a368513b4a2424da5671b995a3e81bd": {
          "model_module": "@jupyter-widgets/controls",
          "model_module_version": "1.5.0",
          "model_name": "DescriptionStyleModel",
          "state": {
            "_model_module": "@jupyter-widgets/controls",
            "_model_module_version": "1.5.0",
            "_model_name": "DescriptionStyleModel",
            "_view_count": null,
            "_view_module": "@jupyter-widgets/base",
            "_view_module_version": "1.2.0",
            "_view_name": "StyleView",
            "description_width": ""
          }
        },
        "9c30f1b6dbc74c3599eb16d3f4708eee": {
          "model_module": "@jupyter-widgets/base",
          "model_module_version": "1.2.0",
          "model_name": "LayoutModel",
          "state": {
            "_model_module": "@jupyter-widgets/base",
            "_model_module_version": "1.2.0",
            "_model_name": "LayoutModel",
            "_view_count": null,
            "_view_module": "@jupyter-widgets/base",
            "_view_module_version": "1.2.0",
            "_view_name": "LayoutView",
            "align_content": null,
            "align_items": null,
            "align_self": null,
            "border": null,
            "bottom": null,
            "display": null,
            "flex": null,
            "flex_flow": null,
            "grid_area": null,
            "grid_auto_columns": null,
            "grid_auto_flow": null,
            "grid_auto_rows": null,
            "grid_column": null,
            "grid_gap": null,
            "grid_row": null,
            "grid_template_areas": null,
            "grid_template_columns": null,
            "grid_template_rows": null,
            "height": null,
            "justify_content": null,
            "justify_items": null,
            "left": null,
            "margin": null,
            "max_height": null,
            "max_width": null,
            "min_height": null,
            "min_width": null,
            "object_fit": null,
            "object_position": null,
            "order": null,
            "overflow": null,
            "overflow_x": null,
            "overflow_y": null,
            "padding": null,
            "right": null,
            "top": null,
            "visibility": null,
            "width": null
          }
        },
        "9c325f36690f40b494469140a2a5d7bb": {
          "model_module": "@jupyter-widgets/controls",
          "model_module_version": "1.5.0",
          "model_name": "VBoxModel",
          "state": {
            "_dom_classes": [],
            "_model_module": "@jupyter-widgets/controls",
            "_model_module_version": "1.5.0",
            "_model_name": "VBoxModel",
            "_view_count": null,
            "_view_module": "@jupyter-widgets/controls",
            "_view_module_version": "1.5.0",
            "_view_name": "VBoxView",
            "box_style": "",
            "children": [
              "IPY_MODEL_884a6569a4e04d44b9d7857602593842",
              "IPY_MODEL_164501a6d37d4f98817be5407764af02"
            ],
            "layout": "IPY_MODEL_047b1dd04e624514b4add58f807919e6"
          }
        },
        "9d1fab944fa44bd6a012fdae10213b8b": {
          "model_module": "@jupyter-widgets/base",
          "model_module_version": "1.2.0",
          "model_name": "LayoutModel",
          "state": {
            "_model_module": "@jupyter-widgets/base",
            "_model_module_version": "1.2.0",
            "_model_name": "LayoutModel",
            "_view_count": null,
            "_view_module": "@jupyter-widgets/base",
            "_view_module_version": "1.2.0",
            "_view_name": "LayoutView",
            "align_content": null,
            "align_items": null,
            "align_self": null,
            "border": null,
            "bottom": null,
            "display": null,
            "flex": null,
            "flex_flow": null,
            "grid_area": null,
            "grid_auto_columns": null,
            "grid_auto_flow": null,
            "grid_auto_rows": null,
            "grid_column": null,
            "grid_gap": null,
            "grid_row": null,
            "grid_template_areas": null,
            "grid_template_columns": null,
            "grid_template_rows": null,
            "height": null,
            "justify_content": null,
            "justify_items": null,
            "left": null,
            "margin": null,
            "max_height": null,
            "max_width": null,
            "min_height": null,
            "min_width": null,
            "object_fit": null,
            "object_position": null,
            "order": null,
            "overflow": null,
            "overflow_x": null,
            "overflow_y": null,
            "padding": null,
            "right": null,
            "top": null,
            "visibility": null,
            "width": null
          }
        },
        "9d7738c4336a45ef99feafa60625c6f7": {
          "model_module": "@jupyter-widgets/controls",
          "model_module_version": "1.5.0",
          "model_name": "ProgressStyleModel",
          "state": {
            "_model_module": "@jupyter-widgets/controls",
            "_model_module_version": "1.5.0",
            "_model_name": "ProgressStyleModel",
            "_view_count": null,
            "_view_module": "@jupyter-widgets/base",
            "_view_module_version": "1.2.0",
            "_view_name": "StyleView",
            "bar_color": null,
            "description_width": ""
          }
        },
        "9ea2337652a6416dbeb9e8aee1955375": {
          "model_module": "@jupyter-widgets/controls",
          "model_module_version": "1.5.0",
          "model_name": "LabelModel",
          "state": {
            "_dom_classes": [],
            "_model_module": "@jupyter-widgets/controls",
            "_model_module_version": "1.5.0",
            "_model_name": "LabelModel",
            "_view_count": null,
            "_view_module": "@jupyter-widgets/controls",
            "_view_module_version": "1.5.0",
            "_view_name": "LabelView",
            "description": "",
            "description_tooltip": null,
            "layout": "IPY_MODEL_1ad20b9c9dac4346869af40bdf6cd3fb",
            "placeholder": "​",
            "style": "IPY_MODEL_06be2eb3071345a8aec824a89af11a7c",
            "value": "0.011 MB of 0.011 MB uploaded\r"
          }
        },
        "a02af15d865e412cbe58b267071cc9d7": {
          "model_module": "@jupyter-widgets/controls",
          "model_module_version": "1.5.0",
          "model_name": "DescriptionStyleModel",
          "state": {
            "_model_module": "@jupyter-widgets/controls",
            "_model_module_version": "1.5.0",
            "_model_name": "DescriptionStyleModel",
            "_view_count": null,
            "_view_module": "@jupyter-widgets/base",
            "_view_module_version": "1.2.0",
            "_view_name": "StyleView",
            "description_width": ""
          }
        },
        "a23a487d6daa43e38e1aa136cd46d8ef": {
          "model_module": "@jupyter-widgets/base",
          "model_module_version": "1.2.0",
          "model_name": "LayoutModel",
          "state": {
            "_model_module": "@jupyter-widgets/base",
            "_model_module_version": "1.2.0",
            "_model_name": "LayoutModel",
            "_view_count": null,
            "_view_module": "@jupyter-widgets/base",
            "_view_module_version": "1.2.0",
            "_view_name": "LayoutView",
            "align_content": null,
            "align_items": null,
            "align_self": null,
            "border": null,
            "bottom": null,
            "display": null,
            "flex": null,
            "flex_flow": null,
            "grid_area": null,
            "grid_auto_columns": null,
            "grid_auto_flow": null,
            "grid_auto_rows": null,
            "grid_column": null,
            "grid_gap": null,
            "grid_row": null,
            "grid_template_areas": null,
            "grid_template_columns": null,
            "grid_template_rows": null,
            "height": null,
            "justify_content": null,
            "justify_items": null,
            "left": null,
            "margin": null,
            "max_height": null,
            "max_width": null,
            "min_height": null,
            "min_width": null,
            "object_fit": null,
            "object_position": null,
            "order": null,
            "overflow": null,
            "overflow_x": null,
            "overflow_y": null,
            "padding": null,
            "right": null,
            "top": null,
            "visibility": null,
            "width": null
          }
        },
        "a280f9ceaf324a52ae7fb816aed09c41": {
          "model_module": "@jupyter-widgets/controls",
          "model_module_version": "1.5.0",
          "model_name": "VBoxModel",
          "state": {
            "_dom_classes": [],
            "_model_module": "@jupyter-widgets/controls",
            "_model_module_version": "1.5.0",
            "_model_name": "VBoxModel",
            "_view_count": null,
            "_view_module": "@jupyter-widgets/controls",
            "_view_module_version": "1.5.0",
            "_view_name": "VBoxView",
            "box_style": "",
            "children": [
              "IPY_MODEL_769cb2c339764ec0a49b8aaaacb8c81f",
              "IPY_MODEL_b8362221c43f42d3a06f1d330f3b3e8a"
            ],
            "layout": "IPY_MODEL_141fd9a8d7344d2da257ece42a435d49"
          }
        },
        "a28125bd0d954c128b3ae889a9d066f2": {
          "model_module": "@jupyter-widgets/base",
          "model_module_version": "1.2.0",
          "model_name": "LayoutModel",
          "state": {
            "_model_module": "@jupyter-widgets/base",
            "_model_module_version": "1.2.0",
            "_model_name": "LayoutModel",
            "_view_count": null,
            "_view_module": "@jupyter-widgets/base",
            "_view_module_version": "1.2.0",
            "_view_name": "LayoutView",
            "align_content": null,
            "align_items": null,
            "align_self": null,
            "border": null,
            "bottom": null,
            "display": null,
            "flex": null,
            "flex_flow": null,
            "grid_area": null,
            "grid_auto_columns": null,
            "grid_auto_flow": null,
            "grid_auto_rows": null,
            "grid_column": null,
            "grid_gap": null,
            "grid_row": null,
            "grid_template_areas": null,
            "grid_template_columns": null,
            "grid_template_rows": null,
            "height": null,
            "justify_content": null,
            "justify_items": null,
            "left": null,
            "margin": null,
            "max_height": null,
            "max_width": null,
            "min_height": null,
            "min_width": null,
            "object_fit": null,
            "object_position": null,
            "order": null,
            "overflow": null,
            "overflow_x": null,
            "overflow_y": null,
            "padding": null,
            "right": null,
            "top": null,
            "visibility": null,
            "width": null
          }
        },
        "a5b1ba879ac34d26960b08bd631ce154": {
          "model_module": "@jupyter-widgets/controls",
          "model_module_version": "1.5.0",
          "model_name": "LabelModel",
          "state": {
            "_dom_classes": [],
            "_model_module": "@jupyter-widgets/controls",
            "_model_module_version": "1.5.0",
            "_model_name": "LabelModel",
            "_view_count": null,
            "_view_module": "@jupyter-widgets/controls",
            "_view_module_version": "1.5.0",
            "_view_name": "LabelView",
            "description": "",
            "description_tooltip": null,
            "layout": "IPY_MODEL_3d698ddc8e4c482699a368870b26d40e",
            "placeholder": "​",
            "style": "IPY_MODEL_ae1e0bb47d714f1b94804297b9da2c30",
            "value": "0.011 MB of 0.011 MB uploaded\r"
          }
        },
        "a79adb6658404cadbf44bf220c493952": {
          "model_module": "@jupyter-widgets/base",
          "model_module_version": "1.2.0",
          "model_name": "LayoutModel",
          "state": {
            "_model_module": "@jupyter-widgets/base",
            "_model_module_version": "1.2.0",
            "_model_name": "LayoutModel",
            "_view_count": null,
            "_view_module": "@jupyter-widgets/base",
            "_view_module_version": "1.2.0",
            "_view_name": "LayoutView",
            "align_content": null,
            "align_items": null,
            "align_self": null,
            "border": null,
            "bottom": null,
            "display": null,
            "flex": null,
            "flex_flow": null,
            "grid_area": null,
            "grid_auto_columns": null,
            "grid_auto_flow": null,
            "grid_auto_rows": null,
            "grid_column": null,
            "grid_gap": null,
            "grid_row": null,
            "grid_template_areas": null,
            "grid_template_columns": null,
            "grid_template_rows": null,
            "height": null,
            "justify_content": null,
            "justify_items": null,
            "left": null,
            "margin": null,
            "max_height": null,
            "max_width": null,
            "min_height": null,
            "min_width": null,
            "object_fit": null,
            "object_position": null,
            "order": null,
            "overflow": null,
            "overflow_x": null,
            "overflow_y": null,
            "padding": null,
            "right": null,
            "top": null,
            "visibility": null,
            "width": null
          }
        },
        "a8a8b5561e3545fcae6575ac15eff5dd": {
          "model_module": "@jupyter-widgets/controls",
          "model_module_version": "1.5.0",
          "model_name": "VBoxModel",
          "state": {
            "_dom_classes": [],
            "_model_module": "@jupyter-widgets/controls",
            "_model_module_version": "1.5.0",
            "_model_name": "VBoxModel",
            "_view_count": null,
            "_view_module": "@jupyter-widgets/controls",
            "_view_module_version": "1.5.0",
            "_view_name": "VBoxView",
            "box_style": "",
            "children": [
              "IPY_MODEL_e400083db709439eb6fdde140a35e941",
              "IPY_MODEL_4c276da13e3b4ab88656a6747947e338"
            ],
            "layout": "IPY_MODEL_13cd5739f4c1484bb216b52b9ffd1c91"
          }
        },
        "a9e27d32794149019eaae3a6302f8ce4": {
          "model_module": "@jupyter-widgets/base",
          "model_module_version": "1.2.0",
          "model_name": "LayoutModel",
          "state": {
            "_model_module": "@jupyter-widgets/base",
            "_model_module_version": "1.2.0",
            "_model_name": "LayoutModel",
            "_view_count": null,
            "_view_module": "@jupyter-widgets/base",
            "_view_module_version": "1.2.0",
            "_view_name": "LayoutView",
            "align_content": null,
            "align_items": null,
            "align_self": null,
            "border": null,
            "bottom": null,
            "display": null,
            "flex": null,
            "flex_flow": null,
            "grid_area": null,
            "grid_auto_columns": null,
            "grid_auto_flow": null,
            "grid_auto_rows": null,
            "grid_column": null,
            "grid_gap": null,
            "grid_row": null,
            "grid_template_areas": null,
            "grid_template_columns": null,
            "grid_template_rows": null,
            "height": null,
            "justify_content": null,
            "justify_items": null,
            "left": null,
            "margin": null,
            "max_height": null,
            "max_width": null,
            "min_height": null,
            "min_width": null,
            "object_fit": null,
            "object_position": null,
            "order": null,
            "overflow": null,
            "overflow_x": null,
            "overflow_y": null,
            "padding": null,
            "right": null,
            "top": null,
            "visibility": null,
            "width": null
          }
        },
        "aa40de3cd5814c378bc30d1ca83d6c3c": {
          "model_module": "@jupyter-widgets/controls",
          "model_module_version": "1.5.0",
          "model_name": "FloatProgressModel",
          "state": {
            "_dom_classes": [],
            "_model_module": "@jupyter-widgets/controls",
            "_model_module_version": "1.5.0",
            "_model_name": "FloatProgressModel",
            "_view_count": null,
            "_view_module": "@jupyter-widgets/controls",
            "_view_module_version": "1.5.0",
            "_view_name": "ProgressView",
            "bar_style": "",
            "description": "",
            "description_tooltip": null,
            "layout": "IPY_MODEL_97230c0b42ef457098589907c2885d35",
            "max": 1,
            "min": 0,
            "orientation": "horizontal",
            "style": "IPY_MODEL_537549377ce84044b0c16762aa706e14",
            "value": 1
          }
        },
        "ab89cf5b7ce54e9195107a7315fbbbb3": {
          "model_module": "@jupyter-widgets/controls",
          "model_module_version": "1.5.0",
          "model_name": "VBoxModel",
          "state": {
            "_dom_classes": [],
            "_model_module": "@jupyter-widgets/controls",
            "_model_module_version": "1.5.0",
            "_model_name": "VBoxModel",
            "_view_count": null,
            "_view_module": "@jupyter-widgets/controls",
            "_view_module_version": "1.5.0",
            "_view_name": "VBoxView",
            "box_style": "",
            "children": [
              "IPY_MODEL_d586b7a2ca0b4fcc8943012a1b308640",
              "IPY_MODEL_6464a1645b9e4c22861343a4dc24e3e7"
            ],
            "layout": "IPY_MODEL_134bd0694be5424c8f6c285c58401631"
          }
        },
        "ae1e0bb47d714f1b94804297b9da2c30": {
          "model_module": "@jupyter-widgets/controls",
          "model_module_version": "1.5.0",
          "model_name": "DescriptionStyleModel",
          "state": {
            "_model_module": "@jupyter-widgets/controls",
            "_model_module_version": "1.5.0",
            "_model_name": "DescriptionStyleModel",
            "_view_count": null,
            "_view_module": "@jupyter-widgets/base",
            "_view_module_version": "1.2.0",
            "_view_name": "StyleView",
            "description_width": ""
          }
        },
        "af52b5b65dde46b79923af8eba373e28": {
          "model_module": "@jupyter-widgets/controls",
          "model_module_version": "1.5.0",
          "model_name": "VBoxModel",
          "state": {
            "_dom_classes": [],
            "_model_module": "@jupyter-widgets/controls",
            "_model_module_version": "1.5.0",
            "_model_name": "VBoxModel",
            "_view_count": null,
            "_view_module": "@jupyter-widgets/controls",
            "_view_module_version": "1.5.0",
            "_view_name": "VBoxView",
            "box_style": "",
            "children": [
              "IPY_MODEL_c6f09f97e6714ee8bac79eff5655d61c",
              "IPY_MODEL_c297dd86e8b84bea8dcd84172360736d"
            ],
            "layout": "IPY_MODEL_f98fcc1e690c414c96e8bfc7c6de82ef"
          }
        },
        "b047e36e6e994a838f513f399e4cce62": {
          "model_module": "@jupyter-widgets/base",
          "model_module_version": "1.2.0",
          "model_name": "LayoutModel",
          "state": {
            "_model_module": "@jupyter-widgets/base",
            "_model_module_version": "1.2.0",
            "_model_name": "LayoutModel",
            "_view_count": null,
            "_view_module": "@jupyter-widgets/base",
            "_view_module_version": "1.2.0",
            "_view_name": "LayoutView",
            "align_content": null,
            "align_items": null,
            "align_self": null,
            "border": null,
            "bottom": null,
            "display": null,
            "flex": null,
            "flex_flow": null,
            "grid_area": null,
            "grid_auto_columns": null,
            "grid_auto_flow": null,
            "grid_auto_rows": null,
            "grid_column": null,
            "grid_gap": null,
            "grid_row": null,
            "grid_template_areas": null,
            "grid_template_columns": null,
            "grid_template_rows": null,
            "height": null,
            "justify_content": null,
            "justify_items": null,
            "left": null,
            "margin": null,
            "max_height": null,
            "max_width": null,
            "min_height": null,
            "min_width": null,
            "object_fit": null,
            "object_position": null,
            "order": null,
            "overflow": null,
            "overflow_x": null,
            "overflow_y": null,
            "padding": null,
            "right": null,
            "top": null,
            "visibility": null,
            "width": null
          }
        },
        "b0745496d77c48eabef0c570482c3cd6": {
          "model_module": "@jupyter-widgets/controls",
          "model_module_version": "1.5.0",
          "model_name": "FloatProgressModel",
          "state": {
            "_dom_classes": [],
            "_model_module": "@jupyter-widgets/controls",
            "_model_module_version": "1.5.0",
            "_model_name": "FloatProgressModel",
            "_view_count": null,
            "_view_module": "@jupyter-widgets/controls",
            "_view_module_version": "1.5.0",
            "_view_name": "ProgressView",
            "bar_style": "",
            "description": "",
            "description_tooltip": null,
            "layout": "IPY_MODEL_659a8fec9b62409ca1a20935e784e44e",
            "max": 1,
            "min": 0,
            "orientation": "horizontal",
            "style": "IPY_MODEL_9d7738c4336a45ef99feafa60625c6f7",
            "value": 1
          }
        },
        "b11b32edfefe4ff0a27a70cf55c38bdc": {
          "model_module": "@jupyter-widgets/controls",
          "model_module_version": "1.5.0",
          "model_name": "LabelModel",
          "state": {
            "_dom_classes": [],
            "_model_module": "@jupyter-widgets/controls",
            "_model_module_version": "1.5.0",
            "_model_name": "LabelModel",
            "_view_count": null,
            "_view_module": "@jupyter-widgets/controls",
            "_view_module_version": "1.5.0",
            "_view_name": "LabelView",
            "description": "",
            "description_tooltip": null,
            "layout": "IPY_MODEL_47586a4cc8a84322a87b97948fe926c1",
            "placeholder": "​",
            "style": "IPY_MODEL_0c4a779609b44d8985722b2dbc0219ca",
            "value": "0.011 MB of 0.011 MB uploaded\r"
          }
        },
        "b165fb2fbf9a4a47b06a0cc0acc8fea8": {
          "model_module": "@jupyter-widgets/base",
          "model_module_version": "1.2.0",
          "model_name": "LayoutModel",
          "state": {
            "_model_module": "@jupyter-widgets/base",
            "_model_module_version": "1.2.0",
            "_model_name": "LayoutModel",
            "_view_count": null,
            "_view_module": "@jupyter-widgets/base",
            "_view_module_version": "1.2.0",
            "_view_name": "LayoutView",
            "align_content": null,
            "align_items": null,
            "align_self": null,
            "border": null,
            "bottom": null,
            "display": null,
            "flex": null,
            "flex_flow": null,
            "grid_area": null,
            "grid_auto_columns": null,
            "grid_auto_flow": null,
            "grid_auto_rows": null,
            "grid_column": null,
            "grid_gap": null,
            "grid_row": null,
            "grid_template_areas": null,
            "grid_template_columns": null,
            "grid_template_rows": null,
            "height": null,
            "justify_content": null,
            "justify_items": null,
            "left": null,
            "margin": null,
            "max_height": null,
            "max_width": null,
            "min_height": null,
            "min_width": null,
            "object_fit": null,
            "object_position": null,
            "order": null,
            "overflow": null,
            "overflow_x": null,
            "overflow_y": null,
            "padding": null,
            "right": null,
            "top": null,
            "visibility": null,
            "width": null
          }
        },
        "b245e3f1033642c48837d7e9b671dadc": {
          "model_module": "@jupyter-widgets/base",
          "model_module_version": "1.2.0",
          "model_name": "LayoutModel",
          "state": {
            "_model_module": "@jupyter-widgets/base",
            "_model_module_version": "1.2.0",
            "_model_name": "LayoutModel",
            "_view_count": null,
            "_view_module": "@jupyter-widgets/base",
            "_view_module_version": "1.2.0",
            "_view_name": "LayoutView",
            "align_content": null,
            "align_items": null,
            "align_self": null,
            "border": null,
            "bottom": null,
            "display": null,
            "flex": null,
            "flex_flow": null,
            "grid_area": null,
            "grid_auto_columns": null,
            "grid_auto_flow": null,
            "grid_auto_rows": null,
            "grid_column": null,
            "grid_gap": null,
            "grid_row": null,
            "grid_template_areas": null,
            "grid_template_columns": null,
            "grid_template_rows": null,
            "height": null,
            "justify_content": null,
            "justify_items": null,
            "left": null,
            "margin": null,
            "max_height": null,
            "max_width": null,
            "min_height": null,
            "min_width": null,
            "object_fit": null,
            "object_position": null,
            "order": null,
            "overflow": null,
            "overflow_x": null,
            "overflow_y": null,
            "padding": null,
            "right": null,
            "top": null,
            "visibility": null,
            "width": null
          }
        },
        "b4a23a7d22e04f09a4fc99e81e350507": {
          "model_module": "@jupyter-widgets/controls",
          "model_module_version": "1.5.0",
          "model_name": "ProgressStyleModel",
          "state": {
            "_model_module": "@jupyter-widgets/controls",
            "_model_module_version": "1.5.0",
            "_model_name": "ProgressStyleModel",
            "_view_count": null,
            "_view_module": "@jupyter-widgets/base",
            "_view_module_version": "1.2.0",
            "_view_name": "StyleView",
            "bar_color": null,
            "description_width": ""
          }
        },
        "b5db3533239649b191ae849f2062d335": {
          "model_module": "@jupyter-widgets/controls",
          "model_module_version": "1.5.0",
          "model_name": "LabelModel",
          "state": {
            "_dom_classes": [],
            "_model_module": "@jupyter-widgets/controls",
            "_model_module_version": "1.5.0",
            "_model_name": "LabelModel",
            "_view_count": null,
            "_view_module": "@jupyter-widgets/controls",
            "_view_module_version": "1.5.0",
            "_view_name": "LabelView",
            "description": "",
            "description_tooltip": null,
            "layout": "IPY_MODEL_87c7c4207e004d5a96740618663d5120",
            "placeholder": "​",
            "style": "IPY_MODEL_0a078d61e3ba4b6cb55ccccee3926aa3",
            "value": "0.011 MB of 0.011 MB uploaded\r"
          }
        },
        "b8362221c43f42d3a06f1d330f3b3e8a": {
          "model_module": "@jupyter-widgets/controls",
          "model_module_version": "1.5.0",
          "model_name": "FloatProgressModel",
          "state": {
            "_dom_classes": [],
            "_model_module": "@jupyter-widgets/controls",
            "_model_module_version": "1.5.0",
            "_model_name": "FloatProgressModel",
            "_view_count": null,
            "_view_module": "@jupyter-widgets/controls",
            "_view_module_version": "1.5.0",
            "_view_name": "ProgressView",
            "bar_style": "",
            "description": "",
            "description_tooltip": null,
            "layout": "IPY_MODEL_5ede75e50b344464b5fb672356053108",
            "max": 1,
            "min": 0,
            "orientation": "horizontal",
            "style": "IPY_MODEL_12f0324e8ded4a1f92c59a95f0592810",
            "value": 1
          }
        },
        "ba2ac9396be84dcf80683367665f3c84": {
          "model_module": "@jupyter-widgets/base",
          "model_module_version": "1.2.0",
          "model_name": "LayoutModel",
          "state": {
            "_model_module": "@jupyter-widgets/base",
            "_model_module_version": "1.2.0",
            "_model_name": "LayoutModel",
            "_view_count": null,
            "_view_module": "@jupyter-widgets/base",
            "_view_module_version": "1.2.0",
            "_view_name": "LayoutView",
            "align_content": null,
            "align_items": null,
            "align_self": null,
            "border": null,
            "bottom": null,
            "display": null,
            "flex": null,
            "flex_flow": null,
            "grid_area": null,
            "grid_auto_columns": null,
            "grid_auto_flow": null,
            "grid_auto_rows": null,
            "grid_column": null,
            "grid_gap": null,
            "grid_row": null,
            "grid_template_areas": null,
            "grid_template_columns": null,
            "grid_template_rows": null,
            "height": null,
            "justify_content": null,
            "justify_items": null,
            "left": null,
            "margin": null,
            "max_height": null,
            "max_width": null,
            "min_height": null,
            "min_width": null,
            "object_fit": null,
            "object_position": null,
            "order": null,
            "overflow": null,
            "overflow_x": null,
            "overflow_y": null,
            "padding": null,
            "right": null,
            "top": null,
            "visibility": null,
            "width": null
          }
        },
        "babe2f3bf21f45658755ccff41d15ff0": {
          "model_module": "@jupyter-widgets/controls",
          "model_module_version": "1.5.0",
          "model_name": "LabelModel",
          "state": {
            "_dom_classes": [],
            "_model_module": "@jupyter-widgets/controls",
            "_model_module_version": "1.5.0",
            "_model_name": "LabelModel",
            "_view_count": null,
            "_view_module": "@jupyter-widgets/controls",
            "_view_module_version": "1.5.0",
            "_view_name": "LabelView",
            "description": "",
            "description_tooltip": null,
            "layout": "IPY_MODEL_8318e6597566476dbcdbe892012b9e2f",
            "placeholder": "​",
            "style": "IPY_MODEL_c34b7305a852401d80ddae217020031e",
            "value": "0.011 MB of 0.011 MB uploaded\r"
          }
        },
        "bad5af27fc3044ae857465def708187e": {
          "model_module": "@jupyter-widgets/controls",
          "model_module_version": "1.5.0",
          "model_name": "DescriptionStyleModel",
          "state": {
            "_model_module": "@jupyter-widgets/controls",
            "_model_module_version": "1.5.0",
            "_model_name": "DescriptionStyleModel",
            "_view_count": null,
            "_view_module": "@jupyter-widgets/base",
            "_view_module_version": "1.2.0",
            "_view_name": "StyleView",
            "description_width": ""
          }
        },
        "c167e0e64ac447c6aa9be01d2b1f1859": {
          "model_module": "@jupyter-widgets/controls",
          "model_module_version": "1.5.0",
          "model_name": "ProgressStyleModel",
          "state": {
            "_model_module": "@jupyter-widgets/controls",
            "_model_module_version": "1.5.0",
            "_model_name": "ProgressStyleModel",
            "_view_count": null,
            "_view_module": "@jupyter-widgets/base",
            "_view_module_version": "1.2.0",
            "_view_name": "StyleView",
            "bar_color": null,
            "description_width": ""
          }
        },
        "c297dd86e8b84bea8dcd84172360736d": {
          "model_module": "@jupyter-widgets/controls",
          "model_module_version": "1.5.0",
          "model_name": "FloatProgressModel",
          "state": {
            "_dom_classes": [],
            "_model_module": "@jupyter-widgets/controls",
            "_model_module_version": "1.5.0",
            "_model_name": "FloatProgressModel",
            "_view_count": null,
            "_view_module": "@jupyter-widgets/controls",
            "_view_module_version": "1.5.0",
            "_view_name": "ProgressView",
            "bar_style": "",
            "description": "",
            "description_tooltip": null,
            "layout": "IPY_MODEL_4bb9dbaaf8ef4569979cdfd5c7e70812",
            "max": 1,
            "min": 0,
            "orientation": "horizontal",
            "style": "IPY_MODEL_c167e0e64ac447c6aa9be01d2b1f1859",
            "value": 1
          }
        },
        "c2f01d98d52c49da9932ccd69fbe0a94": {
          "model_module": "@jupyter-widgets/base",
          "model_module_version": "1.2.0",
          "model_name": "LayoutModel",
          "state": {
            "_model_module": "@jupyter-widgets/base",
            "_model_module_version": "1.2.0",
            "_model_name": "LayoutModel",
            "_view_count": null,
            "_view_module": "@jupyter-widgets/base",
            "_view_module_version": "1.2.0",
            "_view_name": "LayoutView",
            "align_content": null,
            "align_items": null,
            "align_self": null,
            "border": null,
            "bottom": null,
            "display": null,
            "flex": null,
            "flex_flow": null,
            "grid_area": null,
            "grid_auto_columns": null,
            "grid_auto_flow": null,
            "grid_auto_rows": null,
            "grid_column": null,
            "grid_gap": null,
            "grid_row": null,
            "grid_template_areas": null,
            "grid_template_columns": null,
            "grid_template_rows": null,
            "height": null,
            "justify_content": null,
            "justify_items": null,
            "left": null,
            "margin": null,
            "max_height": null,
            "max_width": null,
            "min_height": null,
            "min_width": null,
            "object_fit": null,
            "object_position": null,
            "order": null,
            "overflow": null,
            "overflow_x": null,
            "overflow_y": null,
            "padding": null,
            "right": null,
            "top": null,
            "visibility": null,
            "width": null
          }
        },
        "c34b7305a852401d80ddae217020031e": {
          "model_module": "@jupyter-widgets/controls",
          "model_module_version": "1.5.0",
          "model_name": "DescriptionStyleModel",
          "state": {
            "_model_module": "@jupyter-widgets/controls",
            "_model_module_version": "1.5.0",
            "_model_name": "DescriptionStyleModel",
            "_view_count": null,
            "_view_module": "@jupyter-widgets/base",
            "_view_module_version": "1.2.0",
            "_view_name": "StyleView",
            "description_width": ""
          }
        },
        "c6f09f97e6714ee8bac79eff5655d61c": {
          "model_module": "@jupyter-widgets/controls",
          "model_module_version": "1.5.0",
          "model_name": "LabelModel",
          "state": {
            "_dom_classes": [],
            "_model_module": "@jupyter-widgets/controls",
            "_model_module_version": "1.5.0",
            "_model_name": "LabelModel",
            "_view_count": null,
            "_view_module": "@jupyter-widgets/controls",
            "_view_module_version": "1.5.0",
            "_view_name": "LabelView",
            "description": "",
            "description_tooltip": null,
            "layout": "IPY_MODEL_4ed6b0ccc5db4116bf7872cc7808d55b",
            "placeholder": "​",
            "style": "IPY_MODEL_dd5b590da0c14a59912092a73e5b5d60",
            "value": "0.011 MB of 0.011 MB uploaded\r"
          }
        },
        "ca1d80733f27440e87e3d8227c7f4b33": {
          "model_module": "@jupyter-widgets/base",
          "model_module_version": "1.2.0",
          "model_name": "LayoutModel",
          "state": {
            "_model_module": "@jupyter-widgets/base",
            "_model_module_version": "1.2.0",
            "_model_name": "LayoutModel",
            "_view_count": null,
            "_view_module": "@jupyter-widgets/base",
            "_view_module_version": "1.2.0",
            "_view_name": "LayoutView",
            "align_content": null,
            "align_items": null,
            "align_self": null,
            "border": null,
            "bottom": null,
            "display": null,
            "flex": null,
            "flex_flow": null,
            "grid_area": null,
            "grid_auto_columns": null,
            "grid_auto_flow": null,
            "grid_auto_rows": null,
            "grid_column": null,
            "grid_gap": null,
            "grid_row": null,
            "grid_template_areas": null,
            "grid_template_columns": null,
            "grid_template_rows": null,
            "height": null,
            "justify_content": null,
            "justify_items": null,
            "left": null,
            "margin": null,
            "max_height": null,
            "max_width": null,
            "min_height": null,
            "min_width": null,
            "object_fit": null,
            "object_position": null,
            "order": null,
            "overflow": null,
            "overflow_x": null,
            "overflow_y": null,
            "padding": null,
            "right": null,
            "top": null,
            "visibility": null,
            "width": null
          }
        },
        "d0356334e3f7415a85908e4c7d408b76": {
          "model_module": "@jupyter-widgets/base",
          "model_module_version": "1.2.0",
          "model_name": "LayoutModel",
          "state": {
            "_model_module": "@jupyter-widgets/base",
            "_model_module_version": "1.2.0",
            "_model_name": "LayoutModel",
            "_view_count": null,
            "_view_module": "@jupyter-widgets/base",
            "_view_module_version": "1.2.0",
            "_view_name": "LayoutView",
            "align_content": null,
            "align_items": null,
            "align_self": null,
            "border": null,
            "bottom": null,
            "display": null,
            "flex": null,
            "flex_flow": null,
            "grid_area": null,
            "grid_auto_columns": null,
            "grid_auto_flow": null,
            "grid_auto_rows": null,
            "grid_column": null,
            "grid_gap": null,
            "grid_row": null,
            "grid_template_areas": null,
            "grid_template_columns": null,
            "grid_template_rows": null,
            "height": null,
            "justify_content": null,
            "justify_items": null,
            "left": null,
            "margin": null,
            "max_height": null,
            "max_width": null,
            "min_height": null,
            "min_width": null,
            "object_fit": null,
            "object_position": null,
            "order": null,
            "overflow": null,
            "overflow_x": null,
            "overflow_y": null,
            "padding": null,
            "right": null,
            "top": null,
            "visibility": null,
            "width": null
          }
        },
        "d05830a9267b40f8a05b3d9cc0d6347d": {
          "model_module": "@jupyter-widgets/base",
          "model_module_version": "1.2.0",
          "model_name": "LayoutModel",
          "state": {
            "_model_module": "@jupyter-widgets/base",
            "_model_module_version": "1.2.0",
            "_model_name": "LayoutModel",
            "_view_count": null,
            "_view_module": "@jupyter-widgets/base",
            "_view_module_version": "1.2.0",
            "_view_name": "LayoutView",
            "align_content": null,
            "align_items": null,
            "align_self": null,
            "border": null,
            "bottom": null,
            "display": null,
            "flex": null,
            "flex_flow": null,
            "grid_area": null,
            "grid_auto_columns": null,
            "grid_auto_flow": null,
            "grid_auto_rows": null,
            "grid_column": null,
            "grid_gap": null,
            "grid_row": null,
            "grid_template_areas": null,
            "grid_template_columns": null,
            "grid_template_rows": null,
            "height": null,
            "justify_content": null,
            "justify_items": null,
            "left": null,
            "margin": null,
            "max_height": null,
            "max_width": null,
            "min_height": null,
            "min_width": null,
            "object_fit": null,
            "object_position": null,
            "order": null,
            "overflow": null,
            "overflow_x": null,
            "overflow_y": null,
            "padding": null,
            "right": null,
            "top": null,
            "visibility": null,
            "width": null
          }
        },
        "d0d578620a054cc7a8a5c326ef3052cd": {
          "model_module": "@jupyter-widgets/controls",
          "model_module_version": "1.5.0",
          "model_name": "DescriptionStyleModel",
          "state": {
            "_model_module": "@jupyter-widgets/controls",
            "_model_module_version": "1.5.0",
            "_model_name": "DescriptionStyleModel",
            "_view_count": null,
            "_view_module": "@jupyter-widgets/base",
            "_view_module_version": "1.2.0",
            "_view_name": "StyleView",
            "description_width": ""
          }
        },
        "d10674a97ee347a79ff9f92ddc01756e": {
          "model_module": "@jupyter-widgets/controls",
          "model_module_version": "1.5.0",
          "model_name": "FloatProgressModel",
          "state": {
            "_dom_classes": [],
            "_model_module": "@jupyter-widgets/controls",
            "_model_module_version": "1.5.0",
            "_model_name": "FloatProgressModel",
            "_view_count": null,
            "_view_module": "@jupyter-widgets/controls",
            "_view_module_version": "1.5.0",
            "_view_name": "ProgressView",
            "bar_style": "",
            "description": "",
            "description_tooltip": null,
            "layout": "IPY_MODEL_1b57d64befbc4e31b8f4a2b9ab4c8c1b",
            "max": 1,
            "min": 0,
            "orientation": "horizontal",
            "style": "IPY_MODEL_5ab73533e0f04a9c9c7667b9be3c57b7",
            "value": 1
          }
        },
        "d1ec88c5425c4b029807a808e39bbdb7": {
          "model_module": "@jupyter-widgets/base",
          "model_module_version": "1.2.0",
          "model_name": "LayoutModel",
          "state": {
            "_model_module": "@jupyter-widgets/base",
            "_model_module_version": "1.2.0",
            "_model_name": "LayoutModel",
            "_view_count": null,
            "_view_module": "@jupyter-widgets/base",
            "_view_module_version": "1.2.0",
            "_view_name": "LayoutView",
            "align_content": null,
            "align_items": null,
            "align_self": null,
            "border": null,
            "bottom": null,
            "display": null,
            "flex": null,
            "flex_flow": null,
            "grid_area": null,
            "grid_auto_columns": null,
            "grid_auto_flow": null,
            "grid_auto_rows": null,
            "grid_column": null,
            "grid_gap": null,
            "grid_row": null,
            "grid_template_areas": null,
            "grid_template_columns": null,
            "grid_template_rows": null,
            "height": null,
            "justify_content": null,
            "justify_items": null,
            "left": null,
            "margin": null,
            "max_height": null,
            "max_width": null,
            "min_height": null,
            "min_width": null,
            "object_fit": null,
            "object_position": null,
            "order": null,
            "overflow": null,
            "overflow_x": null,
            "overflow_y": null,
            "padding": null,
            "right": null,
            "top": null,
            "visibility": null,
            "width": null
          }
        },
        "d27fd0d512da4cce858e951e64399bc8": {
          "model_module": "@jupyter-widgets/controls",
          "model_module_version": "1.5.0",
          "model_name": "ProgressStyleModel",
          "state": {
            "_model_module": "@jupyter-widgets/controls",
            "_model_module_version": "1.5.0",
            "_model_name": "ProgressStyleModel",
            "_view_count": null,
            "_view_module": "@jupyter-widgets/base",
            "_view_module_version": "1.2.0",
            "_view_name": "StyleView",
            "bar_color": null,
            "description_width": ""
          }
        },
        "d2bd62c982d2476aac299be5196adf69": {
          "model_module": "@jupyter-widgets/base",
          "model_module_version": "1.2.0",
          "model_name": "LayoutModel",
          "state": {
            "_model_module": "@jupyter-widgets/base",
            "_model_module_version": "1.2.0",
            "_model_name": "LayoutModel",
            "_view_count": null,
            "_view_module": "@jupyter-widgets/base",
            "_view_module_version": "1.2.0",
            "_view_name": "LayoutView",
            "align_content": null,
            "align_items": null,
            "align_self": null,
            "border": null,
            "bottom": null,
            "display": null,
            "flex": null,
            "flex_flow": null,
            "grid_area": null,
            "grid_auto_columns": null,
            "grid_auto_flow": null,
            "grid_auto_rows": null,
            "grid_column": null,
            "grid_gap": null,
            "grid_row": null,
            "grid_template_areas": null,
            "grid_template_columns": null,
            "grid_template_rows": null,
            "height": null,
            "justify_content": null,
            "justify_items": null,
            "left": null,
            "margin": null,
            "max_height": null,
            "max_width": null,
            "min_height": null,
            "min_width": null,
            "object_fit": null,
            "object_position": null,
            "order": null,
            "overflow": null,
            "overflow_x": null,
            "overflow_y": null,
            "padding": null,
            "right": null,
            "top": null,
            "visibility": null,
            "width": null
          }
        },
        "d39a5bf9709b4c25a3c91fa1a0cad67d": {
          "model_module": "@jupyter-widgets/controls",
          "model_module_version": "1.5.0",
          "model_name": "VBoxModel",
          "state": {
            "_dom_classes": [],
            "_model_module": "@jupyter-widgets/controls",
            "_model_module_version": "1.5.0",
            "_model_name": "VBoxModel",
            "_view_count": null,
            "_view_module": "@jupyter-widgets/controls",
            "_view_module_version": "1.5.0",
            "_view_name": "VBoxView",
            "box_style": "",
            "children": [
              "IPY_MODEL_b5db3533239649b191ae849f2062d335",
              "IPY_MODEL_f432059e170b4eab85a525ee38be5a2c"
            ],
            "layout": "IPY_MODEL_154ccb2b572643f3b82596420ce2f2a3"
          }
        },
        "d4bbd417516d4b459026651624aa2b08": {
          "model_module": "@jupyter-widgets/controls",
          "model_module_version": "1.5.0",
          "model_name": "ProgressStyleModel",
          "state": {
            "_model_module": "@jupyter-widgets/controls",
            "_model_module_version": "1.5.0",
            "_model_name": "ProgressStyleModel",
            "_view_count": null,
            "_view_module": "@jupyter-widgets/base",
            "_view_module_version": "1.2.0",
            "_view_name": "StyleView",
            "bar_color": null,
            "description_width": ""
          }
        },
        "d586b7a2ca0b4fcc8943012a1b308640": {
          "model_module": "@jupyter-widgets/controls",
          "model_module_version": "1.5.0",
          "model_name": "LabelModel",
          "state": {
            "_dom_classes": [],
            "_model_module": "@jupyter-widgets/controls",
            "_model_module_version": "1.5.0",
            "_model_name": "LabelModel",
            "_view_count": null,
            "_view_module": "@jupyter-widgets/controls",
            "_view_module_version": "1.5.0",
            "_view_name": "LabelView",
            "description": "",
            "description_tooltip": null,
            "layout": "IPY_MODEL_5f94c29c90be4ed9afe029919af8de3e",
            "placeholder": "​",
            "style": "IPY_MODEL_8803b84b9696452eafa69517875fe810",
            "value": "0.011 MB of 0.011 MB uploaded\r"
          }
        },
        "d5a6846472604d3189738d955abe5a69": {
          "model_module": "@jupyter-widgets/controls",
          "model_module_version": "1.5.0",
          "model_name": "VBoxModel",
          "state": {
            "_dom_classes": [],
            "_model_module": "@jupyter-widgets/controls",
            "_model_module_version": "1.5.0",
            "_model_name": "VBoxModel",
            "_view_count": null,
            "_view_module": "@jupyter-widgets/controls",
            "_view_module_version": "1.5.0",
            "_view_name": "VBoxView",
            "box_style": "",
            "children": [
              "IPY_MODEL_9ea2337652a6416dbeb9e8aee1955375",
              "IPY_MODEL_d10674a97ee347a79ff9f92ddc01756e"
            ],
            "layout": "IPY_MODEL_d0356334e3f7415a85908e4c7d408b76"
          }
        },
        "d9115013d9a4408385e21a4f31feb3f3": {
          "model_module": "@jupyter-widgets/base",
          "model_module_version": "1.2.0",
          "model_name": "LayoutModel",
          "state": {
            "_model_module": "@jupyter-widgets/base",
            "_model_module_version": "1.2.0",
            "_model_name": "LayoutModel",
            "_view_count": null,
            "_view_module": "@jupyter-widgets/base",
            "_view_module_version": "1.2.0",
            "_view_name": "LayoutView",
            "align_content": null,
            "align_items": null,
            "align_self": null,
            "border": null,
            "bottom": null,
            "display": null,
            "flex": null,
            "flex_flow": null,
            "grid_area": null,
            "grid_auto_columns": null,
            "grid_auto_flow": null,
            "grid_auto_rows": null,
            "grid_column": null,
            "grid_gap": null,
            "grid_row": null,
            "grid_template_areas": null,
            "grid_template_columns": null,
            "grid_template_rows": null,
            "height": null,
            "justify_content": null,
            "justify_items": null,
            "left": null,
            "margin": null,
            "max_height": null,
            "max_width": null,
            "min_height": null,
            "min_width": null,
            "object_fit": null,
            "object_position": null,
            "order": null,
            "overflow": null,
            "overflow_x": null,
            "overflow_y": null,
            "padding": null,
            "right": null,
            "top": null,
            "visibility": null,
            "width": null
          }
        },
        "dcbcfd088f744156b7815e573e591755": {
          "model_module": "@jupyter-widgets/controls",
          "model_module_version": "1.5.0",
          "model_name": "LabelModel",
          "state": {
            "_dom_classes": [],
            "_model_module": "@jupyter-widgets/controls",
            "_model_module_version": "1.5.0",
            "_model_name": "LabelModel",
            "_view_count": null,
            "_view_module": "@jupyter-widgets/controls",
            "_view_module_version": "1.5.0",
            "_view_name": "LabelView",
            "description": "",
            "description_tooltip": null,
            "layout": "IPY_MODEL_b047e36e6e994a838f513f399e4cce62",
            "placeholder": "​",
            "style": "IPY_MODEL_16f8c9df0d86424999b40107e7ede44c",
            "value": "0.011 MB of 0.011 MB uploaded\r"
          }
        },
        "dd5b590da0c14a59912092a73e5b5d60": {
          "model_module": "@jupyter-widgets/controls",
          "model_module_version": "1.5.0",
          "model_name": "DescriptionStyleModel",
          "state": {
            "_model_module": "@jupyter-widgets/controls",
            "_model_module_version": "1.5.0",
            "_model_name": "DescriptionStyleModel",
            "_view_count": null,
            "_view_module": "@jupyter-widgets/base",
            "_view_module_version": "1.2.0",
            "_view_name": "StyleView",
            "description_width": ""
          }
        },
        "de17d861f45c4478a33abdd13199e0dc": {
          "model_module": "@jupyter-widgets/base",
          "model_module_version": "1.2.0",
          "model_name": "LayoutModel",
          "state": {
            "_model_module": "@jupyter-widgets/base",
            "_model_module_version": "1.2.0",
            "_model_name": "LayoutModel",
            "_view_count": null,
            "_view_module": "@jupyter-widgets/base",
            "_view_module_version": "1.2.0",
            "_view_name": "LayoutView",
            "align_content": null,
            "align_items": null,
            "align_self": null,
            "border": null,
            "bottom": null,
            "display": null,
            "flex": null,
            "flex_flow": null,
            "grid_area": null,
            "grid_auto_columns": null,
            "grid_auto_flow": null,
            "grid_auto_rows": null,
            "grid_column": null,
            "grid_gap": null,
            "grid_row": null,
            "grid_template_areas": null,
            "grid_template_columns": null,
            "grid_template_rows": null,
            "height": null,
            "justify_content": null,
            "justify_items": null,
            "left": null,
            "margin": null,
            "max_height": null,
            "max_width": null,
            "min_height": null,
            "min_width": null,
            "object_fit": null,
            "object_position": null,
            "order": null,
            "overflow": null,
            "overflow_x": null,
            "overflow_y": null,
            "padding": null,
            "right": null,
            "top": null,
            "visibility": null,
            "width": null
          }
        },
        "de1e7e0f79824dcbbcd680501610985b": {
          "model_module": "@jupyter-widgets/base",
          "model_module_version": "1.2.0",
          "model_name": "LayoutModel",
          "state": {
            "_model_module": "@jupyter-widgets/base",
            "_model_module_version": "1.2.0",
            "_model_name": "LayoutModel",
            "_view_count": null,
            "_view_module": "@jupyter-widgets/base",
            "_view_module_version": "1.2.0",
            "_view_name": "LayoutView",
            "align_content": null,
            "align_items": null,
            "align_self": null,
            "border": null,
            "bottom": null,
            "display": null,
            "flex": null,
            "flex_flow": null,
            "grid_area": null,
            "grid_auto_columns": null,
            "grid_auto_flow": null,
            "grid_auto_rows": null,
            "grid_column": null,
            "grid_gap": null,
            "grid_row": null,
            "grid_template_areas": null,
            "grid_template_columns": null,
            "grid_template_rows": null,
            "height": null,
            "justify_content": null,
            "justify_items": null,
            "left": null,
            "margin": null,
            "max_height": null,
            "max_width": null,
            "min_height": null,
            "min_width": null,
            "object_fit": null,
            "object_position": null,
            "order": null,
            "overflow": null,
            "overflow_x": null,
            "overflow_y": null,
            "padding": null,
            "right": null,
            "top": null,
            "visibility": null,
            "width": null
          }
        },
        "e177a0a6287045818aadd94055eb2989": {
          "model_module": "@jupyter-widgets/base",
          "model_module_version": "1.2.0",
          "model_name": "LayoutModel",
          "state": {
            "_model_module": "@jupyter-widgets/base",
            "_model_module_version": "1.2.0",
            "_model_name": "LayoutModel",
            "_view_count": null,
            "_view_module": "@jupyter-widgets/base",
            "_view_module_version": "1.2.0",
            "_view_name": "LayoutView",
            "align_content": null,
            "align_items": null,
            "align_self": null,
            "border": null,
            "bottom": null,
            "display": null,
            "flex": null,
            "flex_flow": null,
            "grid_area": null,
            "grid_auto_columns": null,
            "grid_auto_flow": null,
            "grid_auto_rows": null,
            "grid_column": null,
            "grid_gap": null,
            "grid_row": null,
            "grid_template_areas": null,
            "grid_template_columns": null,
            "grid_template_rows": null,
            "height": null,
            "justify_content": null,
            "justify_items": null,
            "left": null,
            "margin": null,
            "max_height": null,
            "max_width": null,
            "min_height": null,
            "min_width": null,
            "object_fit": null,
            "object_position": null,
            "order": null,
            "overflow": null,
            "overflow_x": null,
            "overflow_y": null,
            "padding": null,
            "right": null,
            "top": null,
            "visibility": null,
            "width": null
          }
        },
        "e2d4910f15b24899aa481f2180ddf2d5": {
          "model_module": "@jupyter-widgets/base",
          "model_module_version": "1.2.0",
          "model_name": "LayoutModel",
          "state": {
            "_model_module": "@jupyter-widgets/base",
            "_model_module_version": "1.2.0",
            "_model_name": "LayoutModel",
            "_view_count": null,
            "_view_module": "@jupyter-widgets/base",
            "_view_module_version": "1.2.0",
            "_view_name": "LayoutView",
            "align_content": null,
            "align_items": null,
            "align_self": null,
            "border": null,
            "bottom": null,
            "display": null,
            "flex": null,
            "flex_flow": null,
            "grid_area": null,
            "grid_auto_columns": null,
            "grid_auto_flow": null,
            "grid_auto_rows": null,
            "grid_column": null,
            "grid_gap": null,
            "grid_row": null,
            "grid_template_areas": null,
            "grid_template_columns": null,
            "grid_template_rows": null,
            "height": null,
            "justify_content": null,
            "justify_items": null,
            "left": null,
            "margin": null,
            "max_height": null,
            "max_width": null,
            "min_height": null,
            "min_width": null,
            "object_fit": null,
            "object_position": null,
            "order": null,
            "overflow": null,
            "overflow_x": null,
            "overflow_y": null,
            "padding": null,
            "right": null,
            "top": null,
            "visibility": null,
            "width": null
          }
        },
        "e3d1bd19bb334e649941438055106841": {
          "model_module": "@jupyter-widgets/controls",
          "model_module_version": "1.5.0",
          "model_name": "FloatProgressModel",
          "state": {
            "_dom_classes": [],
            "_model_module": "@jupyter-widgets/controls",
            "_model_module_version": "1.5.0",
            "_model_name": "FloatProgressModel",
            "_view_count": null,
            "_view_module": "@jupyter-widgets/controls",
            "_view_module_version": "1.5.0",
            "_view_name": "ProgressView",
            "bar_style": "",
            "description": "",
            "description_tooltip": null,
            "layout": "IPY_MODEL_925637c4150e4fbea7f1d9fa5c3dd29d",
            "max": 1,
            "min": 0,
            "orientation": "horizontal",
            "style": "IPY_MODEL_6811b7b5f0a6447f8bd52d36a0549a41",
            "value": 1
          }
        },
        "e400083db709439eb6fdde140a35e941": {
          "model_module": "@jupyter-widgets/controls",
          "model_module_version": "1.5.0",
          "model_name": "LabelModel",
          "state": {
            "_dom_classes": [],
            "_model_module": "@jupyter-widgets/controls",
            "_model_module_version": "1.5.0",
            "_model_name": "LabelModel",
            "_view_count": null,
            "_view_module": "@jupyter-widgets/controls",
            "_view_module_version": "1.5.0",
            "_view_name": "LabelView",
            "description": "",
            "description_tooltip": null,
            "layout": "IPY_MODEL_ed0da65fc64d480587385bf711fce7e0",
            "placeholder": "​",
            "style": "IPY_MODEL_27b035a730f1492db0f727b648bc7c79",
            "value": "0.011 MB of 0.011 MB uploaded\r"
          }
        },
        "ecb9c711b1354b3ca6cefbda6792767e": {
          "model_module": "@jupyter-widgets/controls",
          "model_module_version": "1.5.0",
          "model_name": "DescriptionStyleModel",
          "state": {
            "_model_module": "@jupyter-widgets/controls",
            "_model_module_version": "1.5.0",
            "_model_name": "DescriptionStyleModel",
            "_view_count": null,
            "_view_module": "@jupyter-widgets/base",
            "_view_module_version": "1.2.0",
            "_view_name": "StyleView",
            "description_width": ""
          }
        },
        "ed0da65fc64d480587385bf711fce7e0": {
          "model_module": "@jupyter-widgets/base",
          "model_module_version": "1.2.0",
          "model_name": "LayoutModel",
          "state": {
            "_model_module": "@jupyter-widgets/base",
            "_model_module_version": "1.2.0",
            "_model_name": "LayoutModel",
            "_view_count": null,
            "_view_module": "@jupyter-widgets/base",
            "_view_module_version": "1.2.0",
            "_view_name": "LayoutView",
            "align_content": null,
            "align_items": null,
            "align_self": null,
            "border": null,
            "bottom": null,
            "display": null,
            "flex": null,
            "flex_flow": null,
            "grid_area": null,
            "grid_auto_columns": null,
            "grid_auto_flow": null,
            "grid_auto_rows": null,
            "grid_column": null,
            "grid_gap": null,
            "grid_row": null,
            "grid_template_areas": null,
            "grid_template_columns": null,
            "grid_template_rows": null,
            "height": null,
            "justify_content": null,
            "justify_items": null,
            "left": null,
            "margin": null,
            "max_height": null,
            "max_width": null,
            "min_height": null,
            "min_width": null,
            "object_fit": null,
            "object_position": null,
            "order": null,
            "overflow": null,
            "overflow_x": null,
            "overflow_y": null,
            "padding": null,
            "right": null,
            "top": null,
            "visibility": null,
            "width": null
          }
        },
        "edbdcea427c34beb9d6f05eb14035585": {
          "model_module": "@jupyter-widgets/base",
          "model_module_version": "1.2.0",
          "model_name": "LayoutModel",
          "state": {
            "_model_module": "@jupyter-widgets/base",
            "_model_module_version": "1.2.0",
            "_model_name": "LayoutModel",
            "_view_count": null,
            "_view_module": "@jupyter-widgets/base",
            "_view_module_version": "1.2.0",
            "_view_name": "LayoutView",
            "align_content": null,
            "align_items": null,
            "align_self": null,
            "border": null,
            "bottom": null,
            "display": null,
            "flex": null,
            "flex_flow": null,
            "grid_area": null,
            "grid_auto_columns": null,
            "grid_auto_flow": null,
            "grid_auto_rows": null,
            "grid_column": null,
            "grid_gap": null,
            "grid_row": null,
            "grid_template_areas": null,
            "grid_template_columns": null,
            "grid_template_rows": null,
            "height": null,
            "justify_content": null,
            "justify_items": null,
            "left": null,
            "margin": null,
            "max_height": null,
            "max_width": null,
            "min_height": null,
            "min_width": null,
            "object_fit": null,
            "object_position": null,
            "order": null,
            "overflow": null,
            "overflow_x": null,
            "overflow_y": null,
            "padding": null,
            "right": null,
            "top": null,
            "visibility": null,
            "width": null
          }
        },
        "f0914e8cee0b4a4a8cd93c8700fac731": {
          "model_module": "@jupyter-widgets/controls",
          "model_module_version": "1.5.0",
          "model_name": "LabelModel",
          "state": {
            "_dom_classes": [],
            "_model_module": "@jupyter-widgets/controls",
            "_model_module_version": "1.5.0",
            "_model_name": "LabelModel",
            "_view_count": null,
            "_view_module": "@jupyter-widgets/controls",
            "_view_module_version": "1.5.0",
            "_view_name": "LabelView",
            "description": "",
            "description_tooltip": null,
            "layout": "IPY_MODEL_5a163e031ac84fbd8f6736cec531cf2a",
            "placeholder": "​",
            "style": "IPY_MODEL_d0d578620a054cc7a8a5c326ef3052cd",
            "value": "0.011 MB of 0.011 MB uploaded\r"
          }
        },
        "f0b05edc6ecb499a906dfdeb489247a5": {
          "model_module": "@jupyter-widgets/controls",
          "model_module_version": "1.5.0",
          "model_name": "DescriptionStyleModel",
          "state": {
            "_model_module": "@jupyter-widgets/controls",
            "_model_module_version": "1.5.0",
            "_model_name": "DescriptionStyleModel",
            "_view_count": null,
            "_view_module": "@jupyter-widgets/base",
            "_view_module_version": "1.2.0",
            "_view_name": "StyleView",
            "description_width": ""
          }
        },
        "f2f60c00906647b4b2b01984712c207f": {
          "model_module": "@jupyter-widgets/controls",
          "model_module_version": "1.5.0",
          "model_name": "ProgressStyleModel",
          "state": {
            "_model_module": "@jupyter-widgets/controls",
            "_model_module_version": "1.5.0",
            "_model_name": "ProgressStyleModel",
            "_view_count": null,
            "_view_module": "@jupyter-widgets/base",
            "_view_module_version": "1.2.0",
            "_view_name": "StyleView",
            "bar_color": null,
            "description_width": ""
          }
        },
        "f31051cd949f4ad0a435292098a7f939": {
          "model_module": "@jupyter-widgets/base",
          "model_module_version": "1.2.0",
          "model_name": "LayoutModel",
          "state": {
            "_model_module": "@jupyter-widgets/base",
            "_model_module_version": "1.2.0",
            "_model_name": "LayoutModel",
            "_view_count": null,
            "_view_module": "@jupyter-widgets/base",
            "_view_module_version": "1.2.0",
            "_view_name": "LayoutView",
            "align_content": null,
            "align_items": null,
            "align_self": null,
            "border": null,
            "bottom": null,
            "display": null,
            "flex": null,
            "flex_flow": null,
            "grid_area": null,
            "grid_auto_columns": null,
            "grid_auto_flow": null,
            "grid_auto_rows": null,
            "grid_column": null,
            "grid_gap": null,
            "grid_row": null,
            "grid_template_areas": null,
            "grid_template_columns": null,
            "grid_template_rows": null,
            "height": null,
            "justify_content": null,
            "justify_items": null,
            "left": null,
            "margin": null,
            "max_height": null,
            "max_width": null,
            "min_height": null,
            "min_width": null,
            "object_fit": null,
            "object_position": null,
            "order": null,
            "overflow": null,
            "overflow_x": null,
            "overflow_y": null,
            "padding": null,
            "right": null,
            "top": null,
            "visibility": null,
            "width": null
          }
        },
        "f432059e170b4eab85a525ee38be5a2c": {
          "model_module": "@jupyter-widgets/controls",
          "model_module_version": "1.5.0",
          "model_name": "FloatProgressModel",
          "state": {
            "_dom_classes": [],
            "_model_module": "@jupyter-widgets/controls",
            "_model_module_version": "1.5.0",
            "_model_name": "FloatProgressModel",
            "_view_count": null,
            "_view_module": "@jupyter-widgets/controls",
            "_view_module_version": "1.5.0",
            "_view_name": "ProgressView",
            "bar_style": "",
            "description": "",
            "description_tooltip": null,
            "layout": "IPY_MODEL_81d80cdaa83c4ce78e896c05fcd56ef1",
            "max": 1,
            "min": 0,
            "orientation": "horizontal",
            "style": "IPY_MODEL_54fb347406a54b8eb47dee6a5135d126",
            "value": 1
          }
        },
        "f5c00e77e3444e3a92547f21f488e2fb": {
          "model_module": "@jupyter-widgets/controls",
          "model_module_version": "1.5.0",
          "model_name": "LabelModel",
          "state": {
            "_dom_classes": [],
            "_model_module": "@jupyter-widgets/controls",
            "_model_module_version": "1.5.0",
            "_model_name": "LabelModel",
            "_view_count": null,
            "_view_module": "@jupyter-widgets/controls",
            "_view_module_version": "1.5.0",
            "_view_name": "LabelView",
            "description": "",
            "description_tooltip": null,
            "layout": "IPY_MODEL_74b2dce81fcd4eb9b0193338916dd27d",
            "placeholder": "​",
            "style": "IPY_MODEL_f0b05edc6ecb499a906dfdeb489247a5",
            "value": "0.011 MB of 0.011 MB uploaded\r"
          }
        },
        "f698ae1e78b14176a4a554a1d90ec0c7": {
          "model_module": "@jupyter-widgets/controls",
          "model_module_version": "1.5.0",
          "model_name": "DescriptionStyleModel",
          "state": {
            "_model_module": "@jupyter-widgets/controls",
            "_model_module_version": "1.5.0",
            "_model_name": "DescriptionStyleModel",
            "_view_count": null,
            "_view_module": "@jupyter-widgets/base",
            "_view_module_version": "1.2.0",
            "_view_name": "StyleView",
            "description_width": ""
          }
        },
        "f6d3a0ff575a492db26a7cbd0a2270b9": {
          "model_module": "@jupyter-widgets/controls",
          "model_module_version": "1.5.0",
          "model_name": "VBoxModel",
          "state": {
            "_dom_classes": [],
            "_model_module": "@jupyter-widgets/controls",
            "_model_module_version": "1.5.0",
            "_model_name": "VBoxModel",
            "_view_count": null,
            "_view_module": "@jupyter-widgets/controls",
            "_view_module_version": "1.5.0",
            "_view_name": "VBoxView",
            "box_style": "",
            "children": [
              "IPY_MODEL_7a23122c49eb4e04ba054abadde63830",
              "IPY_MODEL_98a4fcaee0ff4c2984606521f233ca8a"
            ],
            "layout": "IPY_MODEL_e177a0a6287045818aadd94055eb2989"
          }
        },
        "f7c856f598384d7ca9f9bbb6a0af5979": {
          "model_module": "@jupyter-widgets/controls",
          "model_module_version": "1.5.0",
          "model_name": "VBoxModel",
          "state": {
            "_dom_classes": [],
            "_model_module": "@jupyter-widgets/controls",
            "_model_module_version": "1.5.0",
            "_model_name": "VBoxModel",
            "_view_count": null,
            "_view_module": "@jupyter-widgets/controls",
            "_view_module_version": "1.5.0",
            "_view_name": "VBoxView",
            "box_style": "",
            "children": [
              "IPY_MODEL_64a9acd16f0b4e62bc3a10a600b34003",
              "IPY_MODEL_302370a98ab54436974ad7ad9cd52774"
            ],
            "layout": "IPY_MODEL_2f76916c02764f34afa0de0053ce5a01"
          }
        },
        "f98fcc1e690c414c96e8bfc7c6de82ef": {
          "model_module": "@jupyter-widgets/base",
          "model_module_version": "1.2.0",
          "model_name": "LayoutModel",
          "state": {
            "_model_module": "@jupyter-widgets/base",
            "_model_module_version": "1.2.0",
            "_model_name": "LayoutModel",
            "_view_count": null,
            "_view_module": "@jupyter-widgets/base",
            "_view_module_version": "1.2.0",
            "_view_name": "LayoutView",
            "align_content": null,
            "align_items": null,
            "align_self": null,
            "border": null,
            "bottom": null,
            "display": null,
            "flex": null,
            "flex_flow": null,
            "grid_area": null,
            "grid_auto_columns": null,
            "grid_auto_flow": null,
            "grid_auto_rows": null,
            "grid_column": null,
            "grid_gap": null,
            "grid_row": null,
            "grid_template_areas": null,
            "grid_template_columns": null,
            "grid_template_rows": null,
            "height": null,
            "justify_content": null,
            "justify_items": null,
            "left": null,
            "margin": null,
            "max_height": null,
            "max_width": null,
            "min_height": null,
            "min_width": null,
            "object_fit": null,
            "object_position": null,
            "order": null,
            "overflow": null,
            "overflow_x": null,
            "overflow_y": null,
            "padding": null,
            "right": null,
            "top": null,
            "visibility": null,
            "width": null
          }
        },
        "fa4916a2ed714743aa7c3a974eca2e76": {
          "model_module": "@jupyter-widgets/controls",
          "model_module_version": "1.5.0",
          "model_name": "ProgressStyleModel",
          "state": {
            "_model_module": "@jupyter-widgets/controls",
            "_model_module_version": "1.5.0",
            "_model_name": "ProgressStyleModel",
            "_view_count": null,
            "_view_module": "@jupyter-widgets/base",
            "_view_module_version": "1.2.0",
            "_view_name": "StyleView",
            "bar_color": null,
            "description_width": ""
          }
        },
        "fa4c2ed721f347019b73d0bf06fedd77": {
          "model_module": "@jupyter-widgets/base",
          "model_module_version": "1.2.0",
          "model_name": "LayoutModel",
          "state": {
            "_model_module": "@jupyter-widgets/base",
            "_model_module_version": "1.2.0",
            "_model_name": "LayoutModel",
            "_view_count": null,
            "_view_module": "@jupyter-widgets/base",
            "_view_module_version": "1.2.0",
            "_view_name": "LayoutView",
            "align_content": null,
            "align_items": null,
            "align_self": null,
            "border": null,
            "bottom": null,
            "display": null,
            "flex": null,
            "flex_flow": null,
            "grid_area": null,
            "grid_auto_columns": null,
            "grid_auto_flow": null,
            "grid_auto_rows": null,
            "grid_column": null,
            "grid_gap": null,
            "grid_row": null,
            "grid_template_areas": null,
            "grid_template_columns": null,
            "grid_template_rows": null,
            "height": null,
            "justify_content": null,
            "justify_items": null,
            "left": null,
            "margin": null,
            "max_height": null,
            "max_width": null,
            "min_height": null,
            "min_width": null,
            "object_fit": null,
            "object_position": null,
            "order": null,
            "overflow": null,
            "overflow_x": null,
            "overflow_y": null,
            "padding": null,
            "right": null,
            "top": null,
            "visibility": null,
            "width": null
          }
        },
        "fae6392f70ed401a8c5a3b444417320b": {
          "model_module": "@jupyter-widgets/controls",
          "model_module_version": "1.5.0",
          "model_name": "DescriptionStyleModel",
          "state": {
            "_model_module": "@jupyter-widgets/controls",
            "_model_module_version": "1.5.0",
            "_model_name": "DescriptionStyleModel",
            "_view_count": null,
            "_view_module": "@jupyter-widgets/base",
            "_view_module_version": "1.2.0",
            "_view_name": "StyleView",
            "description_width": ""
          }
        },
        "fb420ffbe747437aaab1fd289db6044a": {
          "model_module": "@jupyter-widgets/base",
          "model_module_version": "1.2.0",
          "model_name": "LayoutModel",
          "state": {
            "_model_module": "@jupyter-widgets/base",
            "_model_module_version": "1.2.0",
            "_model_name": "LayoutModel",
            "_view_count": null,
            "_view_module": "@jupyter-widgets/base",
            "_view_module_version": "1.2.0",
            "_view_name": "LayoutView",
            "align_content": null,
            "align_items": null,
            "align_self": null,
            "border": null,
            "bottom": null,
            "display": null,
            "flex": null,
            "flex_flow": null,
            "grid_area": null,
            "grid_auto_columns": null,
            "grid_auto_flow": null,
            "grid_auto_rows": null,
            "grid_column": null,
            "grid_gap": null,
            "grid_row": null,
            "grid_template_areas": null,
            "grid_template_columns": null,
            "grid_template_rows": null,
            "height": null,
            "justify_content": null,
            "justify_items": null,
            "left": null,
            "margin": null,
            "max_height": null,
            "max_width": null,
            "min_height": null,
            "min_width": null,
            "object_fit": null,
            "object_position": null,
            "order": null,
            "overflow": null,
            "overflow_x": null,
            "overflow_y": null,
            "padding": null,
            "right": null,
            "top": null,
            "visibility": null,
            "width": null
          }
        },
        "fbc5c94a5f394d6ca2f32e4c7583cbb8": {
          "model_module": "@jupyter-widgets/controls",
          "model_module_version": "1.5.0",
          "model_name": "VBoxModel",
          "state": {
            "_dom_classes": [],
            "_model_module": "@jupyter-widgets/controls",
            "_model_module_version": "1.5.0",
            "_model_name": "VBoxModel",
            "_view_count": null,
            "_view_module": "@jupyter-widgets/controls",
            "_view_module_version": "1.5.0",
            "_view_name": "VBoxView",
            "box_style": "",
            "children": [
              "IPY_MODEL_dcbcfd088f744156b7815e573e591755",
              "IPY_MODEL_682014beaa074fe48208331a8f38725f"
            ],
            "layout": "IPY_MODEL_896e6a9dc2ba46e78e6ec0859c755d40"
          }
        },
        "fc72cccca7944006b9f60a40fefaf43b": {
          "model_module": "@jupyter-widgets/controls",
          "model_module_version": "1.5.0",
          "model_name": "ProgressStyleModel",
          "state": {
            "_model_module": "@jupyter-widgets/controls",
            "_model_module_version": "1.5.0",
            "_model_name": "ProgressStyleModel",
            "_view_count": null,
            "_view_module": "@jupyter-widgets/base",
            "_view_module_version": "1.2.0",
            "_view_name": "StyleView",
            "bar_color": null,
            "description_width": ""
          }
        },
        "ff937eab01fc4f5e840a1e59700a6b4a": {
          "model_module": "@jupyter-widgets/controls",
          "model_module_version": "1.5.0",
          "model_name": "ProgressStyleModel",
          "state": {
            "_model_module": "@jupyter-widgets/controls",
            "_model_module_version": "1.5.0",
            "_model_name": "ProgressStyleModel",
            "_view_count": null,
            "_view_module": "@jupyter-widgets/base",
            "_view_module_version": "1.2.0",
            "_view_name": "StyleView",
            "bar_color": null,
            "description_width": ""
          }
        }
      }
    }
  },
  "nbformat": 4,
  "nbformat_minor": 0
}
