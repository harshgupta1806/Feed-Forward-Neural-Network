{
  "cells": [
    {
      "cell_type": "code",
      "execution_count": 111,
      "metadata": {
        "id": "M8_d0DATWE35"
      },
      "outputs": [],
      "source": [
        "# Importing necessary libraries\n",
        "from keras.datasets import fashion_mnist  # Importing Fashion MNIST dataset from Keras\n",
        "import numpy as np  # Importing NumPy library for numerical operations\n",
        "import matplotlib.pyplot as plt  # Importing Matplotlib library for plotting\n",
        "import wandb\n",
        "from sklearn.model_selection import train_test_split\n",
        "from keras.datasets import mnist\n",
        "import matplotlib\n",
        "import seaborn as sns\n",
        "import pandas"
      ]
    },
    {
      "cell_type": "code",
      "execution_count": 69,
      "metadata": {},
      "outputs": [
        {
          "name": "stderr",
          "output_type": "stream",
          "text": [
            "wandb: Appending key for api.wandb.ai to your netrc file: C:\\Users\\DELL\\.netrc\n"
          ]
        }
      ],
      "source": [
        "!wandb login 57566fbb0e091de2e298a4320d872f9a2b200d12"
      ]
    },
    {
      "cell_type": "code",
      "execution_count": 70,
      "metadata": {},
      "outputs": [
        {
          "data": {
            "text/html": [
              "Changes to your `wandb` environment variables will be ignored because your `wandb` session has already started. For more information on how to modify your settings with `wandb.init()` arguments, please refer to <a href='https://wandb.me/wandb-init' target=\"_blank\">the W&B docs</a>."
            ],
            "text/plain": [
              "<IPython.core.display.HTML object>"
            ]
          },
          "metadata": {},
          "output_type": "display_data"
        },
        {
          "name": "stderr",
          "output_type": "stream",
          "text": [
            "\u001b[34m\u001b[1mwandb\u001b[0m: \u001b[33mWARNING\u001b[0m Ignored wandb.init() arg project when running a sweep.\n"
          ]
        },
        {
          "data": {
            "text/html": [
              "wandb version 0.16.4 is available!  To upgrade, please run:\n",
              " $ pip install wandb --upgrade"
            ],
            "text/plain": [
              "<IPython.core.display.HTML object>"
            ]
          },
          "metadata": {},
          "output_type": "display_data"
        },
        {
          "data": {
            "text/html": [
              "Tracking run with wandb version 0.16.3"
            ],
            "text/plain": [
              "<IPython.core.display.HTML object>"
            ]
          },
          "metadata": {},
          "output_type": "display_data"
        },
        {
          "data": {
            "text/html": [
              "Run data is saved locally in <code>d:\\DeepLearning\\wandb\\run-20240313_023134-pyh3bhcl</code>"
            ],
            "text/plain": [
              "<IPython.core.display.HTML object>"
            ]
          },
          "metadata": {},
          "output_type": "display_data"
        },
        {
          "data": {
            "text/html": [
              "Syncing run <strong><a href='https://wandb.ai/harsh_cs23m026/DL_Assignment1/runs/pyh3bhcl' target=\"_blank\">Question:1</a></strong> to <a href='https://wandb.ai/harsh_cs23m026/DL_Assignment1' target=\"_blank\">Weights & Biases</a> (<a href='https://wandb.me/run' target=\"_blank\">docs</a>)<br/>Sweep page: <a href='https://wandb.ai/harsh_cs23m026/DL_Assignment1/sweeps/mnrjfmce' target=\"_blank\">https://wandb.ai/harsh_cs23m026/DL_Assignment1/sweeps/mnrjfmce</a>"
            ],
            "text/plain": [
              "<IPython.core.display.HTML object>"
            ]
          },
          "metadata": {},
          "output_type": "display_data"
        },
        {
          "data": {
            "text/html": [
              " View project at <a href='https://wandb.ai/harsh_cs23m026/DL_Assignment1' target=\"_blank\">https://wandb.ai/harsh_cs23m026/DL_Assignment1</a>"
            ],
            "text/plain": [
              "<IPython.core.display.HTML object>"
            ]
          },
          "metadata": {},
          "output_type": "display_data"
        },
        {
          "data": {
            "text/html": [
              " View sweep at <a href='https://wandb.ai/harsh_cs23m026/DL_Assignment1/sweeps/mnrjfmce' target=\"_blank\">https://wandb.ai/harsh_cs23m026/DL_Assignment1/sweeps/mnrjfmce</a>"
            ],
            "text/plain": [
              "<IPython.core.display.HTML object>"
            ]
          },
          "metadata": {},
          "output_type": "display_data"
        },
        {
          "data": {
            "text/html": [
              " View run at <a href='https://wandb.ai/harsh_cs23m026/DL_Assignment1/runs/pyh3bhcl' target=\"_blank\">https://wandb.ai/harsh_cs23m026/DL_Assignment1/runs/pyh3bhcl</a>"
            ],
            "text/plain": [
              "<IPython.core.display.HTML object>"
            ]
          },
          "metadata": {},
          "output_type": "display_data"
        },
        {
          "data": {
            "text/html": [
              "<button onClick=\"this.nextSibling.style.display='block';this.style.display='none';\">Display W&B run</button><iframe src='https://wandb.ai/harsh_cs23m026/DL_Assignment1/runs/pyh3bhcl?jupyter=true' style='border:none;width:100%;height:420px;display:none;'></iframe>"
            ],
            "text/plain": [
              "<wandb.sdk.wandb_run.Run at 0x2433a033640>"
            ]
          },
          "execution_count": 70,
          "metadata": {},
          "output_type": "execute_result"
        }
      ],
      "source": [
        "wandb.init(project=\"DL_Assignment1\", name=\"Question:1\")"
      ]
    },
    {
      "cell_type": "markdown",
      "metadata": {
        "id": "qsgn6H8KWE4B"
      },
      "source": [
        "# **Question-1**"
      ]
    },
    {
      "cell_type": "code",
      "execution_count": 71,
      "metadata": {
        "colab": {
          "base_uri": "https://localhost:8080/"
        },
        "id": "sw4DeVb7WE4F",
        "outputId": "f80f7e02-4779-48e5-ba74-0d3ad8072d0f"
      },
      "outputs": [],
      "source": [
        "#loading data set\n",
        "(fashion_mnist_train, fashion_mnist_train_label), (fashion_mnist_test, fashion_mnist_test_label) = fashion_mnist.load_data()\n",
        "(mnist_train, mnist_train_label), (mnist_test, mnist_test_label) = mnist.load_data()\n"
      ]
    },
    {
      "cell_type": "code",
      "execution_count": 72,
      "metadata": {
        "id": "CXn3fmt8WE4G"
      },
      "outputs": [],
      "source": [
        "# Checking Dataset shape\n",
        "# print(x_train.shape, y_train.shape, x_test.shape, y_test.shape)\n",
        "# type(x_train)\n",
        "# x_train = np.reshape(x_train, (x_train.shape[0], x_train.shape[1] * x_train.shape[1]))\n",
        "# x_train.shape\n",
        "\n",
        "def input_matrix(image):\n",
        "    \"\"\"\n",
        "    Reshape and normalize input images.\n",
        "    \n",
        "    Parameters:\n",
        "    - image: Input image\n",
        "    \n",
        "    Returns:\n",
        "    - Reshaped and normalized input matrix\n",
        "    \"\"\"\n",
        "    return image.reshape(image.shape[0], -1) / 255.0\n"
      ]
    },
    {
      "cell_type": "code",
      "execution_count": 73,
      "metadata": {
        "id": "8RPjO_d6WE4H"
      },
      "outputs": [],
      "source": [
        "# class labels for fashion mnist dataset\n",
        "label_fahion_mnist = {\n",
        "     0 :  \"T-shirt/top\",\n",
        "     1 :  \"Trouser\",\n",
        "     2 :  \"Pullover\",\n",
        "     3 :  \"Dress\",\n",
        "     4 :  \"Coat\",\n",
        "     5 :  \"Sandal\",\n",
        "     6 :  \"Shirt\",\n",
        "     7 :  \"Sneaker\",\n",
        "     8 :  \"Bag\",\n",
        "     9 :  \"Ankle boot\"\n",
        "}\n",
        "\n",
        "label_mnist = {\n",
        "     0 :  \"0\",\n",
        "     1 :  \"1\",\n",
        "     2 :  \"2\",\n",
        "     3 :  \"3\",\n",
        "     4 :  \"4\",\n",
        "     5 :  \"5\",\n",
        "     6 :  \"6\",\n",
        "     7 :  \"7\",\n",
        "     8 :  \"8\",\n",
        "     9 :  \"9\"\n",
        "}"
      ]
    },
    {
      "cell_type": "code",
      "execution_count": 74,
      "metadata": {
        "colab": {
          "base_uri": "https://localhost:8080/",
          "height": 400
        },
        "id": "w7WgHTlVWE4J",
        "outputId": "8db96df2-602a-4cca-dda7-275fe028590d"
      },
      "outputs": [
        {
          "data": {
            "image/png": "[encoded data removed]",
            "text/plain": [
              "<Figure size 600x600 with 10 Axes>"
            ]
          },
          "metadata": {},
          "output_type": "display_data"
        }
      ],
      "source": [
        "# Creating subplots to display one image of each class\n",
        "fig, axes = plt.subplots(2, 5, figsize=(6, 6))\n",
        "\n",
        "# Iterating through each class\n",
        "for i in range(len(label_fahion_mnist)):\n",
        "    row = i // 5  # Calculating row index for subplot\n",
        "    col = i % 5   # Calculating column index for subplot\n",
        "    \n",
        "    # Finding the index of the first image in the training set with label i\n",
        "    idx = np.argmax(fashion_mnist_train_label == i)\n",
        "    \n",
        "    # Displaying the image corresponding to the label i\n",
        "    axes[row, col].imshow(fashion_mnist_train[idx], cmap='gray')  # Displaying grayscale image\n",
        "    axes[row, col].set_title(label_fahion_mnist[i])  # Setting title with class label\n",
        "    axes[row, col].axis('off')  # Turning off axis\n",
        "\n",
        "    # wandb.log({\"Question1\": [wandb.Image(fashion_mnist_train[idx], caption= label[i])]})\n",
        "\n",
        "# Adjusting the layout to prevent overlapping\n",
        "plt.tight_layout()\n",
        "\n",
        "# Displaying the plot\n",
        "plt.show()"
      ]
    },
    {
      "cell_type": "code",
      "execution_count": 75,
      "metadata": {},
      "outputs": [
        {
          "data": {
            "application/vnd.jupyter.widget-view+json": {
              "model_id": "6f69aba84ac644ff80aaa2890d9b7e02",
              "version_major": 2,
              "version_minor": 0
            },
            "text/plain": [
              "VBox(children=(Label(value='0.001 MB of 0.005 MB uploaded\\r'), FloatProgress(value=0.17951110281768987, max=1.…"
            ]
          },
          "metadata": {},
          "output_type": "display_data"
        },
        {
          "data": {
            "text/html": [
              " View run <strong style=\"color:#cdcd00\">Question:1</strong> at: <a href='https://wandb.ai/harsh_cs23m026/DL_Assignment1/runs/pyh3bhcl' target=\"_blank\">https://wandb.ai/harsh_cs23m026/DL_Assignment1/runs/pyh3bhcl</a><br/>Synced 4 W&B file(s), 0 media file(s), 0 artifact file(s) and 0 other file(s)"
            ],
            "text/plain": [
              "<IPython.core.display.HTML object>"
            ]
          },
          "metadata": {},
          "output_type": "display_data"
        },
        {
          "data": {
            "text/html": [
              "Find logs at: <code>.\\wandb\\run-20240313_023134-pyh3bhcl\\logs</code>"
            ],
            "text/plain": [
              "<IPython.core.display.HTML object>"
            ]
          },
          "metadata": {},
          "output_type": "display_data"
        }
      ],
      "source": [
        "wandb.finish()"
      ]
    },
    {
      "cell_type": "markdown",
      "metadata": {
        "id": "wAkLUv9AWE4L"
      },
      "source": [
        "# **Activation Functions**"
      ]
    },
    {
      "cell_type": "code",
      "execution_count": 76,
      "metadata": {
        "id": "M2C0q0MdWE4M"
      },
      "outputs": [],
      "source": [
        "\"\"\" Activation Class :- Contains various diffrent activations functions \"\"\"\n",
        "class Activation_Functions:\n",
        "    def __init__(self) -> None:\n",
        "        pass\n",
        "\n",
        "\n",
        "    def sigmoid(self, x):\n",
        "        # Compute sigmoid element-wise for each element of the matrix\n",
        "        sigmoid_x = np.zeros_like(x)  # Initialize output matrix with zeros\n",
        "        \n",
        "        # Apply the sigmoid function element-wise using vectorized operations\n",
        "        positive_mask = x >= 0\n",
        "        sigmoid_x[positive_mask] = 1.0 / (1.0 + np.exp(-x[positive_mask]))\n",
        "        sigmoid_x[~positive_mask] = np.exp(x[~positive_mask]) / (1.0 + np.exp(x[~positive_mask]))\n",
        "        \n",
        "        return sigmoid_x\n",
        "\n",
        "\n",
        "    def ReLU(self, x):\n",
        "        return np.maximum(0, x)\n",
        "\n",
        "    def tanh(self, x):\n",
        "        return np.tanh(x)\n",
        "\n",
        "    \n",
        "\n",
        "    def softmax(self, x):\n",
        "        # Subtract the maximum value along the axis to prevent overflow\n",
        "        max_x = np.max(x, axis=1, keepdims=True)\n",
        "        exp_x = np.exp(x - max_x)\n",
        "        \n",
        "        # Compute softmax probabilities\n",
        "        softmax_x = exp_x / np.sum(exp_x, axis=1, keepdims=True)\n",
        "        \n",
        "        return softmax_x\n",
        "\n",
        "\n",
        "    def activation(self, x, fun):\n",
        "        if fun == \"tanh\":\n",
        "            return self.tanh(x)\n",
        "        elif fun == \"sigmoid\":\n",
        "            return self.sigmoid(x)\n",
        "        elif fun == \"ReLU\":\n",
        "            return self.ReLU(x)\n",
        "        elif fun == \"softmax\":\n",
        "            return self.softmax(x)"
      ]
    },
    {
      "cell_type": "markdown",
      "metadata": {},
      "source": [
        "# **Derivatives**"
      ]
    },
    {
      "cell_type": "code",
      "execution_count": 77,
      "metadata": {
        "id": "156_-ifDWE4O"
      },
      "outputs": [],
      "source": [
        "class Derivatives:\n",
        "    def __init__(self) -> None:\n",
        "        \"\"\" \n",
        "            Constructor method for Derivatives class.\n",
        "            Initialization of object of Activation_Functions class\n",
        "        \"\"\"\n",
        "        self.fun = Activation_Functions()  # Creating an instance of Activation_Functions class\n",
        "\n",
        "    \n",
        "    def sigmoid_derivative(self, x):\n",
        "        \"\"\"\n",
        "        Computes the derivative of the sigmoid activation function.\n",
        "        \n",
        "        Parameters:\n",
        "        - x: Input value\n",
        "        \n",
        "        Returns:\n",
        "        - Derivative of the sigmoid activation function\n",
        "        \"\"\"\n",
        "        g = self.fun.sigmoid(x)  # Computing sigmoid activation\n",
        "        return g * (1 - g)  # Computing and returning derivative\n",
        "    \n",
        "    def softmax_derivative(self, x):\n",
        "        \"\"\"\n",
        "        Computes the derivative of the sigmoid activation function.\n",
        "        \n",
        "        Parameters:\n",
        "        - x: Input value\n",
        "        \n",
        "        Returns:\n",
        "        - Derivative of the sigmoid activation function\n",
        "        \"\"\"\n",
        "        g = self.fun.softmax(x)  # Computing sigmoid activation\n",
        "        return g * (1 - g)  # Computing and returning derivative\n",
        "\n",
        "    \n",
        "    def tanh_derivative(self, x):\n",
        "        \"\"\"\n",
        "        Computes the derivative of the hyperbolic tangent (tanh) activation function.\n",
        "        \n",
        "        Parameters:\n",
        "        - x: Input value\n",
        "        \n",
        "        Returns:\n",
        "        - Derivative of the tanh activation function\n",
        "        \"\"\"\n",
        "        g = self.fun.tanh(x)  # Computing tanh activation\n",
        "        return 1 - g * g  # Computing and returning derivative\n",
        "\n",
        "    \n",
        "    def ReLU_derivative(self, x):\n",
        "        \"\"\"\n",
        "        Computes the derivative of the Rectified Linear Unit (ReLU) activation function.\n",
        "        \n",
        "        Parameters:\n",
        "        - x: Input value\n",
        "        \n",
        "        Returns:\n",
        "        - Derivative of the ReLU activation function\n",
        "        \"\"\"\n",
        "        # g = self.fun.ReLU(x)  # Computing ReLU activation\n",
        "        # return np.where(g > 0, 1, 0)  # Computing and returning derivative\n",
        "\n",
        "        x[x>0]=1\n",
        "        x[x<=0]=0\n",
        "        return x\n",
        "\n",
        "\n",
        "    def derivatives(self, x, activation_function):\n",
        "        \"\"\"\n",
        "        Computes the derivative of a specified activation function.\n",
        "        \n",
        "        Parameters:\n",
        "        - x: Input value\n",
        "        - activation_function: Name of the activation function\n",
        "        \n",
        "        Returns:\n",
        "        - Derivative of the specified activation function\n",
        "        \"\"\"\n",
        "        if activation_function == \"sigmoid\":\n",
        "            return self.sigmoid_derivative(x)  # Computing derivative for sigmoid activation\n",
        "        elif activation_function == \"tanh\":\n",
        "            return self.tanh_derivative(x)  # Computing derivative for tanh activation\n",
        "        elif activation_function == \"ReLU\":\n",
        "            return self.ReLU_derivative(x)  # Computing derivative for ReLU activation\n",
        "        elif activation_function == \"softmax\":\n",
        "            return self.softmax_derivative(x)\n"
      ]
    },
    {
      "cell_type": "markdown",
      "metadata": {},
      "source": [
        "# **Loss Functions**"
      ]
    },
    {
      "cell_type": "code",
      "execution_count": 78,
      "metadata": {
        "id": "v6eUMIdbWE4P"
      },
      "outputs": [],
      "source": [
        "class Loss_Function:\n",
        "    def __init__(self) -> None:\n",
        "        \"\"\"\n",
        "        Constructor method for Loss_Function class.\n",
        "        Initializes the default loss function to cross-entropy.\n",
        "        \"\"\"\n",
        "        self.default_loss_function = \"cross_entropy\"\n",
        "\n",
        "\n",
        "    def compute_loss(self, y_true, y_hat, loss_function):\n",
        "        \"\"\"\n",
        "        Computes the loss based on the given true labels and predicted probabilities.\n",
        "        \n",
        "        Parameters:\n",
        "        - y_true: True labels (one-hot encoded) \n",
        "        - y_hat: Predicted probabilities\n",
        "        - loss_function: Name of the loss function to be used\n",
        "        \n",
        "        Returns:\n",
        "        - Loss value\n",
        "        \"\"\"\n",
        "\n",
        "        \n",
        "        if loss_function == None: \n",
        "            # If no loss function is specified, use the default loss function\n",
        "            loss_function = self.default_loss_function\n",
        "\n",
        "        if loss_function == \"cross_entropy\":\n",
        "            # Set a small value epsilon to avoid numerical instability\n",
        "            epsilon = 1e-15\n",
        "            # Clip the predicted values to avoid log(0) and log(1) scenarios\n",
        "            y_hat = np.clip(y_hat, epsilon, 1. - epsilon)\n",
        "            # Compute the cross-entropy loss for each sample\n",
        "            loss = -np.sum(y_true * np.log(y_hat), axis=1)\n",
        "            # Compute the mean loss across all samples\n",
        "            loss = np.mean(loss)\n",
        "            # Return the computed loss\n",
        "            return loss\n",
        "        \n",
        "        if loss_function == \"squared_loss\":\n",
        "            loss = (1/2) * np.sum((y_true-y_hat)**2) / (y_hat.shape[0])\n",
        "            return loss\n",
        "        \n",
        "\n",
        "    def last_output_derivative(self, y_hat,y_true, activation_derivative, loss_function):\n",
        "        \n",
        "        # epsilon = 1e-15\n",
        "        #     # Clip the predicted values to avoid log(0) and log(1) scenarios\n",
        "        # y_hat = np.clip(y_hat, epsilon, 1. - epsilon)\n",
        "        \n",
        "        if(loss_function == \"squared_loss\"):\n",
        "            # print(y_hat.shape, y_true.shape)\n",
        "            return (y_hat - y_true)* activation_derivative/ len(y_true)\n",
        "        \n",
        "        if(loss_function == \"cross_entropy\"):\n",
        "            return -(y_true - y_hat)\n",
        "        \n"
      ]
    },
    {
      "cell_type": "markdown",
      "metadata": {},
      "source": [
        "# **Question - 2**"
      ]
    },
    {
      "cell_type": "code",
      "execution_count": 79,
      "metadata": {
        "id": "65CnAaCRWE4Q"
      },
      "outputs": [],
      "source": [
        "class Network:\n",
        "    def __init__(self, PARAM):\n",
        "        \"\"\"\n",
        "        Constructor method for Network class.\n",
        "        \n",
        "        Parameters:\n",
        "        - PARAM: Dictionary containing network parameters (input size, hidden layers, output size)\n",
        "        \"\"\"\n",
        "        self.weight = {}  # Dictionary to store weights of each layer\n",
        "        self.bias = {}    # Dictionary to store biases of each layer\n",
        "        self.a = {}       # Dictionary to store activations of each layer\n",
        "        self.h = {}       # Dictionary to store outputs of each layer\n",
        "        self.fun = Activation_Functions()  # Instance of Activation_Functions class\n",
        "        self.size_list = [PARAM[\"input_size\"]] + PARAM[\"hidden_layers\"] + [PARAM[\"output_size\"]]  # List containing sizes of all layers\n",
        "        self.y_predictions = []  # List to store predicted probabilities for each input sample\n",
        "\n",
        "\n",
        "    def initialize_parameters(self, initialization):\n",
        "        \"\"\"\n",
        "        Method to initialize weights and biases of the network.\n",
        "        \"\"\"\n",
        "        for layer in range(1, len(self.size_list)):\n",
        "            if initialization == \"random\":\n",
        "                self.weight[layer] = np.random.randn(self.size_list[layer-1], self.size_list[layer])  # Initializing weights with random values\n",
        "                self.bias[layer] = np.random.randn(1, self.size_list[layer])  # Initializing biases with random values\n",
        "            elif initialization == \"xavier\":\n",
        "                inpt_w = self.size_list[layer-1]\n",
        "                opt_w = self.size_list[layer]\n",
        "                inpt_b = 1\n",
        "                opt_b = self.size_list[layer]\n",
        "\n",
        "                variance_w = 2.0/(inpt_w + opt_w)\n",
        "                variance_b = 2.0/(inpt_b + opt_b)\n",
        "\n",
        "                self.weight[layer] = np.random.randn(inpt_w, opt_w) * np.sqrt(variance_w) # Initializing weights with random values\n",
        "                self.bias[layer] = np.random.randn(inpt_b, opt_b) *np.sqrt(variance_b)  # Initializing biases with random values\n",
        "\n",
        "\n",
        "                \n",
        "\n",
        "\n",
        "    def forward_pass(self, x, activation_function):\n",
        "        \"\"\"\n",
        "        Method to perform forward pass through the network.\n",
        "        \n",
        "        Parameters:\n",
        "        - x: Input data\n",
        "        - activation_function: Name of the activation function to be used\n",
        "        \n",
        "        Returns:\n",
        "        - Output of the final layer (after applying softmax activation)\n",
        "        \"\"\"\n",
        "        total_layer = len(self.size_list)\n",
        "        self.h[0] = x  # Input layer\n",
        "\n",
        "        for layer in range(1, total_layer-1):\n",
        "            self.a[layer] = np.dot(self.h[layer-1], self.weight[layer]) + self.bias[layer]  # Computing preactivation\n",
        "            self.h[layer] = self.fun.activation(self.a[layer], fun=activation_function)  # Applying activation function\n",
        "    \n",
        "        self.a[total_layer-1] = np.dot(self.h[layer], self.weight[total_layer-1]) + self.bias[total_layer-1]  # Computing weighted sum for final layer\n",
        "        self.h[total_layer-1] = self.fun.activation(self.a[total_layer-1], fun=\"softmax\")  # Applying softmax activation\n",
        "        \n",
        "        return self.h[total_layer-1]  # Returning output of final layer\n",
        "\n",
        "\n",
        "    def predict_probability(self, dataset, activation, init):\n",
        "        \"\"\"\n",
        "        Method to predict probabilities for each input sample in the dataset.\n",
        "        \n",
        "        Parameters:\n",
        "        - dataset: Input dataset\n",
        "        - activation: Name of the activation function to be used\n",
        "        \n",
        "        Returns:\n",
        "        - List containing predicted probabilities for each input sample\n",
        "        \"\"\"\n",
        "        self.initialize_parameters(init)  # Initializing network parameters\n",
        "\n",
        "        for image in dataset:\n",
        "            x = image.reshape(1, -1) / 255.0  # Reshaping and normalizing input data\n",
        "            y_hat = self.forward_pass(x, activation)  # Performing forward pass\n",
        "            self.y_predictions.append(y_hat)  # Storing predicted probabilities\n",
        "            \n",
        "        return self.y_predictions  # Returning list of predicted probabilities\n",
        "\n"
      ]
    },
    {
      "cell_type": "code",
      "execution_count": 80,
      "metadata": {
        "id": "U7RFdFL0WE4R"
      },
      "outputs": [],
      "source": [
        "PARAM = {\n",
        "    \"input_size\" : 784,            # Size of the input layer (number of input features)\n",
        "    \"hidden_layers\" : [5, 6, 7],   # Sizes of hidden layers in the neural network\n",
        "    \"output_size\" : 10             # Size of the output layer (number of classes)\n",
        "}\n",
        "\n",
        "n1 = Network(PARAM)  # Creating an instance of the Network class with the given parameters\n",
        "y_pred = n1.predict_probability(fashion_mnist_train, \"sigmoid\", \"xavier\")  # Predicting probabilities for each sample in the training dataset using sigmoid activation function\n",
        "\n"
      ]
    },
    {
      "cell_type": "code",
      "execution_count": 81,
      "metadata": {
        "colab": {
          "base_uri": "https://localhost:8080/"
        },
        "id": "49bpLEBNWE4S",
        "outputId": "20d3ab6a-9f3c-42d3-eace-4137f48841aa"
      },
      "outputs": [
        {
          "name": "stdout",
          "output_type": "stream",
          "text": [
            "[[0.11510044 0.07057153 0.06348642 0.07406339 0.14122031 0.13982905\n",
            "  0.06380265 0.11264239 0.07097192 0.1483119 ]]\n"
          ]
        }
      ],
      "source": [
        "np.set_printoptions(suppress=True)  # Suppressing scientific notation in printed arrays\n",
        "print(y_pred[0])  # Printing the predicted probabilities for the first sample"
      ]
    },
    {
      "cell_type": "markdown",
      "metadata": {},
      "source": [
        "# **Question - 3**"
      ]
    },
    {
      "cell_type": "markdown",
      "metadata": {
        "id": "r2q1H-gPWE4S"
      },
      "source": [
        "# **Optimizers**"
      ]
    },
    {
      "cell_type": "code",
      "execution_count": 82,
      "metadata": {},
      "outputs": [],
      "source": [
        "class Optimizer:\n",
        "    def __init__(self, neural_network, PARAM) -> None:\n",
        "        \"\"\"\n",
        "        Constructor method for Optimizer class.\n",
        "        \n",
        "        Parameters:\n",
        "        - neural_network: Instance of the neural network class\n",
        "        - PARAM: Dictionary containing optimization parameters (eta, weight_decay, optimizer, beta)\n",
        "        \"\"\"\n",
        "        self.neural_network = neural_network  # Neural network object\n",
        "        self.eta = PARAM[\"eta\"]  # Learning rate\n",
        "        self.weight_decay = PARAM[\"weight_decay\"]  # Weight decay factor\n",
        "        self.optimizer = PARAM[\"optimizer\"]  # Optimization algorithm (sgd, mgd, nag)\n",
        "        self.beta = PARAM[\"beta\"]  # Momentum factor for momentum-based optimization\n",
        "        self.epsilon = PARAM[\"epsilon\"]\n",
        "        self.beta2 = PARAM[\"beta2\"]\n",
        "        self.beta1 = PARAM[\"beta1\"]\n",
        "        self.momentum = PARAM[\"momentum\"]\n",
        "\n",
        "    def stochastic_gradient_decent(self):\n",
        "        \"\"\"\n",
        "        Method to perform stochastic gradient descent optimization.\n",
        "        \"\"\"\n",
        "        weight_decay = self.weight_decay\n",
        "        eta = self.eta\n",
        "\n",
        "        for layer in range(len(self.neural_network.size_list)-1, 0, -1):\n",
        "            decay_wt = weight_decay * self.neural_network.weight[layer]  # Applying weight decay\n",
        "            self.neural_network.grad_w[layer] = self.neural_network.grad_w[layer] + decay_wt  # Adding weight decay to gradients\n",
        "            self.neural_network.weight[layer] = self.neural_network.weight[layer] - eta * self.neural_network.grad_w[layer]  # Updating weights\n",
        "            self.neural_network.bias[layer] = self.neural_network.bias[layer] - eta * self.neural_network.grad_b[layer]  # Updating biases\n",
        "        \n",
        "    def update(self, t):\n",
        "        \"\"\"\n",
        "        Method to update network parameters based on the selected optimization algorithm.\n",
        "        \"\"\"\n",
        "        if self.optimizer == \"sgd\":\n",
        "            self.stochastic_gradient_decent()\n",
        "        elif self.optimizer == \"mgd\":\n",
        "            self.momentum_based_gradient_decent()\n",
        "        elif self.optimizer == \"nag\":\n",
        "            self.nesterov_accelerated_gradient_decent()\n",
        "        elif self.optimizer == \"rmsprop\":\n",
        "            self.rmsprop()\n",
        "        elif self.optimizer == \"adam\":\n",
        "            self.adam(t)\n",
        "        elif self.optimizer == \"nadam\":\n",
        "            self.nadam(t)\n",
        "             \n",
        "\n",
        "    def momentum_based_gradient_decent(self):\n",
        "        \"\"\"\n",
        "        Method to perform momentum-based gradient descent optimization.\n",
        "        \"\"\"\n",
        "        weight_decay = self.weight_decay\n",
        "\n",
        "        for layer in range(len(self.neural_network.size_list)-1, 0, -1):\n",
        "                decay_wt = weight_decay * self.neural_network.weight[layer]  # Applying weight decay\n",
        "                self.neural_network.grad_w[layer] = self.neural_network.grad_w[layer] + decay_wt  # Adding weight decay to gradients\n",
        "\n",
        "                uw = self.momentum * self.neural_network.prv_w[layer] + self.eta * self.neural_network.grad_w[layer]  # Computing update for weights\n",
        "                ub = self.momentum * self.neural_network.prv_b[layer] + self.eta * self.neural_network.grad_b[layer]  # Computing update for biases\n",
        "\n",
        "                self.neural_network.weight[layer] -= uw  # Updating weights\n",
        "                self.neural_network.bias[layer] -= ub  # Updating biases\n",
        "\n",
        "                self.neural_network.prv_w[layer] = uw  # Storing previous weight update\n",
        "                self.neural_network.prv_b[layer] = ub  # Storing previous bias update\n",
        "\n",
        "\n",
        "    def nesterov_accelerated_gradient_decent(self):\n",
        "        \"\"\"\n",
        "        Method to perform Nesterov Accelerated Gradient Descent optimization.\n",
        "        \"\"\"\n",
        "        for layer in range(len(self.neural_network.size_list)-1, 0, -1):\n",
        "            decay_wt = self.weight_decay * self.neural_network.weight[layer]  # Applying weight decay\n",
        "            self.neural_network.grad_w[layer] = self.neural_network.grad_w[layer] + decay_wt  # Adding weight decay to gradients\n",
        "            self.neural_network.prv_w[layer] = self.momentum * self.neural_network.prv_w[layer] + self.neural_network.grad_w[layer]\n",
        "            self.neural_network.prv_b[layer] = self.momentum * self.neural_network.prv_b[layer] + self.neural_network.grad_b[layer]\n",
        "\n",
        "            self.neural_network.weight[layer] -= ((self.eta) * (self.momentum * self.neural_network.prv_w[layer] + self.neural_network.grad_w[layer])) \n",
        "            self.neural_network.bias[layer] -= ((self.eta) * (self.momentum * self.neural_network.prv_b[layer] + self.neural_network.grad_b[layer])) \n",
        "\n",
        "    def rmsprop(self):\n",
        "        \"\"\"\n",
        "        Method to perform Root Mean Square Propogation optimization.\n",
        "        \"\"\"\n",
        "        for layer in range(len(self.neural_network.size_list) - 1, 0, -1):\n",
        "            decay_wt = self.weight_decay * self.neural_network.weight[layer]  # Applying weight decay\n",
        "            self.neural_network.grad_w[layer] = self.neural_network.grad_w[layer] + decay_wt  # Adding weight decay to gradients\n",
        "\n",
        "            self.neural_network.prv_w[layer] = self.beta * self.neural_network.prv_w[layer] + (1 - self.beta) * (self.neural_network.grad_w[layer] ** 2)\n",
        "            self.neural_network.prv_b[layer] = self.beta * self.neural_network.prv_b[layer] + (1 - self.beta) * (self.neural_network.grad_b[layer] ** 2)\n",
        "\n",
        "            self.neural_network.weight[layer] -= (self.eta / (np.sqrt(self.neural_network.prv_w[layer] + self.epsilon))) * self.neural_network.grad_w[layer]\n",
        "            self.neural_network.bias[layer] -= (self.eta / (np.sqrt(self.neural_network.prv_b[layer] + self.epsilon))) * self.neural_network.grad_b[layer]\n",
        "\n",
        "    \n",
        "    def adam(self, t):\n",
        "        \"\"\"\n",
        "        Method to perform adam optimizer.\n",
        "\n",
        "        Parameter : t (denotes the time stamp in network)\n",
        "        \"\"\"\n",
        "        for layer in range(len(self.neural_network.size_list)-1, 0, -1):\n",
        "            decay_wt = self.weight_decay * self.neural_network.weight[layer]  # Applying weight decay\n",
        "            self.neural_network.grad_w[layer] = self.neural_network.grad_w[layer] + decay_wt  # Adding weight decay to gradients\n",
        "\n",
        "            self.neural_network.prv_w[layer] = self.beta1 * self.neural_network.prv_w[layer] + (1 - self.beta1) * self.neural_network.grad_w[layer]\n",
        "            self.neural_network.prv_b[layer] = self.beta1 * self.neural_network.prv_b[layer] + (1 - self.beta1) * self.neural_network.grad_b[layer]\n",
        "\n",
        "            \n",
        "            self.neural_network.prv2_w[layer] = self.beta2 * self.neural_network.prv2_w[layer] + (1 - self.beta2) * (self.neural_network.grad_w[layer] ** 2)\n",
        "            self.neural_network.prv2_b[layer] = self.beta2 * self.neural_network.prv2_b[layer] + (1 - self.beta2) * (self.neural_network.grad_b[layer] ** 2)\n",
        "\n",
        "            m_w_hat = self.neural_network.prv_w[layer]/(1 - self.beta1**t)\n",
        "            m_b_hat = self.neural_network.prv_b[layer]/(1 - self.beta1**t)\n",
        "\n",
        "            v_w_hat = self.neural_network.prv2_w[layer]/(1 - self.beta2 ** t)\n",
        "            v_b_hat = self.neural_network.prv2_b[layer]/(1 - self.beta2 ** t)\n",
        "\n",
        "            self.neural_network.weight[layer] -= (self.eta/(np.sqrt(v_w_hat) + self.epsilon)) * m_w_hat\n",
        "            self.neural_network.bias[layer] -= (self.eta/(np.sqrt(v_b_hat) + self.epsilon)) * m_b_hat\n",
        "\n",
        "\n",
        "    def nadam(self, t):\n",
        "        \"\"\"\n",
        "        Method to perform nadam optimizer.\n",
        "\n",
        "        Parameter : t (denotes the time stamp in network)\n",
        "        \"\"\"\n",
        "        for layer in range(len(self.neural_network.size_list)-1, 0, -1):\n",
        "            decay_wt = self.weight_decay * self.neural_network.weight[layer]  # Applying weight decay\n",
        "            self.neural_network.grad_w[layer] = self.neural_network.grad_w[layer] + decay_wt  # Adding weight decay to gradients\n",
        "            \n",
        "            self.neural_network.prv_w[layer] = self.beta1 * self.neural_network.prv_w[layer] + (1 - self.beta1) * self.neural_network.grad_w[layer]\n",
        "            self.neural_network.prv_b[layer] = self.beta1 * self.neural_network.prv_b[layer] + (1 - self.beta1) * self.neural_network.grad_b[layer]\n",
        "\n",
        "            self.neural_network.prv2_w[layer] = self.beta2 * self.neural_network.prv2_w[layer] + (1 - self.beta2) * (self.neural_network.grad_w[layer] ** 2)\n",
        "            self.neural_network.prv2_b[layer] = self.beta2 * self.neural_network.prv2_b[layer] + (1 - self.beta2) * (self.neural_network.grad_b[layer] ** 2)\n",
        "            \n",
        "            m_w_hat = self.neural_network.prv_w[layer]/(1 - self.beta1**t)\n",
        "            m_b_hat = self.neural_network.prv_b[layer]/(1 - self.beta1**t)\n",
        "\n",
        "            v_w_hat = self.neural_network.prv2_w[layer]/(1 - self.beta2 ** t)\n",
        "            v_b_hat = self.neural_network.prv2_b[layer]/(1 - self.beta2 ** t)\n",
        "\n",
        "            self.neural_network.weight[layer] -= (self.eta/(np.sqrt(v_w_hat) + self.epsilon)) * (self.beta * m_w_hat + ((1 - self.beta1) * self.neural_network.grad_w[layer])/(1 - self.beta1 ** t))\n",
        "            self.neural_network.bias[layer] -= (self.eta/(np.sqrt(v_b_hat) + self.epsilon)) * (self.beta * m_b_hat + ((1 - self.beta1) * self.neural_network.grad_b[layer])/(1 - self.beta1 ** t))\n",
        "            \n",
        "\n",
        "            \n",
        "\n",
        "    \n",
        "\n",
        "\n",
        "        \n"
      ]
    },
    {
      "cell_type": "markdown",
      "metadata": {},
      "source": [
        "# **Neural Network**"
      ]
    },
    {
      "cell_type": "code",
      "execution_count": 83,
      "metadata": {
        "id": "psiySPMQWE4T"
      },
      "outputs": [],
      "source": [
        "class Neural_Network:\n",
        "    def __init__(self, PARAM) -> None:\n",
        "        \"\"\"\n",
        "        Constructor method for Neural_Network class.\n",
        "        \n",
        "        Parameters:\n",
        "        - PARAM: Dictionary containing network parameters (input size, hidden layer sizes, output size,\n",
        "                 activation function, training input, training output)\n",
        "        \"\"\"\n",
        "        self.weight = {}  # Dictionary to store weights of each layer\n",
        "        self.bias = {}    # Dictionary to store biases of each layer\n",
        "        self.a = {}       # Dictionary to store preactivation of each layer\n",
        "        self.h = {}       # Dictionary to store activations of each layer\n",
        "        self.grad_w = {}  # Dictionary to store gradients of weights for each layer\n",
        "        self.grad_b = {}  # Dictionary to store gradients of biases for each layer\n",
        "        self.prv_w = {}   # Dictionary to store previous weights for momentum-based optimization\n",
        "        self.prv_b = {}   # Dictionary to store previous biases for momentum-based optimization\n",
        "        self.activation_function = PARAM[\"activation_function\"]  # Activation function for hidden layers\n",
        "        self.loss_function = PARAM[\"loss_function\"]  # Activation function for hidden layers\n",
        "        # self.y_true = PARAM[\"training_output\"]  # True labels for training data\n",
        "        self.initialization = PARAM[\"init\"]\n",
        "        # self.input = PARAM[\"training_input\"]     # Input data for training\n",
        "        self.hidden_layers = PARAM[\"hidden_layers\"]\n",
        "        self.neuron_in_hidden_layer = PARAM[\"neuron_in_hidden_layer\"]\n",
        "        self.dataset = PARAM[\"dataset\"]\n",
        "        # self.size_list = [PARAM[\"input_size\"]] + [self.neuron_in_hidden_layer for _ in range(self.hidden_layers)] + [PARAM[\"output_size\"]]  # Sizes of all layers\n",
        "        self.act = Activation_Functions()  # Instance of Activation_Functions class\n",
        "        self.derivative = Derivatives()     # Instance of Derivatives class\n",
        "        self.loss = Loss_Function()\n",
        "        self.prv2_w = {}\n",
        "        self.prv2_b = {}\n",
        "\n",
        "        if self.dataset == 'fashion_mnist':\n",
        "            (train_img, train_lbl), (test_img, test_lbl) = (fashion_mnist_train, fashion_mnist_train_label), (fashion_mnist_test, fashion_mnist_test_label)\n",
        "        if self.dataset == 'mnist':\n",
        "            (train_img, train_lbl), (test_img, test_lbl) = (mnist_train, mnist_train_label), (mnist_test, mnist_test_label)\n",
        "        \n",
        "        train_image, validation_image, train_label, validation_label = train_test_split(train_img, train_lbl, test_size= 0.1, random_state=41)\n",
        "        self.input = input_matrix(train_image)\n",
        "        self.y_true = train_label\n",
        "\n",
        "        self.val_img = input_matrix(validation_image)\n",
        "        self.val_true = validation_label\n",
        "\n",
        "        self.test_img = input_matrix(test_img)\n",
        "        self.test_true = test_lbl\n",
        "\n",
        "        self.size_list = [self.input.shape[1]] + [self.neuron_in_hidden_layer for _ in range(self.hidden_layers)] + [10]  # Sizes of all layers\n",
        "\n",
        "        \n",
        "\n",
        "\n",
        "    def initialize_parameters(self):\n",
        "        \"\"\"\n",
        "        Method to initialize weights and biases of the network.\n",
        "        \"\"\"\n",
        "        for layer in range(1, len(self.size_list)):\n",
        "        \n",
        "            self.prv_w[layer] = np.zeros((self.size_list[layer-1], self.size_list[layer]))  # Initializing previous weights for momentum-based optimization with zero\n",
        "            self.prv_b[layer] = np.zeros((1, self.size_list[layer]))  # Initializing previous biases for momentum-based optimization with zero\n",
        "            self.prv2_w[layer] = np.zeros((self.size_list[layer-1], self.size_list[layer]))  # Initializing previous weights for momentum-based optimization with zero\n",
        "            self.prv2_b[layer] = np.zeros((1, self.size_list[layer]))  # Initializing previous biases for momentum-based optimization with zero\n",
        "\n",
        "            for layer in range(1, len(self.size_list)):\n",
        "                if self.initialization == \"random\":\n",
        "                    self.weight[layer] = np.random.randn(self.size_list[layer-1], self.size_list[layer])  # Initializing weights with random values\n",
        "                    self.bias[layer] = np.random.randn(1, self.size_list[layer])  # Initializing biases with random values\n",
        "                    # print(\"Initialize with random\")\n",
        "                elif self.initialization == \"xavier\":\n",
        "                    inpt_w = self.size_list[layer-1]\n",
        "                    opt_w = self.size_list[layer]\n",
        "                    inpt_b = 1\n",
        "                    opt_b = self.size_list[layer]\n",
        "\n",
        "                    variance_w = 6.0/(inpt_w + opt_w)\n",
        "                    variance_b = 6.0/(inpt_b + opt_b)\n",
        "\n",
        "                    self.weight[layer] = np.random.randn(inpt_w, opt_w) * np.sqrt(variance_w) # Initializing weights with random values\n",
        "                    self.bias[layer] = np.random.randn(inpt_b, opt_b) *np.sqrt(variance_b)\n",
        "\n",
        "                    # print(\"Initialize with xavier\")\n",
        "\n",
        "    def forward_propagation(self, x):\n",
        "        \"\"\"\n",
        "        Method to perform forward propagation through the network.\n",
        "        \n",
        "        Parameters:\n",
        "        - x: Input data\n",
        "        \n",
        "        Returns:\n",
        "        - Output of the final layer (after applying softmax activation)\n",
        "        \"\"\"\n",
        "        self.h[0] = x  # Input layer\n",
        "        for layer in range(1, len(self.size_list)-1):\n",
        "            self.a[layer] = np.dot(self.h[layer-1], self.weight[layer]) + self.bias[layer]  # Computing weighted sum of inputs\n",
        "            self.h[layer] = self.act.activation(self.a[layer], self.activation_function)  # Applying activation function\n",
        "        self.a[layer+1] = np.dot(self.h[layer], self.weight[layer+1]) + self.bias[layer+1]  # Computing weighted sum for final layer\n",
        "        self.h[layer+1] = self.act.activation(self.a[layer+1], \"softmax\")  # Applying softmax activation\n",
        "        return self.h[layer+1]  # Returning output of final layer\n",
        "\n",
        "    def backward_propagation(self, input, y_true, y_hat):\n",
        "        \"\"\"\n",
        "        Method to perform backward propagation through the network.\n",
        "        \n",
        "        Parameters:\n",
        "        - input: Input data\n",
        "        - y_true: True labels\n",
        "        - y_hat: Predicted probabilities\n",
        "        \n",
        "        Returns:\n",
        "        - Gradients of weights and biases\n",
        "        \"\"\"\n",
        "\n",
        "        activation_derivative = self.derivative.derivatives(self.a[len(self.size_list) - 1], \"softmax\")\n",
        "        error_wrt_output = self.loss.last_output_derivative(y_hat, y_true, activation_derivative, self.loss_function)\n",
        "        \n",
        "        for layer in range(len(self.size_list)-1, 1, -1):\n",
        "            self.grad_w[layer] = np.dot(self.h[layer-1].T, error_wrt_output)  # Computing gradients of weights\n",
        "            self.grad_b[layer] = np.sum(error_wrt_output, axis=0, keepdims=True)  # Computing gradients of biases\n",
        "\n",
        "            error_wrt_hidden = np.dot(error_wrt_output, self.weight[layer].T)  # Computing error with respect to hidden layer\n",
        "            error_wrt_output = error_wrt_hidden * self.derivative.derivatives(self.a[layer-1], self.activation_function)  # Computing error with respect to output of hidden layer\n",
        "\n",
        "        self.grad_w[1] = np.dot(input.T, error_wrt_output)  # Computing gradients of weights for input layer\n",
        "        self.grad_b[1] = np.sum(error_wrt_output, axis=0, keepdims=True)  # Computing gradients of biases for input layer\n",
        "\n",
        "        return self.grad_w, self.grad_b  # Returning gradients of weights and biases\n",
        "\n",
        "    def one_hot_vector(self, y_true):\n",
        "        \"\"\"\n",
        "        Method to convert true labels into one-hot vectors.\n",
        "        \n",
        "        Parameters:\n",
        "        - y_true: True labels\n",
        "        \n",
        "        Returns:\n",
        "        - One-hot vector representation of true labels\n",
        "        \"\"\"\n",
        "        vec = np.zeros(10)  # Initializing one-hot vector\n",
        "        vec[y_true] = 1  # Setting the corresponding index to 1\n",
        "        return vec\n",
        "\n",
        "    def one_hot_matrix(self, y_true):\n",
        "        \"\"\"\n",
        "        Method to convert true labels into one-hot matrices.\n",
        "        \n",
        "        Parameters:\n",
        "        - y_true: True labels\n",
        "        \n",
        "        Returns:\n",
        "        - One-hot matrix representation of true labels\n",
        "        \"\"\"\n",
        "        row = y_true.shape[0]  # Number of samples\n",
        "        col = 10  # Number of classes\n",
        "        mat = np.zeros((row, col))  # Initializing one-hot matrix\n",
        "        for i in range(row):\n",
        "            mat[i][y_true[i]] = 1  # Setting the corresponding index to 1\n",
        "        return mat\n"
      ]
    },
    {
      "cell_type": "code",
      "execution_count": null,
      "metadata": {},
      "outputs": [],
      "source": []
    },
    {
      "cell_type": "markdown",
      "metadata": {},
      "source": [
        "# Train Model"
      ]
    },
    {
      "cell_type": "code",
      "execution_count": 94,
      "metadata": {},
      "outputs": [],
      "source": [
        "class Train_Model:\n",
        "    def __init__(self, neural_network, optimizer, log) -> None:\n",
        "        \"\"\"\n",
        "        Constructor method for Train_Model class.\n",
        "        \n",
        "        Parameters:\n",
        "        - PARAM_NEURAL_NETWORK: Dictionary containing parameters for the neural network\n",
        "        - PARAM_OPTIMIZER: Dictionary containing parameters for the optimizer\n",
        "        \"\"\"\n",
        "        self.neural_network =neural_network  # Neural network instance\n",
        "        self.optimizer = optimizer  # Optimizer instance\n",
        "        self.loss = Loss_Function()  # Loss function instance\n",
        "        self.wan_log = log\n",
        "\n",
        "    def compute_performance(self, data, label):\n",
        "        y_predictions = self.neural_network.forward_propagation(data)\n",
        "        labels = self.neural_network.one_hot_matrix(label)\n",
        "        accuracy = np.sum(np.argmax(y_predictions, axis=1) == np.argmax(labels, axis = 1))\n",
        "        loss = self.loss.compute_loss(labels, y_predictions, self.neural_network.loss_function)\n",
        "        return loss, (accuracy/len(data)) * 100\n",
        "    \n",
        "    def predict_prob(self, data):\n",
        "        y_predictions = self.neural_network.forward_propagation(data)\n",
        "        return y_predictions\n",
        "                \n",
        "    def fit_data(self, batch_size, epochs):\n",
        "        \"\"\"\n",
        "        Method to train the model on the given dataset.\n",
        "        \n",
        "        Parameters:\n",
        "        - batch_size: Size of each batch\n",
        "        - epochs: Number of epochs for training\n",
        "        \"\"\"\n",
        "        self.neural_network.initialize_parameters()  # Initializing parameters of the neural network\n",
        "        total_batches = int(np.ceil(self.neural_network.input.shape[0] / batch_size))  # Total number of batches\n",
        "        for i in range(epochs):\n",
        "            t = 1\n",
        "            for batch in range(total_batches):\n",
        "                batch_start = batch * batch_size  # Starting index of the batch\n",
        "                batch_end = batch_start + batch_size  # Ending index of the batch\n",
        "                image_set = self.neural_network.input[batch_start : batch_end]  # Extracting batch of input images\n",
        "                res_set = self.neural_network.y_true[batch_start : batch_end]  # Extracting batch of true labels\n",
        "                \n",
        "                    \n",
        "                y_hat = self.neural_network.forward_propagation(image_set)  # Forward propagation\n",
        "                res = self.neural_network.one_hot_matrix(res_set)  # Converting true labels into one-hot matrices\n",
        "                grad_w , grad_b = self.neural_network.backward_propagation(image_set, res, y_hat)  # Backward propagation\n",
        "                    \n",
        "                for layer in range(1, len(self.neural_network.size_list)):\n",
        "                    self.neural_network.grad_w[layer] = grad_w[layer]/batch_size  # Normalizing gradients of weights\n",
        "                    self.neural_network.grad_b[layer] = grad_b[layer]/batch_size  # Normalizing gradients of biases\n",
        "\n",
        "                self.optimizer.update(t)  # Updating weights and biases using optimizer\n",
        "                t += 1\n",
        "                # for img in range(y_hat.shape[0]):\n",
        "                #     if np.argmax(y_hat[img]) == np.argmax(res[img]):  # Calculating accuracy\n",
        "                #         accuracy += 1\n",
        "                # loss += self.loss.compute_loss(res, y_hat, \"cross_entropy\")  # Calculating loss\n",
        "            \n",
        "            t_loss, t_acc = self.compute_performance(self.neural_network.input, self.neural_network.y_true)\n",
        "            v_loss, v_acc = self.compute_performance(self.neural_network.val_img, self.neural_network.val_true)\n",
        "\n",
        "            # print(f\"epoch:{i+1} :: \\n Training-loss : {t_loss}, Training-accuracy:{t_acc}%\")    # Printing loss and accuracy for each epoch\n",
        "            # print(f\"Validation-loss : {v_loss}, Validation-accuracy:{v_acc}%\\n\\n\")    # Printing loss and accuracy for each epoch\n",
        "\n",
        "            if self.wan_log == 1:\n",
        "                wandb.log({\n",
        "                    'epoch' : i+1,\n",
        "                    'training-loss-cross_entropy' : t_loss,\n",
        "                    'training-accuracy' : t_acc,\n",
        "                    'validation-loss-cross-entropy' : v_loss,\n",
        "                    'validation-accuracy' : v_acc,\n",
        "\n",
        "                })\n",
        "            \n",
        "            else:\n",
        "                print(f\"epoch:{i+1} :: \\n Training-loss : {t_loss}, Training-accuracy:{t_acc}%\")    # Printing loss and accuracy for each epoch\n",
        "                print(f\"Validation-loss : {v_loss}, Validation-accuracy:{v_acc}%\\n\\n\")    # Printing loss and accuracy for each epoch\n",
        "\n",
        "\n",
        "        return t_loss, t_acc, v_loss, v_acc\n",
        "\n",
        "\n",
        "         "
      ]
    },
    {
      "cell_type": "markdown",
      "metadata": {},
      "source": [
        "# **Training & Testing**"
      ]
    },
    {
      "cell_type": "code",
      "execution_count": 95,
      "metadata": {
        "colab": {
          "base_uri": "https://localhost:8080/"
        },
        "id": "vP1vqvWmWE4U",
        "outputId": "21011f6d-795c-4f12-f2c7-957e1090e3ce"
      },
      "outputs": [
        {
          "name": "stdout",
          "output_type": "stream",
          "text": [
            "epoch:1 :: \n",
            " Training-loss : 0.4821768193089917, Training-accuracy:82.78888888888889%\n",
            "Validation-loss : 0.4901971066308012, Validation-accuracy:82.53333333333333%\n",
            "\n",
            "\n"
          ]
        },
        {
          "data": {
            "text/plain": [
              "(0.4821768193089917, 82.78888888888889, 0.4901971066308012, 82.53333333333333)"
            ]
          },
          "execution_count": 95,
          "metadata": {},
          "output_type": "execute_result"
        }
      ],
      "source": [
        "\n",
        "# training_input = input_matrix(train_image)\n",
        "\n",
        "PARAM_NEURAL_NETWORK = {\n",
        "    \"hidden_layers\": 2,\n",
        "    \"neuron_in_hidden_layer\" : 32,\n",
        "    \"activation_function\": \"ReLU\", # sigmoid, tanh, ReLU\n",
        "    \"dataset\" : \"fashion_mnist\",\n",
        "    \"loss_function\" : \"cross_entropy\", # squared_loss, cross_entropy\n",
        "    \"init\" : \"xavier\" #random, xavier\n",
        "}\n",
        "\n",
        "PARAM_OPTIMIZER = {\n",
        "    \"eta\": 0.0005,\n",
        "    \"optimizer\": \"nadam\", #sgd, mgd, adam, nadam, rmsprop, nag\n",
        "    \"beta\": 0.5,\n",
        "    \"weight_decay\": 0,\n",
        "    \"epsilon\": 1e-8,\n",
        "    \"beta2\" : 0.999,\n",
        "    \"beta1\" : 0.9,\n",
        "    \"momentum\" : 0.9\n",
        "}\n",
        "\n",
        "neural_network = Neural_Network(PARAM_NEURAL_NETWORK)\n",
        "optimizer = Optimizer(neural_network, PARAM_OPTIMIZER)\n",
        "\n",
        "my_model = Train_Model(neural_network, optimizer, log = 0)\n",
        "my_model.fit_data(batch_size=32, epochs=1)\n"
      ]
    },
    {
      "cell_type": "code",
      "execution_count": 97,
      "metadata": {
        "id": "t6cLnVpbWE4U"
      },
      "outputs": [
        {
          "name": "stdout",
          "output_type": "stream",
          "text": [
            "0.8177\n",
            "[0 1 2 3 4 5 6 7 8 9]\n"
          ]
        }
      ],
      "source": [
        "test_data = input_matrix(fashion_mnist_test)\n",
        "y_pred1 = my_model.neural_network.forward_propagation(test_data)\n",
        "# y_pred2 = n2.forward_propogation(test_data, \"tanh\")\n",
        "accuracy1 = np.mean(np.argmax(y_pred1, axis = 1) == fashion_mnist_test_label)\n",
        "# accuracy2 = np.mean(np.argmax(y_pred2, axis = 1) == y_train)\n",
        "\n",
        "print(accuracy1)\n",
        "print(np.unique(np.argmax(y_pred1, axis = 1)))"
      ]
    },
    {
      "cell_type": "markdown",
      "metadata": {},
      "source": [
        "# **Question 4**"
      ]
    },
    {
      "cell_type": "code",
      "execution_count": 98,
      "metadata": {},
      "outputs": [],
      "source": [
        "sweep_config = {\n",
        "    'method' : 'bayes',\n",
        "    'metric' : { 'goal' : 'maximize', 'name' : 'Accuracy'},\n",
        "    'name' : 'mse v/s ce',\n",
        "\n",
        "    'parameters' : {\n",
        "        'activation' : {'values' : ['tanh', 'ReLU']},\n",
        "        'batch_size' : {'values' : [32]},\n",
        "        'optimizer' : {'values' : ['sgd', 'mgd', 'nag', 'rmsprop', 'adam', 'nadam']},\n",
        "        'epochs' : {'values' : [10]},\n",
        "        'weight_decay': {'values': [0]},\n",
        "        'neuron_number' : {'values' : [32, 64]},\n",
        "        'beta': {'values': [0.9]}, #rmsprop, mgd, nag\n",
        "        'beta1' : {'values' : [0.999]},\n",
        "        'beta2': {'values': [0.999]},\n",
        "        'learning_rate': {'values': [0.001]},\n",
        "        'initialization':{'values': ['xavier']},\n",
        "        'hidden_layers': {'values': [2, 3, 4]},\n",
        "        'loss_function' : {'values' : ['cross_entropy']},\n",
        "        'epsilon' : {'values' : [1e-8]},\n",
        "        'momentum' : {'values' : [0.9]},\n",
        "        'dataset' : {'values' : ['fashion_mnist']}\n",
        "    }\n",
        "}"
      ]
    },
    {
      "cell_type": "code",
      "execution_count": 99,
      "metadata": {},
      "outputs": [],
      "source": [
        "def train():\n",
        "    var1 = wandb.init(project=\"DL_Assignment1\")\n",
        "    var2 = var1.config\n",
        "\n",
        "    # wandb.run.name = 'Optimizer:- ' + var2.optimizer + ' Epoch:- ' + str(var2.epochs) + \" Avtivation_Function :- \" + var2.activation + \" Batch_Size :- \" + str(var2.batch_size) + \" Initialization :- \" + var2.initialization + \\\n",
        "    #                 ' layers:-' + str(len(var2.hidden_layers)) +' decay:-' + str(var2.weight_decay) + ' beta:-' + str(var2.beta) + ' learning_rate:-' + str(var2.learning_rate) + \\\n",
        "    #                 ' beta2 :- ' + str(var2.beta)\n",
        "\n",
        "    wandb.run.name = f\"hl_{var2.hidden_layers}_bs_{var2.batch_size}_e_{var2.epochs}_act_{var2.activation}_eta_{var2.learning_rate}_err_{var2.loss_function}_init_{var2.initialization}\"\n",
        "\n",
        "    PARAM_NEURAL_NETWORK = {\n",
        "        \"hidden_layers\": var2.hidden_layers,\n",
        "        \"neuron_in_hidden_layer\" : var2.neuron_number,\n",
        "        \"activation_function\": var2.activation, # sigmoid, tanh, ReLU\n",
        "        \"loss_function\" : var2.loss_function, # squared_loss, cross_entropy\n",
        "        \"init\" : var2.initialization, #random, xavier\n",
        "        \"dataset\" : var2.dataset  \n",
        "    }\n",
        "\n",
        "    PARAM_OPTIMIZER = {\n",
        "        \"eta\": var2.learning_rate,\n",
        "        \"optimizer\": var2.optimizer, #sgd, mgd, adam, nadam, rmsprop, nag\n",
        "        \"beta\": var2.beta,\n",
        "        \"weight_decay\": var2.weight_decay,\n",
        "        \"epsilon\": var2.epsilon,\n",
        "        \"beta2\" : var2.beta2,\n",
        "        \"beta1\" : var2.beta1,\n",
        "        \"momentum\" : var2.momentum\n",
        "    }\n",
        "\n",
        "    neural_network1 = Neural_Network(PARAM_NEURAL_NETWORK)\n",
        "    optimizer1 = Optimizer(neural_network1, PARAM_OPTIMIZER)\n",
        "\n",
        "    my_model1 = Train_Model(neural_network1, optimizer1, log = 1)\n",
        "    t_loss, t_acc, v_loss, v_acc = my_model1.fit_data(batch_size=var2.batch_size, epochs=var2.epochs)\n",
        "\n",
        "    print(f\"Training-loss : {t_loss}, Training-accuracy:{t_acc}%, Validation-loss : {v_loss}, Validation-accuracy:{v_acc}%\")    # Printing loss and accuracy for each epoch\n",
        "    loss, accuracy = my_model1.compute_performance(neural_network1.val_img, neural_network1.val_true)\n",
        "    print(loss, accuracy)\n",
        "    wandb.log({\"Accuracy\" : accuracy})\n",
        "    "
      ]
    },
    {
      "cell_type": "code",
      "execution_count": 100,
      "metadata": {},
      "outputs": [
        {
          "name": "stdout",
          "output_type": "stream",
          "text": [
            "Create sweep with ID: gzsi8n33\n",
            "Sweep URL: https://wandb.ai/harsh_cs23m026/DL_Assignment1/sweeps/gzsi8n33\n"
          ]
        }
      ],
      "source": [
        "sweep_id = wandb.sweep(sweep_config, project=\"DL_Assignment1\")"
      ]
    },
    {
      "cell_type": "code",
      "execution_count": 101,
      "metadata": {},
      "outputs": [
        {
          "name": "stderr",
          "output_type": "stream",
          "text": [
            "\u001b[34m\u001b[1mwandb\u001b[0m: Agent Starting Run: u4tk3ntu with config:\n",
            "\u001b[34m\u001b[1mwandb\u001b[0m: \tactivation: ReLU\n",
            "\u001b[34m\u001b[1mwandb\u001b[0m: \tbatch_size: 32\n",
            "\u001b[34m\u001b[1mwandb\u001b[0m: \tbeta: 0.9\n",
            "\u001b[34m\u001b[1mwandb\u001b[0m: \tbeta1: 0.999\n",
            "\u001b[34m\u001b[1mwandb\u001b[0m: \tbeta2: 0.999\n",
            "\u001b[34m\u001b[1mwandb\u001b[0m: \tdataset: fashion_mnist\n",
            "\u001b[34m\u001b[1mwandb\u001b[0m: \tepochs: 10\n",
            "\u001b[34m\u001b[1mwandb\u001b[0m: \tepsilon: 1e-08\n",
            "\u001b[34m\u001b[1mwandb\u001b[0m: \thidden_layers: 3\n",
            "\u001b[34m\u001b[1mwandb\u001b[0m: \tinitialization: xavier\n",
            "\u001b[34m\u001b[1mwandb\u001b[0m: \tlearning_rate: 0.001\n",
            "\u001b[34m\u001b[1mwandb\u001b[0m: \tloss_function: cross_entropy\n",
            "\u001b[34m\u001b[1mwandb\u001b[0m: \tmomentum: 0.9\n",
            "\u001b[34m\u001b[1mwandb\u001b[0m: \tneuron_number: 32\n",
            "\u001b[34m\u001b[1mwandb\u001b[0m: \toptimizer: nag\n",
            "\u001b[34m\u001b[1mwandb\u001b[0m: \tweight_decay: 0\n",
            "Failed to detect the name of this notebook, you can set it manually with the WANDB_NOTEBOOK_NAME environment variable to enable code saving.\n",
            "\u001b[34m\u001b[1mwandb\u001b[0m: \u001b[33mWARNING\u001b[0m Ignored wandb.init() arg project when running a sweep.\n"
          ]
        },
        {
          "data": {
            "text/html": [
              "wandb version 0.16.4 is available!  To upgrade, please run:\n",
              " $ pip install wandb --upgrade"
            ],
            "text/plain": [
              "<IPython.core.display.HTML object>"
            ]
          },
          "metadata": {},
          "output_type": "display_data"
        },
        {
          "data": {
            "text/html": [
              "Tracking run with wandb version 0.16.3"
            ],
            "text/plain": [
              "<IPython.core.display.HTML object>"
            ]
          },
          "metadata": {},
          "output_type": "display_data"
        },
        {
          "data": {
            "text/html": [
              "Run data is saved locally in <code>d:\\DeepLearning\\wandb\\run-20240313_023518-u4tk3ntu</code>"
            ],
            "text/plain": [
              "<IPython.core.display.HTML object>"
            ]
          },
          "metadata": {},
          "output_type": "display_data"
        },
        {
          "data": {
            "text/html": [
              "Syncing run <strong><a href='https://wandb.ai/harsh_cs23m026/DL_Assignment1/runs/u4tk3ntu' target=\"_blank\">skilled-sweep-1</a></strong> to <a href='https://wandb.ai/harsh_cs23m026/DL_Assignment1' target=\"_blank\">Weights & Biases</a> (<a href='https://wandb.me/run' target=\"_blank\">docs</a>)<br/>Sweep page: <a href='https://wandb.ai/harsh_cs23m026/DL_Assignment1/sweeps/gzsi8n33' target=\"_blank\">https://wandb.ai/harsh_cs23m026/DL_Assignment1/sweeps/gzsi8n33</a>"
            ],
            "text/plain": [
              "<IPython.core.display.HTML object>"
            ]
          },
          "metadata": {},
          "output_type": "display_data"
        },
        {
          "data": {
            "text/html": [
              " View project at <a href='https://wandb.ai/harsh_cs23m026/DL_Assignment1' target=\"_blank\">https://wandb.ai/harsh_cs23m026/DL_Assignment1</a>"
            ],
            "text/plain": [
              "<IPython.core.display.HTML object>"
            ]
          },
          "metadata": {},
          "output_type": "display_data"
        },
        {
          "data": {
            "text/html": [
              " View sweep at <a href='https://wandb.ai/harsh_cs23m026/DL_Assignment1/sweeps/gzsi8n33' target=\"_blank\">https://wandb.ai/harsh_cs23m026/DL_Assignment1/sweeps/gzsi8n33</a>"
            ],
            "text/plain": [
              "<IPython.core.display.HTML object>"
            ]
          },
          "metadata": {},
          "output_type": "display_data"
        },
        {
          "data": {
            "text/html": [
              " View run at <a href='https://wandb.ai/harsh_cs23m026/DL_Assignment1/runs/u4tk3ntu' target=\"_blank\">https://wandb.ai/harsh_cs23m026/DL_Assignment1/runs/u4tk3ntu</a>"
            ],
            "text/plain": [
              "<IPython.core.display.HTML object>"
            ]
          },
          "metadata": {},
          "output_type": "display_data"
        },
        {
          "name": "stdout",
          "output_type": "stream",
          "text": [
            "Training-loss : 0.36208859377531305, Training-accuracy:86.93333333333332%, Validation-loss : 0.3935900520796557, Validation-accuracy:85.95%\n",
            "0.3935900520796557 85.95\n"
          ]
        },
        {
          "data": {
            "application/vnd.jupyter.widget-view+json": {
              "model_id": "51c8e123752d4c8eb852a8ecca5fe7b9",
              "version_major": 2,
              "version_minor": 0
            },
            "text/plain": [
              "VBox(children=(Label(value='0.001 MB of 0.001 MB uploaded\\r'), FloatProgress(value=1.0, max=1.0)))"
            ]
          },
          "metadata": {},
          "output_type": "display_data"
        },
        {
          "data": {
            "text/html": [
              "<style>\n",
              "    table.wandb td:nth-child(1) { padding: 0 10px; text-align: left ; width: auto;} td:nth-child(2) {text-align: left ; width: 100%}\n",
              "    .wandb-row { display: flex; flex-direction: row; flex-wrap: wrap; justify-content: flex-start; width: 100% }\n",
              "    .wandb-col { display: flex; flex-direction: column; flex-basis: 100%; flex: 1; padding: 10px; }\n",
              "    </style>\n",
              "<div class=\"wandb-row\"><div class=\"wandb-col\"><h3>Run history:</h3><br/><table class=\"wandb\"><tr><td>Accuracy</td><td>▁</td></tr><tr><td>epoch</td><td>▁▂▃▃▄▅▆▆▇█</td></tr><tr><td>training-accuracy</td><td>▁▄▅▆▇▇▇███</td></tr><tr><td>training-loss-cross_entropy</td><td>█▆▄▃▃▂▂▂▁▁</td></tr><tr><td>validation-accuracy</td><td>▁▄▅▆▇▇▇███</td></tr><tr><td>validation-loss-cross-entropy</td><td>█▅▄▃▂▂▂▁▁▁</td></tr></table><br/></div><div class=\"wandb-col\"><h3>Run summary:</h3><br/><table class=\"wandb\"><tr><td>Accuracy</td><td>85.95</td></tr><tr><td>epoch</td><td>10</td></tr><tr><td>training-accuracy</td><td>86.93333</td></tr><tr><td>training-loss-cross_entropy</td><td>0.36209</td></tr><tr><td>validation-accuracy</td><td>85.95</td></tr><tr><td>validation-loss-cross-entropy</td><td>0.39359</td></tr></table><br/></div></div>"
            ],
            "text/plain": [
              "<IPython.core.display.HTML object>"
            ]
          },
          "metadata": {},
          "output_type": "display_data"
        },
        {
          "data": {
            "text/html": [
              " View run <strong style=\"color:#cdcd00\">skilled-sweep-1</strong> at: <a href='https://wandb.ai/harsh_cs23m026/DL_Assignment1/runs/u4tk3ntu' target=\"_blank\">https://wandb.ai/harsh_cs23m026/DL_Assignment1/runs/u4tk3ntu</a><br/>Synced 5 W&B file(s), 0 media file(s), 0 artifact file(s) and 0 other file(s)"
            ],
            "text/plain": [
              "<IPython.core.display.HTML object>"
            ]
          },
          "metadata": {},
          "output_type": "display_data"
        },
        {
          "data": {
            "text/html": [
              "Find logs at: <code>.\\wandb\\run-20240313_023518-u4tk3ntu\\logs</code>"
            ],
            "text/plain": [
              "<IPython.core.display.HTML object>"
            ]
          },
          "metadata": {},
          "output_type": "display_data"
        },
        {
          "name": "stderr",
          "output_type": "stream",
          "text": [
            "\u001b[34m\u001b[1mwandb\u001b[0m: Agent Starting Run: q1x6tw9b with config:\n",
            "\u001b[34m\u001b[1mwandb\u001b[0m: \tactivation: tanh\n",
            "\u001b[34m\u001b[1mwandb\u001b[0m: \tbatch_size: 32\n",
            "\u001b[34m\u001b[1mwandb\u001b[0m: \tbeta: 0.9\n",
            "\u001b[34m\u001b[1mwandb\u001b[0m: \tbeta1: 0.999\n",
            "\u001b[34m\u001b[1mwandb\u001b[0m: \tbeta2: 0.999\n",
            "\u001b[34m\u001b[1mwandb\u001b[0m: \tdataset: fashion_mnist\n",
            "\u001b[34m\u001b[1mwandb\u001b[0m: \tepochs: 10\n",
            "\u001b[34m\u001b[1mwandb\u001b[0m: \tepsilon: 1e-08\n",
            "\u001b[34m\u001b[1mwandb\u001b[0m: \thidden_layers: 3\n",
            "\u001b[34m\u001b[1mwandb\u001b[0m: \tinitialization: xavier\n",
            "\u001b[34m\u001b[1mwandb\u001b[0m: \tlearning_rate: 0.001\n",
            "\u001b[34m\u001b[1mwandb\u001b[0m: \tloss_function: cross_entropy\n",
            "\u001b[34m\u001b[1mwandb\u001b[0m: \tmomentum: 0.9\n",
            "\u001b[34m\u001b[1mwandb\u001b[0m: \tneuron_number: 64\n",
            "\u001b[34m\u001b[1mwandb\u001b[0m: \toptimizer: mgd\n",
            "\u001b[34m\u001b[1mwandb\u001b[0m: \tweight_decay: 0\n",
            "Failed to detect the name of this notebook, you can set it manually with the WANDB_NOTEBOOK_NAME environment variable to enable code saving.\n",
            "\u001b[34m\u001b[1mwandb\u001b[0m: \u001b[33mWARNING\u001b[0m Ignored wandb.init() arg project when running a sweep.\n"
          ]
        },
        {
          "data": {
            "text/html": [
              "wandb version 0.16.4 is available!  To upgrade, please run:\n",
              " $ pip install wandb --upgrade"
            ],
            "text/plain": [
              "<IPython.core.display.HTML object>"
            ]
          },
          "metadata": {},
          "output_type": "display_data"
        },
        {
          "data": {
            "text/html": [
              "Tracking run with wandb version 0.16.3"
            ],
            "text/plain": [
              "<IPython.core.display.HTML object>"
            ]
          },
          "metadata": {},
          "output_type": "display_data"
        },
        {
          "data": {
            "text/html": [
              "Run data is saved locally in <code>d:\\DeepLearning\\wandb\\run-20240313_023554-q1x6tw9b</code>"
            ],
            "text/plain": [
              "<IPython.core.display.HTML object>"
            ]
          },
          "metadata": {},
          "output_type": "display_data"
        },
        {
          "data": {
            "text/html": [
              "Syncing run <strong><a href='https://wandb.ai/harsh_cs23m026/DL_Assignment1/runs/q1x6tw9b' target=\"_blank\">exalted-sweep-2</a></strong> to <a href='https://wandb.ai/harsh_cs23m026/DL_Assignment1' target=\"_blank\">Weights & Biases</a> (<a href='https://wandb.me/run' target=\"_blank\">docs</a>)<br/>Sweep page: <a href='https://wandb.ai/harsh_cs23m026/DL_Assignment1/sweeps/gzsi8n33' target=\"_blank\">https://wandb.ai/harsh_cs23m026/DL_Assignment1/sweeps/gzsi8n33</a>"
            ],
            "text/plain": [
              "<IPython.core.display.HTML object>"
            ]
          },
          "metadata": {},
          "output_type": "display_data"
        },
        {
          "data": {
            "text/html": [
              " View project at <a href='https://wandb.ai/harsh_cs23m026/DL_Assignment1' target=\"_blank\">https://wandb.ai/harsh_cs23m026/DL_Assignment1</a>"
            ],
            "text/plain": [
              "<IPython.core.display.HTML object>"
            ]
          },
          "metadata": {},
          "output_type": "display_data"
        },
        {
          "data": {
            "text/html": [
              " View sweep at <a href='https://wandb.ai/harsh_cs23m026/DL_Assignment1/sweeps/gzsi8n33' target=\"_blank\">https://wandb.ai/harsh_cs23m026/DL_Assignment1/sweeps/gzsi8n33</a>"
            ],
            "text/plain": [
              "<IPython.core.display.HTML object>"
            ]
          },
          "metadata": {},
          "output_type": "display_data"
        },
        {
          "data": {
            "text/html": [
              " View run at <a href='https://wandb.ai/harsh_cs23m026/DL_Assignment1/runs/q1x6tw9b' target=\"_blank\">https://wandb.ai/harsh_cs23m026/DL_Assignment1/runs/q1x6tw9b</a>"
            ],
            "text/plain": [
              "<IPython.core.display.HTML object>"
            ]
          },
          "metadata": {},
          "output_type": "display_data"
        },
        {
          "name": "stdout",
          "output_type": "stream",
          "text": [
            "Training-loss : 0.3123337441677254, Training-accuracy:88.72407407407408%, Validation-loss : 0.34016705016245885, Validation-accuracy:87.53333333333333%\n",
            "0.34016705016245885 87.53333333333333\n"
          ]
        },
        {
          "data": {
            "application/vnd.jupyter.widget-view+json": {
              "model_id": "3e43200ecc494aa7a402d91e1b506e2e",
              "version_major": 2,
              "version_minor": 0
            },
            "text/plain": [
              "VBox(children=(Label(value='0.001 MB of 0.001 MB uploaded\\r'), FloatProgress(value=1.0, max=1.0)))"
            ]
          },
          "metadata": {},
          "output_type": "display_data"
        },
        {
          "data": {
            "text/html": [
              "<style>\n",
              "    table.wandb td:nth-child(1) { padding: 0 10px; text-align: left ; width: auto;} td:nth-child(2) {text-align: left ; width: 100%}\n",
              "    .wandb-row { display: flex; flex-direction: row; flex-wrap: wrap; justify-content: flex-start; width: 100% }\n",
              "    .wandb-col { display: flex; flex-direction: column; flex-basis: 100%; flex: 1; padding: 10px; }\n",
              "    </style>\n",
              "<div class=\"wandb-row\"><div class=\"wandb-col\"><h3>Run history:</h3><br/><table class=\"wandb\"><tr><td>Accuracy</td><td>▁</td></tr><tr><td>epoch</td><td>▁▂▃▃▄▅▆▆▇█</td></tr><tr><td>training-accuracy</td><td>▁▄▅▆▆▇▇▇██</td></tr><tr><td>training-loss-cross_entropy</td><td>█▆▄▃▃▂▂▂▁▁</td></tr><tr><td>validation-accuracy</td><td>▁▄▅▆▆▇████</td></tr><tr><td>validation-loss-cross-entropy</td><td>█▅▄▃▂▂▂▁▁▁</td></tr></table><br/></div><div class=\"wandb-col\"><h3>Run summary:</h3><br/><table class=\"wandb\"><tr><td>Accuracy</td><td>87.53333</td></tr><tr><td>epoch</td><td>10</td></tr><tr><td>training-accuracy</td><td>88.72407</td></tr><tr><td>training-loss-cross_entropy</td><td>0.31233</td></tr><tr><td>validation-accuracy</td><td>87.53333</td></tr><tr><td>validation-loss-cross-entropy</td><td>0.34017</td></tr></table><br/></div></div>"
            ],
            "text/plain": [
              "<IPython.core.display.HTML object>"
            ]
          },
          "metadata": {},
          "output_type": "display_data"
        },
        {
          "data": {
            "text/html": [
              " View run <strong style=\"color:#cdcd00\">exalted-sweep-2</strong> at: <a href='https://wandb.ai/harsh_cs23m026/DL_Assignment1/runs/q1x6tw9b' target=\"_blank\">https://wandb.ai/harsh_cs23m026/DL_Assignment1/runs/q1x6tw9b</a><br/>Synced 5 W&B file(s), 0 media file(s), 0 artifact file(s) and 0 other file(s)"
            ],
            "text/plain": [
              "<IPython.core.display.HTML object>"
            ]
          },
          "metadata": {},
          "output_type": "display_data"
        },
        {
          "data": {
            "text/html": [
              "Find logs at: <code>.\\wandb\\run-20240313_023554-q1x6tw9b\\logs</code>"
            ],
            "text/plain": [
              "<IPython.core.display.HTML object>"
            ]
          },
          "metadata": {},
          "output_type": "display_data"
        },
        {
          "name": "stderr",
          "output_type": "stream",
          "text": [
            "\u001b[34m\u001b[1mwandb\u001b[0m: Agent Starting Run: se9fk59p with config:\n",
            "\u001b[34m\u001b[1mwandb\u001b[0m: \tactivation: ReLU\n",
            "\u001b[34m\u001b[1mwandb\u001b[0m: \tbatch_size: 32\n",
            "\u001b[34m\u001b[1mwandb\u001b[0m: \tbeta: 0.9\n",
            "\u001b[34m\u001b[1mwandb\u001b[0m: \tbeta1: 0.999\n",
            "\u001b[34m\u001b[1mwandb\u001b[0m: \tbeta2: 0.999\n",
            "\u001b[34m\u001b[1mwandb\u001b[0m: \tdataset: fashion_mnist\n",
            "\u001b[34m\u001b[1mwandb\u001b[0m: \tepochs: 10\n",
            "\u001b[34m\u001b[1mwandb\u001b[0m: \tepsilon: 1e-08\n",
            "\u001b[34m\u001b[1mwandb\u001b[0m: \thidden_layers: 3\n",
            "\u001b[34m\u001b[1mwandb\u001b[0m: \tinitialization: xavier\n",
            "\u001b[34m\u001b[1mwandb\u001b[0m: \tlearning_rate: 0.001\n",
            "\u001b[34m\u001b[1mwandb\u001b[0m: \tloss_function: cross_entropy\n",
            "\u001b[34m\u001b[1mwandb\u001b[0m: \tmomentum: 0.9\n",
            "\u001b[34m\u001b[1mwandb\u001b[0m: \tneuron_number: 32\n",
            "\u001b[34m\u001b[1mwandb\u001b[0m: \toptimizer: sgd\n",
            "\u001b[34m\u001b[1mwandb\u001b[0m: \tweight_decay: 0\n",
            "Failed to detect the name of this notebook, you can set it manually with the WANDB_NOTEBOOK_NAME environment variable to enable code saving.\n",
            "\u001b[34m\u001b[1mwandb\u001b[0m: \u001b[33mWARNING\u001b[0m Ignored wandb.init() arg project when running a sweep.\n"
          ]
        },
        {
          "data": {
            "text/html": [
              "wandb version 0.16.4 is available!  To upgrade, please run:\n",
              " $ pip install wandb --upgrade"
            ],
            "text/plain": [
              "<IPython.core.display.HTML object>"
            ]
          },
          "metadata": {},
          "output_type": "display_data"
        },
        {
          "data": {
            "text/html": [
              "Tracking run with wandb version 0.16.3"
            ],
            "text/plain": [
              "<IPython.core.display.HTML object>"
            ]
          },
          "metadata": {},
          "output_type": "display_data"
        },
        {
          "data": {
            "text/html": [
              "Run data is saved locally in <code>d:\\DeepLearning\\wandb\\run-20240313_023703-se9fk59p</code>"
            ],
            "text/plain": [
              "<IPython.core.display.HTML object>"
            ]
          },
          "metadata": {},
          "output_type": "display_data"
        },
        {
          "data": {
            "text/html": [
              "Syncing run <strong><a href='https://wandb.ai/harsh_cs23m026/DL_Assignment1/runs/se9fk59p' target=\"_blank\">generous-sweep-3</a></strong> to <a href='https://wandb.ai/harsh_cs23m026/DL_Assignment1' target=\"_blank\">Weights & Biases</a> (<a href='https://wandb.me/run' target=\"_blank\">docs</a>)<br/>Sweep page: <a href='https://wandb.ai/harsh_cs23m026/DL_Assignment1/sweeps/gzsi8n33' target=\"_blank\">https://wandb.ai/harsh_cs23m026/DL_Assignment1/sweeps/gzsi8n33</a>"
            ],
            "text/plain": [
              "<IPython.core.display.HTML object>"
            ]
          },
          "metadata": {},
          "output_type": "display_data"
        },
        {
          "data": {
            "text/html": [
              " View project at <a href='https://wandb.ai/harsh_cs23m026/DL_Assignment1' target=\"_blank\">https://wandb.ai/harsh_cs23m026/DL_Assignment1</a>"
            ],
            "text/plain": [
              "<IPython.core.display.HTML object>"
            ]
          },
          "metadata": {},
          "output_type": "display_data"
        },
        {
          "data": {
            "text/html": [
              " View sweep at <a href='https://wandb.ai/harsh_cs23m026/DL_Assignment1/sweeps/gzsi8n33' target=\"_blank\">https://wandb.ai/harsh_cs23m026/DL_Assignment1/sweeps/gzsi8n33</a>"
            ],
            "text/plain": [
              "<IPython.core.display.HTML object>"
            ]
          },
          "metadata": {},
          "output_type": "display_data"
        },
        {
          "data": {
            "text/html": [
              " View run at <a href='https://wandb.ai/harsh_cs23m026/DL_Assignment1/runs/se9fk59p' target=\"_blank\">https://wandb.ai/harsh_cs23m026/DL_Assignment1/runs/se9fk59p</a>"
            ],
            "text/plain": [
              "<IPython.core.display.HTML object>"
            ]
          },
          "metadata": {},
          "output_type": "display_data"
        },
        {
          "name": "stdout",
          "output_type": "stream",
          "text": [
            "Training-loss : 0.5002491478966119, Training-accuracy:82.55555555555556%, Validation-loss : 0.5087524285456918, Validation-accuracy:82.19999999999999%\n",
            "0.5087524285456918 82.19999999999999\n"
          ]
        },
        {
          "data": {
            "application/vnd.jupyter.widget-view+json": {
              "model_id": "8502d5c3427d4b5897b9a895e268f201",
              "version_major": 2,
              "version_minor": 0
            },
            "text/plain": [
              "VBox(children=(Label(value='0.001 MB of 0.001 MB uploaded\\r'), FloatProgress(value=1.0, max=1.0)))"
            ]
          },
          "metadata": {},
          "output_type": "display_data"
        },
        {
          "data": {
            "text/html": [
              "<style>\n",
              "    table.wandb td:nth-child(1) { padding: 0 10px; text-align: left ; width: auto;} td:nth-child(2) {text-align: left ; width: 100%}\n",
              "    .wandb-row { display: flex; flex-direction: row; flex-wrap: wrap; justify-content: flex-start; width: 100% }\n",
              "    .wandb-col { display: flex; flex-direction: column; flex-basis: 100%; flex: 1; padding: 10px; }\n",
              "    </style>\n",
              "<div class=\"wandb-row\"><div class=\"wandb-col\"><h3>Run history:</h3><br/><table class=\"wandb\"><tr><td>Accuracy</td><td>▁</td></tr><tr><td>epoch</td><td>▁▂▃▃▄▅▆▆▇█</td></tr><tr><td>training-accuracy</td><td>▁▄▆▆▇▇▇███</td></tr><tr><td>training-loss-cross_entropy</td><td>█▅▃▃▂▂▂▁▁▁</td></tr><tr><td>validation-accuracy</td><td>▁▄▅▆▇▇▇███</td></tr><tr><td>validation-loss-cross-entropy</td><td>█▅▃▃▂▂▂▁▁▁</td></tr></table><br/></div><div class=\"wandb-col\"><h3>Run summary:</h3><br/><table class=\"wandb\"><tr><td>Accuracy</td><td>82.2</td></tr><tr><td>epoch</td><td>10</td></tr><tr><td>training-accuracy</td><td>82.55556</td></tr><tr><td>training-loss-cross_entropy</td><td>0.50025</td></tr><tr><td>validation-accuracy</td><td>82.2</td></tr><tr><td>validation-loss-cross-entropy</td><td>0.50875</td></tr></table><br/></div></div>"
            ],
            "text/plain": [
              "<IPython.core.display.HTML object>"
            ]
          },
          "metadata": {},
          "output_type": "display_data"
        },
        {
          "data": {
            "text/html": [
              " View run <strong style=\"color:#cdcd00\">generous-sweep-3</strong> at: <a href='https://wandb.ai/harsh_cs23m026/DL_Assignment1/runs/se9fk59p' target=\"_blank\">https://wandb.ai/harsh_cs23m026/DL_Assignment1/runs/se9fk59p</a><br/>Synced 5 W&B file(s), 0 media file(s), 0 artifact file(s) and 0 other file(s)"
            ],
            "text/plain": [
              "<IPython.core.display.HTML object>"
            ]
          },
          "metadata": {},
          "output_type": "display_data"
        },
        {
          "data": {
            "text/html": [
              "Find logs at: <code>.\\wandb\\run-20240313_023703-se9fk59p\\logs</code>"
            ],
            "text/plain": [
              "<IPython.core.display.HTML object>"
            ]
          },
          "metadata": {},
          "output_type": "display_data"
        }
      ],
      "source": [
        "wandb.agent(sweep_id,train, count = 3)\n",
        "wandb.finish() "
      ]
    },
    {
      "cell_type": "code",
      "execution_count": 91,
      "metadata": {},
      "outputs": [],
      "source": [
        "\n",
        "# PARAM_NEURAL_NETWORK = {\n",
        "#     \"input_size\": training_input.shape[1],\n",
        "#     \"output_size\": len(label),\n",
        "#     \"hidden_layers\": [128, 64],\n",
        "#     \"activation_function\": \"sigmoid\", # sigmoid, tanh, ReLU\n",
        "#     \"training_output\": train_label,\n",
        "#     \"training_input\": training_input,\n",
        "#     \"loss_function\" : \"cross_entropy\", # squared_loss, cross_entropy\n",
        "#     \"init\" : \"xavier\" #random, xavier\n",
        "\n",
        "# }\n",
        "\n",
        "# PARAM_OPTIMIZER = {\n",
        "#     \"eta\": 0.001,\n",
        "#     \"optimizer\": \"nadam\", #sgd, mgd, adam, nadam, rmsprop, nag\n",
        "#     \"beta\": 0.9,\n",
        "#     \"weight_decay\": 0.0001,\n",
        "#     \"epsilon\": 1e-8,\n",
        "#     \"beta2\" : 0.999\n",
        "# }\n",
        "\n",
        "# neural_network = Neural_Network(PARAM_NEURAL_NETWORK)\n",
        "# optimizer = Optimizer(neural_network, PARAM_OPTIMIZER)\n",
        "\n",
        "# my_model = Train_Model(neural_network, optimizer, log = 0)\n",
        "# my_model.fit_data(batch_size=32, epochs=10)\n",
        "\n",
        "# accuracy : - 88.84\n"
      ]
    },
    {
      "cell_type": "markdown",
      "metadata": {},
      "source": [
        "# **Question - 7**"
      ]
    },
    {
      "cell_type": "code",
      "execution_count": 114,
      "metadata": {},
      "outputs": [
        {
          "name": "stdout",
          "output_type": "stream",
          "text": [
            "epoch:1 :: \n",
            " Training-loss : 0.29216521353278735, Training-accuracy:91.41481481481482%\n",
            "Validation-loss : 0.2997611342121246, Validation-accuracy:91.38333333333334%\n",
            "\n",
            "\n",
            "epoch:2 :: \n",
            " Training-loss : 0.22229130491948912, Training-accuracy:93.47777777777779%\n",
            "Validation-loss : 0.23815613565142302, Validation-accuracy:93.05%\n",
            "\n",
            "\n",
            "epoch:3 :: \n",
            " Training-loss : 0.18633560453798304, Training-accuracy:94.49074074074075%\n",
            "Validation-loss : 0.20922506202262373, Validation-accuracy:93.81666666666668%\n",
            "\n",
            "\n",
            "epoch:4 :: \n",
            " Training-loss : 0.16278013906599925, Training-accuracy:95.2537037037037%\n",
            "Validation-loss : 0.19149798614313748, Validation-accuracy:94.35%\n",
            "\n",
            "\n",
            "epoch:5 :: \n",
            " Training-loss : 0.14606718964007842, Training-accuracy:95.76296296296296%\n",
            "Validation-loss : 0.1788170685055098, Validation-accuracy:94.85%\n",
            "\n",
            "\n",
            "epoch:6 :: \n",
            " Training-loss : 0.13330043989636486, Training-accuracy:96.11851851851851%\n",
            "Validation-loss : 0.16953727144778982, Validation-accuracy:95.13333333333334%\n",
            "\n",
            "\n",
            "epoch:7 :: \n",
            " Training-loss : 0.12309106018392367, Training-accuracy:96.42777777777778%\n",
            "Validation-loss : 0.16255903581805703, Validation-accuracy:95.36666666666666%\n",
            "\n",
            "\n",
            "epoch:8 :: \n",
            " Training-loss : 0.11471209777658298, Training-accuracy:96.65370370370371%\n",
            "Validation-loss : 0.15727194111425438, Validation-accuracy:95.53333333333333%\n",
            "\n",
            "\n",
            "epoch:9 :: \n",
            " Training-loss : 0.10745841477039104, Training-accuracy:96.85185185185186%\n",
            "Validation-loss : 0.15301967054174415, Validation-accuracy:95.63333333333334%\n",
            "\n",
            "\n",
            "epoch:10 :: \n",
            " Training-loss : 0.10110796584049304, Training-accuracy:97.0537037037037%\n",
            "Validation-loss : 0.1500322327406373, Validation-accuracy:95.78333333333333%\n",
            "\n",
            "\n"
          ]
        }
      ],
      "source": [
        "PARAM_NEURAL_NETWORK = {\n",
        "    \"hidden_layers\": 2,\n",
        "    \"neuron_in_hidden_layer\" : 32,\n",
        "    \"activation_function\": \"ReLU\", # sigmoid, tanh, ReLU\n",
        "    \"loss_function\" : \"cross_entropy\", # squared_loss, cross_entropy\n",
        "    \"init\" : \"xavier\", #random, xavier\n",
        "    \"dataset\" : \"mnist\"\n",
        "}\n",
        "\n",
        "PARAM_OPTIMIZER = {\n",
        "    \"eta\": 0.0005,\n",
        "    \"optimizer\": \"nadam\", #sgd, mgd, adam, nadam, rmsprop, nag\n",
        "    \"beta\": 0.5,\n",
        "    \"weight_decay\": 0,\n",
        "    \"epsilon\": 1e-8,\n",
        "    \"beta2\" : 0.999,\n",
        "    \"beta1\" : 0.9,\n",
        "    \"momentum\" : 0.9\n",
        "}\n",
        "\n",
        "\n",
        "neural_network2 = Neural_Network(PARAM_NEURAL_NETWORK)\n",
        "optimizer2 = Optimizer(neural_network2, PARAM_OPTIMIZER)\n",
        "\n",
        "my_model2 = Train_Model(neural_network2, optimizer2, log = 0)\n",
        "training_loss, training_acc, validation_loss, validation_acc = my_model2.fit_data(batch_size=32, epochs=10)"
      ]
    },
    {
      "cell_type": "code",
      "execution_count": 115,
      "metadata": {},
      "outputs": [
        {
          "name": "stdout",
          "output_type": "stream",
          "text": [
            "(0.1374252034725669, 96.03)\n"
          ]
        }
      ],
      "source": [
        "\n",
        "y_pred = my_model2.predict_prob(neural_network2.test_img)\n",
        "print(my_model2.compute_performance(neural_network2.test_img, neural_network2.test_true))"
      ]
    },
    {
      "cell_type": "code",
      "execution_count": 116,
      "metadata": {},
      "outputs": [],
      "source": [
        "def create_confusion_matrix(y_pred, y_true):\n",
        "    mat = np.zeros((y_pred.shape[1], y_pred.shape[1]))\n",
        "    print(type(mat))\n",
        "    class_pred = np.argmax(y_pred, axis = 1)\n",
        "    print(class_pred)\n",
        "    for i in range(y_true.shape[0]):\n",
        "        mat[y_true[i]][class_pred[i]] += 1\n",
        "    mat = mat.astype(int)\n",
        "    print(type(mat))\n",
        "    return mat"
      ]
    },
    {
      "cell_type": "code",
      "execution_count": 127,
      "metadata": {},
      "outputs": [],
      "source": [
        "def plot_confusion_matrix():\n",
        "    class_label = [\"T-shirt/top\", \"Trouser\", \"Pullover\", \"Dress\", \"Coat\", \"Sandal\", \"Shirt\", \"Sneaker\", \"Bag\", \"Ankle boot\"]\n",
        "    mat = create_confusion_matrix(y_pred, neural_network2.test_true)\n",
        "    df_confusion = pandas.DataFrame(mat, index=class_label, columns=class_label)\n",
        "    plt.figure(figsize=(8, 8))\n",
        "    my_cmap = matplotlib.colors.LinearSegmentedColormap.from_list(\"\", [\"blue\",\"green\"])\n",
        "    ax = sns.heatmap(df_confusion, annot=True,  cmap= my_cmap, fmt='g',linewidths=3, linecolor='white')\n",
        "    ax.set_xticklabels(class_label,rotation=90)\n",
        "    ax.set_yticklabels(class_label,rotation=0)\n",
        "    plt.title('Confusion Matrix', fontsize=8)\n",
        "    plt.ylabel(\"Predicted Class\")\n",
        "    plt.xlabel(\"True Class\")  "
      ]
    },
    {
      "cell_type": "code",
      "execution_count": 128,
      "metadata": {},
      "outputs": [
        {
          "name": "stdout",
          "output_type": "stream",
          "text": [
            "<class 'numpy.ndarray'>\n",
            "[7 2 1 ... 4 5 6]\n",
            "<class 'numpy.ndarray'>\n",
            "1000\n"
          ]
        },
        {
          "data": {
            "image/png": "[encoded data removed]",
            "text/plain": [
              "<Figure size 800x800 with 2 Axes>"
            ]
          },
          "metadata": {},
          "output_type": "display_data"
        }
      ],
      "source": [
        "plot_confusion_matrix()\n",
        "\n",
        "print(np.sum(fashion_mnist_test_label == 0))"
      ]
    },
    {
      "cell_type": "code",
      "execution_count": null,
      "metadata": {},
      "outputs": [],
      "source": []
    },
    {
      "cell_type": "code",
      "execution_count": null,
      "metadata": {},
      "outputs": [],
      "source": []
    },
    {
      "cell_type": "code",
      "execution_count": null,
      "metadata": {},
      "outputs": [],
      "source": []
    },
    {
      "cell_type": "code",
      "execution_count": null,
      "metadata": {},
      "outputs": [],
      "source": []
    }
  ],
  "metadata": {
    "colab": {
      "provenance": []
    },
    "kernelspec": {
      "display_name": "Python 3",
      "language": "python",
      "name": "python3"
    },
    "language_info": {
      "codemirror_mode": {
        "name": "ipython",
        "version": 3
      },
      "file_extension": ".py",
      "mimetype": "text/x-python",
      "name": "python",
      "nbconvert_exporter": "python",
      "pygments_lexer": "ipython3",
      "version": "3.10.8"
    }
  },
  "nbformat": 4,
  "nbformat_minor": 0
}
